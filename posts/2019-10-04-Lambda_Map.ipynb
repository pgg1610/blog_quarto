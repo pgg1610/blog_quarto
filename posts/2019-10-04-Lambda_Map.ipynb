{
 "cells": [
  {
   "cell_type": "raw",
   "metadata": {},
   "source": [
    "---\n",
    "aliases:\n",
    "- /2019/10/04/Lambda_Map\n",
    "date: '2019-10-04'\n",
    "output-file: 2019-10-04-lambda_map.html\n",
    "title: Lambda, Filter, and Map functions in Python\n",
    "\n",
    "---\n",
    "\n"
   ]
  },
  {
   "cell_type": "markdown",
   "metadata": {},
   "source": [
    "## Lambda\n",
    "Lambda is an important function/operator to create anonymous in-line functions in pyhton. \n",
    "\n",
    "### Basic syntax: \n",
    "\n",
    "lamda arguments: expression \n"
   ]
  },
  {
   "cell_type": "code",
   "execution_count": 1,
   "metadata": {},
   "outputs": [
    {
     "data": {
      "text/plain": [
       "5"
      ]
     },
     "execution_count": 1,
     "metadata": {},
     "output_type": "execute_result"
    }
   ],
   "source": [
    "#This is our usual function where we have to define a name for the function\n",
    "def func(x,y):\n",
    "    return(x+y)\n",
    "func(2,3)"
   ]
  },
  {
   "cell_type": "code",
   "execution_count": 2,
   "metadata": {},
   "outputs": [
    {
     "data": {
      "text/plain": [
       "5"
      ]
     },
     "execution_count": 2,
     "metadata": {},
     "output_type": "execute_result"
    }
   ],
   "source": [
    "#Lambda function \n",
    "add=lambda x,y:x+y\n",
    "add(2,3)"
   ]
  },
  {
   "cell_type": "markdown",
   "metadata": {},
   "source": [
    "lambda functions can be used in place of a iterator when sorting -- this allows for selecting the column or the varible according to which sorting has to be done"
   ]
  },
  {
   "cell_type": "code",
   "execution_count": 3,
   "metadata": {},
   "outputs": [],
   "source": [
    "import numpy as np \n",
    "np.random.seed(42)\n",
    "a1=np.random.choice(10,5,replace=False)\n",
    "file_list=[]\n",
    "for i in a1: \n",
    "    file_list.append('{0}-{1}'.format('Filename',i))"
   ]
  },
  {
   "cell_type": "code",
   "execution_count": 4,
   "metadata": {},
   "outputs": [
    {
     "name": "stdout",
     "output_type": "stream",
     "text": [
      "['Filename-8', 'Filename-1', 'Filename-5', 'Filename-0', 'Filename-7']\n"
     ]
    }
   ],
   "source": [
    "print(file_list)"
   ]
  },
  {
   "cell_type": "code",
   "execution_count": 5,
   "metadata": {},
   "outputs": [],
   "source": [
    "file_list=sorted(file_list, key=lambda x:x.split('-')[-1])"
   ]
  },
  {
   "cell_type": "code",
   "execution_count": 6,
   "metadata": {},
   "outputs": [
    {
     "data": {
      "text/plain": [
       "['Filename-0', 'Filename-1', 'Filename-5', 'Filename-7', 'Filename-8']"
      ]
     },
     "execution_count": 6,
     "metadata": {},
     "output_type": "execute_result"
    }
   ],
   "source": [
    "file_list"
   ]
  },
  {
   "cell_type": "markdown",
   "metadata": {},
   "source": [
    "## Map\n",
    "\n",
    "When you want to have multiple outputs for the functions but do not want to write a for all explicitly you can use map function for pseeding things up "
   ]
  },
  {
   "cell_type": "code",
   "execution_count": 7,
   "metadata": {},
   "outputs": [
    {
     "name": "stdout",
     "output_type": "stream",
     "text": [
      "[8 1 5 0 7]\n",
      "[64, 1, 25, 0, 49]\n"
     ]
    }
   ],
   "source": [
    "def square(x):\n",
    "    return(x**2)\n",
    "\n",
    "print(a1)\n",
    "ans=[square(i) for i in a1]\n",
    "print(ans)"
   ]
  },
  {
   "cell_type": "code",
   "execution_count": 8,
   "metadata": {},
   "outputs": [
    {
     "data": {
      "text/plain": [
       "<map at 0x7f85058e5eb8>"
      ]
     },
     "execution_count": 8,
     "metadata": {},
     "output_type": "execute_result"
    }
   ],
   "source": [
    "#Using map function\n",
    "map(square,a1)"
   ]
  },
  {
   "cell_type": "code",
   "execution_count": 9,
   "metadata": {},
   "outputs": [
    {
     "data": {
      "text/plain": [
       "[64, 1, 25, 0, 49]"
      ]
     },
     "execution_count": 9,
     "metadata": {},
     "output_type": "execute_result"
    }
   ],
   "source": [
    "#You'd have to first converrt it to list \n",
    "list(map(square,a1))"
   ]
  },
  {
   "cell_type": "markdown",
   "metadata": {},
   "source": [
    "### Combining the two:"
   ]
  },
  {
   "cell_type": "code",
   "execution_count": 10,
   "metadata": {},
   "outputs": [
    {
     "name": "stdout",
     "output_type": "stream",
     "text": [
      "[0 1 8 5 3]\n",
      "[36 16  4  9 45]\n",
      "[  0  16  32  45 135]\n"
     ]
    }
   ],
   "source": [
    "a=np.random.choice(10,5,replace=False)\n",
    "b=np.random.choice(50,5,replace=False)\n",
    "result=map(lambda x,y:x*y,a,b)\n",
    "print(a)\n",
    "print(b)\n",
    "print(np.asarray(list(result)))"
   ]
  }
 ],
 "metadata": {
  "kernelspec": {
   "display_name": "Python 3",
   "language": "python",
   "name": "python3"
  },
  "language_info": {
   "codemirror_mode": {
    "name": "ipython",
    "version": 3
   },
   "file_extension": ".py",
   "mimetype": "text/x-python",
   "name": "python",
   "nbconvert_exporter": "python",
   "pygments_lexer": "ipython3",
   "version": "3.6.13"
  }
 },
 "nbformat": 4,
 "nbformat_minor": 4
}
