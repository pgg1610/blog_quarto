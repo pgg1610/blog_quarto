{
 "cells": [
  {
   "cell_type": "raw",
   "metadata": {},
   "source": [
    "---\n",
    "aliases:\n",
    "- /2019/10/11/Vectorisation_and_TF_example\n",
    "date: '2019-10-11'\n",
    "output-file: 2019-10-11-vectorisation_and_tf_example.html\n",
    "title: Vectorisation in python using numpy\n",
    "\n",
    "---\n",
    "\n"
   ]
  },
  {
   "cell_type": "code",
   "execution_count": 1,
   "metadata": {},
   "outputs": [
    {
     "name": "stdout",
     "output_type": "stream",
     "text": [
      "(50, 1000)\n",
      "(50, 1)\n"
     ]
    }
   ],
   "source": [
    "import numpy as np \n",
    "import time \n",
    "\n",
    "a = np.random.randint(10E6,size=(50,1000))\n",
    "print(np.shape(a))\n",
    "\n",
    "w = np.random.randint(100,size=(50,1))\n",
    "print(np.shape(w))"
   ]
  },
  {
   "cell_type": "code",
   "execution_count": 2,
   "metadata": {},
   "outputs": [
    {
     "name": "stdout",
     "output_type": "stream",
     "text": [
      "Time take: 0.3979206085205078 ms\n",
      "Time take for for-loop: 33.74624252319336 ms\n",
      "Check sum: 0.0\n"
     ]
    }
   ],
   "source": [
    "#Vectorisation\n",
    "t_start = time.time()\n",
    "z = np.dot(w.T,a).T\n",
    "t_stop = time.time()\n",
    "print('Time take: {} ms'.format(1000*(t_stop-t_start)))\n",
    "\n",
    "#Non vectorized version \n",
    "z_for = []\n",
    "t_start = time.time()\n",
    "for j in range(np.shape(a)[1]):\n",
    "    _count = 0.0\n",
    "    for i in range(np.shape(a)[0]):\n",
    "        _count+=w[i,0]*a[i,j]\n",
    "    z_for.append(_count)\n",
    "t_stop = time.time()\n",
    "print('Time take for for-loop: {} ms'.format(1000*(t_stop-t_start)))\n",
    "\n",
    "#Check the output \n",
    "print('Check sum: {}'.format(np.sum(np.asarray(z_for).reshape(np.shape(z))-z)))"
   ]
  },
  {
   "cell_type": "code",
   "execution_count": 3,
   "metadata": {},
   "outputs": [],
   "source": [
    "#Valued function evaluation \n",
    "#If I want to have expoenential of different values in the array\n",
    "a = np.random.randint(10,size=(10,2))\n",
    "#With for loops:\n",
    "import math\n",
    "exp_a = np.zeros(np.shape(a))\n",
    "for j in range(np.shape(a)[1]):\n",
    "    for i in range(np.shape(a)[0]):\n",
    "        exp_a[i,j] = math.exp(a[i,j])"
   ]
  },
  {
   "cell_type": "code",
   "execution_count": 4,
   "metadata": {},
   "outputs": [],
   "source": [
    "#without for loop \n",
    "exp_a_numpy = np.exp(a) #Vector already setup -- element-wise exponential\n",
    "\n",
    "#Other vectorized functions: \n",
    "# np.log(x)\n",
    "# np.abs(x)\n",
    "# np.maximum(x,0) -- computes element-wise maximum comparing to 0 \n",
    "# x**2 for numpy array \n",
    "# 1/x for numpy array "
   ]
  },
  {
   "cell_type": "code",
   "execution_count": 5,
   "metadata": {},
   "outputs": [
    {
     "data": {
      "text/plain": [
       "array([[0., 0.],\n",
       "       [0., 0.],\n",
       "       [0., 0.],\n",
       "       [0., 0.],\n",
       "       [0., 0.],\n",
       "       [0., 0.],\n",
       "       [0., 0.],\n",
       "       [0., 0.],\n",
       "       [0., 0.],\n",
       "       [0., 0.]])"
      ]
     },
     "execution_count": 5,
     "metadata": {},
     "output_type": "execute_result"
    }
   ],
   "source": [
    "exp_a_numpy - exp_a"
   ]
  },
  {
   "cell_type": "code",
   "execution_count": 6,
   "metadata": {},
   "outputs": [],
   "source": [
    "#Broadcasting \n",
    "food_cal = np.array([[56.0,0.0,4.4,68.0],\n",
    "                     [1.2, 104, 52, 8.],\n",
    "                     [1.8, 135.,99., 0.9]])"
   ]
  },
  {
   "cell_type": "code",
   "execution_count": 7,
   "metadata": {},
   "outputs": [
    {
     "name": "stdout",
     "output_type": "stream",
     "text": [
      "[[94.91525424  0.          2.83140283 88.42652796]\n",
      " [ 2.03389831 43.51464435 33.46203346 10.40312094]\n",
      " [ 3.05084746 56.48535565 63.70656371  1.17035111]]\n"
     ]
    }
   ],
   "source": [
    "#Calculate % of calories from Carb, Protein, Fat for each food \n",
    "carb = np.array([food_cal[0,i]/np.sum(food_cal[:,i])*100 for i in range(4)])\n",
    "protein = np.array([food_cal[1,i]/np.sum(food_cal[:,i])*100 for i in range(4)])\n",
    "fat = np.array([food_cal[2,i]/np.sum(food_cal[:,i])*100 for i in range(4)])\n",
    "\n",
    "cal = np.array([carb,protein,fat])\n",
    "print(cal)"
   ]
  },
  {
   "cell_type": "code",
   "execution_count": 8,
   "metadata": {},
   "outputs": [
    {
     "name": "stdout",
     "output_type": "stream",
     "text": [
      "[ 59.  239.  155.4  76.9]\n"
     ]
    }
   ],
   "source": [
    "#Andrew Ng's \n",
    "cal = food_cal.sum(axis=0) \n",
    "#AXIS = 0 is sum vertically -- along column\n",
    "#AXIS = 1 is sum horizontally -- along row \n",
    "\n",
    "print(cal)"
   ]
  },
  {
   "cell_type": "code",
   "execution_count": 9,
   "metadata": {},
   "outputs": [
    {
     "name": "stdout",
     "output_type": "stream",
     "text": [
      "[[94.91525424  0.          2.83140283 88.42652796]\n",
      " [ 2.03389831 43.51464435 33.46203346 10.40312094]\n",
      " [ 3.05084746 56.48535565 63.70656371  1.17035111]]\n"
     ]
    }
   ],
   "source": [
    "#Example of broadcasting here: \n",
    "#Here the cal is BROADCASTING from 1,4 to 4,4 \n",
    "percentage = 100*food_cal/cal.reshape(1,4)\n",
    "print(percentage)"
   ]
  },
  {
   "cell_type": "code",
   "execution_count": 10,
   "metadata": {},
   "outputs": [
    {
     "name": "stdout",
     "output_type": "stream",
     "text": [
      "(5,)\n",
      "[1. 2. 3. 4. 5.] [11. 12. 13. 14. 15.] (5,)\n"
     ]
    }
   ],
   "source": [
    "#More examples of broadcasting  \n",
    "#Example 1 \n",
    "A = np.linspace(1,5,5)\n",
    "print(A.shape)\n",
    "B = A+10.\n",
    "print(A, B, B.shape)\n",
    "# Here 10. was broadcasted into 5x1 vector "
   ]
  },
  {
   "cell_type": "code",
   "execution_count": 11,
   "metadata": {},
   "outputs": [
    {
     "name": "stdout",
     "output_type": "stream",
     "text": [
      "(2, 3)\n",
      "(3,)\n",
      "(2, 3)\n",
      "[[1 2 3]\n",
      " [4 5 6]] [100 200 300]\n",
      "[[101 202 303]\n",
      " [104 205 306]]\n"
     ]
    }
   ],
   "source": [
    "#Example 2\n",
    "A = np.array([[1,2,3],\n",
    "              [4,5,6]])\n",
    "print(A.shape)\n",
    "B = np.array([100,200,300])\n",
    "print(B.shape)\n",
    "C = A + B \n",
    "print(C.shape)\n",
    "print(A,B)\n",
    "print(C)\n",
    "# Here B was broadcasted from (3,) to 2x3!"
   ]
  },
  {
   "cell_type": "markdown",
   "metadata": {},
   "source": [
    "## General principle \n",
    "(m,n) matrix with (+, -, *, /) with (1,n) or (m,1) lead of copying it to (m,n) before conducting computing. "
   ]
  },
  {
   "cell_type": "markdown",
   "metadata": {},
   "source": [
    "# Good practices and tips "
   ]
  },
  {
   "cell_type": "code",
   "execution_count": 12,
   "metadata": {},
   "outputs": [
    {
     "name": "stdout",
     "output_type": "stream",
     "text": [
      "[ 0.68281763 -1.3579685   0.99577659  0.31269709  0.595569  ]\n"
     ]
    }
   ],
   "source": [
    "\n",
    "import numpy as np \n",
    "a = np.random.randn(5)\n",
    "print(a)"
   ]
  },
  {
   "cell_type": "code",
   "execution_count": 13,
   "metadata": {},
   "outputs": [
    {
     "name": "stdout",
     "output_type": "stream",
     "text": [
      "(5,)\n"
     ]
    }
   ],
   "source": [
    "print(a.shape)"
   ]
  },
  {
   "cell_type": "markdown",
   "metadata": {},
   "source": [
    "Here `a` is a array of _*rank 1*_. It is neither a row or a column vector. So this has some non-intuitive effects "
   ]
  },
  {
   "cell_type": "code",
   "execution_count": 14,
   "metadata": {},
   "outputs": [
    {
     "name": "stdout",
     "output_type": "stream",
     "text": [
      "[ 0.68281763 -1.3579685   0.99577659  0.31269709  0.595569  ]\n"
     ]
    }
   ],
   "source": [
    "print(a.T)"
   ]
  },
  {
   "cell_type": "code",
   "execution_count": 15,
   "metadata": {},
   "outputs": [
    {
     "name": "stdout",
     "output_type": "stream",
     "text": [
      "3.7543713020122427\n"
     ]
    }
   ],
   "source": [
    "print(np.dot(a,a.T))"
   ]
  },
  {
   "cell_type": "markdown",
   "metadata": {},
   "source": [
    "So it is recommended for consistency to NOT use data-structures have rank 1 like the one above but instead instantiate the array as the fixed array of known size \n",
    "\n",
    "> ALWAYS COMMIT TO MAKING DEFINED ROW AND COLUMN VECTORS "
   ]
  },
  {
   "cell_type": "code",
   "execution_count": 16,
   "metadata": {},
   "outputs": [
    {
     "name": "stdout",
     "output_type": "stream",
     "text": [
      "[[-0.7474656 ]\n",
      " [-0.75790159]\n",
      " [ 0.30984002]\n",
      " [ 0.18874051]\n",
      " [-0.80470167]]\n",
      "(5, 1)\n"
     ]
    }
   ],
   "source": [
    "a1 = np.random.randn(5,1)\n",
    "print(a1)\n",
    "print(a1.shape)"
   ]
  },
  {
   "cell_type": "code",
   "execution_count": 17,
   "metadata": {},
   "outputs": [
    {
     "name": "stdout",
     "output_type": "stream",
     "text": [
      "[[-0.7474656  -0.75790159  0.30984002  0.18874051 -0.80470167]]\n"
     ]
    }
   ],
   "source": [
    "print(a1.T)"
   ]
  },
  {
   "cell_type": "markdown",
   "metadata": {},
   "source": [
    "Here there are two Square Brackets compared to the previous transport of `a` suggesting in the case of `a1` it is well-defined 1x5 row vector"
   ]
  },
  {
   "cell_type": "code",
   "execution_count": 18,
   "metadata": {},
   "outputs": [
    {
     "name": "stdout",
     "output_type": "stream",
     "text": [
      "[[ 0.55870482  0.56650536 -0.23159476 -0.14107704  0.60148682]\n",
      " [ 0.56650536  0.57441482 -0.23482825 -0.14304673  0.60988468]\n",
      " [-0.23159476 -0.23482825  0.09600084  0.05847936 -0.24932878]\n",
      " [-0.14107704 -0.14304673  0.05847936  0.03562298 -0.1518798 ]\n",
      " [ 0.60148682  0.60988468 -0.24932878 -0.1518798   0.64754478]]\n"
     ]
    }
   ],
   "source": [
    "print(np.dot(a1,a1.T)) #Outer product "
   ]
  },
  {
   "cell_type": "code",
   "execution_count": 19,
   "metadata": {},
   "outputs": [
    {
     "name": "stdout",
     "output_type": "stream",
     "text": [
      "(5, 1)\n"
     ]
    }
   ],
   "source": [
    "assert(a1.shape==(5,1)) #Assertion statement to check the known size \n",
    "a = a.reshape((5,1))\n",
    "print(a.shape)"
   ]
  },
  {
   "cell_type": "code",
   "execution_count": 20,
   "metadata": {},
   "outputs": [],
   "source": [
    "A = np.random.randn(4,3)"
   ]
  },
  {
   "cell_type": "code",
   "execution_count": 21,
   "metadata": {},
   "outputs": [
    {
     "name": "stdout",
     "output_type": "stream",
     "text": [
      "[[ 0.22469294  0.78832742 -1.13148285]\n",
      " [-0.04070683 -0.74061401 -1.59838506]\n",
      " [ 0.12821164  0.72892812  0.4912876 ]\n",
      " [ 0.09323584  1.66090848  1.87905216]]\n"
     ]
    }
   ],
   "source": [
    "print(A)"
   ]
  },
  {
   "cell_type": "code",
   "execution_count": 24,
   "metadata": {},
   "outputs": [
    {
     "data": {
      "text/plain": [
       "(4, 1)"
      ]
     },
     "execution_count": 24,
     "metadata": {},
     "output_type": "execute_result"
    }
   ],
   "source": [
    "np.sum(A,axis=1,keepdims=True).shape"
   ]
  }
 ],
 "metadata": {
  "kernelspec": {
   "display_name": "Python 3",
   "language": "python",
   "name": "python3"
  },
  "language_info": {
   "codemirror_mode": {
    "name": "ipython",
    "version": 3
   },
   "file_extension": ".py",
   "mimetype": "text/x-python",
   "name": "python",
   "nbconvert_exporter": "python",
   "pygments_lexer": "ipython3",
   "version": "3.6.13"
  }
 },
 "nbformat": 4,
 "nbformat_minor": 4
}
