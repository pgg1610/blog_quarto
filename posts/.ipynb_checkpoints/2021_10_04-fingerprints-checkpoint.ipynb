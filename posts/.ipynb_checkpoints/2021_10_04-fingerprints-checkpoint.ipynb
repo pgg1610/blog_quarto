{
 "cells": [
  {
   "cell_type": "raw",
   "metadata": {},
   "source": [
    "---\n",
    "author: Pushkar G. Ghanekar\n",
    "badges: true\n",
    "categories:\n",
    "- python\n",
    "- chemical-science\n",
    "- data-analysis\n",
    "output-file: 10_04-fingerprints.html\n",
    "title: Fingerprints on fingertips\n",
    "toc: true\n",
    "\n",
    "---\n",
    "\n"
   ]
  },
  {
   "cell_type": "markdown",
   "metadata": {
    "tags": []
   },
   "source": [
    "Fingerprints are a low resolution representations of molecules. Historically they were devised, primarily, as a representation scheme to better estimate the similarity of molecules. Currently, besides the similairty and diversity estimations, fingerprints are the workhorses for most of the data-driven predictive models. \n",
    "\n",
    "Key papers in this field: \n",
    "* [Willett, Peter, John M. Barnard, and Geoffrey M. Downs. \"Chemical similarity searching.\" Journal of chemical information and computer sciences 38.6 (1998): 983-996](https://pubs.acs.org/doi/abs/10.1021/ci9800211)\n",
    "* [PubChem Atom Environments](https://jcheminf.biomedcentral.com/articles/10.1186/s13321-015-0076-4)\n",
    "\n",
    "\n",
    "Blogs from Greg Landrum (RDKit creator): \n",
    "* [Bit collisions in Rdkit](https://rdkit.blogspot.com/2014/02/colliding-bits.html)\n",
    "* [Simulating count fingerprints](https://greglandrum.github.io/rdkit-blog/fingerprints/technical/reference/2021/07/06/simulating-counts.html)\n",
    "* [Number of Fingerprint Bits](https://greglandrum.github.io/rdkit-blog/fingerprints/reference/2021/07/06/number-of-fp-bits-set.html)\n",
    "* [Number of unique fingerprint bits](https://greglandrum.github.io/rdkit-blog/exploratory/reference/2022/01/04/number-of-unique-fp-bits.html)\n",
    "* [RSC Open Science Standardization Talk](https://github.com/greglandrum/RSC_OpenScience_Standardization_202104/blob/main/MolStandardize%20pieces.ipynb)\n",
    "\n",
    "Resources to consider:\n",
    "* [Depth-first on Fingerprints](https://depth-first.com/articles/2019/01/11/extended-connectivity-fingerprints/)\n",
    "* [Applied AI for materials online course by Logan Ward (Argonne National Lab)](https://github.com/WardLT/applied-ai-for-materials/blob/main/molecular-property-prediction/chemoinformatics/1_ml-using-chemical-descriptors.ipynb)\n",
    "* [Example scripts in GHOST implementation](https://github.com/rinikerlab/GHOST/blob/main/notebooks/library_example.ipynb)\n"
   ]
  },
  {
   "cell_type": "code",
   "execution_count": 1,
   "metadata": {},
   "outputs": [],
   "source": [
    "import os \n",
    "import pandas as pd\n",
    "import numpy as np \n",
    "import tqdm.notebook as tqdm"
   ]
  },
  {
   "cell_type": "code",
   "execution_count": 2,
   "metadata": {},
   "outputs": [
    {
     "name": "stdout",
     "output_type": "stream",
     "text": [
      "2021.09.3\n"
     ]
    }
   ],
   "source": [
    "# RDkit imports\n",
    "import rdkit\n",
    "from rdkit import Chem\n",
    "from rdkit.Chem import Draw\n",
    "from rdkit.Chem.Draw import IPythonConsole #Needed to show molecules\n",
    "\n",
    "print(rdkit.__version__)\n",
    "\n",
    "Chem.WrapLogs()\n",
    "lg = rdkit.RDLogger.logger() \n",
    "lg.setLevel(rdkit.RDLogger.CRITICAL)"
   ]
  },
  {
   "cell_type": "code",
   "execution_count": 3,
   "metadata": {},
   "outputs": [],
   "source": [
    "#----- PLOTTING PARAMS ----# \n",
    "import matplotlib.pyplot as plt\n",
    "from matplotlib.pyplot import cm\n",
    "\n",
    "# High DPI rendering for mac\n",
    "%config InlineBackend.figure_format = 'retina'\n",
    "\n",
    "# \"Infinite\" DPI vector output -- overkill \n",
    "#%config InlineBackend.figure_format = 'svg'\n",
    " \n",
    "# Plot matplotlib plots with white background: \n",
    "%config InlineBackend.print_figure_kwargs={'facecolor' : \"w\"}"
   ]
  },
  {
   "cell_type": "code",
   "execution_count": 4,
   "metadata": {},
   "outputs": [],
   "source": [
    "# Load a test dataset\n",
    "url = 'https://raw.githubusercontent.com/pgg1610/data_files/main/delaney.smi'\n",
    "x = pd.read_csv(url, header=0, names=['SMILES', 'logP'])"
   ]
  },
  {
   "cell_type": "code",
   "execution_count": 5,
   "metadata": {},
   "outputs": [
    {
     "data": {
      "text/html": [
       "<div>\n",
       "<style scoped>\n",
       "    .dataframe tbody tr th:only-of-type {\n",
       "        vertical-align: middle;\n",
       "    }\n",
       "\n",
       "    .dataframe tbody tr th {\n",
       "        vertical-align: top;\n",
       "    }\n",
       "\n",
       "    .dataframe thead th {\n",
       "        text-align: right;\n",
       "    }\n",
       "</style>\n",
       "<table border=\"1\" class=\"dataframe\">\n",
       "  <thead>\n",
       "    <tr style=\"text-align: right;\">\n",
       "      <th></th>\n",
       "      <th>SMILES</th>\n",
       "      <th>logP</th>\n",
       "    </tr>\n",
       "  </thead>\n",
       "  <tbody>\n",
       "    <tr>\n",
       "      <th>0</th>\n",
       "      <td>OCC3OC(OCC2OC(OC(C#N)c1ccccc1)C(O)C(O)C2O)C(O)...</td>\n",
       "      <td>-0.77</td>\n",
       "    </tr>\n",
       "    <tr>\n",
       "      <th>1</th>\n",
       "      <td>Cc1occc1C(=O)Nc2ccccc2</td>\n",
       "      <td>-3.30</td>\n",
       "    </tr>\n",
       "    <tr>\n",
       "      <th>2</th>\n",
       "      <td>CC(C)=CCCC(C)=CC(=O)</td>\n",
       "      <td>-2.06</td>\n",
       "    </tr>\n",
       "  </tbody>\n",
       "</table>\n",
       "</div>"
      ],
      "text/plain": [
       "                                              SMILES  logP\n",
       "0  OCC3OC(OCC2OC(OC(C#N)c1ccccc1)C(O)C(O)C2O)C(O)... -0.77\n",
       "1                             Cc1occc1C(=O)Nc2ccccc2 -3.30\n",
       "2                               CC(C)=CCCC(C)=CC(=O) -2.06"
      ]
     },
     "execution_count": 5,
     "metadata": {},
     "output_type": "execute_result"
    }
   ],
   "source": [
    "x.head(3)"
   ]
  },
  {
   "cell_type": "code",
   "execution_count": 6,
   "metadata": {},
   "outputs": [],
   "source": [
    "from rdkit.Chem import PandasTools\n",
    "PandasTools.AddMoleculeColumnToFrame(x, smilesCol='SMILES')"
   ]
  },
  {
   "cell_type": "code",
   "execution_count": 8,
   "metadata": {},
   "outputs": [
    {
     "data": {
      "text/html": [
       "<div>\n",
       "<style scoped>\n",
       "    .dataframe tbody tr th:only-of-type {\n",
       "        vertical-align: middle;\n",
       "    }\n",
       "\n",
       "    .dataframe tbody tr th {\n",
       "        vertical-align: top;\n",
       "    }\n",
       "\n",
       "    .dataframe thead th {\n",
       "        text-align: right;\n",
       "    }\n",
       "</style>\n",
       "<table border=\"1\" class=\"dataframe\">\n",
       "  <thead>\n",
       "    <tr style=\"text-align: right;\">\n",
       "      <th></th>\n",
       "      <th>SMILES</th>\n",
       "      <th>logP</th>\n",
       "      <th>ROMol</th>\n",
       "    </tr>\n",
       "  </thead>\n",
       "  <tbody>\n",
       "    <tr>\n",
       "      <th>1076</th>\n",
       "      <td>CCCC(O)CCC</td>\n",
       "      <td>-1.40</td>\n",
       "      <td><img data-content=\"rdkit/molecule\" src=\"data:image/png;base64,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\" alt=\"Mol\"/></td>\n",
       "    </tr>\n",
       "    <tr>\n",
       "      <th>469</th>\n",
       "      <td>Cc1cccc(C)c1O</td>\n",
       "      <td>-1.29</td>\n",
       "      <td><img data-content=\"rdkit/molecule\" src=\"data:image/png;base64,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\" alt=\"Mol\"/></td>\n",
       "    </tr>\n",
       "  </tbody>\n",
       "</table>\n",
       "</div>"
      ],
      "text/plain": [
       "             SMILES  logP                                              ROMol\n",
       "1076     CCCC(O)CCC -1.40  <img data-content=\"rdkit/molecule\" src=\"data:i...\n",
       "469   Cc1cccc(C)c1O -1.29  <img data-content=\"rdkit/molecule\" src=\"data:i..."
      ]
     },
     "execution_count": 8,
     "metadata": {},
     "output_type": "execute_result"
    }
   ],
   "source": [
    "x.sample(2)"
   ]
  },
  {
   "cell_type": "markdown",
   "metadata": {},
   "source": [
    "# Types of fingerprints to consider: \n",
    "\n",
    "https://www.rdkit.org/docs/GettingStartedInPython.html#list-of-available-fingerprints\n",
    "\n",
    "The types of atom pairs and torsions are normal (default), hashed and bit vector (bv). The types of the Morgan fingerprint are bit vector (bv, default) and count vector (count).\n",
    "\n",
    "1. Descriptor based fingerprints - more information [here](https://www.rdkit.org/docs/GettingStartedInPython.html#list-of-available-descriptors) \n",
    "\n",
    "2. Count or binary-based fingerprints \n",
    "\n",
    "    2.1. Circular Fingerprints (Morgan) - Extended Connectivity (ECFP) or Feature Morgan \n",
    "\n",
    "    2.2. Atom pair \n",
    "    \n",
    "    2.3. Torsion \n",
    "    \n",
    "    2.4. MACCS Keys \n",
    "    \n",
    "    2.5. RDkit\n",
    "    \n",
    "    2.6. Avalon Tools \n",
    "    \n",
    "3. Data-driven fingerprints\n",
    "\n",
    "Many of the RDKit's fingerprints are available as either bit vectors or count vectors. \n",
    "\n",
    "Bit vectors track whether or not features appear in a molecule while count vectors track the number of times each feature appears. It seems intuitive that a count vector is a better representation of similarity than bit vectors, but we often use bit vector representations for computational expediency - bit vectors require less memory and are much faster to operate on.\n",
    "\n",
    "In the newer version of Rdkit there is are functions to _simulate_ counts from bit vector. "
   ]
  },
  {
   "cell_type": "markdown",
   "metadata": {},
   "source": [
    "**Broadly there are two ways of invoking the fingerprints:**\n",
    "\n",
    "```python\n",
    "#Instance\n",
    "rdMolDescriptors.GetMorganFingerprint()\n",
    "AllChem.GetMorganFingerprint()\n",
    "```\n",
    "\n",
    "```python\n",
    "#Generator\n",
    "fpgen = rdFingerprintGenerator.GetMorganGenerator()\n",
    "fpgen.GetFingerprint(x)\n",
    "```"
   ]
  },
  {
   "cell_type": "markdown",
   "metadata": {},
   "source": [
    "## 1. Morgan fingerprints\n",
    "\n",
    "Some discussion on Bit Collisions here: https://rdkit.blogspot.com/2014/02/colliding-bits.html\n",
    "\n",
    "## Unfolded type or Sparse type"
   ]
  },
  {
   "cell_type": "code",
   "execution_count": 9,
   "metadata": {},
   "outputs": [],
   "source": [
    "from rdkit.Chem import AllChem\n",
    "from rdkit import DataStructs"
   ]
  },
  {
   "cell_type": "code",
   "execution_count": 17,
   "metadata": {},
   "outputs": [],
   "source": [
    "mol_obj = x.iloc[42]['ROMol']"
   ]
  },
  {
   "cell_type": "code",
   "execution_count": 18,
   "metadata": {},
   "outputs": [
    {
     "data": {
      "image/png": "[encoded data removed]",
      "text/plain": [
       "<rdkit.Chem.rdchem.Mol at 0x2b5a7fb7c760>"
      ]
     },
     "execution_count": 18,
     "metadata": {},
     "output_type": "execute_result"
    }
   ],
   "source": [
    "mol_obj"
   ]
  },
  {
   "cell_type": "code",
   "execution_count": 19,
   "metadata": {},
   "outputs": [],
   "source": [
    "#Default class to generate FPs - this will make it unfolded by default\n",
    "morgan_fp_default = AllChem.GetMorganFingerprint(mol_obj, radius = 2) # Counts are used by default \n",
    "\n",
    "\n",
    "#Check the use_counts in Get Morgan Fingerprint this is used by default \n",
    "morgan_fp_default_counts = AllChem.GetMorganFingerprint(mol_obj, radius = 2, useCounts=True) # This is used by default \n",
    "\n",
    "#Feature-based invariants, similar to those used for the FCFP fingerprints, can also be used.\n",
    "# https://www.rdkit.org/docs/GettingStartedInPython.html#feature-definitions-used-in-the-morgan-fingerprints\n",
    "# Here the atoms are grouped into functional classes before substructures are enumerated \n",
    "morgan_fp_features = AllChem.GetMorganFingerprint(mol_obj, 2, useFeatures=True)"
   ]
  },
  {
   "cell_type": "code",
   "execution_count": 20,
   "metadata": {},
   "outputs": [
    {
     "data": {
      "text/plain": [
       "<rdkit.DataStructs.cDataStructs.UIntSparseIntVect at 0x2b5a80661ad0>"
      ]
     },
     "execution_count": 20,
     "metadata": {},
     "output_type": "execute_result"
    }
   ],
   "source": [
    "morgan_fp_default"
   ]
  },
  {
   "cell_type": "markdown",
   "metadata": {},
   "source": [
    "You can also use the `rdMolDescriptor` module in Rdkit for generating the fingerprints. What is the advatange of either? "
   ]
  },
  {
   "cell_type": "code",
   "execution_count": 21,
   "metadata": {},
   "outputs": [],
   "source": [
    "from rdkit.Chem import rdMolDescriptors"
   ]
  },
  {
   "cell_type": "code",
   "execution_count": 22,
   "metadata": {},
   "outputs": [],
   "source": [
    "morgan_fp_default_rdmoldesc = rdMolDescriptors.GetMorganFingerprint(mol_obj, radius=2)"
   ]
  },
  {
   "cell_type": "code",
   "execution_count": 23,
   "metadata": {},
   "outputs": [
    {
     "data": {
      "text/plain": [
       "{10565946: 3,\n",
       " 123085743: 1,\n",
       " 354000409: 1,\n",
       " 864942730: 3,\n",
       " 1451062712: 1,\n",
       " 2004727027: 2,\n",
       " 2119439498: 2,\n",
       " 2132511834: 2,\n",
       " 2142032900: 1,\n",
       " 2296493092: 2,\n",
       " 2422851564: 1,\n",
       " 2809361097: 2,\n",
       " 2968968094: 3,\n",
       " 2976816164: 1,\n",
       " 3038691098: 1,\n",
       " 3113921857: 2,\n",
       " 3217380708: 3,\n",
       " 3255046070: 1}"
      ]
     },
     "execution_count": 23,
     "metadata": {},
     "output_type": "execute_result"
    }
   ],
   "source": [
    "morgan_fp_default_rdmoldesc.GetNonzeroElements()"
   ]
  },
  {
   "cell_type": "markdown",
   "metadata": {},
   "source": [
    "To get a list of bits being 'active' in the FPs:"
   ]
  },
  {
   "cell_type": "code",
   "execution_count": 24,
   "metadata": {},
   "outputs": [
    {
     "data": {
      "text/plain": [
       "{10565946: 3,\n",
       " 123085743: 1,\n",
       " 354000409: 1,\n",
       " 864942730: 3,\n",
       " 1451062712: 1,\n",
       " 2004727027: 2,\n",
       " 2119439498: 2,\n",
       " 2132511834: 2,\n",
       " 2142032900: 1,\n",
       " 2296493092: 2,\n",
       " 2422851564: 1,\n",
       " 2809361097: 2,\n",
       " 2968968094: 3,\n",
       " 2976816164: 1,\n",
       " 3038691098: 1,\n",
       " 3113921857: 2,\n",
       " 3217380708: 3,\n",
       " 3255046070: 1}"
      ]
     },
     "execution_count": 24,
     "metadata": {},
     "output_type": "execute_result"
    }
   ],
   "source": [
    "DataStructs.cDataStructs.UIntSparseIntVect.GetNonzeroElements(morgan_fp_default)"
   ]
  },
  {
   "cell_type": "code",
   "execution_count": 25,
   "metadata": {},
   "outputs": [
    {
     "data": {
      "text/plain": [
       "True"
      ]
     },
     "execution_count": 25,
     "metadata": {},
     "output_type": "execute_result"
    }
   ],
   "source": [
    "DataStructs.cDataStructs.UIntSparseIntVect.GetNonzeroElements(morgan_fp_default) == morgan_fp_default_rdmoldesc.GetNonzeroElements()"
   ]
  },
  {
   "cell_type": "code",
   "execution_count": 26,
   "metadata": {},
   "outputs": [
    {
     "data": {
      "text/plain": [
       "4294967295"
      ]
     },
     "execution_count": 26,
     "metadata": {},
     "output_type": "execute_result"
    }
   ],
   "source": [
    "DataStructs.cDataStructs.UIntSparseIntVect.GetLength(morgan_fp_default)"
   ]
  },
  {
   "cell_type": "code",
   "execution_count": 27,
   "metadata": {},
   "outputs": [
    {
     "data": {
      "text/plain": [
       "4294967296"
      ]
     },
     "execution_count": 27,
     "metadata": {},
     "output_type": "execute_result"
    }
   ],
   "source": [
    "2**32"
   ]
  },
  {
   "cell_type": "code",
   "execution_count": 28,
   "metadata": {},
   "outputs": [
    {
     "data": {
      "text/plain": [
       "<rdkit.DataStructs.cDataStructs.UIntSparseIntVect at 0x2b5a8066e620>"
      ]
     },
     "execution_count": 28,
     "metadata": {},
     "output_type": "execute_result"
    }
   ],
   "source": [
    "morgan_fp_default_counts"
   ]
  },
  {
   "cell_type": "code",
   "execution_count": 29,
   "metadata": {},
   "outputs": [
    {
     "data": {
      "text/plain": [
       "{10565946: 3,\n",
       " 123085743: 1,\n",
       " 354000409: 1,\n",
       " 864942730: 3,\n",
       " 1451062712: 1,\n",
       " 2004727027: 2,\n",
       " 2119439498: 2,\n",
       " 2132511834: 2,\n",
       " 2142032900: 1,\n",
       " 2296493092: 2,\n",
       " 2422851564: 1,\n",
       " 2809361097: 2,\n",
       " 2968968094: 3,\n",
       " 2976816164: 1,\n",
       " 3038691098: 1,\n",
       " 3113921857: 2,\n",
       " 3217380708: 3,\n",
       " 3255046070: 1}"
      ]
     },
     "execution_count": 29,
     "metadata": {},
     "output_type": "execute_result"
    }
   ],
   "source": [
    "DataStructs.cDataStructs.UIntSparseIntVect.GetNonzeroElements(morgan_fp_default_counts)"
   ]
  },
  {
   "cell_type": "code",
   "execution_count": 30,
   "metadata": {},
   "outputs": [
    {
     "data": {
      "text/plain": [
       "<rdkit.DataStructs.cDataStructs.UIntSparseIntVect at 0x2b5a8066e7b0>"
      ]
     },
     "execution_count": 30,
     "metadata": {},
     "output_type": "execute_result"
    }
   ],
   "source": [
    "morgan_fp_features"
   ]
  },
  {
   "cell_type": "code",
   "execution_count": 31,
   "metadata": {},
   "outputs": [
    {
     "data": {
      "text/plain": [
       "{0: 7,\n",
       " 1: 2,\n",
       " 2: 3,\n",
       " 613660066: 1,\n",
       " 614173363: 2,\n",
       " 1250412363: 2,\n",
       " 2407443532: 1,\n",
       " 2419043133: 1,\n",
       " 3064147743: 1,\n",
       " 3205496824: 3,\n",
       " 3208849907: 1,\n",
       " 3664239091: 2,\n",
       " 3766528779: 2,\n",
       " 3766532888: 3,\n",
       " 4203103696: 1}"
      ]
     },
     "execution_count": 31,
     "metadata": {},
     "output_type": "execute_result"
    }
   ],
   "source": [
    "DataStructs.cDataStructs.UIntSparseIntVect.GetNonzeroElements(morgan_fp_features)"
   ]
  },
  {
   "cell_type": "code",
   "execution_count": 32,
   "metadata": {},
   "outputs": [
    {
     "data": {
      "text/plain": [
       "4294967295"
      ]
     },
     "execution_count": 32,
     "metadata": {},
     "output_type": "execute_result"
    }
   ],
   "source": [
    "DataStructs.cDataStructs.UIntSparseIntVect.GetLength(morgan_fp_features)"
   ]
  },
  {
   "cell_type": "markdown",
   "metadata": {},
   "source": [
    "## Folded type"
   ]
  },
  {
   "cell_type": "code",
   "execution_count": 33,
   "metadata": {},
   "outputs": [
    {
     "ename": "ArgumentError",
     "evalue": "Python argument types in\n    rdkit.Chem.rdMolDescriptors.GetMorganFingerprint(Mol, int)\ndid not match C++ signature:\n    GetMorganFingerprint(RDKit::ROMol mol, unsigned int radius, boost::python::api::object invariants=[], boost::python::api::object fromAtoms=[], bool useChirality=False, bool useBondTypes=True, bool useFeatures=False, bool useCounts=True, boost::python::api::object bitInfo=None, bool includeRedundantEnvironments=False)",
     "output_type": "error",
     "traceback": [
      "\u001b[0;31m---------------------------------------------------------------------------\u001b[0m",
      "\u001b[0;31mArgumentError\u001b[0m                             Traceback (most recent call last)",
      "\u001b[0;32m/node/scratch/90082368.1.all.normal.q/ipykernel_22557/3053734452.py\u001b[0m in \u001b[0;36m<module>\u001b[0;34m\u001b[0m\n\u001b[1;32m      1\u001b[0m \u001b[0;31m#Counts Folded FPs\u001b[0m\u001b[0;34m\u001b[0m\u001b[0;34m\u001b[0m\u001b[0;34m\u001b[0m\u001b[0m\n\u001b[0;32m----> 2\u001b[0;31m \u001b[0mmorgan_fp_counts_folded\u001b[0m \u001b[0;34m=\u001b[0m \u001b[0mAllChem\u001b[0m\u001b[0;34m.\u001b[0m\u001b[0mGetMorganFingerprint\u001b[0m\u001b[0;34m(\u001b[0m\u001b[0mmol_obj\u001b[0m\u001b[0;34m,\u001b[0m \u001b[0;36m2\u001b[0m\u001b[0;34m,\u001b[0m \u001b[0museCounts\u001b[0m\u001b[0;34m=\u001b[0m\u001b[0;32mTrue\u001b[0m\u001b[0;34m,\u001b[0m \u001b[0mnBits\u001b[0m\u001b[0;34m=\u001b[0m\u001b[0;36m1024\u001b[0m\u001b[0;34m)\u001b[0m \u001b[0;31m# This will throw an error - cannot fold the full FPs instead call them separately\u001b[0m\u001b[0;34m\u001b[0m\u001b[0;34m\u001b[0m\u001b[0m\n\u001b[0m",
      "\u001b[0;31mArgumentError\u001b[0m: Python argument types in\n    rdkit.Chem.rdMolDescriptors.GetMorganFingerprint(Mol, int)\ndid not match C++ signature:\n    GetMorganFingerprint(RDKit::ROMol mol, unsigned int radius, boost::python::api::object invariants=[], boost::python::api::object fromAtoms=[], bool useChirality=False, bool useBondTypes=True, bool useFeatures=False, bool useCounts=True, boost::python::api::object bitInfo=None, bool includeRedundantEnvironments=False)"
     ]
    }
   ],
   "source": [
    "#Counts Folded FPs \n",
    "morgan_fp_counts_folded = AllChem.GetMorganFingerprint(mol_obj, 2, useCounts=True, nBits=1024) # This will throw an error - cannot fold the full FPs instead call them separately"
   ]
  },
  {
   "cell_type": "markdown",
   "metadata": {},
   "source": [
    "**Count-based Morgan FPs**"
   ]
  },
  {
   "cell_type": "code",
   "execution_count": 34,
   "metadata": {},
   "outputs": [],
   "source": [
    "#Hashed FPs - using counts \n",
    "morgan_fp_hashed_folded = AllChem.GetHashedMorganFingerprint(mol_obj, 2, nBits=1024) #Default is 2048 and be used without folding here "
   ]
  },
  {
   "cell_type": "code",
   "execution_count": 35,
   "metadata": {},
   "outputs": [
    {
     "data": {
      "text/plain": [
       "<rdkit.DataStructs.cDataStructs.UIntSparseIntVect at 0x2b5a8066ef30>"
      ]
     },
     "execution_count": 35,
     "metadata": {},
     "output_type": "execute_result"
    }
   ],
   "source": [
    "morgan_fp_hashed_folded"
   ]
  },
  {
   "cell_type": "code",
   "execution_count": 36,
   "metadata": {},
   "outputs": [
    {
     "data": {
      "text/plain": [
       "1024"
      ]
     },
     "execution_count": 36,
     "metadata": {},
     "output_type": "execute_result"
    }
   ],
   "source": [
    "DataStructs.cDataStructs.UIntSparseIntVect.GetLength(morgan_fp_hashed_folded)"
   ]
  },
  {
   "cell_type": "code",
   "execution_count": 37,
   "metadata": {},
   "outputs": [
    {
     "data": {
      "text/plain": [
       "{4: 1,\n",
       " 36: 3,\n",
       " 90: 2,\n",
       " 138: 2,\n",
       " 243: 2,\n",
       " 314: 3,\n",
       " 321: 2,\n",
       " 356: 3,\n",
       " 440: 1,\n",
       " 537: 1,\n",
       " 650: 3,\n",
       " 713: 2,\n",
       " 794: 1,\n",
       " 926: 3,\n",
       " 943: 1,\n",
       " 950: 1,\n",
       " 1004: 1}"
      ]
     },
     "execution_count": 37,
     "metadata": {},
     "output_type": "execute_result"
    }
   ],
   "source": [
    "DataStructs.cDataStructs.UIntSparseIntVect.GetNonzeroElements(morgan_fp_hashed_folded)"
   ]
  },
  {
   "cell_type": "markdown",
   "metadata": {},
   "source": [
    "**Bit-vector based Morgan FP**"
   ]
  },
  {
   "cell_type": "code",
   "execution_count": 39,
   "metadata": {},
   "outputs": [],
   "source": [
    "#Folded FP bit vectors as per the size of the bits \n",
    "morgan_fp_bit_vect = AllChem.GetMorganFingerprintAsBitVect(mol_obj, 2, nBits=1024)"
   ]
  },
  {
   "cell_type": "code",
   "execution_count": 40,
   "metadata": {},
   "outputs": [
    {
     "data": {
      "text/plain": [
       "<rdkit.DataStructs.cDataStructs.ExplicitBitVect at 0x2b5a8066e4e0>"
      ]
     },
     "execution_count": 40,
     "metadata": {},
     "output_type": "execute_result"
    }
   ],
   "source": [
    "morgan_fp_bit_vect"
   ]
  },
  {
   "cell_type": "code",
   "execution_count": 41,
   "metadata": {},
   "outputs": [
    {
     "data": {
      "text/plain": [
       "1024"
      ]
     },
     "execution_count": 41,
     "metadata": {},
     "output_type": "execute_result"
    }
   ],
   "source": [
    "DataStructs.cDataStructs.ExplicitBitVect.GetNumBits(morgan_fp_bit_vect)"
   ]
  },
  {
   "cell_type": "code",
   "execution_count": 42,
   "metadata": {},
   "outputs": [
    {
     "data": {
      "text/plain": [
       "17"
      ]
     },
     "execution_count": 42,
     "metadata": {},
     "output_type": "execute_result"
    }
   ],
   "source": [
    "DataStructs.cDataStructs.ExplicitBitVect.GetNumOnBits(morgan_fp_bit_vect)"
   ]
  },
  {
   "cell_type": "markdown",
   "metadata": {},
   "source": [
    "### Converting to friendly data type"
   ]
  },
  {
   "cell_type": "code",
   "execution_count": 43,
   "metadata": {},
   "outputs": [],
   "source": [
    "morgan_fp_hashed_folded_array = np.zeros((1,))\n",
    "morgan_fp_bit_vect_array = np.zeros((1,))"
   ]
  },
  {
   "cell_type": "code",
   "execution_count": 44,
   "metadata": {},
   "outputs": [],
   "source": [
    "DataStructs.ConvertToNumpyArray(morgan_fp_hashed_folded, morgan_fp_hashed_folded_array) "
   ]
  },
  {
   "cell_type": "code",
   "execution_count": 45,
   "metadata": {},
   "outputs": [
    {
     "data": {
      "text/plain": [
       "(array([   4,   36,   90,  138,  243,  314,  321,  356,  440,  537,  650,\n",
       "         713,  794,  926,  943,  950, 1004]),)"
      ]
     },
     "execution_count": 45,
     "metadata": {},
     "output_type": "execute_result"
    }
   ],
   "source": [
    "np.nonzero(morgan_fp_hashed_folded_array)"
   ]
  },
  {
   "cell_type": "code",
   "execution_count": 46,
   "metadata": {},
   "outputs": [
    {
     "data": {
      "text/plain": [
       "array([0., 1., 2., 3.])"
      ]
     },
     "execution_count": 46,
     "metadata": {},
     "output_type": "execute_result"
    }
   ],
   "source": [
    "np.unique(morgan_fp_hashed_folded_array)"
   ]
  },
  {
   "cell_type": "code",
   "execution_count": 47,
   "metadata": {},
   "outputs": [
    {
     "data": {
      "text/plain": [
       "<rdkit.DataStructs.cDataStructs.ExplicitBitVect at 0x2b5a8066e4e0>"
      ]
     },
     "execution_count": 47,
     "metadata": {},
     "output_type": "execute_result"
    }
   ],
   "source": [
    "morgan_fp_bit_vect"
   ]
  },
  {
   "cell_type": "code",
   "execution_count": 48,
   "metadata": {},
   "outputs": [],
   "source": [
    "DataStructs.ConvertToNumpyArray(morgan_fp_bit_vect, morgan_fp_bit_vect_array) "
   ]
  },
  {
   "cell_type": "code",
   "execution_count": 49,
   "metadata": {},
   "outputs": [
    {
     "data": {
      "text/plain": [
       "(array([   4,   36,   90,  138,  243,  314,  321,  356,  440,  537,  650,\n",
       "         713,  794,  926,  943,  950, 1004]),)"
      ]
     },
     "execution_count": 49,
     "metadata": {},
     "output_type": "execute_result"
    }
   ],
   "source": [
    "np.nonzero(morgan_fp_bit_vect_array)"
   ]
  },
  {
   "cell_type": "code",
   "execution_count": 50,
   "metadata": {},
   "outputs": [
    {
     "data": {
      "text/plain": [
       "array([0., 1.])"
      ]
     },
     "execution_count": 50,
     "metadata": {},
     "output_type": "execute_result"
    }
   ],
   "source": [
    "np.unique(morgan_fp_bit_vect_array)"
   ]
  },
  {
   "cell_type": "markdown",
   "metadata": {},
   "source": [
    "Converting the Morgan FPs between counts and bit-wise representation: \n",
    "https://stackoverflow.com/questions/54809506/how-can-i-compute-a-count-morgan-fingerprint-as-numpy-array"
   ]
  },
  {
   "cell_type": "code",
   "execution_count": 51,
   "metadata": {},
   "outputs": [],
   "source": [
    "fp = AllChem.GetMorganFingerprintAsBitVect(mol_obj, 2, nBits=1024)\n",
    "array = np.zeros((0, ), dtype=np.int16)\n",
    "DataStructs.ConvertToNumpyArray(fp, array)"
   ]
  },
  {
   "cell_type": "code",
   "execution_count": 52,
   "metadata": {},
   "outputs": [
    {
     "data": {
      "text/plain": [
       "array([0, 0, 0, ..., 0, 0, 0], dtype=int16)"
      ]
     },
     "execution_count": 52,
     "metadata": {},
     "output_type": "execute_result"
    }
   ],
   "source": [
    "array"
   ]
  },
  {
   "cell_type": "code",
   "execution_count": 53,
   "metadata": {},
   "outputs": [],
   "source": [
    "bitstring = \"\".join(array.astype(str))\n",
    "fp2 = DataStructs.cDataStructs.CreateFromBitString(bitstring)"
   ]
  },
  {
   "cell_type": "code",
   "execution_count": 56,
   "metadata": {},
   "outputs": [
    {
     "data": {
      "text/plain": [
       "<rdkit.DataStructs.cDataStructs.ExplicitBitVect at 0x2b5a80688b20>"
      ]
     },
     "execution_count": 56,
     "metadata": {},
     "output_type": "execute_result"
    }
   ],
   "source": [
    "fp2"
   ]
  },
  {
   "cell_type": "code",
   "execution_count": 57,
   "metadata": {},
   "outputs": [
    {
     "data": {
      "text/plain": [
       "True"
      ]
     },
     "execution_count": 57,
     "metadata": {},
     "output_type": "execute_result"
    }
   ],
   "source": [
    "list(fp.GetOnBits()) == list(fp2.GetOnBits())"
   ]
  },
  {
   "cell_type": "code",
   "execution_count": 58,
   "metadata": {},
   "outputs": [
    {
     "name": "stdout",
     "output_type": "stream",
     "text": [
      "(array([   4,   36,   90,  138,  243,  314,  321,  356,  440,  537,  650,\n",
      "        713,  794,  926,  943,  950, 1004]),)\n"
     ]
    }
   ],
   "source": [
    "fp3 = AllChem.GetHashedMorganFingerprint(mol_obj, 2, nBits=1024)\n",
    "array = np.zeros((0,), dtype=np.int8)\n",
    "DataStructs.ConvertToNumpyArray(fp3, array)\n",
    "print(array.nonzero())"
   ]
  },
  {
   "cell_type": "markdown",
   "metadata": {},
   "source": [
    "Alternate way:"
   ]
  },
  {
   "cell_type": "code",
   "execution_count": 62,
   "metadata": {},
   "outputs": [],
   "source": [
    "def numpy_2_fp(array):\n",
    "    fp = DataStructs.cDataStructs.UIntSparseIntVect(len(array))\n",
    "    for ix, value in enumerate(array):\n",
    "        fp[ix] = int(value)\n",
    "    return fp\n",
    "\n",
    "fp4 = numpy_2_fp(array)"
   ]
  },
  {
   "cell_type": "code",
   "execution_count": 63,
   "metadata": {},
   "outputs": [
    {
     "data": {
      "text/plain": [
       "True"
      ]
     },
     "execution_count": 63,
     "metadata": {},
     "output_type": "execute_result"
    }
   ],
   "source": [
    "fp3.GetNonzeroElements() == fp4.GetNonzeroElements()"
   ]
  },
  {
   "cell_type": "markdown",
   "metadata": {},
   "source": [
    "## 2. MACCS \n",
    "\n",
    "There is a SMARTS-based implementation of the 166 public MACCS keys.\n"
   ]
  },
  {
   "cell_type": "code",
   "execution_count": 67,
   "metadata": {},
   "outputs": [],
   "source": [
    "from rdkit.Chem import MACCSkeys"
   ]
  },
  {
   "cell_type": "code",
   "execution_count": 68,
   "metadata": {},
   "outputs": [],
   "source": [
    "maccs_fp = MACCSkeys.GenMACCSKeys(mol_obj)"
   ]
  },
  {
   "cell_type": "code",
   "execution_count": 69,
   "metadata": {},
   "outputs": [
    {
     "data": {
      "text/plain": [
       "<rdkit.DataStructs.cDataStructs.ExplicitBitVect at 0x2b5a99f013a0>"
      ]
     },
     "execution_count": 69,
     "metadata": {},
     "output_type": "execute_result"
    }
   ],
   "source": [
    "maccs_fp"
   ]
  },
  {
   "cell_type": "code",
   "execution_count": 70,
   "metadata": {},
   "outputs": [],
   "source": [
    "maccs_fp_array = np.zeros((0,))"
   ]
  },
  {
   "cell_type": "code",
   "execution_count": 71,
   "metadata": {},
   "outputs": [],
   "source": [
    "DataStructs.ConvertToNumpyArray(maccs_fp, maccs_fp_array) "
   ]
  },
  {
   "cell_type": "code",
   "execution_count": 72,
   "metadata": {},
   "outputs": [
    {
     "data": {
      "text/plain": [
       "(167,)"
      ]
     },
     "execution_count": 72,
     "metadata": {},
     "output_type": "execute_result"
    }
   ],
   "source": [
    "maccs_fp_array.shape"
   ]
  },
  {
   "cell_type": "code",
   "execution_count": 73,
   "metadata": {},
   "outputs": [
    {
     "data": {
      "text/plain": [
       "(array([ 11,  37,  43,  53,  66,  77,  80,  89,  90,  91,  92,  97,  98,\n",
       "        105, 106, 110, 112, 117, 118, 120, 121, 127, 131, 136, 137, 142,\n",
       "        143, 146, 147, 151, 154, 156, 158, 159, 161, 163, 164, 165]),)"
      ]
     },
     "execution_count": 73,
     "metadata": {},
     "output_type": "execute_result"
    }
   ],
   "source": [
    "np.nonzero(maccs_fp_array)"
   ]
  },
  {
   "cell_type": "code",
   "execution_count": 74,
   "metadata": {},
   "outputs": [
    {
     "data": {
      "text/plain": [
       "array([0., 1.])"
      ]
     },
     "execution_count": 74,
     "metadata": {},
     "output_type": "execute_result"
    }
   ],
   "source": [
    "np.unique(maccs_fp_array)"
   ]
  },
  {
   "cell_type": "markdown",
   "metadata": {},
   "source": [
    "## 3. Atom Pairs"
   ]
  },
  {
   "cell_type": "code",
   "execution_count": 75,
   "metadata": {},
   "outputs": [],
   "source": [
    "from rdkit.Chem.AtomPairs import Pairs, Torsions\n",
    "\n",
    "ap_full = Pairs.GetAtomPairFingerprint(mol_obj) # Fully unfolded ones  - The standard form is as fingerprint including counts for each bit instead of just zeros and ones\n",
    "ap_bit = Pairs.GetAtomPairFingerprintAsBitVect(mol_obj) # Bit vector \n",
    "ap_counts = Pairs.GetHashedAtomPairFingerprint(mol_obj, nBits=1024) #These are count based AP, default = 2048"
   ]
  },
  {
   "cell_type": "code",
   "execution_count": 76,
   "metadata": {},
   "outputs": [
    {
     "data": {
      "text/plain": [
       "<rdkit.DataStructs.cDataStructs.IntSparseIntVect at 0x2b5a9a0e82b0>"
      ]
     },
     "execution_count": 76,
     "metadata": {},
     "output_type": "execute_result"
    }
   ],
   "source": [
    "ap_full"
   ]
  },
  {
   "cell_type": "code",
   "execution_count": 77,
   "metadata": {},
   "outputs": [
    {
     "data": {
      "text/plain": [
       "8388608"
      ]
     },
     "execution_count": 77,
     "metadata": {},
     "output_type": "execute_result"
    }
   ],
   "source": [
    "DataStructs.cDataStructs.IntSparseIntVect.GetLength(ap_full)"
   ]
  },
  {
   "cell_type": "code",
   "execution_count": 78,
   "metadata": {},
   "outputs": [
    {
     "data": {
      "text/plain": [
       "{558145: 2,\n",
       " 558146: 1,\n",
       " 590913: 2,\n",
       " 590914: 1,\n",
       " 705602: 4,\n",
       " 705603: 2,\n",
       " 705604: 2,\n",
       " 705605: 1,\n",
       " 705665: 2,\n",
       " 705667: 1,\n",
       " 705890: 3,\n",
       " 1082435: 4,\n",
       " 1082436: 2,\n",
       " 1082498: 2,\n",
       " 1082721: 4,\n",
       " 1082723: 2,\n",
       " 1083458: 1,\n",
       " 1721411: 4,\n",
       " 1721412: 2,\n",
       " 1721413: 2,\n",
       " 1721414: 1,\n",
       " 1721474: 2,\n",
       " 1721476: 1,\n",
       " 1721697: 3,\n",
       " 1721699: 6,\n",
       " 1722434: 4,\n",
       " 1722436: 2,\n",
       " 1723684: 3}"
      ]
     },
     "execution_count": 78,
     "metadata": {},
     "output_type": "execute_result"
    }
   ],
   "source": [
    "DataStructs.cDataStructs.IntSparseIntVect.GetNonzeroElements(ap_full)"
   ]
  },
  {
   "cell_type": "code",
   "execution_count": 79,
   "metadata": {},
   "outputs": [
    {
     "data": {
      "text/plain": [
       "<rdkit.DataStructs.cDataStructs.SparseBitVect at 0x2b5a99f2ca70>"
      ]
     },
     "execution_count": 79,
     "metadata": {},
     "output_type": "execute_result"
    }
   ],
   "source": [
    "ap_bit"
   ]
  },
  {
   "cell_type": "code",
   "execution_count": 85,
   "metadata": {},
   "outputs": [],
   "source": [
    "ap_bit_array = np.zeros((0,), dtype=np.int32)"
   ]
  },
  {
   "cell_type": "code",
   "execution_count": 86,
   "metadata": {},
   "outputs": [
    {
     "ename": "ArgumentError",
     "evalue": "Python argument types in\n    rdkit.DataStructs.cDataStructs.ConvertToNumpyArray(SparseBitVect, numpy.ndarray)\ndid not match C++ signature:\n    ConvertToNumpyArray(RDKit::SparseIntVect<unsigned long> bv, boost::python::api::object destArray)\n    ConvertToNumpyArray(RDKit::SparseIntVect<unsigned int> bv, boost::python::api::object destArray)\n    ConvertToNumpyArray(RDKit::SparseIntVect<long> bv, boost::python::api::object destArray)\n    ConvertToNumpyArray(RDKit::SparseIntVect<int> bv, boost::python::api::object destArray)\n    ConvertToNumpyArray(RDKit::DiscreteValueVect bv, boost::python::api::object destArray)\n    ConvertToNumpyArray(ExplicitBitVect bv, boost::python::api::object destArray)",
     "output_type": "error",
     "traceback": [
      "\u001b[0;31m---------------------------------------------------------------------------\u001b[0m",
      "\u001b[0;31mArgumentError\u001b[0m                             Traceback (most recent call last)",
      "\u001b[0;32m/node/scratch/90082368.1.all.normal.q/ipykernel_22557/642796328.py\u001b[0m in \u001b[0;36m<module>\u001b[0;34m\u001b[0m\n\u001b[0;32m----> 1\u001b[0;31m \u001b[0mDataStructs\u001b[0m\u001b[0;34m.\u001b[0m\u001b[0mConvertToNumpyArray\u001b[0m\u001b[0;34m(\u001b[0m\u001b[0map_bit\u001b[0m\u001b[0;34m,\u001b[0m \u001b[0map_bit_array\u001b[0m\u001b[0;34m)\u001b[0m\u001b[0;34m\u001b[0m\u001b[0;34m\u001b[0m\u001b[0m\n\u001b[0m",
      "\u001b[0;31mArgumentError\u001b[0m: Python argument types in\n    rdkit.DataStructs.cDataStructs.ConvertToNumpyArray(SparseBitVect, numpy.ndarray)\ndid not match C++ signature:\n    ConvertToNumpyArray(RDKit::SparseIntVect<unsigned long> bv, boost::python::api::object destArray)\n    ConvertToNumpyArray(RDKit::SparseIntVect<unsigned int> bv, boost::python::api::object destArray)\n    ConvertToNumpyArray(RDKit::SparseIntVect<long> bv, boost::python::api::object destArray)\n    ConvertToNumpyArray(RDKit::SparseIntVect<int> bv, boost::python::api::object destArray)\n    ConvertToNumpyArray(RDKit::DiscreteValueVect bv, boost::python::api::object destArray)\n    ConvertToNumpyArray(ExplicitBitVect bv, boost::python::api::object destArray)"
     ]
    }
   ],
   "source": [
    "DataStructs.ConvertToNumpyArray(ap_bit, ap_bit_array) "
   ]
  },
  {
   "cell_type": "code",
   "execution_count": 82,
   "metadata": {},
   "outputs": [],
   "source": [
    "ap_counts_array = np.array((1,))"
   ]
  },
  {
   "cell_type": "code",
   "execution_count": 83,
   "metadata": {},
   "outputs": [],
   "source": [
    "DataStructs.ConvertToNumpyArray(ap_counts, ap_counts_array) "
   ]
  },
  {
   "cell_type": "code",
   "execution_count": 84,
   "metadata": {},
   "outputs": [
    {
     "data": {
      "text/plain": [
       "(1024,)"
      ]
     },
     "execution_count": 84,
     "metadata": {},
     "output_type": "execute_result"
    }
   ],
   "source": [
    "ap_counts_array.shape"
   ]
  },
  {
   "cell_type": "markdown",
   "metadata": {},
   "source": [
    "## 4. RDKIT Fingerprint\n",
    "\n",
    "a Daylight-like fingerprint based on hashing molecular subgraphs\n"
   ]
  },
  {
   "cell_type": "code",
   "execution_count": 113,
   "metadata": {},
   "outputs": [],
   "source": [
    "rdkit_fp = Chem.RDKFingerprint(mol_obj) "
   ]
  },
  {
   "cell_type": "code",
   "execution_count": 114,
   "metadata": {},
   "outputs": [
    {
     "data": {
      "text/plain": [
       "<rdkit.DataStructs.cDataStructs.ExplicitBitVect at 0x2b5aa2582350>"
      ]
     },
     "execution_count": 114,
     "metadata": {},
     "output_type": "execute_result"
    }
   ],
   "source": [
    "rdkit_fp"
   ]
  },
  {
   "cell_type": "code",
   "execution_count": 115,
   "metadata": {},
   "outputs": [],
   "source": [
    "rdkit_fp_array = np.zeros((0,))"
   ]
  },
  {
   "cell_type": "code",
   "execution_count": 116,
   "metadata": {},
   "outputs": [],
   "source": [
    "DataStructs.ConvertToNumpyArray(rdkit_fp, rdkit_fp_array) "
   ]
  },
  {
   "cell_type": "code",
   "execution_count": 117,
   "metadata": {},
   "outputs": [
    {
     "data": {
      "text/plain": [
       "array([0., 1.])"
      ]
     },
     "execution_count": 117,
     "metadata": {},
     "output_type": "execute_result"
    }
   ],
   "source": [
    "np.unique(rdkit_fp_array)"
   ]
  },
  {
   "cell_type": "markdown",
   "metadata": {},
   "source": [
    "## 5. Descriptors \n",
    "\n",
    "Compute the RDKit2D fingerprint (200 topological properties) using the descriptastorus library. Adopted from https://github.com/rinikerlab/GHOST/blob/main/notebooks/library_example.ipynb"
   ]
  },
  {
   "cell_type": "code",
   "execution_count": null,
   "metadata": {},
   "outputs": [],
   "source": [
    "from descriptastorus.descriptors import rdDescriptors, rdNormalizedDescriptors"
   ]
  },
  {
   "cell_type": "markdown",
   "metadata": {},
   "source": [
    "**Can be looped with different methods**"
   ]
  },
  {
   "cell_type": "markdown",
   "metadata": {},
   "source": [
    "```python\n",
    "fps1 = [Chem.RDKFingerprint(x, fpSize=1024, minPath=1, maxPath=4) for x in suppl]\n",
    "fps2 = [Chem.GetHashedMorganFingerprint(x, radius=2, nBits=1024) for x in suppl]\n",
    "fps3 = [Chem.GetMorganFingerprint(x, radius=2, useCounts= True) for x in suppl]\n",
    "fps4 = [Pairs.GetAtomPairFingerprintAsIntVect(x) for x in suppl]\n",
    "arr = np.zeros((4,1024), dtype = np.int8)\n",
    "for i in range(0,len(suppl)):\n",
    "    DataStructs.ConvertToNumpyArray(fps2[i], arr[i])\n",
    "print(arr)\n",
    "```"
   ]
  },
  {
   "cell_type": "markdown",
   "metadata": {},
   "source": [
    "### Combine it together "
   ]
  },
  {
   "cell_type": "markdown",
   "metadata": {},
   "source": [
    "General purpose function to generate morgan fingerprints using `BaseEstimator` and `TransformerMixin` from Scikit-learn to use all the wonderful scikit-learn routines "
   ]
  },
  {
   "cell_type": "code",
   "execution_count": 95,
   "metadata": {},
   "outputs": [],
   "source": [
    "from sklearn.base import BaseEstimator, TransformerMixin\n",
    "from rdkit.Chem import rdFingerprintGenerator\n",
    "from rdkit.Chem import AllChem\n",
    "from rdkit import Chem, DataStructs\n",
    "from rdkit.Chem import MACCSkeys\n",
    "from rdkit.Chem.AtomPairs import Pairs, Torsions\n",
    "from rdkit import DataStructs\n",
    "from rdkit.Chem import rdMolDescriptors\n",
    "\n",
    "def mol_to_smiles(mol: Chem.Mol, canonical: bool = True) -> str:\n",
    "    \"\"\"Generate Smiles from mol.\n",
    "    :param mol: the input molecule\n",
    "    :param canonical: whether to return the canonical Smiles or not\n",
    "    :return: The Smiles of the molecule (canonical by default). NAN for failed molecules.\"\"\"\n",
    "\n",
    "    if mol is None:\n",
    "        return np.nan\n",
    "    try:\n",
    "        smi = Chem.MolToSmiles(mol, canonical=canonical)\n",
    "        return smi\n",
    "    except:\n",
    "        return np.nan\n",
    "\n",
    "\n",
    "def smiles_to_mol(smiles: str) -> Chem.Mol:\n",
    "    \"\"\"Generate a RDKit Molecule from a Smiles.\n",
    "    :param smiles: the input string\n",
    "    :returns: The RDKit Molecule. If the Smiles parsing failed, NAN is returned instead.\n",
    "    \"\"\"\n",
    "\n",
    "    try:\n",
    "        mol = Chem.MolFromSmiles(smiles)\n",
    "        if mol is not None:\n",
    "            return mol\n",
    "        return np.nan\n",
    "    except:\n",
    "        return np.nan\n",
    "    \n",
    "def transform_to_mol(smiles: list, smiles_column : str = None, to_binary : bool = False) -> Chem.Mol:\n",
    "    \"\"\"\n",
    "    Converts a list of smiles to RDKit mol object. \n",
    "    Provision to preserve molecules in form a binary object\n",
    "    Refer: https://www.rdkit.org/docs/GettingStartedInPython.html#preserving-molecules\n",
    "    \"\"\"\n",
    "    \n",
    "    try: \n",
    "        if isinstance(smiles, list):\n",
    "            mol_ls = [Chem.MolFromSmiles(x) for x in smiles]\n",
    "            return mol_ls \n",
    "        \n",
    "        elif isinstance(smiles, pd.DataFrame):\n",
    "            smiles = smiles.copy() # To ensure I am using another instance \n",
    "            smiles[\"Mol\"] = smiles.apply(Chem.MolFromSmiles)\n",
    "            return smiles\n",
    "\n",
    "        elif isinstance(smiles, str):\n",
    "            mol_ls = Chem.MolFromSmiles(smiles)\n",
    "            return mol_ls \n",
    "        else: \n",
    "            return np.nan \n",
    "    except:\n",
    "        return np.nan \n",
    "    \n",
    "    if to_binary:\n",
    "        if type(smiles) == list:\n",
    "            binary_out = [mol.ToBinary() for mol in mol_ls] # m2 = Chem.Mol(binStr) to convert back \n",
    "        else:\n",
    "            binary_out = mol_ls.ToBinary() \n",
    "            \n",
    "        return binary_out \n",
    "\n",
    "\n",
    "    \n",
    "# Descriptor generation from RDKIT \n",
    "\n",
    "def compute_fingerprint(smiles: str, type_fp: str = 'Morgan', sub_type: str = 'bv', radius: int = 2, num_bits: int = 2048) -> np.ndarray:\n",
    "    \"\"\"\n",
    "    Generates a fingerprint for a smiles string or mol object.\n",
    "    fp_type = {'Morgan', 'Morgan_sparse', 'FeatMorgan', 'FeatMorgan_sparse', 'AtomPair', 'AtomPair_sparse', 'RDkit', 'TT'}\n",
    "    sub_type = {'sparse', 'bv', 'counts', 'object'}\n",
    "    \n",
    "    :param smiles: A smiles string for a molecule.\n",
    "    :param radius: The radius of the fingerprint.\n",
    "    :param num_bits: The number of bits to use in the fingerprint.\n",
    "    :param use_counts: Whether to use counts or just a bit vector for the fingerprint\n",
    "    :return: A 1-D numpy array containing the morgan fingerprint.\n",
    "    \"\"\"\n",
    "    if isinstance(smiles, str):\n",
    "        mol = Chem.MolFromSmiles(smiles)\n",
    " \n",
    "    else:\n",
    "        mol = smiles\n",
    "    \n",
    "    if type_fp == 'Morgan': \n",
    "        if sub_type == 'sparse' or sub_type == 'object':\n",
    "            fp_vect = rdMolDescriptors.GetMorganFingerprint(mol, radius) # Counts by default\n",
    "        if sub_type == 'counts':\n",
    "            fp_vect = rdMolDescriptors.GetHashedMorganFingerprint(mol, radius, nBits=num_bits)\n",
    "        if sub_type == 'bv':\n",
    "            fp_vect = rdMolDescriptors.GetMorganFingerprintAsBitVect(mol, radius, nBits=num_bits)\n",
    "    \n",
    "    if type_fp == 'FeatMorgan':\n",
    "        if sub_type == 'sparse' or sub_type == 'object':\n",
    "            fp_vect = rdMolDescriptors.GetMorganFingerprint(mol, radius, useFeatures=True)\n",
    "        if sub_type == 'counts':\n",
    "            fp_vect = rdMolDescriptors.GetHashedMorganFingerprint(mol, radius, nBits=num_bits, useFeatures=True)\n",
    "        if sub_type == 'bv':\n",
    "            fp_vect = rdMolDescriptors.GetMorganFingerprintAsBitVect(mol, radius, nBits=num_bits, useFeatures=True)\n",
    "    \n",
    "    if type_fp == 'AtomPair':\n",
    "        if sub_type == 'sparse' or sub_type == 'object':\n",
    "            fp_vect = rdMolDescriptors.GetAtomPairFingerprint(mol)\n",
    "        if sub_type == 'counts':\n",
    "            fp_vect = rdMolDescriptors.GetHashedAtomPairFingerprint(mol, nBits=num_bits)\n",
    "        if sub_type == 'bv':\n",
    "            fp_vect = rdMolDescriptors.GetHashedAtomPairFingerprintAsBitVect(mol, nBits=num_bits)\n",
    "        \n",
    "    if type_fp == 'MACCS': \n",
    "        fp_vect = MACCSkeys.GenMACCSKeys(mol)\n",
    "        \n",
    "    if type_fp == 'Rdkit':\n",
    "        fp_vect = Chem.RDKFingerprint(mol)\n",
    "    \n",
    "    if type_fp == 'TT':\n",
    "        if sub_type == 'counts':\n",
    "            fp_vect = rdMolDescriptors.GetHashedTopologicalTorsionFingerprint(mol, nBits=num_bits) #2048 by default\n",
    "        if sub_type == 'bv':\n",
    "            fp_vect = rdMolDescriptors.GetHashedTopologicalTorsionFingerprintAsBitVect(mol, nBits=num_bits)\n",
    "            \n",
    "    # Compute the RDKit2D fingerprint (200 topological properties) using the descriptastorus library\n",
    "    # Adopted from https://github.com/rinikerlab/GHOST/blob/main/notebooks/library_example.ipynb\n",
    "    if type_fp == 'Rdkit2D' or type_fp == 'Rdkit2D_norm':\n",
    "        try:\n",
    "            from descriptastorus.descriptors import rdDescriptors, rdNormalizedDescriptors\n",
    "            generator =  rdNormalizedDescriptors.RDKit2DNormalized() if type_fp == 'Rdkit2D_norm' else rdDescriptors.RDKit2D()\n",
    "\n",
    "            # process needs input as smiles\n",
    "            assert isinstance(smiles, str)\n",
    "            \n",
    "            smi = smiles \n",
    "            data = generator.process(smi)\n",
    "            \n",
    "            if data[0] == True:\n",
    "                data.pop(0)\n",
    "            if data[0] == False:\n",
    "                data.pop(0)\n",
    "                \n",
    "            data = np.float32(data)\n",
    "            data[np.isposinf(data)] = np.finfo('float32').max\n",
    "            data[np.isneginf(data)] = np.finfo('float32').min\n",
    "            fp_vect = np.nan_to_num(data)\n",
    "\n",
    "        except:\n",
    "            print('Failed to process the smiles using RDKit 2D features.')        \n",
    "            fp_vect = np.zeros(shape=(200))\n",
    "        \n",
    "    if sub_type == 'object':\n",
    "        return fp_vect \n",
    "    \n",
    "    elif sub_type == 'sparse':\n",
    "        try:\n",
    "            key_dict, len_arry = fp_vect.GetNonzeroElements() , fp_vect.GetLength()\n",
    "            sparse_row = np.zeros(len(list(key_dict.keys())))\n",
    "            sparse_col = np.array(list(key_dict.keys()))\n",
    "            sparse_data = np.array(list(key_dict.values()), dtype=np.int16)\n",
    "            fp = sp.sparse.csr_matrix((sparse_data, (sparse_row, sparse_col)), shape=(1, len_arry))\n",
    "            assert isinstance(fp, sp.sparse.csr_matrix)\n",
    "            \n",
    "        except: \n",
    "            key_dict, len_arry = fp_vect.GetNumOnBits(), fp_vect.GetNumBits()\n",
    "            key_dict, len_arry = fp\n",
    "            sparse_row = np.zeros(len(list(key_dict.keys())))\n",
    "            sparse_col = np.array(list(key_dict.keys()))\n",
    "            sparse_data = np.array(list(key_dict.values()), dtype=np.int16)\n",
    "            fp = sp.sparse.csr_matrix((sparse_data, (sparse_row, sparse_col)), shape=(1, len_arry))\n",
    "            assert isinstance(fp, sp.sparse.csr_matrix)\n",
    "\n",
    "    else:\n",
    "        try: \n",
    "            fp = np.zeros((0,), dtype=np.int16)\n",
    "            DataStructs.ConvertToNumpyArray(fp_vect, fp)\n",
    "        except: \n",
    "            fp = fp_vect \n",
    "    return fp\n",
    "\n",
    "## Have a dataframe output like Logan Ward does? \n",
    "\n",
    "class FingerprintTransformer(BaseEstimator):\n",
    "    \"\"\"Class that converts SMILES strings to fingerprint vectors\"\"\"\n",
    "    \n",
    "    def __init__(self, smiles_column: str = 'SMILES', type_fp: str = 'Morgan', sub_type: str = 'bv', radius: int = 2, num_bits: int = 1024):\n",
    "        self.smiles_column = smiles_column\n",
    "        self.type_fp = type_fp\n",
    "        self.sub_type = sub_type \n",
    "        self.num_bits = num_bits\n",
    "        self.radius = radius\n",
    "    \n",
    "    def fit(self, X, y=None):\n",
    "        return self  # Do need to do anything\n",
    "    \n",
    "    def transform(self, X, y=None):\n",
    "        \"\"\"\n",
    "        Compute the fingerprints\n",
    "        :param X: List of SMILES strings\n",
    "        :return: Array of fingerprints\n",
    "        \"\"\"\n",
    "        if isinstance(X, list):\n",
    "            X_input = transform_to_mol(X) if isinstance(X[0], Chem.Mol) else X\n",
    "            fing = [ compute_fingerprint(m, type_fp = self.type_fp, sub_type = self.sub_type, radius = self.radius, num_bits = self.num_bits) for m in X_input ]\n",
    "            return np.vstack(fing)\n",
    "        \n",
    "        elif isinstance(X, pd.DataFrame): \n",
    "            \n",
    "            X = X.copy() # To ensure I am changing a separate array instance \n",
    "            X_mol_list = list(X[self.smiles_column])\n",
    "            fing = []\n",
    "\n",
    "            for i, entry in enumerate(X_mol_list):\n",
    "                fing.append( compute_fingerprint(entry, type_fp = self.type_fp, sub_type = self.sub_type, radius = self.radius, num_bits = self.num_bits) )\n",
    "            \n",
    "            if self.type_fp == 'Rdkit2D' or self.type_fp == 'Rdkit2D_norm':\n",
    "                X['{0}'.format(self.type_fp)] = fing\n",
    "            else: \n",
    "                X['{0}-{1}'.format(self.type_fp, self.sub_type)] = fing\n",
    "            return X\n",
    "        \n",
    "        else: #If it is a single entry \n",
    "            X_mol = X if isinstance(X, str) else transform_to_mol(X)\n",
    "            fing = compute_fingerprint(X_mol, type_fp = self.type_fp, sub_type = self.sub_type, radius = self.radius, num_bits = self.num_bits)\n",
    "            return fing"
   ]
  },
  {
   "cell_type": "code",
   "execution_count": 89,
   "metadata": {},
   "outputs": [],
   "source": [
    "fp_transform = FingerprintTransformer(num_bits=1024,\n",
    " radius=3,\\\n",
    " smiles_column = 'SMILES',\\\n",
    " sub_type = 'counts',\\\n",
    " type_fp = 'Morgan')"
   ]
  },
  {
   "cell_type": "code",
   "execution_count": 90,
   "metadata": {},
   "outputs": [
    {
     "data": {
      "text/plain": [
       "{'num_bits': 1024,\n",
       " 'radius': 3,\n",
       " 'smiles_column': 'SMILES',\n",
       " 'sub_type': 'counts',\n",
       " 'type_fp': 'Morgan'}"
      ]
     },
     "execution_count": 90,
     "metadata": {},
     "output_type": "execute_result"
    }
   ],
   "source": [
    "fp_transform.get_params()"
   ]
  },
  {
   "cell_type": "code",
   "execution_count": 91,
   "metadata": {},
   "outputs": [],
   "source": [
    "x_fp = fp_transform.transform(x)"
   ]
  },
  {
   "cell_type": "code",
   "execution_count": 94,
   "metadata": {},
   "outputs": [
    {
     "data": {
      "text/html": [
       "<div>\n",
       "<style scoped>\n",
       "    .dataframe tbody tr th:only-of-type {\n",
       "        vertical-align: middle;\n",
       "    }\n",
       "\n",
       "    .dataframe tbody tr th {\n",
       "        vertical-align: top;\n",
       "    }\n",
       "\n",
       "    .dataframe thead th {\n",
       "        text-align: right;\n",
       "    }\n",
       "</style>\n",
       "<table border=\"1\" class=\"dataframe\">\n",
       "  <thead>\n",
       "    <tr style=\"text-align: right;\">\n",
       "      <th></th>\n",
       "      <th>SMILES</th>\n",
       "      <th>logP</th>\n",
       "      <th>ROMol</th>\n",
       "      <th>Morgan-counts</th>\n",
       "    </tr>\n",
       "  </thead>\n",
       "  <tbody>\n",
       "    <tr>\n",
       "      <th>846</th>\n",
       "      <td>O=C1CNC(=O)N1</td>\n",
       "      <td>-0.40</td>\n",
       "      <td><img data-content=\"rdkit/molecule\" src=\"data:image/png;base64,iVBORw0KGgoAAAANSUhEUgAAAMgAAADICAIAAAAiOjnJAAAABmJLR0QA/wD/AP+gvaeTAAATs0lEQVR4nO2de1BU5/nHvwssdwPqBrmoKFEHMTgVTBOCTaEDKhFU4j2R2E6nYTq1GBIziZNM1mijWDvpGtMZ1EzSbdOQgFYl0XEwajNgY4TQRPmFMDYoBSI3EZGb3J7fH+cIullWYPfdwzk+n9k/dM85L98957Pvc877nt3VEREYxtG4KB2A0SYsFiMEFosRAovFCIHFYoTAYjFCYLEYIbBYjBBYLEYILBYjBBaLEQKLxQiBxWKEwGIxQmCxGCGwWIwQWCxGCCwWIwQWixECi8UIgcVihMBiMUJgsRghsFiMEFgsRggsFiMEFosRAovFCIHFYoTAYjFCYLEYIbBYjBBYLEYILBYjBBaLEQKLxQiBxWKEwGIxQmCxGCGwWIwQWCxGCCwWIwQWixECi8UIgcVihMBiMUJgsRghuCkdYGQcP46eHhgMiI21XJSdjaAgREXBxwenTkGnQ2oqXF3vWufsWfzwA5Ysgbe30yLfp6isx7pwAcuX49IlK4vOnMHy5bh2DZcuYfVqrFqFP//Zcp3du7F6NZqanJD0fkdlYo0IoxGXLysd4n5Fs2I98QQ6O/HSS0rnuF/RrFjz52PNGhw6hGPHlI5yX6JZsQD86U/w9cVvf4u2NqWj3H+o7KowKwsAjEYr5+/btyM3F19/jdmz5WdCQrB5M7ZuxR/+IG84wFNPYe7c0cfIyVm9bl3EqDd/8cUXx40bN/o/rwpIVezcSYCtx3/+Q+fOEUAvvEBE1NlJM2aQXk8XLxIRLVtGAFVVUWrqPdqx/Zg1a5U9+3zFihXV1dXK7knRqLLHeuIJfPaZ5aLjx7F8+V09FgBPT7z7LuLjkZ6OoqK71jcaRx8jJwfG0W6fm5t76NCh2NjYzMzM0ScY+yht9siQeqz337eyaPVqKz2WxIoVBNDBg4M9loJ8+OGHAGJjY5UMIR4tn7wP8M478PPD5s24dUvpKEBKSoqnp+cXX3zxww8/KJ1FIPeFWIGBeO01XLmC06eVjgL4+vomJib29/cfOXJE6SwCuS/EApCZiXnz0N2tdA4AwIoVKwAcOnRI6SACuV/EcnXFvn1wGRsvd9myZe7u7p9//nljY6PSWUQxNvb0sImMxOHDmDHDyqK4OBw+jAkTEB6OkyeRnm65wiOPoLAQJ08iIMAJSW3h7+8fHx/f19eXn5+vcBRh6IhI6QxCeOMNGAxYvx5+fkpHscaBAweee+65pKSk48ePK51FCNoUq7UVAQHo68PVqzAYlE5jjaampqCgIJ1OV19fP378eKXjOB6VlcJhcuwYbt3Cz342Rq0CYDAYFixY0NPTc0yjk+TaFEu63lqxQukcNtH2taEGS2F7OwIC0NWF2loEBiqdZmjq6upCQkI8PDwaGhp8fX2VjuNgNNhjnTiBjg7ExIxpqwAEBgY+9thjnZ2dmjx/16BYqqiDEhquhlorhV1dCAhAWxsuX0ZoqNJp7sWVK1fCwsJ8fHwaGhq8vLyUjuNItNZjffYZbt5EdLQKrAIwbdq0qKiotra2goICpbM4GK2JpaI6KKHVaqipUtjdjUmT0NKCS5esT/uMQS5dujRr1ix/f//6+np3d3el4zgMTfVY//oXWlowd65qrAIwc+bMyMjIlpaW02Phnh7HoSmxVFcHJTRZDbVTCvv6EByMhgaUlWHOHKXTjISysrLIyEiDwXD16lU3N5V9CmEotNNjFRWhoQHh4SqzCsDDDz8cHh7e1NRUWFiodBaHoR2xVFoHJZ566iloqxpqpBT292PqVNTWorQU8+YpnWbklJaWRkdHBwYG1tbWuoyR+1ztQwuvAcCXX6K2Fg89pEqrAERFRYWFhdXV1Z07d07pLI5BI2JJNSQ1VekcdpCamgoNVUONiPXVVylxca+vWNGhdJDRMzDooI2TEy2cY0knKFOmTKmqqtLpdErHGSVEFBoaWl1dXVxcPH/+fKXj2IsWeiypfKSmpqrXKgA6nW758uXQSjXUglh5eXm4XUpUjZaG4FVfCqVh66CgoJqaGrVfqPf394eEhNTV1V24cCEyMlLpOHah7iOB2+/vpUuXqt0qAC4uLsuWLYMmOi3VHwzpGGigDkpophqquxR+9913s2fP1tL0bU9PT2BgYHNzc3l5eXh4uNJxRo+6e6zDhw8DSElJ0YZVAPR6/dKlS3H7pakXdYulsToooY1qqOJSWFlZ+dBDD/n5+dXX13t4eCgdx2HcunVr0qRJN27c+P7778PCwpSOM0pU3GNJxSI5OVlLVgHw8PBYsmQJAFV/5Z+KxdJkHZTQQDVUWSlsaWnp7u4OCAiorq4ODQ319vZubGzU2Ec9AXR0dAQEBHR0dFRVVU2ZMqWhocHd3d3f31/pXCNAHT1WbW3tnj17FixYMHHixKysLABHjx4loqSkJO1ZBcDb23vx4sVEdPToUQA7d+6cOHHiggUL9uzZo5rvWnb+N4APn/r6+uzs7ISEhIHRBBcXl6effpqI4uLiAOTk5CidURTS18HHxcUR0bp16wbmFdzc3BITE7Ozs+vr65XOaIuxKFZFRYXRaIyIGPyxGh8fn1WrVpnN5ubmZiKqr693dXX18vK6efOm0mFFcfPmTU9PT1dXV0mg5uZms9lscaUSERFhNBorKiqUDmuFMSRWeXm5hU/jxo1LS0vLz89vb2+/c819+/YBWLp0qVJRnUNKSgqA/fv33/lke3t7fn5+WlranT/zJBlWXl6uVNQfo7xYJSUlFj75+flJPnV2dlrdJCkpCcDbb7/t5KhOZs+ePQCefPJJq0s7Ojokw/zu+PpeybCysjInR/0xiolVUVGxY8eOqKiogZ3ywAMPrFu3Li8vz6J/+jGnTp3S6/UGg+HYsWPOSet8Pv30U4PBoNfrT506ZXvNtra2vLy8tWvX3tmHRUVF7dixQ8Eq6Vyx+vupsJAyMmjatLdiYqRdEBwcnJGRUVhY2NvbO8xmqqurf/7znwNwdXV97bXXenp6hKZ2Mj09Pa+++qqrq6t08l5TUzPMDXt7ewsLCzMyMoKDg6V9uzomhqZNo4wMKiyk/n6hsS1wlljFxfTKKzRr1sBv/lUtXJienl5QUDA6Lfr7+00mk/T1LNHR0WPzBHYUVFRUSL24u7u7yWTqH5UN3d3dBQUF6enpnyQm3vkji/TKK1Rc7PDMVhEp1q1blJ9PaWlkMAy+vPBwMhrJEScBPT09xcXFM2bMAODl5WUymexvU1lMJpM0LDdz5sySkhLH9MRlZWQ0Unj44CEwGCgtjfLzqbvbAe0PgQCxurpkn8aPH3wxsbGUlWW/Tz09PSdPnszIyJgyZcqOHTuIqLW1df369VLPv3LlSmk8QnU0NzcPzE2tX7++tbWViN58880pU6ZkZGScPHnSAZJJhkVHDx6U8eNlw7q6HPAa7sZxYrW2ktlMycnk7S3n1ukoNpZMJqqstLPtvr6+wsLCzMzM0Du+ATI5OXlgBbPZLH2jdWhoaFFRkZ1/zskUFRVJr8vX19dsNg88L01FS4SGhmZmZhYVFfX19dn79yoryWSi2FjS6eQj5e1NyclkNlNrq72N38ZusVpaZJ88PeWUbm6UkEAmk/2/ZNrV1SVdUd/5oyCxsbFZWVk/vqKuqKiYN2+eNDZtNBqHfymgIL29vUajUZpXiIqK+vGZYllZmdFojI6OHnj548ePl8ZiuuzvZqqqZMNcXORj5+UlG9bSYmfbdos1ULx1OoqJod277e+fWltbpVFmb29vaW/qdLrY2FiTyVRps/Hu7m6j0SjNfsTHxw//ekoRampq4uPjpXkqo9HYbfOMp7Ky0mQyxcbGDnx20tvbOzk52Ww2t9rfzVRW0u7dFBMz2IfNnm1nk8MT6/x52rSJEhIoIYGSkmjXLrp6VV60eTPFxdHevWT3UWxpaZF88vT0HJgXS0hIMJlMVSPp/AoKCgIDAwEYDIb8/Hw7Uwni6NGjBoMBQGBgYEFBwfA3rKqqkgwbmD308vKSDGuxu5uhmhrau5fi4uill+Rnrl6lrCxavFg++ps2DfO68l5idXXR00/LHVJEBEVHU0iIXJUPHLDvRcjU1dWZTKaEhISBWTC9Xi/tqcbGxlG3uWjRIqm1tLS0e464OpP29va0tDQp2+LFi0c9l9zY2Ci9D/V6vdSah4eH9D6sq6tzTNZ9+8jLiwCaPJmioykiQu7S1q+/5/n+vcTasIEASkwcLHD9/XTiBE2aRAAdOTL60Neu0fvvU0rK87e/p8DV1TUuLm7v3r0OKWHSQJe00yMiIi5cuGB/m/bzzTffSJNXer1+1MNUFtTU1OzduzcuLk4aUwWQOH8+paTQX/9K166Nvt3DhwmgoCC6s0P973/pF78ggH71K9tb2xSrpIQAioigH8/Z/fvfpNPR9Ok00ouUujrKzqbERNLrpXL+f/HxixYt2r9/f0NDw8iaGganT58OCQkBEBPzyt//7vDmR8bf/kYxMckAQkJCzpw54/D2Gxoa9u/fv2jRogNxcfKpkl5PCxdSdjaNtA/r7aXQUHJzo6++slzU3k5hYQRQaamNBmyKtWkTAUOWvPh4Aujzz4cVtLycjEaKiBgcRBk3Th5E6egYVgujpbGxcdWqXwcH9wD07LOkyI02ra2UlkYABQdXrV79zKhL/HDp6JCHEseNG9zhERFkNNIw74A4c4YAWrLE+lKTiQDKzLTRgE2xHn2UAPruO+tLt28ngP74R1stlJRY+uTnJ/s0xJ0LgjCbyceHAJo6lQoLnfmXqbCQpk4lgHx96Y5RKqfQ2Skb5udnaVhJia0Nd+4kgHbtsr70wgUC6PHHbTRgU6xp0wigtjbrS81mAuiFFyyfH5hpnj598MUEBFBGBp08KWKQd5iUl9O8efJAm9FIThjn6u0lo5Hc3AigefOGfIc6A2k65Lnn6MEHBw/K9OlDzk8//zwB9MEH1lu7cYMACguz8QdtijV5MgFDdi3/+AcB9Pvfy//t65N9kt6e0mPSJDn62Biu7Oqil1+WhwPj4+0fIbFFTQ1JpzouLvTyywq+oe6mt1c+TNLll/SYOlU+TANnzBs3EkBD3fnd3i5vNTQ2xZo7lwCqrbW+dM8eAmjrVvm/Um8wMAm1YQN98smY2Z13UVBAgYHybOwnnwj5E/n58sx7YCCNZJTKiUh92IYNd03pRkXJS19/nQD6y1+sb1tVRQD95Cc2mrcp1vr1BNCnn1pf+stfEkD//Kf832efpZAQS/HHKvX1tHixPDyXkeFI/7u6KCNDHu5JSqKx/YkHIrqj1ISE0IYN8pN5eQTQb35jfZMjRwgYXNkaNsX66CMCaNUqK4uuXyd/f/L1HZxUamwcI/VumPT3k8lE7u4E0Jw5dPGiA9q8eJHmzCGA3N3JZHLyrXV209NDTU3yv5ubydubJk6kGzesrLl8OQF08KCNxmyK1d1Ns2eTTkcWQ0Dd3bRyJQG0ZcvIoo89iotpxgx5+tXOG7pMJnmYesYMp91OJ5IXXySA1q4lizt23nuPAIqMtHz+bu418l5aKp8sLFxIe/dSTg5t3Sofivh4Jw8ZCKK1Va75AK1cSdevj7iF69flNxpAaWkOvPdEUdrbacECAmjmTHrjDcrJobffpoQE+Rr/XjMZw5iEvnyZ1q0bvMsKoOBgevPNsXliPmrMZvL1JYBCQ+nsWSKiGzcoN5dyc+nWLcuVz52j3Fy5Spw9S6GhBJC/P+XmOju2WDo7ads2CgoaPPQ+PvTMM/S//91z02HfNtPVReXlVFJi/11WY5bLlykmZnCg6+JFeWcajZZrPvMMAXTx4uAwVUwMXb7s/MjO4soVKimh8nIrb7IhUP5zhWOKzk763e9Ip6OwMCoulsVyd6dvv71rNUms8+cpLIx0Otq4URsnBY5EI9+w6Cg8PfHOO1i4EEFBkO4yfPRRlJQgMxMnTliu7OODnBzU1WHpUucnHeuwWFaQRPn2WwCYOxeRkXj3XXz8MdassVzzpz91dja1oI6vMVKWXbswcSI2bkRTk9JR1AOLdW8mTMCWLWhqgtGodBT1wGINi4wMPPwwsrNx/rzSUVQCizUs9Hq89x4ApKejr0/pNGqAxRoujzyCtDR8/TU++EDpKGqAxRoBb72FBx/Eli1ob1c6ypiHxRoBEyZg2zZcvYrjx5WOMuZhsUZGejoefxzd3UrnGPOwWCNDp8O+fbj9EVFmSFT2AwLOpL0dX3yBkBDMnm256MsvcfMmYmLg46NEMjXAPdaQlJejrU2e2LGgpgZtbSgvd3om9cBiDcmVK0hNRWmplUWlpUhNxZUrzo6kIlgsRggsFiMEFosRAovFCIGHG4Zk7Vp8/DF6e/H665aLtm2DmxvWrMFHHymRTA2wWENy8CBWrbK1Ql4eVq50Vhq1waVwSA4eBIDOTnR3Wz46OwdXYKzCYg2J1Btt3w693vKxffvgCoxVWCxGCCwWIwQWixECi8UIgT+wOiTTp+PIEesfnYiOxpEjmDzZ6ZnUA49jMULgUsgIgcVihMBiMUJgsRghsFiMEFgsRggsFiMEFosRAovFCIHFYoTAYjFCYLEYIbBYjBBYLEYILBYjBBaLEQKLxQiBxWKEwGIxQmCxGCGwWIwQWCxGCCwWIwQWixECi8UIgcVihMBiMUJgsRghsFiMEFgsRggsFiMEFosRAovFCIHFYoTAYjFCYLEYIbBYjBBYLEYILBYjBBaLEQKLxQiBxWKEwGIxQmCxGCGwWIwQWCxGCCwWI4T/B5KEBgFXCis1AAAApXpUWHRyZGtpdFBLTCByZGtpdCAyMDIxLjA5LjMAAHice79v7T0GIOBlQAB2KG5g5GDQANLMTGwQmoWNIQFIMzGxM2SAxRlhEjCFcAluBkYNJkYmBiZmoKwCC6sGEwubAhujgggjKyMT0CDxOKA6RriNE79rOHy9LbMfxDkXMts+86TEPoiUg71642J7KHs/jA1Usx+mBqj3AEwv0NFL/n9uBrPFANz9Ist1JQ2xAAAA6npUWHRNT0wgcmRraXQgMjAyMS4wOS4zAAB4nI1RWwrCMBD8zyn2Ag27m5f57AsRaQpavYP/3h83rTUKRd10IBkmu5mpglyn7ni7w6u4UwoAv3wxRrgaRFQD5A00/f6QoJ3qZmXa8ZKmMwRZmNensp7GYWUIRmDtLRIhVKg9cTAEqHGucpWhBdJMxrHLQrKR0W8IjQhRBzezciMEE+KGzkLKfX4LnTSs/hrtxUz1l5uwDH/S0h0N7nZ2Q9mn7iOwJcJmTF2JkDNKUJkwJQ4S2OKaBK54Y4EvBkiOobySBPz+lPfB+bz+ddmrB+dNbz6U18IiAAAAbnpUWHRTTUlMRVMgcmRraXQgMjAyMS4wOS4zAAB4nG2MOQ7AIAwEv5ISJGN5ba4IUdHDh3h8SBulnNHsrj4w5nB9+YlrO+UcBaAgnKHFQA2ssGSvQrxVMjXhkuj4UqxSCx/8GYSfX6FTikmt5PcDgHAbhNNu1eMAAAAASUVORK5CYII=\" alt=\"Mol\"/></td>\n",
       "      <td>[0, 0, 0, 0, 0, 0, 0, 0, 0, 0, 0, 0, 0, 0, 0, ...</td>\n",
       "    </tr>\n",
       "    <tr>\n",
       "      <th>159</th>\n",
       "      <td>Cc1ccc(Cl)cc1</td>\n",
       "      <td>-3.08</td>\n",
       "      <td><img data-content=\"rdkit/molecule\" src=\"data:image/png;base64,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\" alt=\"Mol\"/></td>\n",
       "      <td>[0, 0, 0, 0, 0, 0, 0, 0, 0, 0, 0, 0, 0, 0, 0, ...</td>\n",
       "    </tr>\n",
       "    <tr>\n",
       "      <th>502</th>\n",
       "      <td>Cn2c(=O)on(c1ccc(Cl)c(Cl)c1)c2=O</td>\n",
       "      <td>-2.82</td>\n",
       "      <td><img data-content=\"rdkit/molecule\" src=\"data:image/png;base64,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\" alt=\"Mol\"/></td>\n",
       "      <td>[0, 0, 0, 0, 0, 0, 0, 0, 0, 0, 0, 0, 0, 0, 0, ...</td>\n",
       "    </tr>\n",
       "  </tbody>\n",
       "</table>\n",
       "</div>"
      ],
      "text/plain": [
       "                               SMILES  logP  \\\n",
       "846                     O=C1CNC(=O)N1 -0.40   \n",
       "159                     Cc1ccc(Cl)cc1 -3.08   \n",
       "502  Cn2c(=O)on(c1ccc(Cl)c(Cl)c1)c2=O -2.82   \n",
       "\n",
       "                                                 ROMol  \\\n",
       "846  <img data-content=\"rdkit/molecule\" src=\"data:i...   \n",
       "159  <img data-content=\"rdkit/molecule\" src=\"data:i...   \n",
       "502  <img data-content=\"rdkit/molecule\" src=\"data:i...   \n",
       "\n",
       "                                         Morgan-counts  \n",
       "846  [0, 0, 0, 0, 0, 0, 0, 0, 0, 0, 0, 0, 0, 0, 0, ...  \n",
       "159  [0, 0, 0, 0, 0, 0, 0, 0, 0, 0, 0, 0, 0, 0, 0, ...  \n",
       "502  [0, 0, 0, 0, 0, 0, 0, 0, 0, 0, 0, 0, 0, 0, 0, ...  "
      ]
     },
     "execution_count": 94,
     "metadata": {},
     "output_type": "execute_result"
    }
   ],
   "source": [
    "x_fp.sample(3)"
   ]
  },
  {
   "cell_type": "markdown",
   "metadata": {},
   "source": [
    "# Similarity"
   ]
  },
  {
   "cell_type": "markdown",
   "metadata": {},
   "source": [
    "In similarity you can use the unfolded fingerprints for comparing the molecules \n",
    "\n",
    "[Link to RDKit blog](https://www.rdkit.org/docs/GettingStartedInPython.html#morgan-fingerprints-circular-fingerprints)\n",
    "```python\n",
    "fp1 = AllChem.GetMorganFingerprintAsBitVect(m1,2,nBits=1024)\n",
    ">>> fp1\n",
    "<rdkit.DataStructs.cDataStructs.ExplicitBitVect object at 0x...>\n",
    ">>> fp2 = AllChem.GetMorganFingerprintAsBitVect(m2,2,nBits=1024)\n",
    ">>> DataStructs.DiceSimilarity(fp1,fp2)\n",
    "```"
   ]
  },
  {
   "cell_type": "markdown",
   "metadata": {},
   "source": [
    "Usually `unfolded` fingerprints are used for comparing molecules. Also if the `FCFP`, called by `useFeatures` tag is used in the comparison we can get different result. \n",
    "\n",
    "```python \n",
    ">>> m1 = Chem.MolFromSmiles('c1ccccn1')\n",
    ">>> m2 = Chem.MolFromSmiles('c1ccco1')\n",
    ">>> fp1 = AllChem.GetMorganFingerprint(m1,2)\n",
    ">>> fp2 = AllChem.GetMorganFingerprint(m2,2)\n",
    ">>> ffp1 = AllChem.GetMorganFingerprint(m1,2,useFeatures=True)\n",
    ">>> ffp2 = AllChem.GetMorganFingerprint(m2,2,useFeatures=True)\n",
    ">>> DataStructs.DiceSimilarity(fp1,fp2)\n",
    "0.36...\n",
    ">>> DataStructs.DiceSimilarity(ffp1,ffp2)\n",
    "0.90...\n",
    "```"
   ]
  },
  {
   "cell_type": "code",
   "execution_count": 96,
   "metadata": {},
   "outputs": [],
   "source": [
    "ref_mol = x['ROMol'].iloc[0]"
   ]
  },
  {
   "cell_type": "code",
   "execution_count": 97,
   "metadata": {},
   "outputs": [
    {
     "data": {
      "image/png": "[encoded data removed]",
      "text/plain": [
       "<rdkit.Chem.rdchem.Mol at 0x2b5a7e5367b0>"
      ]
     },
     "execution_count": 97,
     "metadata": {},
     "output_type": "execute_result"
    }
   ],
   "source": [
    "ref_mol"
   ]
  },
  {
   "cell_type": "code",
   "execution_count": 98,
   "metadata": {},
   "outputs": [],
   "source": [
    "compared_to_mol = x['ROMol'].iloc[1]"
   ]
  },
  {
   "cell_type": "code",
   "execution_count": 99,
   "metadata": {},
   "outputs": [
    {
     "data": {
      "image/png": "[encoded data removed]",
      "text/plain": [
       "<rdkit.Chem.rdchem.Mol at 0x2b5a7e536530>"
      ]
     },
     "execution_count": 99,
     "metadata": {},
     "output_type": "execute_result"
    }
   ],
   "source": [
    "compared_to_mol"
   ]
  },
  {
   "cell_type": "markdown",
   "metadata": {},
   "source": [
    "**From the [DNA-Encoded Library paper](https://pubs.acs.org/doi/abs/10.1021/acs.jmedchem.0c00452) from Google**\n",
    "\n",
    "Quantification of molecular structure similarity used Tanimoto similarity on extended-connectivity fingerprints with radius 3 (ECFP6). We use a count-based representation (to better capture differences in molecular size with repeated substructures compared to binary fingerprints) and unhashed fingerprints (to avoid hash collisions).\n",
    "\n",
    "ECFP6-count vectors were generated with RDKIT GetMorganFingerprint() method with useCounts=True argument.Functional-Class Fingerprints (FCFP) are related to ECFP, but atoms are grouped into functional classes such as “acidic”, “basic”, “aromatic”, etc. before substructures are enumerated. \n",
    "\n",
    "_Molecules that are similar structurally but have substitutions of similar atoms will look much more similar using FCFP than ECFP._\n",
    "\n",
    "FCFP6 counts (also with radius 3) were generated with GetMorganFingerprint() with\n",
    "useCounts=True and useFeatures=True arguments."
   ]
  },
  {
   "cell_type": "code",
   "execution_count": 100,
   "metadata": {},
   "outputs": [],
   "source": [
    "ref_mol_ECFP_counts = AllChem.GetMorganFingerprint(ref_mol, radius=3, useCounts=True)"
   ]
  },
  {
   "cell_type": "code",
   "execution_count": 101,
   "metadata": {},
   "outputs": [
    {
     "data": {
      "text/plain": [
       "<rdkit.DataStructs.cDataStructs.UIntSparseIntVect at 0x2b5a9a06f3a0>"
      ]
     },
     "execution_count": 101,
     "metadata": {},
     "output_type": "execute_result"
    }
   ],
   "source": [
    "ref_mol_ECFP_counts"
   ]
  },
  {
   "cell_type": "code",
   "execution_count": 102,
   "metadata": {},
   "outputs": [],
   "source": [
    "compared_to_mol_ECFP_counts = AllChem.GetMorganFingerprint(compared_to_mol, radius=3, useCounts=True)"
   ]
  },
  {
   "cell_type": "code",
   "execution_count": 103,
   "metadata": {},
   "outputs": [
    {
     "data": {
      "text/plain": [
       "<rdkit.DataStructs.cDataStructs.UIntSparseIntVect at 0x2b5a9a091760>"
      ]
     },
     "execution_count": 103,
     "metadata": {},
     "output_type": "execute_result"
    }
   ],
   "source": [
    "compared_to_mol_ECFP_counts"
   ]
  },
  {
   "cell_type": "code",
   "execution_count": 104,
   "metadata": {},
   "outputs": [
    {
     "data": {
      "text/plain": [
       "0.1111111111111111"
      ]
     },
     "execution_count": 104,
     "metadata": {},
     "output_type": "execute_result"
    }
   ],
   "source": [
    "rdkit.DataStructs.cDataStructs.TanimotoSimilarity(ref_mol_ECFP_counts, compared_to_mol_ECFP_counts)"
   ]
  },
  {
   "cell_type": "code",
   "execution_count": 110,
   "metadata": {},
   "outputs": [],
   "source": [
    "import itertools\n",
    "\n",
    "import seaborn as sns\n",
    "def tanimoto_matrix(slist, smiles_columns : str = None, return_array : bool = True, show_plot : bool = False):\n",
    "    '''\n",
    "    Compute pair-wise Tanimoto similarity between a list of smiles with fingerprints\n",
    "    By default we are looking at the radius of 3 and Morgan ECFP \n",
    "    '''\n",
    "    \n",
    "    slist = slist if isinstance(slist, list) else slist[smiles_columns].to_list()\n",
    "    fp = [ compute_fingerprint( s, type_fp = 'Morgan', sub_type = 'object', radius = 3 ) for s in slist ]\n",
    "    \n",
    "    ts = list(\n",
    "    DataStructs.cDataStructs.TanimotoSimilarity(x,y) for x, y, in itertools.product(fp, repeat=2)\n",
    "    )\n",
    "    \n",
    "    tanimoto_array = np.array(ts).reshape(len(fp), len(fp))\n",
    "    \n",
    "    if show_plot: \n",
    "        fig, ax = plt.subplots(1,1, figsize=(10,10))\n",
    "        df = pd.DataFrame(tanimoto_array, index=slist, columns=slist)\n",
    "        sns.heatmap(df.round(2).corr(), cmap=\"YlGnBu\", ax=ax)\n",
    "        \n",
    "    if return_array:\n",
    "        return tanimoto_array"
   ]
  },
  {
   "cell_type": "code",
   "execution_count": 112,
   "metadata": {},
   "outputs": [
    {
     "data": {
      "text/plain": [
       "array([[1.        , 0.096     , 0.03100775, 0.07079646, 0.14723926,\n",
       "        0.08490566, 0.10638298, 0.10852713, 0.08490566, 0.08547009],\n",
       "       [0.096     , 1.        , 0.04      , 0.17857143, 0.17857143,\n",
       "        0.        , 0.1744186 , 0.1       , 0.        , 0.16129032],\n",
       "       [0.03100775, 0.04      , 1.        , 0.03333333, 0.04065041,\n",
       "        0.        , 0.27631579, 0.05      , 0.01818182, 0.04615385],\n",
       "       [0.07079646, 0.17857143, 0.03333333, 1.        , 0.09433962,\n",
       "        0.        , 0.1038961 , 0.14285714, 0.        , 0.24444444],\n",
       "       [0.14723926, 0.17857143, 0.04065041, 0.09433962, 1.        ,\n",
       "        0.04761905, 0.16153846, 0.13114754, 0.06796117, 0.10909091],\n",
       "       [0.08490566, 0.        , 0.        , 0.        , 0.04761905,\n",
       "        1.        , 0.01282051, 0.06451613, 0.1875    , 0.        ],\n",
       "       [0.10638298, 0.1744186 , 0.27631579, 0.1038961 , 0.16153846,\n",
       "        0.01282051, 1.        , 0.09183673, 0.01282051, 0.12345679],\n",
       "       [0.10852713, 0.1       , 0.05      , 0.14285714, 0.13114754,\n",
       "        0.06451613, 0.09183673, 1.        , 0.1       , 0.1641791 ],\n",
       "       [0.08490566, 0.        , 0.01818182, 0.        , 0.06796117,\n",
       "        0.1875    , 0.01282051, 0.1       , 1.        , 0.02040816],\n",
       "       [0.08547009, 0.16129032, 0.04615385, 0.24444444, 0.10909091,\n",
       "        0.        , 0.12345679, 0.1641791 , 0.02040816, 1.        ]])"
      ]
     },
     "execution_count": 112,
     "metadata": {},
     "output_type": "execute_result"
    },
    {
     "data": {
      "image/png": "[encoded data removed]",
      "text/plain": [
       "<Figure size 720x720 with 2 Axes>"
      ]
     },
     "metadata": {
      "image/png": {
       "height": 829,
       "width": 814
      },
      "needs_background": "light"
     },
     "output_type": "display_data"
    }
   ],
   "source": [
    "tanimoto_matrix( x.sample(10)['SMILES'].tolist(), show_plot=True)"
   ]
  },
  {
   "cell_type": "code",
   "execution_count": null,
   "metadata": {},
   "outputs": [],
   "source": []
  }
 ],
 "metadata": {
  "kernelspec": {
   "display_name": "chemprop_pgg",
   "language": "python",
   "name": "chemprop_pgg"
  },
  "language_info": {
   "codemirror_mode": {
    "name": "ipython",
    "version": 3
   },
   "file_extension": ".py",
   "mimetype": "text/x-python",
   "name": "python",
   "nbconvert_exporter": "python",
   "pygments_lexer": "ipython3",
   "version": "3.8.5"
  }
 },
 "nbformat": 4,
 "nbformat_minor": 5
}
