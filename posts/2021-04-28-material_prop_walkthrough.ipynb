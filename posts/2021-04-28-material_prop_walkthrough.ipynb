{
 "cells": [
  {
   "cell_type": "raw",
   "metadata": {},
   "source": [
    "---\n",
    "aliases:\n",
    "- /chemical-science/python/machine-learning/2021/04/28/material_prop_walkthrough\n",
    "author: Pushkar G. Ghanekar\n",
    "badges: true\n",
    "categories:\n",
    "- chemical-science\n",
    "- python\n",
    "- machine-learning\n",
    "date: '2021-04-28'\n",
    "description: Sample project covering various steps necessary for developing a model\n",
    "  for material property prediction\n",
    "output-file: 2021-04-28-material_prop_walkthrough.html\n",
    "title: Mateiral informatics sample project\n",
    "toc: true\n",
    "\n",
    "---\n",
    "\n"
   ]
  },
  {
   "cell_type": "markdown",
   "id": "bcd04a4b-f6e1-42cf-aa36-de82bc090750",
   "metadata": {},
   "source": [
    "A random forest regression model is built to predict the heat capacity ($C_p$) of solid inorganic materials at different temperatures. The dataset is collected from the [NIST JANAF Thermochemical Table](https://doi.org/10.18434/T42S31) \n",
    "\n",
    "This project is adapted from recent publication looking at best practices for setting up mateial informatics task.\n",
    "* [A. Y. T. Wang et al., “Machine Learning for Materials Scientists: An Introductory Guide toward Best Practices,” Chem. Mater., vol. 32, no. 12, pp. 4954–4965, 2020](https://doi.org/10.1021/acs.chemmater.0c01907)."
   ]
  },
  {
   "cell_type": "code",
   "execution_count": 1,
   "id": "59bed818-e7f4-42c4-978b-6571c6575ade",
   "metadata": {},
   "outputs": [],
   "source": [
    "import os \n",
    "import pandas as pd \n",
    "import numpy as np \n",
    "\n",
    "np.random.seed(42)"
   ]
  },
  {
   "cell_type": "code",
   "execution_count": 2,
   "id": "937685a6-5806-4876-aa4a-8551db340ac9",
   "metadata": {},
   "outputs": [],
   "source": [
    "#----- PLOTTING PARAMS ----# \n",
    "import matplotlib.pyplot as plt\n",
    "from matplotlib.pyplot import cm\n",
    "\n",
    "# High DPI rendering for mac\n",
    "%config InlineBackend.figure_format = 'retina'\n",
    "\n",
    "# Plot matplotlib plots with white background: \n",
    "%config InlineBackend.print_figure_kwargs={'facecolor' : \"w\"}\n",
    "\n",
    "plot_params = {\n",
    "'font.size' : 15,\n",
    "'axes.titlesize' : 15,\n",
    "'axes.labelsize' : 15,\n",
    "'axes.labelweight' : 'bold',\n",
    "'xtick.labelsize' : 12,\n",
    "'ytick.labelsize' : 12,\n",
    "}\n",
    " \n",
    "plt.rcParams.update(plot_params)"
   ]
  },
  {
   "cell_type": "markdown",
   "id": "c37fcc7e-33b4-4f94-ab7b-3ee23d297535",
   "metadata": {},
   "source": [
    "# Loading and cleaning the data"
   ]
  },
  {
   "cell_type": "code",
   "execution_count": 3,
   "id": "65fe2e70-c093-4171-95c5-7f6d9a9676a1",
   "metadata": {},
   "outputs": [],
   "source": [
    "root_dir = os.getcwd()\n",
    "csv_file_path = os.path.join(root_dir, 'material_cp.csv')\n",
    "\n",
    "df = pd.read_csv(csv_file_path)"
   ]
  },
  {
   "cell_type": "code",
   "execution_count": 4,
   "id": "b549630e-8a2c-4366-bcb7-485c427025ca",
   "metadata": {},
   "outputs": [
    {
     "data": {
      "text/html": [
       "<div>\n",
       "<style scoped>\n",
       "    .dataframe tbody tr th:only-of-type {\n",
       "        vertical-align: middle;\n",
       "    }\n",
       "\n",
       "    .dataframe tbody tr th {\n",
       "        vertical-align: top;\n",
       "    }\n",
       "\n",
       "    .dataframe thead th {\n",
       "        text-align: right;\n",
       "    }\n",
       "</style>\n",
       "<table border=\"1\" class=\"dataframe\">\n",
       "  <thead>\n",
       "    <tr style=\"text-align: right;\">\n",
       "      <th></th>\n",
       "      <th>FORMULA</th>\n",
       "      <th>CONDITION: Temperature (K)</th>\n",
       "      <th>PROPERTY: Heat Capacity (J/mol K)</th>\n",
       "    </tr>\n",
       "  </thead>\n",
       "  <tbody>\n",
       "    <tr>\n",
       "      <th>1207</th>\n",
       "      <td>F2Hg1</td>\n",
       "      <td>1000.0</td>\n",
       "      <td>89.538</td>\n",
       "    </tr>\n",
       "    <tr>\n",
       "      <th>3910</th>\n",
       "      <td>Na2O2</td>\n",
       "      <td>400.0</td>\n",
       "      <td>97.721</td>\n",
       "    </tr>\n",
       "    <tr>\n",
       "      <th>1183</th>\n",
       "      <td>Fe0.877S1</td>\n",
       "      <td>298.0</td>\n",
       "      <td>49.883</td>\n",
       "    </tr>\n",
       "    <tr>\n",
       "      <th>100</th>\n",
       "      <td>B2Mg1</td>\n",
       "      <td>298.0</td>\n",
       "      <td>47.823</td>\n",
       "    </tr>\n",
       "    <tr>\n",
       "      <th>3879</th>\n",
       "      <td>N5P3</td>\n",
       "      <td>1000.0</td>\n",
       "      <td>265.266</td>\n",
       "    </tr>\n",
       "  </tbody>\n",
       "</table>\n",
       "</div>"
      ],
      "text/plain": [
       "        FORMULA  CONDITION: Temperature (K)  PROPERTY: Heat Capacity (J/mol K)\n",
       "1207      F2Hg1                      1000.0                             89.538\n",
       "3910      Na2O2                       400.0                             97.721\n",
       "1183  Fe0.877S1                       298.0                             49.883\n",
       "100       B2Mg1                       298.0                             47.823\n",
       "3879       N5P3                      1000.0                            265.266"
      ]
     },
     "execution_count": 4,
     "metadata": {},
     "output_type": "execute_result"
    }
   ],
   "source": [
    "df.sample(5)"
   ]
  },
  {
   "cell_type": "code",
   "execution_count": 5,
   "id": "4397b3ee-0438-4642-ac1e-340012e79ea4",
   "metadata": {},
   "outputs": [
    {
     "name": "stdout",
     "output_type": "stream",
     "text": [
      "(4583, 3)\n"
     ]
    }
   ],
   "source": [
    "print(df.shape)"
   ]
  },
  {
   "cell_type": "code",
   "execution_count": 6,
   "id": "7fc262e6-5929-4857-ab51-3b9703cd8fbe",
   "metadata": {},
   "outputs": [
    {
     "data": {
      "text/html": [
       "<div>\n",
       "<style scoped>\n",
       "    .dataframe tbody tr th:only-of-type {\n",
       "        vertical-align: middle;\n",
       "    }\n",
       "\n",
       "    .dataframe tbody tr th {\n",
       "        vertical-align: top;\n",
       "    }\n",
       "\n",
       "    .dataframe thead th {\n",
       "        text-align: right;\n",
       "    }\n",
       "</style>\n",
       "<table border=\"1\" class=\"dataframe\">\n",
       "  <thead>\n",
       "    <tr style=\"text-align: right;\">\n",
       "      <th></th>\n",
       "      <th>CONDITION: Temperature (K)</th>\n",
       "      <th>PROPERTY: Heat Capacity (J/mol K)</th>\n",
       "    </tr>\n",
       "  </thead>\n",
       "  <tbody>\n",
       "    <tr>\n",
       "      <th>count</th>\n",
       "      <td>4579.00</td>\n",
       "      <td>4576.00</td>\n",
       "    </tr>\n",
       "    <tr>\n",
       "      <th>mean</th>\n",
       "      <td>1170.92</td>\n",
       "      <td>107.48</td>\n",
       "    </tr>\n",
       "    <tr>\n",
       "      <th>std</th>\n",
       "      <td>741.25</td>\n",
       "      <td>67.02</td>\n",
       "    </tr>\n",
       "    <tr>\n",
       "      <th>min</th>\n",
       "      <td>-2000.00</td>\n",
       "      <td>-102.22</td>\n",
       "    </tr>\n",
       "    <tr>\n",
       "      <th>25%</th>\n",
       "      <td>600.00</td>\n",
       "      <td>61.31</td>\n",
       "    </tr>\n",
       "    <tr>\n",
       "      <th>50%</th>\n",
       "      <td>1000.00</td>\n",
       "      <td>89.50</td>\n",
       "    </tr>\n",
       "    <tr>\n",
       "      <th>75%</th>\n",
       "      <td>1600.00</td>\n",
       "      <td>135.65</td>\n",
       "    </tr>\n",
       "    <tr>\n",
       "      <th>max</th>\n",
       "      <td>4700.00</td>\n",
       "      <td>494.97</td>\n",
       "    </tr>\n",
       "  </tbody>\n",
       "</table>\n",
       "</div>"
      ],
      "text/plain": [
       "       CONDITION: Temperature (K)  PROPERTY: Heat Capacity (J/mol K)\n",
       "count                     4579.00                            4576.00\n",
       "mean                      1170.92                             107.48\n",
       "std                        741.25                              67.02\n",
       "min                      -2000.00                            -102.22\n",
       "25%                        600.00                              61.31\n",
       "50%                       1000.00                              89.50\n",
       "75%                       1600.00                             135.65\n",
       "max                       4700.00                             494.97"
      ]
     },
     "execution_count": 6,
     "metadata": {},
     "output_type": "execute_result"
    }
   ],
   "source": [
    "df.describe().round(2)"
   ]
  },
  {
   "cell_type": "markdown",
   "id": "43cd48da-7653-4ac3-90de-6d315b099fbc",
   "metadata": {},
   "source": [
    "Rename columns for better data handling "
   ]
  },
  {
   "cell_type": "code",
   "execution_count": 7,
   "id": "c8eeacb6-74ff-49f7-a478-1948d77991de",
   "metadata": {},
   "outputs": [],
   "source": [
    "rename_dict = {'FORMULA':'formula', 'CONDITION: Temperature (K)':'T', 'PROPERTY: Heat Capacity (J/mol K)':'Cp'}\n",
    "df = df.rename(columns=rename_dict)"
   ]
  },
  {
   "cell_type": "code",
   "execution_count": 8,
   "id": "2ecd9000-8563-4e61-808d-dc68f7c94e42",
   "metadata": {},
   "outputs": [
    {
     "data": {
      "text/html": [
       "<div>\n",
       "<style scoped>\n",
       "    .dataframe tbody tr th:only-of-type {\n",
       "        vertical-align: middle;\n",
       "    }\n",
       "\n",
       "    .dataframe tbody tr th {\n",
       "        vertical-align: top;\n",
       "    }\n",
       "\n",
       "    .dataframe thead th {\n",
       "        text-align: right;\n",
       "    }\n",
       "</style>\n",
       "<table border=\"1\" class=\"dataframe\">\n",
       "  <thead>\n",
       "    <tr style=\"text-align: right;\">\n",
       "      <th></th>\n",
       "      <th>formula</th>\n",
       "      <th>T</th>\n",
       "      <th>Cp</th>\n",
       "    </tr>\n",
       "  </thead>\n",
       "  <tbody>\n",
       "    <tr>\n",
       "      <th>0</th>\n",
       "      <td>B2O3</td>\n",
       "      <td>1400.0</td>\n",
       "      <td>134.306</td>\n",
       "    </tr>\n",
       "    <tr>\n",
       "      <th>1</th>\n",
       "      <td>B2O3</td>\n",
       "      <td>1300.0</td>\n",
       "      <td>131.294</td>\n",
       "    </tr>\n",
       "    <tr>\n",
       "      <th>2</th>\n",
       "      <td>B2O3</td>\n",
       "      <td>1200.0</td>\n",
       "      <td>128.072</td>\n",
       "    </tr>\n",
       "    <tr>\n",
       "      <th>3</th>\n",
       "      <td>B2O3</td>\n",
       "      <td>1100.0</td>\n",
       "      <td>124.516</td>\n",
       "    </tr>\n",
       "    <tr>\n",
       "      <th>4</th>\n",
       "      <td>B2O3</td>\n",
       "      <td>1000.0</td>\n",
       "      <td>120.625</td>\n",
       "    </tr>\n",
       "    <tr>\n",
       "      <th>...</th>\n",
       "      <td>...</td>\n",
       "      <td>...</td>\n",
       "      <td>...</td>\n",
       "    </tr>\n",
       "    <tr>\n",
       "      <th>4578</th>\n",
       "      <td>Zr1</td>\n",
       "      <td>450.0</td>\n",
       "      <td>26.246</td>\n",
       "    </tr>\n",
       "    <tr>\n",
       "      <th>4579</th>\n",
       "      <td>Zr1</td>\n",
       "      <td>400.0</td>\n",
       "      <td>25.935</td>\n",
       "    </tr>\n",
       "    <tr>\n",
       "      <th>4580</th>\n",
       "      <td>Zr1</td>\n",
       "      <td>350.0</td>\n",
       "      <td>25.606</td>\n",
       "    </tr>\n",
       "    <tr>\n",
       "      <th>4581</th>\n",
       "      <td>Zr1</td>\n",
       "      <td>300.0</td>\n",
       "      <td>NaN</td>\n",
       "    </tr>\n",
       "    <tr>\n",
       "      <th>4582</th>\n",
       "      <td>Zr1</td>\n",
       "      <td>298.0</td>\n",
       "      <td>25.202</td>\n",
       "    </tr>\n",
       "  </tbody>\n",
       "</table>\n",
       "<p>4583 rows × 3 columns</p>\n",
       "</div>"
      ],
      "text/plain": [
       "     formula       T       Cp\n",
       "0       B2O3  1400.0  134.306\n",
       "1       B2O3  1300.0  131.294\n",
       "2       B2O3  1200.0  128.072\n",
       "3       B2O3  1100.0  124.516\n",
       "4       B2O3  1000.0  120.625\n",
       "...      ...     ...      ...\n",
       "4578     Zr1   450.0   26.246\n",
       "4579     Zr1   400.0   25.935\n",
       "4580     Zr1   350.0   25.606\n",
       "4581     Zr1   300.0      NaN\n",
       "4582     Zr1   298.0   25.202\n",
       "\n",
       "[4583 rows x 3 columns]"
      ]
     },
     "execution_count": 8,
     "metadata": {},
     "output_type": "execute_result"
    }
   ],
   "source": [
    "df"
   ]
  },
  {
   "cell_type": "markdown",
   "id": "73b6780f-2704-4756-992f-033eb336f9a9",
   "metadata": {},
   "source": [
    "Check for null entries in the dataset"
   ]
  },
  {
   "cell_type": "code",
   "execution_count": 9,
   "id": "02d5fe88-f807-46b5-bfd0-594bfedbf710",
   "metadata": {},
   "outputs": [
    {
     "data": {
      "text/plain": [
       "formula    4\n",
       "T          4\n",
       "Cp         7\n",
       "dtype: int64"
      ]
     },
     "execution_count": 9,
     "metadata": {},
     "output_type": "execute_result"
    }
   ],
   "source": [
    "columns_has_NaN = df.columns[df.isnull().any()]\n",
    "df[columns_has_NaN].isnull().sum()"
   ]
  },
  {
   "cell_type": "markdown",
   "id": "ef738916-c4ed-4176-85e4-51480f9ff07e",
   "metadata": {},
   "source": [
    "Show the null entries in the dataframe"
   ]
  },
  {
   "cell_type": "code",
   "execution_count": 10,
   "id": "20d7ce29-2209-42fa-9c66-c2834db8e39e",
   "metadata": {},
   "outputs": [
    {
     "data": {
      "text/html": [
       "<div>\n",
       "<style scoped>\n",
       "    .dataframe tbody tr th:only-of-type {\n",
       "        vertical-align: middle;\n",
       "    }\n",
       "\n",
       "    .dataframe tbody tr th {\n",
       "        vertical-align: top;\n",
       "    }\n",
       "\n",
       "    .dataframe thead th {\n",
       "        text-align: right;\n",
       "    }\n",
       "</style>\n",
       "<table border=\"1\" class=\"dataframe\">\n",
       "  <thead>\n",
       "    <tr style=\"text-align: right;\">\n",
       "      <th></th>\n",
       "      <th>formula</th>\n",
       "      <th>T</th>\n",
       "      <th>Cp</th>\n",
       "    </tr>\n",
       "  </thead>\n",
       "  <tbody>\n",
       "    <tr>\n",
       "      <th>22</th>\n",
       "      <td>Be1I2</td>\n",
       "      <td>700.0</td>\n",
       "      <td>NaN</td>\n",
       "    </tr>\n",
       "    <tr>\n",
       "      <th>1218</th>\n",
       "      <td>NaN</td>\n",
       "      <td>1300.0</td>\n",
       "      <td>125.353</td>\n",
       "    </tr>\n",
       "    <tr>\n",
       "      <th>1270</th>\n",
       "      <td>NaN</td>\n",
       "      <td>400.0</td>\n",
       "      <td>79.036</td>\n",
       "    </tr>\n",
       "    <tr>\n",
       "      <th>2085</th>\n",
       "      <td>C1N1Na1</td>\n",
       "      <td>400.0</td>\n",
       "      <td>NaN</td>\n",
       "    </tr>\n",
       "    <tr>\n",
       "      <th>2107</th>\n",
       "      <td>Ca1S1</td>\n",
       "      <td>1900.0</td>\n",
       "      <td>NaN</td>\n",
       "    </tr>\n",
       "    <tr>\n",
       "      <th>3278</th>\n",
       "      <td>NaN</td>\n",
       "      <td>NaN</td>\n",
       "      <td>108.787</td>\n",
       "    </tr>\n",
       "    <tr>\n",
       "      <th>3632</th>\n",
       "      <td>H2O2Sr1</td>\n",
       "      <td>NaN</td>\n",
       "      <td>NaN</td>\n",
       "    </tr>\n",
       "    <tr>\n",
       "      <th>3936</th>\n",
       "      <td>NaN</td>\n",
       "      <td>2000.0</td>\n",
       "      <td>183.678</td>\n",
       "    </tr>\n",
       "    <tr>\n",
       "      <th>3948</th>\n",
       "      <td>Nb2O5</td>\n",
       "      <td>900.0</td>\n",
       "      <td>NaN</td>\n",
       "    </tr>\n",
       "    <tr>\n",
       "      <th>3951</th>\n",
       "      <td>Nb2O5</td>\n",
       "      <td>600.0</td>\n",
       "      <td>NaN</td>\n",
       "    </tr>\n",
       "    <tr>\n",
       "      <th>3974</th>\n",
       "      <td>Ni1</td>\n",
       "      <td>NaN</td>\n",
       "      <td>30.794</td>\n",
       "    </tr>\n",
       "    <tr>\n",
       "      <th>4264</th>\n",
       "      <td>O3V2</td>\n",
       "      <td>NaN</td>\n",
       "      <td>179.655</td>\n",
       "    </tr>\n",
       "    <tr>\n",
       "      <th>4581</th>\n",
       "      <td>Zr1</td>\n",
       "      <td>300.0</td>\n",
       "      <td>NaN</td>\n",
       "    </tr>\n",
       "  </tbody>\n",
       "</table>\n",
       "</div>"
      ],
      "text/plain": [
       "      formula       T       Cp\n",
       "22      Be1I2   700.0      NaN\n",
       "1218      NaN  1300.0  125.353\n",
       "1270      NaN   400.0   79.036\n",
       "2085  C1N1Na1   400.0      NaN\n",
       "2107    Ca1S1  1900.0      NaN\n",
       "3278      NaN     NaN  108.787\n",
       "3632  H2O2Sr1     NaN      NaN\n",
       "3936      NaN  2000.0  183.678\n",
       "3948    Nb2O5   900.0      NaN\n",
       "3951    Nb2O5   600.0      NaN\n",
       "3974      Ni1     NaN   30.794\n",
       "4264     O3V2     NaN  179.655\n",
       "4581      Zr1   300.0      NaN"
      ]
     },
     "execution_count": 10,
     "metadata": {},
     "output_type": "execute_result"
    }
   ],
   "source": [
    "is_NaN = df.isnull()\n",
    "row_has_NaN = is_NaN.any(axis=1)\n",
    "df[row_has_NaN]"
   ]
  },
  {
   "cell_type": "code",
   "execution_count": 11,
   "id": "9c0d2184-7e93-4e6a-8bdf-5f9c8dcec7f6",
   "metadata": {},
   "outputs": [],
   "source": [
    "df_remove_NaN = df.dropna(subset=['formula','Cp','T'])"
   ]
  },
  {
   "cell_type": "code",
   "execution_count": 12,
   "id": "b99fb77b-3e46-43dc-9c12-3cbcea688ecf",
   "metadata": {},
   "outputs": [
    {
     "data": {
      "text/plain": [
       "formula    0\n",
       "T          0\n",
       "Cp         0\n",
       "dtype: int64"
      ]
     },
     "execution_count": 12,
     "metadata": {},
     "output_type": "execute_result"
    }
   ],
   "source": [
    "df_remove_NaN.isnull().sum()"
   ]
  },
  {
   "cell_type": "markdown",
   "id": "772c65b2-2274-4040-97b0-4ee06ed2fa0d",
   "metadata": {},
   "source": [
    "Remove unrealistic values from the dataset "
   ]
  },
  {
   "cell_type": "code",
   "execution_count": 13,
   "id": "a53c5d1d-9fad-4df0-aeb5-1c71ef5026bd",
   "metadata": {},
   "outputs": [
    {
     "data": {
      "text/html": [
       "<div>\n",
       "<style scoped>\n",
       "    .dataframe tbody tr th:only-of-type {\n",
       "        vertical-align: middle;\n",
       "    }\n",
       "\n",
       "    .dataframe tbody tr th {\n",
       "        vertical-align: top;\n",
       "    }\n",
       "\n",
       "    .dataframe thead th {\n",
       "        text-align: right;\n",
       "    }\n",
       "</style>\n",
       "<table border=\"1\" class=\"dataframe\">\n",
       "  <thead>\n",
       "    <tr style=\"text-align: right;\">\n",
       "      <th></th>\n",
       "      <th>T</th>\n",
       "      <th>Cp</th>\n",
       "    </tr>\n",
       "  </thead>\n",
       "  <tbody>\n",
       "    <tr>\n",
       "      <th>count</th>\n",
       "      <td>4570.000000</td>\n",
       "      <td>4570.000000</td>\n",
       "    </tr>\n",
       "    <tr>\n",
       "      <th>mean</th>\n",
       "      <td>1171.366355</td>\n",
       "      <td>107.469972</td>\n",
       "    </tr>\n",
       "    <tr>\n",
       "      <th>std</th>\n",
       "      <td>741.422702</td>\n",
       "      <td>67.033623</td>\n",
       "    </tr>\n",
       "    <tr>\n",
       "      <th>min</th>\n",
       "      <td>-2000.000000</td>\n",
       "      <td>-102.215000</td>\n",
       "    </tr>\n",
       "    <tr>\n",
       "      <th>25%</th>\n",
       "      <td>600.000000</td>\n",
       "      <td>61.301500</td>\n",
       "    </tr>\n",
       "    <tr>\n",
       "      <th>50%</th>\n",
       "      <td>1000.000000</td>\n",
       "      <td>89.447500</td>\n",
       "    </tr>\n",
       "    <tr>\n",
       "      <th>75%</th>\n",
       "      <td>1600.000000</td>\n",
       "      <td>135.624250</td>\n",
       "    </tr>\n",
       "    <tr>\n",
       "      <th>max</th>\n",
       "      <td>4700.000000</td>\n",
       "      <td>494.967000</td>\n",
       "    </tr>\n",
       "  </tbody>\n",
       "</table>\n",
       "</div>"
      ],
      "text/plain": [
       "                 T           Cp\n",
       "count  4570.000000  4570.000000\n",
       "mean   1171.366355   107.469972\n",
       "std     741.422702    67.033623\n",
       "min   -2000.000000  -102.215000\n",
       "25%     600.000000    61.301500\n",
       "50%    1000.000000    89.447500\n",
       "75%    1600.000000   135.624250\n",
       "max    4700.000000   494.967000"
      ]
     },
     "execution_count": 13,
     "metadata": {},
     "output_type": "execute_result"
    }
   ],
   "source": [
    "df_remove_NaN.describe()"
   ]
  },
  {
   "cell_type": "code",
   "execution_count": 14,
   "id": "9ab7bf50-950e-4d5d-8193-a2cf075519d2",
   "metadata": {},
   "outputs": [
    {
     "name": "stdout",
     "output_type": "stream",
     "text": [
      "(4564, 3)\n"
     ]
    }
   ],
   "source": [
    "T_filter = (df_remove_NaN['T'] < 0)\n",
    "Cp_filter = (df_remove_NaN['Cp'] < 0)\n",
    "\n",
    "df_remove_NaN_neg_values = df_remove_NaN.loc[(~T_filter) & (~Cp_filter)]\n",
    "print(df_remove_NaN_neg_values.shape)"
   ]
  },
  {
   "cell_type": "markdown",
   "id": "585fec76-6a2e-4ac8-a14e-20300c682f30",
   "metadata": {},
   "source": [
    "# Splitting data \n",
    "\n",
    "The dataset in this exercise contains different formulae, Cp and T for that entry as a function of T. There are lot of repeated formulae and there is a chance that randomly splitting the dataset in train/val/test would lead to leaks of material entries between 3 sets. \n",
    "\n",
    "To avoid this the idea is to generate train/val/test such that all material entries belonging a particular type are included in only that set. Eg: B2O3 entries are only in either train/val/test set. To do so let's first find the unique material entries in the set and sample those without replacement when making the new train/val/test set "
   ]
  },
  {
   "cell_type": "code",
   "execution_count": 15,
   "id": "28712afe-d224-4c55-9c2f-5e1d9b6adf55",
   "metadata": {},
   "outputs": [],
   "source": [
    "df = df_remove_NaN_neg_values.copy()"
   ]
  },
  {
   "cell_type": "code",
   "execution_count": 16,
   "id": "1c23d19d-7fee-49f7-8d56-5f0aea256d55",
   "metadata": {},
   "outputs": [
    {
     "data": {
      "text/html": [
       "<div>\n",
       "<style scoped>\n",
       "    .dataframe tbody tr th:only-of-type {\n",
       "        vertical-align: middle;\n",
       "    }\n",
       "\n",
       "    .dataframe tbody tr th {\n",
       "        vertical-align: top;\n",
       "    }\n",
       "\n",
       "    .dataframe thead th {\n",
       "        text-align: right;\n",
       "    }\n",
       "</style>\n",
       "<table border=\"1\" class=\"dataframe\">\n",
       "  <thead>\n",
       "    <tr style=\"text-align: right;\">\n",
       "      <th></th>\n",
       "      <th>formula</th>\n",
       "      <th>T</th>\n",
       "      <th>Cp</th>\n",
       "    </tr>\n",
       "  </thead>\n",
       "  <tbody>\n",
       "    <tr>\n",
       "      <th>0</th>\n",
       "      <td>B2O3</td>\n",
       "      <td>1400.0</td>\n",
       "      <td>134.306</td>\n",
       "    </tr>\n",
       "    <tr>\n",
       "      <th>1</th>\n",
       "      <td>B2O3</td>\n",
       "      <td>1300.0</td>\n",
       "      <td>131.294</td>\n",
       "    </tr>\n",
       "    <tr>\n",
       "      <th>2</th>\n",
       "      <td>B2O3</td>\n",
       "      <td>1200.0</td>\n",
       "      <td>128.072</td>\n",
       "    </tr>\n",
       "    <tr>\n",
       "      <th>3</th>\n",
       "      <td>B2O3</td>\n",
       "      <td>1100.0</td>\n",
       "      <td>124.516</td>\n",
       "    </tr>\n",
       "    <tr>\n",
       "      <th>4</th>\n",
       "      <td>B2O3</td>\n",
       "      <td>1000.0</td>\n",
       "      <td>120.625</td>\n",
       "    </tr>\n",
       "    <tr>\n",
       "      <th>...</th>\n",
       "      <td>...</td>\n",
       "      <td>...</td>\n",
       "      <td>...</td>\n",
       "    </tr>\n",
       "    <tr>\n",
       "      <th>4577</th>\n",
       "      <td>Zr1</td>\n",
       "      <td>500.0</td>\n",
       "      <td>26.564</td>\n",
       "    </tr>\n",
       "    <tr>\n",
       "      <th>4578</th>\n",
       "      <td>Zr1</td>\n",
       "      <td>450.0</td>\n",
       "      <td>26.246</td>\n",
       "    </tr>\n",
       "    <tr>\n",
       "      <th>4579</th>\n",
       "      <td>Zr1</td>\n",
       "      <td>400.0</td>\n",
       "      <td>25.935</td>\n",
       "    </tr>\n",
       "    <tr>\n",
       "      <th>4580</th>\n",
       "      <td>Zr1</td>\n",
       "      <td>350.0</td>\n",
       "      <td>25.606</td>\n",
       "    </tr>\n",
       "    <tr>\n",
       "      <th>4582</th>\n",
       "      <td>Zr1</td>\n",
       "      <td>298.0</td>\n",
       "      <td>25.202</td>\n",
       "    </tr>\n",
       "  </tbody>\n",
       "</table>\n",
       "<p>4564 rows × 3 columns</p>\n",
       "</div>"
      ],
      "text/plain": [
       "     formula       T       Cp\n",
       "0       B2O3  1400.0  134.306\n",
       "1       B2O3  1300.0  131.294\n",
       "2       B2O3  1200.0  128.072\n",
       "3       B2O3  1100.0  124.516\n",
       "4       B2O3  1000.0  120.625\n",
       "...      ...     ...      ...\n",
       "4577     Zr1   500.0   26.564\n",
       "4578     Zr1   450.0   26.246\n",
       "4579     Zr1   400.0   25.935\n",
       "4580     Zr1   350.0   25.606\n",
       "4582     Zr1   298.0   25.202\n",
       "\n",
       "[4564 rows x 3 columns]"
      ]
     },
     "execution_count": 16,
     "metadata": {},
     "output_type": "execute_result"
    }
   ],
   "source": [
    "df"
   ]
  },
  {
   "cell_type": "code",
   "execution_count": 17,
   "id": "80d3cc3c-4ffa-4229-878c-417de8189582",
   "metadata": {},
   "outputs": [],
   "source": [
    "# Quick and definitely dirty \n",
    "from sklearn.model_selection import train_test_split \n",
    "train_df, test_df = train_test_split(df, test_size=0.4, random_state=42)"
   ]
  },
  {
   "cell_type": "markdown",
   "id": "e241531c-6606-4619-8594-f547fac2fc73",
   "metadata": {},
   "source": [
    "There are going to be couple of materials which are going to be present in training and test both"
   ]
  },
  {
   "cell_type": "code",
   "execution_count": 18,
   "id": "24ae2dd5-4cdb-4ca8-afea-0217591dca9c",
   "metadata": {},
   "outputs": [
    {
     "data": {
      "text/plain": [
       "243"
      ]
     },
     "execution_count": 18,
     "metadata": {},
     "output_type": "execute_result"
    }
   ],
   "source": [
    "# check for intersection \n",
    "train_set = set(train_df['formula'].unique())\n",
    "test_set = set(test_df['formula'].unique())\n",
    "\n",
    "# Check for intersection with val and test\n",
    "len(train_set.intersection(test_set))"
   ]
  },
  {
   "cell_type": "markdown",
   "id": "ad21c68d-8292-40f7-86f2-25fe4d006cc8",
   "metadata": {},
   "source": [
    "Start with unique splitting task"
   ]
  },
  {
   "cell_type": "code",
   "execution_count": 19,
   "id": "53bb537e-4a6e-4d2f-b8eb-2854753e1398",
   "metadata": {},
   "outputs": [
    {
     "data": {
      "text/plain": [
       "244"
      ]
     },
     "execution_count": 19,
     "metadata": {},
     "output_type": "execute_result"
    }
   ],
   "source": [
    "len(df['formula'].unique())"
   ]
  },
  {
   "cell_type": "markdown",
   "id": "3d2e7b0a-f4a7-4833-9e17-07d08ed7cd2e",
   "metadata": {},
   "source": [
    "Out of 244 unique materials entries, 233 are present in both training and test. This is problematic for model building especially since we're going to featurize the materials using solely the composition-based features."
   ]
  },
  {
   "cell_type": "code",
   "execution_count": 20,
   "id": "19f354e7-be9c-4220-9190-da231cb6e1cf",
   "metadata": {},
   "outputs": [
    {
     "data": {
      "image/png": "[encoded data removed]",
      "text/plain": [
       "<Figure size 360x1440 with 1 Axes>"
      ]
     },
     "metadata": {
      "image/png": {
       "height": 1123,
       "width": 362
      },
      "needs_background": "light"
     },
     "output_type": "display_data"
    }
   ],
   "source": [
    "f_entries = df['formula'].value_counts()[:50]\n",
    "\n",
    "fig, ax = plt.subplots(1,1, figsize=(5,20))\n",
    "ax.barh(f_entries.index, f_entries.values)\n",
    "ax.tick_params(axis='x', rotation=90);"
   ]
  },
  {
   "cell_type": "code",
   "execution_count": 21,
   "id": "a25aa3c5-99e1-4515-bcc3-b4bd56518b4f",
   "metadata": {},
   "outputs": [
    {
     "data": {
      "text/plain": [
       "array(['B2O3', 'Be1I2', 'Be1F3Li1', 'Al1Cl4K1', 'Al2Be1O4', 'B2H4O4',\n",
       "       'B2Mg1', 'Be1F2', 'B1H4Na1', 'Br2Ca1'], dtype=object)"
      ]
     },
     "execution_count": 21,
     "metadata": {},
     "output_type": "execute_result"
    }
   ],
   "source": [
    "df['formula'].unique()[:10]"
   ]
  },
  {
   "cell_type": "markdown",
   "id": "37f8b0de-602e-45e3-bdc0-e73c58e07210",
   "metadata": {},
   "source": [
    "Creating train/val/test manually "
   ]
  },
  {
   "cell_type": "code",
   "execution_count": 22,
   "id": "7b6db0e7-23a8-4206-a94d-f35a44295160",
   "metadata": {},
   "outputs": [],
   "source": [
    "unique_entries = df['formula'].unique()"
   ]
  },
  {
   "cell_type": "code",
   "execution_count": 23,
   "id": "724a4905-979a-4a1c-afeb-d1063f8d4327",
   "metadata": {},
   "outputs": [],
   "source": [
    "# Set size for train/val/test set \n",
    "train_set = 0.7\n",
    "val_set = 0.2\n",
    "test_set = 1 - train_set - val_set "
   ]
  },
  {
   "cell_type": "code",
   "execution_count": 24,
   "id": "87f58361-23b2-46f4-8cf6-bf39f39e2e61",
   "metadata": {},
   "outputs": [],
   "source": [
    "num_entries_train = int( train_set * len(unique_entries) )\n",
    "num_entries_val = int( val_set * len(unique_entries) )\n",
    "num_entries_test = int( test_set * len(unique_entries) )"
   ]
  },
  {
   "cell_type": "code",
   "execution_count": 25,
   "id": "56b72db5-50ff-4c6a-ba2a-168acbda46cd",
   "metadata": {},
   "outputs": [
    {
     "name": "stdout",
     "output_type": "stream",
     "text": [
      "170 48 24\n"
     ]
    }
   ],
   "source": [
    "print(num_entries_train, num_entries_val, num_entries_test)"
   ]
  },
  {
   "cell_type": "code",
   "execution_count": 26,
   "id": "c371b22e-4529-4028-a419-68487aec1846",
   "metadata": {},
   "outputs": [],
   "source": [
    "# Train formula \n",
    "train_formulae = np.random.choice(unique_entries, num_entries_train, replace=False)\n",
    "unique_entries_minus_train = [i for i in unique_entries if i not in train_formulae]\n",
    "\n",
    "# Val formula \n",
    "val_formulae = np.random.choice(unique_entries_minus_train, num_entries_val, replace=False)\n",
    "unique_entries_minus_train_val = [i for i in unique_entries_minus_train if i not in val_formulae]\n",
    "\n",
    "# Test formula \n",
    "test_formulae = unique_entries_minus_train_val.copy()"
   ]
  },
  {
   "cell_type": "code",
   "execution_count": 27,
   "id": "4a9e92db-b0b0-4ac4-8f63-2ecb255ee0ae",
   "metadata": {},
   "outputs": [
    {
     "name": "stdout",
     "output_type": "stream",
     "text": [
      "170 48 26\n"
     ]
    }
   ],
   "source": [
    "print(len(train_formulae), len(val_formulae), len(test_formulae))"
   ]
  },
  {
   "cell_type": "code",
   "execution_count": 28,
   "id": "54c9fa76-fd6c-4458-aab0-0afcd312dc97",
   "metadata": {},
   "outputs": [],
   "source": [
    "train_points = df.loc[ df['formula'].isin(train_formulae) ]\n",
    "val_points = df.loc[ df['formula'].isin(val_formulae) ]\n",
    "test_points = df.loc[ df['formula'].isin(test_formulae) ]"
   ]
  },
  {
   "cell_type": "code",
   "execution_count": 29,
   "id": "763f1d4f-9936-4676-bd40-6e80ce37c28f",
   "metadata": {},
   "outputs": [
    {
     "name": "stdout",
     "output_type": "stream",
     "text": [
      "(3131, 3) (944, 3) (489, 3)\n"
     ]
    }
   ],
   "source": [
    "print(train_points.shape, val_points.shape, test_points.shape)"
   ]
  },
  {
   "cell_type": "code",
   "execution_count": 30,
   "id": "dad16d15-1d1b-40dc-91b7-b036c8bbeeeb",
   "metadata": {},
   "outputs": [
    {
     "name": "stdout",
     "output_type": "stream",
     "text": [
      "0 0\n"
     ]
    }
   ],
   "source": [
    "# Quick sanity check of the method \n",
    "train_set = set(train_points['formula'].unique())\n",
    "val_set = set(val_points['formula'].unique())\n",
    "test_set = set(test_points['formula'].unique())\n",
    "\n",
    "# Check for intersection with val and test\n",
    "print(len(train_set.intersection(val_set)), len(train_set.intersection(test_set)))"
   ]
  },
  {
   "cell_type": "markdown",
   "id": "9c96b16f-7c87-4dc9-8a12-01557a55116d",
   "metadata": {},
   "source": [
    "# Model fitting \n",
    "\n",
    "## Featurization\n",
    "\n",
    "Composition-based feature vector (CBFV) is used to describe each mateiral entry (eg: Cr<sub>2</sub>O<sub>3</sub>) with set of elemental and composition based numbers. "
   ]
  },
  {
   "cell_type": "code",
   "execution_count": 31,
   "id": "60bd6953-51ac-477c-a453-652c96a5cc2a",
   "metadata": {},
   "outputs": [],
   "source": [
    "# Import the package and the generate_features function\n",
    "from cbfv.composition import generate_features"
   ]
  },
  {
   "cell_type": "code",
   "execution_count": 32,
   "id": "60c0ac68-2b0a-438d-a399-04b0176cd1a5",
   "metadata": {},
   "outputs": [
    {
     "name": "stderr",
     "output_type": "stream",
     "text": [
      "/Users/pghaneka/miniconda3/envs/torch_38/lib/python3.7/site-packages/ipykernel_launcher.py:2: SettingWithCopyWarning: \n",
      "A value is trying to be set on a copy of a slice from a DataFrame.\n",
      "Try using .loc[row_indexer,col_indexer] = value instead\n",
      "\n",
      "See the caveats in the documentation: https://pandas.pydata.org/pandas-docs/stable/user_guide/indexing.html#returning-a-view-versus-a-copy\n",
      "  \n",
      "/Users/pghaneka/miniconda3/envs/torch_38/lib/python3.7/site-packages/ipykernel_launcher.py:3: SettingWithCopyWarning: \n",
      "A value is trying to be set on a copy of a slice from a DataFrame.\n",
      "Try using .loc[row_indexer,col_indexer] = value instead\n",
      "\n",
      "See the caveats in the documentation: https://pandas.pydata.org/pandas-docs/stable/user_guide/indexing.html#returning-a-view-versus-a-copy\n",
      "  This is separate from the ipykernel package so we can avoid doing imports until\n",
      "/Users/pghaneka/miniconda3/envs/torch_38/lib/python3.7/site-packages/ipykernel_launcher.py:4: SettingWithCopyWarning: \n",
      "A value is trying to be set on a copy of a slice from a DataFrame.\n",
      "Try using .loc[row_indexer,col_indexer] = value instead\n",
      "\n",
      "See the caveats in the documentation: https://pandas.pydata.org/pandas-docs/stable/user_guide/indexing.html#returning-a-view-versus-a-copy\n",
      "  after removing the cwd from sys.path.\n"
     ]
    }
   ],
   "source": [
    "rename_columns = {'Cp':'target'}\n",
    "train_points['Type'] = 'Train'\n",
    "val_points['Type'] = 'Val'\n",
    "test_points['Type'] = 'Test'\n",
    "total_data = pd.concat([train_points, val_points, test_points], ignore_index=True);\n",
    "\n",
    "total_data = total_data.rename(columns=rename_columns)"
   ]
  },
  {
   "cell_type": "code",
   "execution_count": 33,
   "id": "4e716f59-5e1e-4cb0-8841-11838557f8cf",
   "metadata": {},
   "outputs": [
    {
     "data": {
      "text/html": [
       "<div>\n",
       "<style scoped>\n",
       "    .dataframe tbody tr th:only-of-type {\n",
       "        vertical-align: middle;\n",
       "    }\n",
       "\n",
       "    .dataframe tbody tr th {\n",
       "        vertical-align: top;\n",
       "    }\n",
       "\n",
       "    .dataframe thead th {\n",
       "        text-align: right;\n",
       "    }\n",
       "</style>\n",
       "<table border=\"1\" class=\"dataframe\">\n",
       "  <thead>\n",
       "    <tr style=\"text-align: right;\">\n",
       "      <th></th>\n",
       "      <th>formula</th>\n",
       "      <th>T</th>\n",
       "      <th>target</th>\n",
       "      <th>Type</th>\n",
       "    </tr>\n",
       "  </thead>\n",
       "  <tbody>\n",
       "    <tr>\n",
       "      <th>3833</th>\n",
       "      <td>I1K1</td>\n",
       "      <td>1400.0</td>\n",
       "      <td>74.601</td>\n",
       "      <td>Val</td>\n",
       "    </tr>\n",
       "    <tr>\n",
       "      <th>4215</th>\n",
       "      <td>Cr2O3</td>\n",
       "      <td>298.0</td>\n",
       "      <td>120.366</td>\n",
       "      <td>Test</td>\n",
       "    </tr>\n",
       "    <tr>\n",
       "      <th>1290</th>\n",
       "      <td>I2Mo1</td>\n",
       "      <td>1000.0</td>\n",
       "      <td>91.458</td>\n",
       "      <td>Train</td>\n",
       "    </tr>\n",
       "    <tr>\n",
       "      <th>1578</th>\n",
       "      <td>I2Zr1</td>\n",
       "      <td>700.0</td>\n",
       "      <td>97.445</td>\n",
       "      <td>Train</td>\n",
       "    </tr>\n",
       "    <tr>\n",
       "      <th>2379</th>\n",
       "      <td>Na2O5Si2</td>\n",
       "      <td>1700.0</td>\n",
       "      <td>292.880</td>\n",
       "      <td>Train</td>\n",
       "    </tr>\n",
       "  </tbody>\n",
       "</table>\n",
       "</div>"
      ],
      "text/plain": [
       "       formula       T   target   Type\n",
       "3833      I1K1  1400.0   74.601    Val\n",
       "4215     Cr2O3   298.0  120.366   Test\n",
       "1290     I2Mo1  1000.0   91.458  Train\n",
       "1578     I2Zr1   700.0   97.445  Train\n",
       "2379  Na2O5Si2  1700.0  292.880  Train"
      ]
     },
     "execution_count": 33,
     "metadata": {},
     "output_type": "execute_result"
    }
   ],
   "source": [
    "total_data.sample(5)"
   ]
  },
  {
   "cell_type": "code",
   "execution_count": 34,
   "id": "9ac0bada-ea1a-400b-91a3-ee20bba92cd6",
   "metadata": {},
   "outputs": [],
   "source": [
    "train_df = total_data.loc[ total_data['Type'] == 'Train' ].drop(columns=['Type']).reset_index(drop=True)\n",
    "val_df = total_data.loc[ total_data['Type'] == 'Val' ].drop(columns=['Type']).reset_index(drop=True)\n",
    "test_df = total_data.loc[ total_data['Type'] == 'Test' ].drop(columns=['Type']).reset_index(drop=True)"
   ]
  },
  {
   "cell_type": "markdown",
   "id": "3f357508-502f-4a07-940b-e1a638caec46",
   "metadata": {},
   "source": [
    "### Sub-sampling \n",
    "\n",
    "Only some points from the original training data `train_df` are used to ensure the analysis is tractable"
   ]
  },
  {
   "cell_type": "code",
   "execution_count": 35,
   "id": "79489718-ce5f-4061-bd31-80d5607d51e3",
   "metadata": {},
   "outputs": [
    {
     "data": {
      "text/plain": [
       "(3131, 3)"
      ]
     },
     "execution_count": 35,
     "metadata": {},
     "output_type": "execute_result"
    }
   ],
   "source": [
    "train_df.shape"
   ]
  },
  {
   "cell_type": "code",
   "execution_count": 36,
   "id": "38d9dbe3-476b-4aae-8d58-079faecd4d42",
   "metadata": {},
   "outputs": [
    {
     "data": {
      "text/plain": [
       "(1000, 3)"
      ]
     },
     "execution_count": 36,
     "metadata": {},
     "output_type": "execute_result"
    }
   ],
   "source": [
    "train_df = train_df.sample(n=1000, random_state=42)\n",
    "train_df.shape"
   ]
  },
  {
   "cell_type": "code",
   "execution_count": 37,
   "id": "2203097a-dced-40f0-9d91-031b4cb6a5ed",
   "metadata": {},
   "outputs": [
    {
     "name": "stderr",
     "output_type": "stream",
     "text": [
      "Processing Input Data: 100%|██████████| 1000/1000 [00:00<00:00, 26074.09it/s]\n",
      "Assigning Features...:   0%|          | 0/1000 [00:00<?, ?it/s]"
     ]
    },
    {
     "name": "stdout",
     "output_type": "stream",
     "text": [
      "\tFeaturizing Compositions...\n"
     ]
    },
    {
     "name": "stderr",
     "output_type": "stream",
     "text": [
      "Assigning Features...: 100%|██████████| 1000/1000 [00:00<00:00, 13526.13it/s]"
     ]
    },
    {
     "name": "stdout",
     "output_type": "stream",
     "text": [
      "\tCreating Pandas Objects...\n"
     ]
    },
    {
     "name": "stderr",
     "output_type": "stream",
     "text": [
      "\n",
      "Processing Input Data: 100%|██████████| 944/944 [00:00<00:00, 28169.72it/s]\n",
      "Assigning Features...:   0%|          | 0/944 [00:00<?, ?it/s]"
     ]
    },
    {
     "name": "stdout",
     "output_type": "stream",
     "text": [
      "\tFeaturizing Compositions...\n"
     ]
    },
    {
     "name": "stderr",
     "output_type": "stream",
     "text": [
      "Assigning Features...: 100%|██████████| 944/944 [00:00<00:00, 14855.23it/s]\n"
     ]
    },
    {
     "name": "stdout",
     "output_type": "stream",
     "text": [
      "\tCreating Pandas Objects...\n"
     ]
    },
    {
     "name": "stderr",
     "output_type": "stream",
     "text": [
      "Processing Input Data: 100%|██████████| 489/489 [00:00<00:00, 25491.43it/s]\n",
      "Assigning Features...: 100%|██████████| 489/489 [00:00<00:00, 12626.83it/s]\n"
     ]
    },
    {
     "name": "stdout",
     "output_type": "stream",
     "text": [
      "\tFeaturizing Compositions...\n",
      "\tCreating Pandas Objects...\n"
     ]
    }
   ],
   "source": [
    "# Generate features \n",
    "X_unscaled_train, y_train, formulae_entry_train, skipped_entry = generate_features(train_df, elem_prop='oliynyk', drop_duplicates=False, extend_features=True, sum_feat=True)\n",
    "X_unscaled_val, y_val, formulae_entry_val, skipped_entry = generate_features(val_df, elem_prop='oliynyk', drop_duplicates=False, extend_features=True, sum_feat=True)\n",
    "X_unscaled_test, y_test, formulae_entry_test, skipped_entry = generate_features(test_df, elem_prop='oliynyk', drop_duplicates=False, extend_features=True, sum_feat=True)"
   ]
  },
  {
   "cell_type": "code",
   "execution_count": 38,
   "id": "52227e10-ddee-4c32-99a8-166db6173dca",
   "metadata": {},
   "outputs": [
    {
     "data": {
      "text/html": [
       "<div>\n",
       "<style scoped>\n",
       "    .dataframe tbody tr th:only-of-type {\n",
       "        vertical-align: middle;\n",
       "    }\n",
       "\n",
       "    .dataframe tbody tr th {\n",
       "        vertical-align: top;\n",
       "    }\n",
       "\n",
       "    .dataframe thead th {\n",
       "        text-align: right;\n",
       "    }\n",
       "</style>\n",
       "<table border=\"1\" class=\"dataframe\">\n",
       "  <thead>\n",
       "    <tr style=\"text-align: right;\">\n",
       "      <th></th>\n",
       "      <th>sum_Atomic_Number</th>\n",
       "      <th>sum_Atomic_Weight</th>\n",
       "      <th>sum_Period</th>\n",
       "      <th>sum_group</th>\n",
       "      <th>sum_families</th>\n",
       "      <th>sum_Metal</th>\n",
       "      <th>sum_Nonmetal</th>\n",
       "      <th>sum_Metalliod</th>\n",
       "      <th>sum_Mendeleev_Number</th>\n",
       "      <th>sum_l_quantum_number</th>\n",
       "      <th>...</th>\n",
       "      <th>range_Melting_point_(K)</th>\n",
       "      <th>range_Boiling_Point_(K)</th>\n",
       "      <th>range_Density_(g/mL)</th>\n",
       "      <th>range_specific_heat_(J/g_K)_</th>\n",
       "      <th>range_heat_of_fusion_(kJ/mol)_</th>\n",
       "      <th>range_heat_of_vaporization_(kJ/mol)_</th>\n",
       "      <th>range_thermal_conductivity_(W/(m_K))_</th>\n",
       "      <th>range_heat_atomization(kJ/mol)</th>\n",
       "      <th>range_Cohesive_energy</th>\n",
       "      <th>T</th>\n",
       "    </tr>\n",
       "  </thead>\n",
       "  <tbody>\n",
       "    <tr>\n",
       "      <th>0</th>\n",
       "      <td>64.0</td>\n",
       "      <td>139.938350</td>\n",
       "      <td>10.5</td>\n",
       "      <td>50.0</td>\n",
       "      <td>23.25</td>\n",
       "      <td>1.0</td>\n",
       "      <td>2.75</td>\n",
       "      <td>0.0</td>\n",
       "      <td>289.25</td>\n",
       "      <td>4.75</td>\n",
       "      <td>...</td>\n",
       "      <td>2009873.29</td>\n",
       "      <td>5.748006e+06</td>\n",
       "      <td>26.002708</td>\n",
       "      <td>0.112225</td>\n",
       "      <td>252.450947</td>\n",
       "      <td>88384.346755</td>\n",
       "      <td>4759.155119</td>\n",
       "      <td>41820.25</td>\n",
       "      <td>4.410000</td>\n",
       "      <td>1100.0</td>\n",
       "    </tr>\n",
       "    <tr>\n",
       "      <th>1</th>\n",
       "      <td>58.0</td>\n",
       "      <td>119.979000</td>\n",
       "      <td>10.0</td>\n",
       "      <td>40.0</td>\n",
       "      <td>18.00</td>\n",
       "      <td>1.0</td>\n",
       "      <td>2.00</td>\n",
       "      <td>0.0</td>\n",
       "      <td>231.00</td>\n",
       "      <td>4.00</td>\n",
       "      <td>...</td>\n",
       "      <td>505663.21</td>\n",
       "      <td>1.328602e+06</td>\n",
       "      <td>8.381025</td>\n",
       "      <td>0.018225</td>\n",
       "      <td>36.496702</td>\n",
       "      <td>28866.010000</td>\n",
       "      <td>1597.241190</td>\n",
       "      <td>4830.25</td>\n",
       "      <td>0.511225</td>\n",
       "      <td>1100.0</td>\n",
       "    </tr>\n",
       "    <tr>\n",
       "      <th>2</th>\n",
       "      <td>27.0</td>\n",
       "      <td>58.691000</td>\n",
       "      <td>6.0</td>\n",
       "      <td>17.0</td>\n",
       "      <td>10.00</td>\n",
       "      <td>1.0</td>\n",
       "      <td>0.00</td>\n",
       "      <td>1.0</td>\n",
       "      <td>115.00</td>\n",
       "      <td>3.00</td>\n",
       "      <td>...</td>\n",
       "      <td>43890.25</td>\n",
       "      <td>1.277526e+05</td>\n",
       "      <td>1.210000</td>\n",
       "      <td>0.062500</td>\n",
       "      <td>301.890625</td>\n",
       "      <td>1179.922500</td>\n",
       "      <td>6.502500</td>\n",
       "      <td>2652.25</td>\n",
       "      <td>0.230400</td>\n",
       "      <td>3400.0</td>\n",
       "    </tr>\n",
       "    <tr>\n",
       "      <th>3</th>\n",
       "      <td>36.0</td>\n",
       "      <td>72.144000</td>\n",
       "      <td>7.0</td>\n",
       "      <td>18.0</td>\n",
       "      <td>9.00</td>\n",
       "      <td>1.0</td>\n",
       "      <td>1.00</td>\n",
       "      <td>0.0</td>\n",
       "      <td>95.00</td>\n",
       "      <td>1.00</td>\n",
       "      <td>...</td>\n",
       "      <td>131841.61</td>\n",
       "      <td>2.700361e+05</td>\n",
       "      <td>0.067600</td>\n",
       "      <td>0.001600</td>\n",
       "      <td>11.636627</td>\n",
       "      <td>5148.062500</td>\n",
       "      <td>9973.118090</td>\n",
       "      <td>2550.25</td>\n",
       "      <td>0.255025</td>\n",
       "      <td>2900.0</td>\n",
       "    </tr>\n",
       "    <tr>\n",
       "      <th>4</th>\n",
       "      <td>80.0</td>\n",
       "      <td>162.954986</td>\n",
       "      <td>19.0</td>\n",
       "      <td>120.0</td>\n",
       "      <td>56.00</td>\n",
       "      <td>0.0</td>\n",
       "      <td>8.00</td>\n",
       "      <td>0.0</td>\n",
       "      <td>659.00</td>\n",
       "      <td>8.00</td>\n",
       "      <td>...</td>\n",
       "      <td>16129.00</td>\n",
       "      <td>5.659641e+04</td>\n",
       "      <td>0.826963</td>\n",
       "      <td>0.018225</td>\n",
       "      <td>0.021993</td>\n",
       "      <td>21.791158</td>\n",
       "      <td>0.010922</td>\n",
       "      <td>6241.00</td>\n",
       "      <td>0.555025</td>\n",
       "      <td>1300.0</td>\n",
       "    </tr>\n",
       "  </tbody>\n",
       "</table>\n",
       "<p>5 rows × 177 columns</p>\n",
       "</div>"
      ],
      "text/plain": [
       "   sum_Atomic_Number  sum_Atomic_Weight  sum_Period  sum_group  sum_families  \\\n",
       "0               64.0         139.938350        10.5       50.0         23.25   \n",
       "1               58.0         119.979000        10.0       40.0         18.00   \n",
       "2               27.0          58.691000         6.0       17.0         10.00   \n",
       "3               36.0          72.144000         7.0       18.0          9.00   \n",
       "4               80.0         162.954986        19.0      120.0         56.00   \n",
       "\n",
       "   sum_Metal  sum_Nonmetal  sum_Metalliod  sum_Mendeleev_Number  \\\n",
       "0        1.0          2.75            0.0                289.25   \n",
       "1        1.0          2.00            0.0                231.00   \n",
       "2        1.0          0.00            1.0                115.00   \n",
       "3        1.0          1.00            0.0                 95.00   \n",
       "4        0.0          8.00            0.0                659.00   \n",
       "\n",
       "   sum_l_quantum_number  ...  range_Melting_point_(K)  \\\n",
       "0                  4.75  ...               2009873.29   \n",
       "1                  4.00  ...                505663.21   \n",
       "2                  3.00  ...                 43890.25   \n",
       "3                  1.00  ...                131841.61   \n",
       "4                  8.00  ...                 16129.00   \n",
       "\n",
       "   range_Boiling_Point_(K)  range_Density_(g/mL)  \\\n",
       "0             5.748006e+06             26.002708   \n",
       "1             1.328602e+06              8.381025   \n",
       "2             1.277526e+05              1.210000   \n",
       "3             2.700361e+05              0.067600   \n",
       "4             5.659641e+04              0.826963   \n",
       "\n",
       "   range_specific_heat_(J/g_K)_  range_heat_of_fusion_(kJ/mol)_  \\\n",
       "0                      0.112225                      252.450947   \n",
       "1                      0.018225                       36.496702   \n",
       "2                      0.062500                      301.890625   \n",
       "3                      0.001600                       11.636627   \n",
       "4                      0.018225                        0.021993   \n",
       "\n",
       "   range_heat_of_vaporization_(kJ/mol)_  \\\n",
       "0                          88384.346755   \n",
       "1                          28866.010000   \n",
       "2                           1179.922500   \n",
       "3                           5148.062500   \n",
       "4                             21.791158   \n",
       "\n",
       "   range_thermal_conductivity_(W/(m_K))_  range_heat_atomization(kJ/mol)  \\\n",
       "0                            4759.155119                        41820.25   \n",
       "1                            1597.241190                         4830.25   \n",
       "2                               6.502500                         2652.25   \n",
       "3                            9973.118090                         2550.25   \n",
       "4                               0.010922                         6241.00   \n",
       "\n",
       "   range_Cohesive_energy       T  \n",
       "0               4.410000  1100.0  \n",
       "1               0.511225  1100.0  \n",
       "2               0.230400  3400.0  \n",
       "3               0.255025  2900.0  \n",
       "4               0.555025  1300.0  \n",
       "\n",
       "[5 rows x 177 columns]"
      ]
     },
     "execution_count": 38,
     "metadata": {},
     "output_type": "execute_result"
    }
   ],
   "source": [
    "X_unscaled_train.head(5)"
   ]
  },
  {
   "cell_type": "code",
   "execution_count": 39,
   "id": "f6b99342-d075-4f7d-b9e4-466a7333b9c4",
   "metadata": {},
   "outputs": [
    {
     "data": {
      "text/plain": [
       "0    Mo1O2.750\n",
       "1        Fe1S2\n",
       "2        B1Ti1\n",
       "3        Ca1S1\n",
       "4         N5P3\n",
       "Name: formula, dtype: object"
      ]
     },
     "execution_count": 39,
     "metadata": {},
     "output_type": "execute_result"
    }
   ],
   "source": [
    "formulae_entry_train.head(5)"
   ]
  },
  {
   "cell_type": "code",
   "execution_count": 40,
   "id": "2045bceb-c8bd-4e95-a5ca-36a90c4c27e5",
   "metadata": {},
   "outputs": [
    {
     "data": {
      "text/plain": [
       "(1000, 177)"
      ]
     },
     "execution_count": 40,
     "metadata": {},
     "output_type": "execute_result"
    }
   ],
   "source": [
    "X_unscaled_train.shape"
   ]
  },
  {
   "cell_type": "markdown",
   "id": "6544c633-9227-46ee-9ebe-c656b36eaf0d",
   "metadata": {},
   "source": [
    "## Feature scaling"
   ]
  },
  {
   "cell_type": "code",
   "execution_count": 41,
   "id": "ebed31a6-3c4d-4564-a1b1-86c0cbf73da3",
   "metadata": {},
   "outputs": [
    {
     "data": {
      "text/plain": [
       "Index(['sum_Atomic_Number', 'sum_Atomic_Weight', 'sum_Period', 'sum_group',\n",
       "       'sum_families', 'sum_Metal', 'sum_Nonmetal', 'sum_Metalliod',\n",
       "       'sum_Mendeleev_Number', 'sum_l_quantum_number',\n",
       "       ...\n",
       "       'range_Melting_point_(K)', 'range_Boiling_Point_(K)',\n",
       "       'range_Density_(g/mL)', 'range_specific_heat_(J/g_K)_',\n",
       "       'range_heat_of_fusion_(kJ/mol)_',\n",
       "       'range_heat_of_vaporization_(kJ/mol)_',\n",
       "       'range_thermal_conductivity_(W/(m_K))_',\n",
       "       'range_heat_atomization(kJ/mol)', 'range_Cohesive_energy', 'T'],\n",
       "      dtype='object', length=177)"
      ]
     },
     "execution_count": 41,
     "metadata": {},
     "output_type": "execute_result"
    }
   ],
   "source": [
    "X_unscaled_train.columns"
   ]
  },
  {
   "cell_type": "code",
   "execution_count": 42,
   "id": "63be394b-42e8-4962-864a-303dc8cdeba1",
   "metadata": {},
   "outputs": [
    {
     "data": {
      "text/html": [
       "<div>\n",
       "<style scoped>\n",
       "    .dataframe tbody tr th:only-of-type {\n",
       "        vertical-align: middle;\n",
       "    }\n",
       "\n",
       "    .dataframe tbody tr th {\n",
       "        vertical-align: top;\n",
       "    }\n",
       "\n",
       "    .dataframe thead th {\n",
       "        text-align: right;\n",
       "    }\n",
       "</style>\n",
       "<table border=\"1\" class=\"dataframe\">\n",
       "  <thead>\n",
       "    <tr style=\"text-align: right;\">\n",
       "      <th></th>\n",
       "      <th>sum_Atomic_Number</th>\n",
       "      <th>sum_Atomic_Weight</th>\n",
       "      <th>sum_Period</th>\n",
       "      <th>sum_group</th>\n",
       "      <th>sum_families</th>\n",
       "      <th>sum_Metal</th>\n",
       "      <th>sum_Nonmetal</th>\n",
       "      <th>sum_Metalliod</th>\n",
       "      <th>sum_Mendeleev_Number</th>\n",
       "      <th>sum_l_quantum_number</th>\n",
       "      <th>...</th>\n",
       "      <th>range_Melting_point_(K)</th>\n",
       "      <th>range_Boiling_Point_(K)</th>\n",
       "      <th>range_Density_(g/mL)</th>\n",
       "      <th>range_specific_heat_(J/g_K)_</th>\n",
       "      <th>range_heat_of_fusion_(kJ/mol)_</th>\n",
       "      <th>range_heat_of_vaporization_(kJ/mol)_</th>\n",
       "      <th>range_thermal_conductivity_(W/(m_K))_</th>\n",
       "      <th>range_heat_atomization(kJ/mol)</th>\n",
       "      <th>range_Cohesive_energy</th>\n",
       "      <th>T</th>\n",
       "    </tr>\n",
       "  </thead>\n",
       "  <tbody>\n",
       "    <tr>\n",
       "      <th>count</th>\n",
       "      <td>1000.00</td>\n",
       "      <td>1000.00</td>\n",
       "      <td>1000.00</td>\n",
       "      <td>1000.00</td>\n",
       "      <td>1000.00</td>\n",
       "      <td>1000.00</td>\n",
       "      <td>1000.00</td>\n",
       "      <td>1000.00</td>\n",
       "      <td>1000.00</td>\n",
       "      <td>1000.00</td>\n",
       "      <td>...</td>\n",
       "      <td>1000.00</td>\n",
       "      <td>1000.00</td>\n",
       "      <td>1000.00</td>\n",
       "      <td>1000.00</td>\n",
       "      <td>1000.00</td>\n",
       "      <td>1000.00</td>\n",
       "      <td>1000.00</td>\n",
       "      <td>1000.00</td>\n",
       "      <td>1000.00</td>\n",
       "      <td>1000.00</td>\n",
       "    </tr>\n",
       "    <tr>\n",
       "      <th>mean</th>\n",
       "      <td>66.57</td>\n",
       "      <td>147.21</td>\n",
       "      <td>11.28</td>\n",
       "      <td>46.27</td>\n",
       "      <td>23.19</td>\n",
       "      <td>1.28</td>\n",
       "      <td>2.64</td>\n",
       "      <td>0.08</td>\n",
       "      <td>292.01</td>\n",
       "      <td>3.73</td>\n",
       "      <td>...</td>\n",
       "      <td>579042.62</td>\n",
       "      <td>1803422.99</td>\n",
       "      <td>8.45</td>\n",
       "      <td>3.34</td>\n",
       "      <td>181.31</td>\n",
       "      <td>28201.58</td>\n",
       "      <td>3305.55</td>\n",
       "      <td>14959.38</td>\n",
       "      <td>1.70</td>\n",
       "      <td>1195.38</td>\n",
       "    </tr>\n",
       "    <tr>\n",
       "      <th>std</th>\n",
       "      <td>48.94</td>\n",
       "      <td>116.53</td>\n",
       "      <td>6.33</td>\n",
       "      <td>36.29</td>\n",
       "      <td>16.68</td>\n",
       "      <td>0.76</td>\n",
       "      <td>2.32</td>\n",
       "      <td>0.31</td>\n",
       "      <td>210.15</td>\n",
       "      <td>2.59</td>\n",
       "      <td>...</td>\n",
       "      <td>750702.41</td>\n",
       "      <td>2017584.79</td>\n",
       "      <td>17.52</td>\n",
       "      <td>10.61</td>\n",
       "      <td>413.13</td>\n",
       "      <td>36421.94</td>\n",
       "      <td>4474.33</td>\n",
       "      <td>22191.74</td>\n",
       "      <td>2.45</td>\n",
       "      <td>760.90</td>\n",
       "    </tr>\n",
       "    <tr>\n",
       "      <th>min</th>\n",
       "      <td>4.00</td>\n",
       "      <td>7.95</td>\n",
       "      <td>2.00</td>\n",
       "      <td>1.00</td>\n",
       "      <td>1.00</td>\n",
       "      <td>0.00</td>\n",
       "      <td>0.00</td>\n",
       "      <td>0.00</td>\n",
       "      <td>3.00</td>\n",
       "      <td>0.00</td>\n",
       "      <td>...</td>\n",
       "      <td>0.00</td>\n",
       "      <td>0.00</td>\n",
       "      <td>0.00</td>\n",
       "      <td>0.00</td>\n",
       "      <td>0.00</td>\n",
       "      <td>0.00</td>\n",
       "      <td>0.00</td>\n",
       "      <td>0.00</td>\n",
       "      <td>0.00</td>\n",
       "      <td>0.00</td>\n",
       "    </tr>\n",
       "    <tr>\n",
       "      <th>25%</th>\n",
       "      <td>31.00</td>\n",
       "      <td>65.12</td>\n",
       "      <td>6.00</td>\n",
       "      <td>18.00</td>\n",
       "      <td>10.00</td>\n",
       "      <td>1.00</td>\n",
       "      <td>1.00</td>\n",
       "      <td>0.00</td>\n",
       "      <td>126.00</td>\n",
       "      <td>2.00</td>\n",
       "      <td>...</td>\n",
       "      <td>20619.03</td>\n",
       "      <td>199191.78</td>\n",
       "      <td>0.23</td>\n",
       "      <td>0.01</td>\n",
       "      <td>1.88</td>\n",
       "      <td>1451.91</td>\n",
       "      <td>119.61</td>\n",
       "      <td>729.00</td>\n",
       "      <td>0.09</td>\n",
       "      <td>600.00</td>\n",
       "    </tr>\n",
       "    <tr>\n",
       "      <th>50%</th>\n",
       "      <td>55.00</td>\n",
       "      <td>118.00</td>\n",
       "      <td>10.00</td>\n",
       "      <td>36.00</td>\n",
       "      <td>20.00</td>\n",
       "      <td>1.00</td>\n",
       "      <td>2.00</td>\n",
       "      <td>0.00</td>\n",
       "      <td>247.00</td>\n",
       "      <td>3.00</td>\n",
       "      <td>...</td>\n",
       "      <td>222030.88</td>\n",
       "      <td>1169819.78</td>\n",
       "      <td>1.25</td>\n",
       "      <td>0.05</td>\n",
       "      <td>20.92</td>\n",
       "      <td>18260.29</td>\n",
       "      <td>1607.65</td>\n",
       "      <td>5312.67</td>\n",
       "      <td>0.63</td>\n",
       "      <td>1054.00</td>\n",
       "    </tr>\n",
       "    <tr>\n",
       "      <th>75%</th>\n",
       "      <td>86.00</td>\n",
       "      <td>182.15</td>\n",
       "      <td>15.00</td>\n",
       "      <td>72.00</td>\n",
       "      <td>36.00</td>\n",
       "      <td>2.00</td>\n",
       "      <td>4.00</td>\n",
       "      <td>0.00</td>\n",
       "      <td>442.00</td>\n",
       "      <td>5.00</td>\n",
       "      <td>...</td>\n",
       "      <td>882096.64</td>\n",
       "      <td>3010225.00</td>\n",
       "      <td>9.33</td>\n",
       "      <td>0.12</td>\n",
       "      <td>171.31</td>\n",
       "      <td>40317.25</td>\n",
       "      <td>4968.28</td>\n",
       "      <td>18080.67</td>\n",
       "      <td>2.08</td>\n",
       "      <td>1600.00</td>\n",
       "    </tr>\n",
       "    <tr>\n",
       "      <th>max</th>\n",
       "      <td>278.00</td>\n",
       "      <td>685.60</td>\n",
       "      <td>41.00</td>\n",
       "      <td>256.00</td>\n",
       "      <td>113.00</td>\n",
       "      <td>4.00</td>\n",
       "      <td>15.00</td>\n",
       "      <td>2.00</td>\n",
       "      <td>1418.00</td>\n",
       "      <td>19.00</td>\n",
       "      <td>...</td>\n",
       "      <td>3291321.64</td>\n",
       "      <td>8535162.25</td>\n",
       "      <td>93.11</td>\n",
       "      <td>44.12</td>\n",
       "      <td>2391.45</td>\n",
       "      <td>168342.03</td>\n",
       "      <td>40198.47</td>\n",
       "      <td>95733.56</td>\n",
       "      <td>10.59</td>\n",
       "      <td>4600.00</td>\n",
       "    </tr>\n",
       "  </tbody>\n",
       "</table>\n",
       "<p>8 rows × 177 columns</p>\n",
       "</div>"
      ],
      "text/plain": [
       "       sum_Atomic_Number  sum_Atomic_Weight  sum_Period  sum_group  \\\n",
       "count            1000.00            1000.00     1000.00    1000.00   \n",
       "mean               66.57             147.21       11.28      46.27   \n",
       "std                48.94             116.53        6.33      36.29   \n",
       "min                 4.00               7.95        2.00       1.00   \n",
       "25%                31.00              65.12        6.00      18.00   \n",
       "50%                55.00             118.00       10.00      36.00   \n",
       "75%                86.00             182.15       15.00      72.00   \n",
       "max               278.00             685.60       41.00     256.00   \n",
       "\n",
       "       sum_families  sum_Metal  sum_Nonmetal  sum_Metalliod  \\\n",
       "count       1000.00    1000.00       1000.00        1000.00   \n",
       "mean          23.19       1.28          2.64           0.08   \n",
       "std           16.68       0.76          2.32           0.31   \n",
       "min            1.00       0.00          0.00           0.00   \n",
       "25%           10.00       1.00          1.00           0.00   \n",
       "50%           20.00       1.00          2.00           0.00   \n",
       "75%           36.00       2.00          4.00           0.00   \n",
       "max          113.00       4.00         15.00           2.00   \n",
       "\n",
       "       sum_Mendeleev_Number  sum_l_quantum_number  ...  \\\n",
       "count               1000.00               1000.00  ...   \n",
       "mean                 292.01                  3.73  ...   \n",
       "std                  210.15                  2.59  ...   \n",
       "min                    3.00                  0.00  ...   \n",
       "25%                  126.00                  2.00  ...   \n",
       "50%                  247.00                  3.00  ...   \n",
       "75%                  442.00                  5.00  ...   \n",
       "max                 1418.00                 19.00  ...   \n",
       "\n",
       "       range_Melting_point_(K)  range_Boiling_Point_(K)  range_Density_(g/mL)  \\\n",
       "count                  1000.00                  1000.00               1000.00   \n",
       "mean                 579042.62               1803422.99                  8.45   \n",
       "std                  750702.41               2017584.79                 17.52   \n",
       "min                       0.00                     0.00                  0.00   \n",
       "25%                   20619.03                199191.78                  0.23   \n",
       "50%                  222030.88               1169819.78                  1.25   \n",
       "75%                  882096.64               3010225.00                  9.33   \n",
       "max                 3291321.64               8535162.25                 93.11   \n",
       "\n",
       "       range_specific_heat_(J/g_K)_  range_heat_of_fusion_(kJ/mol)_  \\\n",
       "count                       1000.00                         1000.00   \n",
       "mean                           3.34                          181.31   \n",
       "std                           10.61                          413.13   \n",
       "min                            0.00                            0.00   \n",
       "25%                            0.01                            1.88   \n",
       "50%                            0.05                           20.92   \n",
       "75%                            0.12                          171.31   \n",
       "max                           44.12                         2391.45   \n",
       "\n",
       "       range_heat_of_vaporization_(kJ/mol)_  \\\n",
       "count                               1000.00   \n",
       "mean                               28201.58   \n",
       "std                                36421.94   \n",
       "min                                    0.00   \n",
       "25%                                 1451.91   \n",
       "50%                                18260.29   \n",
       "75%                                40317.25   \n",
       "max                               168342.03   \n",
       "\n",
       "       range_thermal_conductivity_(W/(m_K))_  range_heat_atomization(kJ/mol)  \\\n",
       "count                                1000.00                         1000.00   \n",
       "mean                                 3305.55                        14959.38   \n",
       "std                                  4474.33                        22191.74   \n",
       "min                                     0.00                            0.00   \n",
       "25%                                   119.61                          729.00   \n",
       "50%                                  1607.65                         5312.67   \n",
       "75%                                  4968.28                        18080.67   \n",
       "max                                 40198.47                        95733.56   \n",
       "\n",
       "       range_Cohesive_energy        T  \n",
       "count                1000.00  1000.00  \n",
       "mean                    1.70  1195.38  \n",
       "std                     2.45   760.90  \n",
       "min                     0.00     0.00  \n",
       "25%                     0.09   600.00  \n",
       "50%                     0.63  1054.00  \n",
       "75%                     2.08  1600.00  \n",
       "max                    10.59  4600.00  \n",
       "\n",
       "[8 rows x 177 columns]"
      ]
     },
     "execution_count": 42,
     "metadata": {},
     "output_type": "execute_result"
    }
   ],
   "source": [
    "X_unscaled_train.describe().round(2)"
   ]
  },
  {
   "cell_type": "code",
   "execution_count": 43,
   "id": "1bcf7ce3-c4c9-40b8-88d3-cc1fb64f1585",
   "metadata": {},
   "outputs": [
    {
     "data": {
      "image/png": "[encoded data removed]",
      "text/plain": [
       "<Figure size 432x288 with 1 Axes>"
      ]
     },
     "metadata": {
      "image/png": {
       "height": 250,
       "width": 399
      },
      "needs_background": "light"
     },
     "output_type": "display_data"
    }
   ],
   "source": [
    "X_unscaled_train['range_heat_of_vaporization_(kJ/mol)_'].hist();"
   ]
  },
  {
   "cell_type": "code",
   "execution_count": 44,
   "id": "028ea4ea-1524-4736-82ea-4ac7f357b1ab",
   "metadata": {},
   "outputs": [],
   "source": [
    "from sklearn.preprocessing import StandardScaler, normalize"
   ]
  },
  {
   "cell_type": "code",
   "execution_count": 45,
   "id": "2dfd2228-bc85-43ce-bd0d-ea65fb5f4cb4",
   "metadata": {},
   "outputs": [],
   "source": [
    "stdscaler = StandardScaler()\n",
    "X_train = stdscaler.fit_transform(X_unscaled_train)\n",
    "X_val = stdscaler.transform(X_unscaled_val)\n",
    "X_test = stdscaler.transform(X_unscaled_test)"
   ]
  },
  {
   "cell_type": "code",
   "execution_count": 46,
   "id": "d18040ff-b6bd-462c-a101-081f4065e8b3",
   "metadata": {},
   "outputs": [
    {
     "data": {
      "text/html": [
       "<div>\n",
       "<style scoped>\n",
       "    .dataframe tbody tr th:only-of-type {\n",
       "        vertical-align: middle;\n",
       "    }\n",
       "\n",
       "    .dataframe tbody tr th {\n",
       "        vertical-align: top;\n",
       "    }\n",
       "\n",
       "    .dataframe thead th {\n",
       "        text-align: right;\n",
       "    }\n",
       "</style>\n",
       "<table border=\"1\" class=\"dataframe\">\n",
       "  <thead>\n",
       "    <tr style=\"text-align: right;\">\n",
       "      <th></th>\n",
       "      <th>sum_Atomic_Number</th>\n",
       "      <th>sum_Atomic_Weight</th>\n",
       "      <th>sum_Period</th>\n",
       "      <th>sum_group</th>\n",
       "      <th>sum_families</th>\n",
       "      <th>sum_Metal</th>\n",
       "      <th>sum_Nonmetal</th>\n",
       "      <th>sum_Metalliod</th>\n",
       "      <th>sum_Mendeleev_Number</th>\n",
       "      <th>sum_l_quantum_number</th>\n",
       "      <th>...</th>\n",
       "      <th>range_Melting_point_(K)</th>\n",
       "      <th>range_Boiling_Point_(K)</th>\n",
       "      <th>range_Density_(g/mL)</th>\n",
       "      <th>range_specific_heat_(J/g_K)_</th>\n",
       "      <th>range_heat_of_fusion_(kJ/mol)_</th>\n",
       "      <th>range_heat_of_vaporization_(kJ/mol)_</th>\n",
       "      <th>range_thermal_conductivity_(W/(m_K))_</th>\n",
       "      <th>range_heat_atomization(kJ/mol)</th>\n",
       "      <th>range_Cohesive_energy</th>\n",
       "      <th>T</th>\n",
       "    </tr>\n",
       "  </thead>\n",
       "  <tbody>\n",
       "    <tr>\n",
       "      <th>count</th>\n",
       "      <td>1000.00</td>\n",
       "      <td>1000.00</td>\n",
       "      <td>1000.00</td>\n",
       "      <td>1000.00</td>\n",
       "      <td>1000.00</td>\n",
       "      <td>1000.00</td>\n",
       "      <td>1000.00</td>\n",
       "      <td>1000.00</td>\n",
       "      <td>1000.00</td>\n",
       "      <td>1000.00</td>\n",
       "      <td>...</td>\n",
       "      <td>1000.00</td>\n",
       "      <td>1000.00</td>\n",
       "      <td>1000.00</td>\n",
       "      <td>1000.00</td>\n",
       "      <td>1000.00</td>\n",
       "      <td>1000.00</td>\n",
       "      <td>1000.00</td>\n",
       "      <td>1000.00</td>\n",
       "      <td>1000.00</td>\n",
       "      <td>1000.00</td>\n",
       "    </tr>\n",
       "    <tr>\n",
       "      <th>mean</th>\n",
       "      <td>-0.00</td>\n",
       "      <td>-0.00</td>\n",
       "      <td>-0.00</td>\n",
       "      <td>0.00</td>\n",
       "      <td>-0.00</td>\n",
       "      <td>-0.00</td>\n",
       "      <td>-0.00</td>\n",
       "      <td>-0.00</td>\n",
       "      <td>-0.00</td>\n",
       "      <td>-0.00</td>\n",
       "      <td>...</td>\n",
       "      <td>0.00</td>\n",
       "      <td>0.00</td>\n",
       "      <td>-0.00</td>\n",
       "      <td>0.00</td>\n",
       "      <td>0.00</td>\n",
       "      <td>0.00</td>\n",
       "      <td>0.00</td>\n",
       "      <td>0.00</td>\n",
       "      <td>0.00</td>\n",
       "      <td>-0.00</td>\n",
       "    </tr>\n",
       "    <tr>\n",
       "      <th>std</th>\n",
       "      <td>1.00</td>\n",
       "      <td>1.00</td>\n",
       "      <td>1.00</td>\n",
       "      <td>1.00</td>\n",
       "      <td>1.00</td>\n",
       "      <td>1.00</td>\n",
       "      <td>1.00</td>\n",
       "      <td>1.00</td>\n",
       "      <td>1.00</td>\n",
       "      <td>1.00</td>\n",
       "      <td>...</td>\n",
       "      <td>1.00</td>\n",
       "      <td>1.00</td>\n",
       "      <td>1.00</td>\n",
       "      <td>1.00</td>\n",
       "      <td>1.00</td>\n",
       "      <td>1.00</td>\n",
       "      <td>1.00</td>\n",
       "      <td>1.00</td>\n",
       "      <td>1.00</td>\n",
       "      <td>1.00</td>\n",
       "    </tr>\n",
       "    <tr>\n",
       "      <th>min</th>\n",
       "      <td>-1.28</td>\n",
       "      <td>-1.20</td>\n",
       "      <td>-1.47</td>\n",
       "      <td>-1.25</td>\n",
       "      <td>-1.33</td>\n",
       "      <td>-1.68</td>\n",
       "      <td>-1.14</td>\n",
       "      <td>-0.27</td>\n",
       "      <td>-1.38</td>\n",
       "      <td>-1.44</td>\n",
       "      <td>...</td>\n",
       "      <td>-0.77</td>\n",
       "      <td>-0.89</td>\n",
       "      <td>-0.48</td>\n",
       "      <td>-0.31</td>\n",
       "      <td>-0.44</td>\n",
       "      <td>-0.77</td>\n",
       "      <td>-0.74</td>\n",
       "      <td>-0.67</td>\n",
       "      <td>-0.69</td>\n",
       "      <td>-1.57</td>\n",
       "    </tr>\n",
       "    <tr>\n",
       "      <th>25%</th>\n",
       "      <td>-0.73</td>\n",
       "      <td>-0.70</td>\n",
       "      <td>-0.83</td>\n",
       "      <td>-0.78</td>\n",
       "      <td>-0.79</td>\n",
       "      <td>-0.36</td>\n",
       "      <td>-0.71</td>\n",
       "      <td>-0.27</td>\n",
       "      <td>-0.79</td>\n",
       "      <td>-0.67</td>\n",
       "      <td>...</td>\n",
       "      <td>-0.74</td>\n",
       "      <td>-0.80</td>\n",
       "      <td>-0.47</td>\n",
       "      <td>-0.31</td>\n",
       "      <td>-0.43</td>\n",
       "      <td>-0.73</td>\n",
       "      <td>-0.71</td>\n",
       "      <td>-0.64</td>\n",
       "      <td>-0.66</td>\n",
       "      <td>-0.78</td>\n",
       "    </tr>\n",
       "    <tr>\n",
       "      <th>50%</th>\n",
       "      <td>-0.24</td>\n",
       "      <td>-0.25</td>\n",
       "      <td>-0.20</td>\n",
       "      <td>-0.28</td>\n",
       "      <td>-0.19</td>\n",
       "      <td>-0.36</td>\n",
       "      <td>-0.27</td>\n",
       "      <td>-0.27</td>\n",
       "      <td>-0.21</td>\n",
       "      <td>-0.28</td>\n",
       "      <td>...</td>\n",
       "      <td>-0.48</td>\n",
       "      <td>-0.31</td>\n",
       "      <td>-0.41</td>\n",
       "      <td>-0.31</td>\n",
       "      <td>-0.39</td>\n",
       "      <td>-0.27</td>\n",
       "      <td>-0.38</td>\n",
       "      <td>-0.43</td>\n",
       "      <td>-0.43</td>\n",
       "      <td>-0.19</td>\n",
       "    </tr>\n",
       "    <tr>\n",
       "      <th>75%</th>\n",
       "      <td>0.40</td>\n",
       "      <td>0.30</td>\n",
       "      <td>0.59</td>\n",
       "      <td>0.71</td>\n",
       "      <td>0.77</td>\n",
       "      <td>0.96</td>\n",
       "      <td>0.59</td>\n",
       "      <td>-0.27</td>\n",
       "      <td>0.71</td>\n",
       "      <td>0.49</td>\n",
       "      <td>...</td>\n",
       "      <td>0.40</td>\n",
       "      <td>0.60</td>\n",
       "      <td>0.05</td>\n",
       "      <td>-0.30</td>\n",
       "      <td>-0.02</td>\n",
       "      <td>0.33</td>\n",
       "      <td>0.37</td>\n",
       "      <td>0.14</td>\n",
       "      <td>0.15</td>\n",
       "      <td>0.53</td>\n",
       "    </tr>\n",
       "    <tr>\n",
       "      <th>max</th>\n",
       "      <td>4.32</td>\n",
       "      <td>4.62</td>\n",
       "      <td>4.69</td>\n",
       "      <td>5.78</td>\n",
       "      <td>5.39</td>\n",
       "      <td>3.59</td>\n",
       "      <td>5.34</td>\n",
       "      <td>6.18</td>\n",
       "      <td>5.36</td>\n",
       "      <td>5.89</td>\n",
       "      <td>...</td>\n",
       "      <td>3.61</td>\n",
       "      <td>3.34</td>\n",
       "      <td>4.83</td>\n",
       "      <td>3.84</td>\n",
       "      <td>5.35</td>\n",
       "      <td>3.85</td>\n",
       "      <td>8.25</td>\n",
       "      <td>3.64</td>\n",
       "      <td>3.62</td>\n",
       "      <td>4.48</td>\n",
       "    </tr>\n",
       "  </tbody>\n",
       "</table>\n",
       "<p>8 rows × 177 columns</p>\n",
       "</div>"
      ],
      "text/plain": [
       "       sum_Atomic_Number  sum_Atomic_Weight  sum_Period  sum_group  \\\n",
       "count            1000.00            1000.00     1000.00    1000.00   \n",
       "mean               -0.00              -0.00       -0.00       0.00   \n",
       "std                 1.00               1.00        1.00       1.00   \n",
       "min                -1.28              -1.20       -1.47      -1.25   \n",
       "25%                -0.73              -0.70       -0.83      -0.78   \n",
       "50%                -0.24              -0.25       -0.20      -0.28   \n",
       "75%                 0.40               0.30        0.59       0.71   \n",
       "max                 4.32               4.62        4.69       5.78   \n",
       "\n",
       "       sum_families  sum_Metal  sum_Nonmetal  sum_Metalliod  \\\n",
       "count       1000.00    1000.00       1000.00        1000.00   \n",
       "mean          -0.00      -0.00         -0.00          -0.00   \n",
       "std            1.00       1.00          1.00           1.00   \n",
       "min           -1.33      -1.68         -1.14          -0.27   \n",
       "25%           -0.79      -0.36         -0.71          -0.27   \n",
       "50%           -0.19      -0.36         -0.27          -0.27   \n",
       "75%            0.77       0.96          0.59          -0.27   \n",
       "max            5.39       3.59          5.34           6.18   \n",
       "\n",
       "       sum_Mendeleev_Number  sum_l_quantum_number  ...  \\\n",
       "count               1000.00               1000.00  ...   \n",
       "mean                  -0.00                 -0.00  ...   \n",
       "std                    1.00                  1.00  ...   \n",
       "min                   -1.38                 -1.44  ...   \n",
       "25%                   -0.79                 -0.67  ...   \n",
       "50%                   -0.21                 -0.28  ...   \n",
       "75%                    0.71                  0.49  ...   \n",
       "max                    5.36                  5.89  ...   \n",
       "\n",
       "       range_Melting_point_(K)  range_Boiling_Point_(K)  range_Density_(g/mL)  \\\n",
       "count                  1000.00                  1000.00               1000.00   \n",
       "mean                      0.00                     0.00                 -0.00   \n",
       "std                       1.00                     1.00                  1.00   \n",
       "min                      -0.77                    -0.89                 -0.48   \n",
       "25%                      -0.74                    -0.80                 -0.47   \n",
       "50%                      -0.48                    -0.31                 -0.41   \n",
       "75%                       0.40                     0.60                  0.05   \n",
       "max                       3.61                     3.34                  4.83   \n",
       "\n",
       "       range_specific_heat_(J/g_K)_  range_heat_of_fusion_(kJ/mol)_  \\\n",
       "count                       1000.00                         1000.00   \n",
       "mean                           0.00                            0.00   \n",
       "std                            1.00                            1.00   \n",
       "min                           -0.31                           -0.44   \n",
       "25%                           -0.31                           -0.43   \n",
       "50%                           -0.31                           -0.39   \n",
       "75%                           -0.30                           -0.02   \n",
       "max                            3.84                            5.35   \n",
       "\n",
       "       range_heat_of_vaporization_(kJ/mol)_  \\\n",
       "count                               1000.00   \n",
       "mean                                   0.00   \n",
       "std                                    1.00   \n",
       "min                                   -0.77   \n",
       "25%                                   -0.73   \n",
       "50%                                   -0.27   \n",
       "75%                                    0.33   \n",
       "max                                    3.85   \n",
       "\n",
       "       range_thermal_conductivity_(W/(m_K))_  range_heat_atomization(kJ/mol)  \\\n",
       "count                                1000.00                         1000.00   \n",
       "mean                                    0.00                            0.00   \n",
       "std                                     1.00                            1.00   \n",
       "min                                    -0.74                           -0.67   \n",
       "25%                                    -0.71                           -0.64   \n",
       "50%                                    -0.38                           -0.43   \n",
       "75%                                     0.37                            0.14   \n",
       "max                                     8.25                            3.64   \n",
       "\n",
       "       range_Cohesive_energy        T  \n",
       "count                1000.00  1000.00  \n",
       "mean                    0.00    -0.00  \n",
       "std                     1.00     1.00  \n",
       "min                    -0.69    -1.57  \n",
       "25%                    -0.66    -0.78  \n",
       "50%                    -0.43    -0.19  \n",
       "75%                     0.15     0.53  \n",
       "max                     3.62     4.48  \n",
       "\n",
       "[8 rows x 177 columns]"
      ]
     },
     "execution_count": 46,
     "metadata": {},
     "output_type": "execute_result"
    }
   ],
   "source": [
    "pd.DataFrame(X_train, columns=X_unscaled_train.columns).describe().round(2)"
   ]
  },
  {
   "cell_type": "code",
   "execution_count": 47,
   "id": "ac328fc4-b238-4841-af04-62babc0f2aeb",
   "metadata": {},
   "outputs": [
    {
     "data": {
      "text/plain": [
       "<AxesSubplot:>"
      ]
     },
     "execution_count": 47,
     "metadata": {},
     "output_type": "execute_result"
    },
    {
     "data": {
      "image/png": "[encoded data removed]",
      "text/plain": [
       "<Figure size 432x288 with 1 Axes>"
      ]
     },
     "metadata": {
      "image/png": {
       "height": 250,
       "width": 379
      },
      "needs_background": "light"
     },
     "output_type": "display_data"
    }
   ],
   "source": [
    "pd.DataFrame(X_train, columns=X_unscaled_train.columns)['range_heat_of_vaporization_(kJ/mol)_'].hist()"
   ]
  },
  {
   "cell_type": "code",
   "execution_count": 48,
   "id": "7411d1d9-0ec9-4dfe-8395-cfe5fa30790c",
   "metadata": {},
   "outputs": [],
   "source": [
    "X_train = normalize(X_train)\n",
    "X_val = normalize(X_val)\n",
    "X_test = normalize(X_test)"
   ]
  },
  {
   "cell_type": "code",
   "execution_count": 49,
   "id": "c6a3659c-3090-4cdd-8eed-e5e3cb2e2e2d",
   "metadata": {},
   "outputs": [
    {
     "data": {
      "text/html": [
       "<div>\n",
       "<style scoped>\n",
       "    .dataframe tbody tr th:only-of-type {\n",
       "        vertical-align: middle;\n",
       "    }\n",
       "\n",
       "    .dataframe tbody tr th {\n",
       "        vertical-align: top;\n",
       "    }\n",
       "\n",
       "    .dataframe thead th {\n",
       "        text-align: right;\n",
       "    }\n",
       "</style>\n",
       "<table border=\"1\" class=\"dataframe\">\n",
       "  <thead>\n",
       "    <tr style=\"text-align: right;\">\n",
       "      <th></th>\n",
       "      <th>sum_Atomic_Number</th>\n",
       "      <th>sum_Atomic_Weight</th>\n",
       "      <th>sum_Period</th>\n",
       "      <th>sum_group</th>\n",
       "      <th>sum_families</th>\n",
       "      <th>sum_Metal</th>\n",
       "      <th>sum_Nonmetal</th>\n",
       "      <th>sum_Metalliod</th>\n",
       "      <th>sum_Mendeleev_Number</th>\n",
       "      <th>sum_l_quantum_number</th>\n",
       "      <th>...</th>\n",
       "      <th>range_Melting_point_(K)</th>\n",
       "      <th>range_Boiling_Point_(K)</th>\n",
       "      <th>range_Density_(g/mL)</th>\n",
       "      <th>range_specific_heat_(J/g_K)_</th>\n",
       "      <th>range_heat_of_fusion_(kJ/mol)_</th>\n",
       "      <th>range_heat_of_vaporization_(kJ/mol)_</th>\n",
       "      <th>range_thermal_conductivity_(W/(m_K))_</th>\n",
       "      <th>range_heat_atomization(kJ/mol)</th>\n",
       "      <th>range_Cohesive_energy</th>\n",
       "      <th>T</th>\n",
       "    </tr>\n",
       "  </thead>\n",
       "  <tbody>\n",
       "    <tr>\n",
       "      <th>count</th>\n",
       "      <td>1000.00</td>\n",
       "      <td>1000.00</td>\n",
       "      <td>1000.00</td>\n",
       "      <td>1000.00</td>\n",
       "      <td>1000.00</td>\n",
       "      <td>1000.00</td>\n",
       "      <td>1000.00</td>\n",
       "      <td>1000.00</td>\n",
       "      <td>1000.00</td>\n",
       "      <td>1000.00</td>\n",
       "      <td>...</td>\n",
       "      <td>1000.00</td>\n",
       "      <td>1000.00</td>\n",
       "      <td>1000.00</td>\n",
       "      <td>1000.00</td>\n",
       "      <td>1000.00</td>\n",
       "      <td>1000.00</td>\n",
       "      <td>1000.00</td>\n",
       "      <td>1000.00</td>\n",
       "      <td>1000.00</td>\n",
       "      <td>1000.00</td>\n",
       "    </tr>\n",
       "    <tr>\n",
       "      <th>mean</th>\n",
       "      <td>-0.01</td>\n",
       "      <td>-0.01</td>\n",
       "      <td>-0.00</td>\n",
       "      <td>-0.00</td>\n",
       "      <td>-0.00</td>\n",
       "      <td>0.00</td>\n",
       "      <td>-0.00</td>\n",
       "      <td>-0.01</td>\n",
       "      <td>-0.00</td>\n",
       "      <td>0.00</td>\n",
       "      <td>...</td>\n",
       "      <td>0.00</td>\n",
       "      <td>0.01</td>\n",
       "      <td>-0.00</td>\n",
       "      <td>-0.01</td>\n",
       "      <td>-0.00</td>\n",
       "      <td>0.01</td>\n",
       "      <td>0.00</td>\n",
       "      <td>-0.00</td>\n",
       "      <td>-0.00</td>\n",
       "      <td>0.00</td>\n",
       "    </tr>\n",
       "    <tr>\n",
       "      <th>std</th>\n",
       "      <td>0.07</td>\n",
       "      <td>0.07</td>\n",
       "      <td>0.07</td>\n",
       "      <td>0.07</td>\n",
       "      <td>0.07</td>\n",
       "      <td>0.08</td>\n",
       "      <td>0.07</td>\n",
       "      <td>0.07</td>\n",
       "      <td>0.07</td>\n",
       "      <td>0.08</td>\n",
       "      <td>...</td>\n",
       "      <td>0.08</td>\n",
       "      <td>0.08</td>\n",
       "      <td>0.07</td>\n",
       "      <td>0.07</td>\n",
       "      <td>0.07</td>\n",
       "      <td>0.08</td>\n",
       "      <td>0.09</td>\n",
       "      <td>0.08</td>\n",
       "      <td>0.08</td>\n",
       "      <td>0.09</td>\n",
       "    </tr>\n",
       "    <tr>\n",
       "      <th>min</th>\n",
       "      <td>-0.12</td>\n",
       "      <td>-0.11</td>\n",
       "      <td>-0.13</td>\n",
       "      <td>-0.11</td>\n",
       "      <td>-0.11</td>\n",
       "      <td>-0.12</td>\n",
       "      <td>-0.11</td>\n",
       "      <td>-0.04</td>\n",
       "      <td>-0.12</td>\n",
       "      <td>-0.13</td>\n",
       "      <td>...</td>\n",
       "      <td>-0.08</td>\n",
       "      <td>-0.10</td>\n",
       "      <td>-0.06</td>\n",
       "      <td>-0.05</td>\n",
       "      <td>-0.05</td>\n",
       "      <td>-0.08</td>\n",
       "      <td>-0.12</td>\n",
       "      <td>-0.09</td>\n",
       "      <td>-0.09</td>\n",
       "      <td>-0.19</td>\n",
       "    </tr>\n",
       "    <tr>\n",
       "      <th>25%</th>\n",
       "      <td>-0.06</td>\n",
       "      <td>-0.06</td>\n",
       "      <td>-0.06</td>\n",
       "      <td>-0.06</td>\n",
       "      <td>-0.06</td>\n",
       "      <td>-0.04</td>\n",
       "      <td>-0.06</td>\n",
       "      <td>-0.03</td>\n",
       "      <td>-0.06</td>\n",
       "      <td>-0.05</td>\n",
       "      <td>...</td>\n",
       "      <td>-0.05</td>\n",
       "      <td>-0.05</td>\n",
       "      <td>-0.03</td>\n",
       "      <td>-0.03</td>\n",
       "      <td>-0.04</td>\n",
       "      <td>-0.05</td>\n",
       "      <td>-0.05</td>\n",
       "      <td>-0.05</td>\n",
       "      <td>-0.05</td>\n",
       "      <td>-0.06</td>\n",
       "    </tr>\n",
       "    <tr>\n",
       "      <th>50%</th>\n",
       "      <td>-0.02</td>\n",
       "      <td>-0.03</td>\n",
       "      <td>-0.02</td>\n",
       "      <td>-0.02</td>\n",
       "      <td>-0.02</td>\n",
       "      <td>-0.03</td>\n",
       "      <td>-0.02</td>\n",
       "      <td>-0.02</td>\n",
       "      <td>-0.02</td>\n",
       "      <td>-0.02</td>\n",
       "      <td>...</td>\n",
       "      <td>-0.03</td>\n",
       "      <td>-0.03</td>\n",
       "      <td>-0.03</td>\n",
       "      <td>-0.02</td>\n",
       "      <td>-0.03</td>\n",
       "      <td>-0.02</td>\n",
       "      <td>-0.03</td>\n",
       "      <td>-0.04</td>\n",
       "      <td>-0.04</td>\n",
       "      <td>-0.02</td>\n",
       "    </tr>\n",
       "    <tr>\n",
       "      <th>75%</th>\n",
       "      <td>0.03</td>\n",
       "      <td>0.02</td>\n",
       "      <td>0.06</td>\n",
       "      <td>0.06</td>\n",
       "      <td>0.06</td>\n",
       "      <td>0.06</td>\n",
       "      <td>0.05</td>\n",
       "      <td>-0.02</td>\n",
       "      <td>0.07</td>\n",
       "      <td>0.05</td>\n",
       "      <td>...</td>\n",
       "      <td>0.04</td>\n",
       "      <td>0.04</td>\n",
       "      <td>0.01</td>\n",
       "      <td>-0.02</td>\n",
       "      <td>-0.00</td>\n",
       "      <td>0.02</td>\n",
       "      <td>0.03</td>\n",
       "      <td>0.02</td>\n",
       "      <td>0.01</td>\n",
       "      <td>0.05</td>\n",
       "    </tr>\n",
       "    <tr>\n",
       "      <th>max</th>\n",
       "      <td>0.25</td>\n",
       "      <td>0.26</td>\n",
       "      <td>0.19</td>\n",
       "      <td>0.20</td>\n",
       "      <td>0.19</td>\n",
       "      <td>0.25</td>\n",
       "      <td>0.20</td>\n",
       "      <td>0.40</td>\n",
       "      <td>0.19</td>\n",
       "      <td>0.24</td>\n",
       "      <td>...</td>\n",
       "      <td>0.22</td>\n",
       "      <td>0.23</td>\n",
       "      <td>0.29</td>\n",
       "      <td>0.32</td>\n",
       "      <td>0.43</td>\n",
       "      <td>0.26</td>\n",
       "      <td>0.58</td>\n",
       "      <td>0.26</td>\n",
       "      <td>0.24</td>\n",
       "      <td>0.38</td>\n",
       "    </tr>\n",
       "  </tbody>\n",
       "</table>\n",
       "<p>8 rows × 177 columns</p>\n",
       "</div>"
      ],
      "text/plain": [
       "       sum_Atomic_Number  sum_Atomic_Weight  sum_Period  sum_group  \\\n",
       "count            1000.00            1000.00     1000.00    1000.00   \n",
       "mean               -0.01              -0.01       -0.00      -0.00   \n",
       "std                 0.07               0.07        0.07       0.07   \n",
       "min                -0.12              -0.11       -0.13      -0.11   \n",
       "25%                -0.06              -0.06       -0.06      -0.06   \n",
       "50%                -0.02              -0.03       -0.02      -0.02   \n",
       "75%                 0.03               0.02        0.06       0.06   \n",
       "max                 0.25               0.26        0.19       0.20   \n",
       "\n",
       "       sum_families  sum_Metal  sum_Nonmetal  sum_Metalliod  \\\n",
       "count       1000.00    1000.00       1000.00        1000.00   \n",
       "mean          -0.00       0.00         -0.00          -0.01   \n",
       "std            0.07       0.08          0.07           0.07   \n",
       "min           -0.11      -0.12         -0.11          -0.04   \n",
       "25%           -0.06      -0.04         -0.06          -0.03   \n",
       "50%           -0.02      -0.03         -0.02          -0.02   \n",
       "75%            0.06       0.06          0.05          -0.02   \n",
       "max            0.19       0.25          0.20           0.40   \n",
       "\n",
       "       sum_Mendeleev_Number  sum_l_quantum_number  ...  \\\n",
       "count               1000.00               1000.00  ...   \n",
       "mean                  -0.00                  0.00  ...   \n",
       "std                    0.07                  0.08  ...   \n",
       "min                   -0.12                 -0.13  ...   \n",
       "25%                   -0.06                 -0.05  ...   \n",
       "50%                   -0.02                 -0.02  ...   \n",
       "75%                    0.07                  0.05  ...   \n",
       "max                    0.19                  0.24  ...   \n",
       "\n",
       "       range_Melting_point_(K)  range_Boiling_Point_(K)  range_Density_(g/mL)  \\\n",
       "count                  1000.00                  1000.00               1000.00   \n",
       "mean                      0.00                     0.01                 -0.00   \n",
       "std                       0.08                     0.08                  0.07   \n",
       "min                      -0.08                    -0.10                 -0.06   \n",
       "25%                      -0.05                    -0.05                 -0.03   \n",
       "50%                      -0.03                    -0.03                 -0.03   \n",
       "75%                       0.04                     0.04                  0.01   \n",
       "max                       0.22                     0.23                  0.29   \n",
       "\n",
       "       range_specific_heat_(J/g_K)_  range_heat_of_fusion_(kJ/mol)_  \\\n",
       "count                       1000.00                         1000.00   \n",
       "mean                          -0.01                           -0.00   \n",
       "std                            0.07                            0.07   \n",
       "min                           -0.05                           -0.05   \n",
       "25%                           -0.03                           -0.04   \n",
       "50%                           -0.02                           -0.03   \n",
       "75%                           -0.02                           -0.00   \n",
       "max                            0.32                            0.43   \n",
       "\n",
       "       range_heat_of_vaporization_(kJ/mol)_  \\\n",
       "count                               1000.00   \n",
       "mean                                   0.01   \n",
       "std                                    0.08   \n",
       "min                                   -0.08   \n",
       "25%                                   -0.05   \n",
       "50%                                   -0.02   \n",
       "75%                                    0.02   \n",
       "max                                    0.26   \n",
       "\n",
       "       range_thermal_conductivity_(W/(m_K))_  range_heat_atomization(kJ/mol)  \\\n",
       "count                                1000.00                         1000.00   \n",
       "mean                                    0.00                           -0.00   \n",
       "std                                     0.09                            0.08   \n",
       "min                                    -0.12                           -0.09   \n",
       "25%                                    -0.05                           -0.05   \n",
       "50%                                    -0.03                           -0.04   \n",
       "75%                                     0.03                            0.02   \n",
       "max                                     0.58                            0.26   \n",
       "\n",
       "       range_Cohesive_energy        T  \n",
       "count                1000.00  1000.00  \n",
       "mean                   -0.00     0.00  \n",
       "std                     0.08     0.09  \n",
       "min                    -0.09    -0.19  \n",
       "25%                    -0.05    -0.06  \n",
       "50%                    -0.04    -0.02  \n",
       "75%                     0.01     0.05  \n",
       "max                     0.24     0.38  \n",
       "\n",
       "[8 rows x 177 columns]"
      ]
     },
     "execution_count": 49,
     "metadata": {},
     "output_type": "execute_result"
    }
   ],
   "source": [
    "pd.DataFrame(X_train, columns=X_unscaled_train.columns).describe().round(2)"
   ]
  },
  {
   "cell_type": "code",
   "execution_count": 50,
   "id": "95e0db59-9fbf-4f69-83c9-51775521ae5e",
   "metadata": {},
   "outputs": [
    {
     "data": {
      "text/plain": [
       "<AxesSubplot:>"
      ]
     },
     "execution_count": 50,
     "metadata": {},
     "output_type": "execute_result"
    },
    {
     "data": {
      "image/png": "[encoded data removed]",
      "text/plain": [
       "<Figure size 432x288 with 1 Axes>"
      ]
     },
     "metadata": {
      "image/png": {
       "height": 250,
       "width": 379
      },
      "needs_background": "light"
     },
     "output_type": "display_data"
    }
   ],
   "source": [
    "pd.DataFrame(X_train, columns=X_unscaled_train.columns)['range_heat_of_vaporization_(kJ/mol)_'].hist()"
   ]
  },
  {
   "cell_type": "markdown",
   "id": "17faf44e-64b4-4a0d-8875-62f14eae2c93",
   "metadata": {},
   "source": [
    "## Model fitting "
   ]
  },
  {
   "cell_type": "code",
   "execution_count": 51,
   "id": "6112da2e-e395-4ced-a1d7-adf5e628e1a2",
   "metadata": {},
   "outputs": [],
   "source": [
    "from time import time \n",
    "\n",
    "from sklearn.ensemble import RandomForestRegressor\n",
    "from sklearn.linear_model import LinearRegression\n",
    "from sklearn.metrics import r2_score, mean_absolute_error, mean_squared_error"
   ]
  },
  {
   "cell_type": "code",
   "execution_count": 52,
   "id": "496c629c-2303-4e72-a015-e2e537d37e58",
   "metadata": {},
   "outputs": [],
   "source": [
    "model = RandomForestRegressor(random_state=42)"
   ]
  },
  {
   "cell_type": "code",
   "execution_count": 53,
   "id": "cf9bcdc5-6496-43b8-9ddb-7fe2b866e337",
   "metadata": {},
   "outputs": [
    {
     "name": "stdout",
     "output_type": "stream",
     "text": [
      "CPU times: user 5.51 s, sys: 31.7 ms, total: 5.54 s\n",
      "Wall time: 5.57 s\n"
     ]
    },
    {
     "data": {
      "text/plain": [
       "RandomForestRegressor(random_state=42)"
      ]
     },
     "execution_count": 53,
     "metadata": {},
     "output_type": "execute_result"
    }
   ],
   "source": [
    "%%time\n",
    "model.fit(X_train, y_train)"
   ]
  },
  {
   "cell_type": "code",
   "execution_count": 54,
   "id": "8afbede9-6051-4a39-a533-0d25cea30a29",
   "metadata": {},
   "outputs": [],
   "source": [
    "def display_performance(y_true, y_pred):\n",
    "    r2 = r2_score(y_true, y_pred)\n",
    "    mae = mean_absolute_error(y_true, y_pred)\n",
    "    rmse = np.sqrt(mean_squared_error(y_true, y_pred))\n",
    "    \n",
    "    print('R2: {0:0.2f}\\n'\n",
    "          'MAE: {1:0.2f}\\n'\n",
    "          'RMSE: {2:0.2f}'.format(r2, mae, rmse))\n",
    "    return(r2, mae, rmse)"
   ]
  },
  {
   "cell_type": "code",
   "execution_count": 55,
   "id": "c70b32bc-d986-4353-8293-4ee4acd08f72",
   "metadata": {},
   "outputs": [
    {
     "name": "stdout",
     "output_type": "stream",
     "text": [
      "R2: 0.81\n",
      "MAE: 14.03\n",
      "RMSE: 20.48\n"
     ]
    }
   ],
   "source": [
    "y_pred = model.predict(X_val)\n",
    "display_performance(y_val,y_pred);"
   ]
  },
  {
   "cell_type": "code",
   "execution_count": 56,
   "id": "fe3aeef7-a796-4db9-8ec6-d4df9e3271b3",
   "metadata": {},
   "outputs": [
    {
     "data": {
      "text/plain": [
       "<matplotlib.legend.Legend at 0x7fb9372fb610>"
      ]
     },
     "execution_count": 56,
     "metadata": {},
     "output_type": "execute_result"
    },
    {
     "data": {
      "image/png": "[encoded data removed]",
      "text/plain": [
       "<Figure size 360x360 with 1 Axes>"
      ]
     },
     "metadata": {
      "image/png": {
       "height": 323,
       "width": 327
      },
      "needs_background": "light"
     },
     "output_type": "display_data"
    }
   ],
   "source": [
    "fig, ax = plt.subplots(1,1, figsize=(5,5))\n",
    "ax.scatter(y_val, y_pred, alpha=0.6, label='Random Forest')\n",
    "\n",
    "lims = [np.min([ax.get_xlim(), ax.get_ylim()]),  # min of both axes\n",
    "        np.max([ax.get_xlim(), ax.get_ylim()]),  # max of both axes\n",
    "        ]\n",
    "# Linear fit\n",
    "reg = np.polyfit(y_val, y_pred, deg=1)\n",
    "ax.plot(lims, reg[0] * np.array(lims) + reg[1], 'r--', linewidth=1.5, label='Linear Fit')\n",
    "ax.plot(lims, lims, 'k--', alpha=0.75, zorder=0, label='Parity Line')\n",
    "ax.set_aspect('equal')\n",
    "        \n",
    "ax.set_xlabel('True value')\n",
    "ax.set_ylabel('Model predicted')\n",
    "ax.legend(loc='best')"
   ]
  },
  {
   "cell_type": "markdown",
   "id": "70433267-7b88-4eb5-b1bc-d3da1949453b",
   "metadata": {},
   "source": [
    "## Feature Importance"
   ]
  },
  {
   "cell_type": "code",
   "execution_count": 57,
   "id": "97805e4d-c8e1-4dcd-b367-cd249bec5655",
   "metadata": {},
   "outputs": [],
   "source": [
    "feature_name = [i for i in X_unscaled_train.columns]"
   ]
  },
  {
   "cell_type": "code",
   "execution_count": 58,
   "id": "4b90f99c-9996-454b-8fcf-c6ccec2afe70",
   "metadata": {},
   "outputs": [
    {
     "data": {
      "text/plain": [
       "177"
      ]
     },
     "execution_count": 58,
     "metadata": {},
     "output_type": "execute_result"
    }
   ],
   "source": [
    "len(feature_name)"
   ]
  },
  {
   "cell_type": "code",
   "execution_count": 59,
   "id": "b1584265-3778-4cf6-b5ea-7d97fd729711",
   "metadata": {},
   "outputs": [
    {
     "data": {
      "text/plain": [
       "(1000, 177)"
      ]
     },
     "execution_count": 59,
     "metadata": {},
     "output_type": "execute_result"
    }
   ],
   "source": [
    "X_train.shape"
   ]
  },
  {
   "cell_type": "code",
   "execution_count": 60,
   "id": "e1fe9ba7-a0a9-4f78-8afa-3a1b596c3229",
   "metadata": {},
   "outputs": [
    {
     "data": {
      "text/plain": [
       "100"
      ]
     },
     "execution_count": 60,
     "metadata": {},
     "output_type": "execute_result"
    }
   ],
   "source": [
    "len(model.estimators_)"
   ]
  },
  {
   "cell_type": "code",
   "execution_count": 61,
   "id": "da1d6f39-7b33-4f07-9a7d-9e1c237edf6e",
   "metadata": {},
   "outputs": [],
   "source": [
    "mean_feature_importance = model.feature_importances_\n",
    "std_feature_importance = np.std([ tree.feature_importances_ for tree in model.estimators_ ], axis=0)"
   ]
  },
  {
   "cell_type": "code",
   "execution_count": 62,
   "id": "15c7d15e-7ca8-4b53-ae27-0c47b126e16d",
   "metadata": {},
   "outputs": [],
   "source": [
    "feat_imp_df = pd.DataFrame({'name':feature_name, 'mean_imp':mean_feature_importance, 'std_dev':std_feature_importance})"
   ]
  },
  {
   "cell_type": "code",
   "execution_count": 63,
   "id": "229ca000-f776-4765-ab8b-19473d12b8b1",
   "metadata": {},
   "outputs": [],
   "source": [
    "feat_imp_df_top = feat_imp_df.sort_values('mean_imp', ascending=False)[:20]"
   ]
  },
  {
   "cell_type": "code",
   "execution_count": 64,
   "id": "27faffa9-4f95-4e6c-8ff1-0e69c66d8461",
   "metadata": {},
   "outputs": [
    {
     "data": {
      "text/html": [
       "<div>\n",
       "<style scoped>\n",
       "    .dataframe tbody tr th:only-of-type {\n",
       "        vertical-align: middle;\n",
       "    }\n",
       "\n",
       "    .dataframe tbody tr th {\n",
       "        vertical-align: top;\n",
       "    }\n",
       "\n",
       "    .dataframe thead th {\n",
       "        text-align: right;\n",
       "    }\n",
       "</style>\n",
       "<table border=\"1\" class=\"dataframe\">\n",
       "  <thead>\n",
       "    <tr style=\"text-align: right;\">\n",
       "      <th></th>\n",
       "      <th>name</th>\n",
       "      <th>mean_imp</th>\n",
       "      <th>std_dev</th>\n",
       "    </tr>\n",
       "  </thead>\n",
       "  <tbody>\n",
       "    <tr>\n",
       "      <th>24</th>\n",
       "      <td>sum_valence_s</td>\n",
       "      <td>0.383415</td>\n",
       "      <td>0.273328</td>\n",
       "    </tr>\n",
       "    <tr>\n",
       "      <th>12</th>\n",
       "      <td>sum_Covalent_Radius</td>\n",
       "      <td>0.205463</td>\n",
       "      <td>0.220244</td>\n",
       "    </tr>\n",
       "    <tr>\n",
       "      <th>17</th>\n",
       "      <td>sum_MB_electonegativity</td>\n",
       "      <td>0.098704</td>\n",
       "      <td>0.212963</td>\n",
       "    </tr>\n",
       "    <tr>\n",
       "      <th>31</th>\n",
       "      <td>sum_Number_of_unfilled_f_valence_electrons</td>\n",
       "      <td>0.076559</td>\n",
       "      <td>0.028590</td>\n",
       "    </tr>\n",
       "    <tr>\n",
       "      <th>176</th>\n",
       "      <td>T</td>\n",
       "      <td>0.049666</td>\n",
       "      <td>0.008509</td>\n",
       "    </tr>\n",
       "  </tbody>\n",
       "</table>\n",
       "</div>"
      ],
      "text/plain": [
       "                                           name  mean_imp   std_dev\n",
       "24                                sum_valence_s  0.383415  0.273328\n",
       "12                          sum_Covalent_Radius  0.205463  0.220244\n",
       "17                      sum_MB_electonegativity  0.098704  0.212963\n",
       "31   sum_Number_of_unfilled_f_valence_electrons  0.076559  0.028590\n",
       "176                                           T  0.049666  0.008509"
      ]
     },
     "execution_count": 64,
     "metadata": {},
     "output_type": "execute_result"
    }
   ],
   "source": [
    "feat_imp_df_top[:5]"
   ]
  },
  {
   "cell_type": "code",
   "execution_count": 65,
   "id": "ad4776f4-c3b7-4b58-85ce-1218a4c45c9e",
   "metadata": {},
   "outputs": [
    {
     "data": {
      "image/png": "[encoded data removed]",
      "text/plain": [
       "<Figure size 2160x216 with 1 Axes>"
      ]
     },
     "metadata": {
      "image/png": {
       "height": 473,
       "width": 1714
      },
      "needs_background": "light"
     },
     "output_type": "display_data"
    }
   ],
   "source": [
    "fig, ax = plt.subplots(1,1, figsize=(30,3))\n",
    "ax.bar(feat_imp_df_top['name'], feat_imp_df_top['mean_imp'], yerr=feat_imp_df_top['std_dev'])\n",
    "ax.tick_params(axis='x', rotation=90)\n",
    "ax.set_title('Feature Importance');"
   ]
  },
  {
   "cell_type": "code",
   "execution_count": 66,
   "id": "f9054ddc-0987-4fa7-affa-20724f3c4e50",
   "metadata": {},
   "outputs": [],
   "source": [
    "top_feature_list = feat_imp_df.loc[ feat_imp_df['mean_imp'] > 0.001 ]['name']"
   ]
  },
  {
   "cell_type": "code",
   "execution_count": 67,
   "id": "ca05d12f-ce9f-46de-85f1-9e8639f8e999",
   "metadata": {},
   "outputs": [
    {
     "data": {
      "text/plain": [
       "40"
      ]
     },
     "execution_count": 67,
     "metadata": {},
     "output_type": "execute_result"
    }
   ],
   "source": [
    "len(top_feature_list)"
   ]
  },
  {
   "cell_type": "code",
   "execution_count": 68,
   "id": "3a318e3a-f857-43af-b9be-5de2fc2df3a3",
   "metadata": {},
   "outputs": [],
   "source": [
    "X_train_df = pd.DataFrame(X_train, columns=feature_name)\n",
    "X_val_df = pd.DataFrame(X_val, columns=feature_name)\n",
    "\n",
    "X_train_short = X_train_df[list(top_feature_list)]\n",
    "X_val_short = X_val_df[list(top_feature_list)]"
   ]
  },
  {
   "cell_type": "code",
   "execution_count": 69,
   "id": "7c337462-f467-4095-8205-2e2d88aa4106",
   "metadata": {},
   "outputs": [
    {
     "name": "stdout",
     "output_type": "stream",
     "text": [
      "(1000, 40) (1000, 177)\n"
     ]
    }
   ],
   "source": [
    "print(X_train_short.shape, X_train.shape)"
   ]
  },
  {
   "cell_type": "markdown",
   "id": "6adad238-a7f7-40be-869b-4c82c0cec9ce",
   "metadata": {},
   "source": [
    "### Refit a new model on small feature set "
   ]
  },
  {
   "cell_type": "code",
   "execution_count": 70,
   "id": "82bc3efa-af51-4218-92ef-2981c13c5be5",
   "metadata": {},
   "outputs": [],
   "source": [
    "model_small = RandomForestRegressor(random_state=42)"
   ]
  },
  {
   "cell_type": "code",
   "execution_count": 71,
   "id": "43e8521b-7ea3-4a68-ae69-d736ea373265",
   "metadata": {},
   "outputs": [
    {
     "name": "stdout",
     "output_type": "stream",
     "text": [
      "CPU times: user 1.41 s, sys: 13.9 ms, total: 1.43 s\n",
      "Wall time: 1.44 s\n"
     ]
    },
    {
     "data": {
      "text/plain": [
       "RandomForestRegressor(random_state=42)"
      ]
     },
     "execution_count": 71,
     "metadata": {},
     "output_type": "execute_result"
    }
   ],
   "source": [
    "%%time\n",
    "model_small.fit(X_train_short, y_train)"
   ]
  },
  {
   "cell_type": "code",
   "execution_count": 72,
   "id": "98c958d5-0a85-46ec-b37e-e1d85b4e8d98",
   "metadata": {},
   "outputs": [
    {
     "name": "stdout",
     "output_type": "stream",
     "text": [
      "R2: 0.81\n",
      "MAE: 13.87\n",
      "RMSE: 20.40\n"
     ]
    }
   ],
   "source": [
    "y_pred = model_small.predict(X_val_short)\n",
    "display_performance(y_val, y_pred);"
   ]
  },
  {
   "cell_type": "code",
   "execution_count": 73,
   "id": "f12877fb-3d61-4baf-82a7-f3a8d01d800b",
   "metadata": {},
   "outputs": [
    {
     "data": {
      "text/plain": [
       "<matplotlib.legend.Legend at 0x7fb934fa1310>"
      ]
     },
     "execution_count": 73,
     "metadata": {},
     "output_type": "execute_result"
    },
    {
     "data": {
      "image/png": "[encoded data removed]",
      "text/plain": [
       "<Figure size 360x360 with 1 Axes>"
      ]
     },
     "metadata": {
      "image/png": {
       "height": 323,
       "width": 327
      },
      "needs_background": "light"
     },
     "output_type": "display_data"
    }
   ],
   "source": [
    "fig, ax = plt.subplots(1,1, figsize=(5,5))\n",
    "ax.scatter(y_val, y_pred, alpha=0.6, label='Random Forest')\n",
    "\n",
    "lims = [np.min([ax.get_xlim(), ax.get_ylim()]),  # min of both axes\n",
    "        np.max([ax.get_xlim(), ax.get_ylim()]),  # max of both axes\n",
    "        ]\n",
    "# Linear fit\n",
    "reg = np.polyfit(y_val, y_pred, deg=1)\n",
    "ax.plot(lims, reg[0] * np.array(lims) + reg[1], 'r--', linewidth=1.5, label='Linear Fit')\n",
    "ax.plot(lims, lims, 'k--', alpha=0.75, zorder=0, label='Parity Line')\n",
    "ax.set_aspect('equal')\n",
    "        \n",
    "ax.set_xlabel('True value')\n",
    "ax.set_ylabel('Model predicted')\n",
    "ax.legend(loc='best')"
   ]
  },
  {
   "cell_type": "markdown",
   "id": "c05ca160-686a-4fbe-81f4-2cf70050fcd1",
   "metadata": {},
   "source": [
    "## Cross-validation"
   ]
  },
  {
   "cell_type": "markdown",
   "id": "8d80c3cd-605e-4c02-8539-c3bcfeef5486",
   "metadata": {},
   "source": [
    "Combine train and validation set to generate one train - test set for cross-validation"
   ]
  },
  {
   "cell_type": "code",
   "execution_count": 74,
   "id": "c8631bfe-21be-4c1b-b663-327abe9d3462",
   "metadata": {},
   "outputs": [
    {
     "data": {
      "text/plain": [
       "(1000, 41)"
      ]
     },
     "execution_count": 74,
     "metadata": {},
     "output_type": "execute_result"
    }
   ],
   "source": [
    "# Train stack \n",
    "X_y_train = np.c_[X_train_short, y_train]\n",
    "X_y_train.shape"
   ]
  },
  {
   "cell_type": "code",
   "execution_count": 75,
   "id": "40826078-53a7-454e-835f-488e7b29715c",
   "metadata": {},
   "outputs": [
    {
     "data": {
      "text/plain": [
       "array([0.])"
      ]
     },
     "execution_count": 75,
     "metadata": {},
     "output_type": "execute_result"
    }
   ],
   "source": [
    "np.unique(X_y_train[:,-1] - y_train)"
   ]
  },
  {
   "cell_type": "code",
   "execution_count": 76,
   "id": "1c505d6b-fc51-4b1e-9d45-e4683caf2d92",
   "metadata": {},
   "outputs": [],
   "source": [
    "# Validation stack\n",
    "X_y_val = np.c_[X_val_short, y_val]"
   ]
  },
  {
   "cell_type": "code",
   "execution_count": 77,
   "id": "ea2a1d92-5f2c-4e3d-8d73-9b58c49db1e5",
   "metadata": {},
   "outputs": [],
   "source": [
    "X_Y_TRAIN = np.vstack((X_y_train, X_y_val))"
   ]
  },
  {
   "cell_type": "code",
   "execution_count": 78,
   "id": "d641addf-b203-458b-bbd4-3676df35a7f5",
   "metadata": {},
   "outputs": [
    {
     "name": "stdout",
     "output_type": "stream",
     "text": [
      "(1944, 40) (1944,)\n"
     ]
    }
   ],
   "source": [
    "X_TRAIN = X_Y_TRAIN[:,0:-1].copy()\n",
    "Y_TRAIN = X_Y_TRAIN[:,-1].copy()\n",
    "\n",
    "print(X_TRAIN.shape, Y_TRAIN.shape)"
   ]
  },
  {
   "cell_type": "code",
   "execution_count": 79,
   "id": "3b91a723-12a6-49b1-a252-722996f09c8e",
   "metadata": {},
   "outputs": [],
   "source": [
    "from sklearn.model_selection import cross_validate\n",
    "\n",
    "def display_score(scores, metric):\n",
    "    score_key = 'test_{}'.format(metric)\n",
    "    print(metric)\n",
    "    print('Mean: {}'.format(scores[score_key].mean()))\n",
    "    print('Std dev: {}'.format(scores[score_key].std()))"
   ]
  },
  {
   "cell_type": "code",
   "execution_count": 80,
   "id": "17fa00b4-aa13-4273-b1d7-9ea8aaebf2b1",
   "metadata": {},
   "outputs": [
    {
     "name": "stdout",
     "output_type": "stream",
     "text": [
      "CPU times: user 11.1 s, sys: 66 ms, total: 11.1 s\n",
      "Wall time: 11.2 s\n"
     ]
    }
   ],
   "source": [
    "%%time\n",
    "_scoring = ['neg_root_mean_squared_error', 'neg_mean_absolute_error']\n",
    "forest_scores = cross_validate(model, X_TRAIN, Y_TRAIN, \n",
    "                              scoring = _scoring, cv=5)"
   ]
  },
  {
   "cell_type": "code",
   "execution_count": 81,
   "id": "62b2ddb1-e5a1-4748-b899-f1d8d6880155",
   "metadata": {},
   "outputs": [
    {
     "name": "stdout",
     "output_type": "stream",
     "text": [
      "neg_root_mean_squared_error\n",
      "Mean: -15.22268277329878\n",
      "Std dev: 3.677396464443359\n"
     ]
    }
   ],
   "source": [
    "display_score(forest_scores, _scoring[0])"
   ]
  },
  {
   "cell_type": "code",
   "execution_count": 82,
   "id": "a1ac1ba1-8e8e-44ec-9e14-afedf2eb3f09",
   "metadata": {},
   "outputs": [
    {
     "name": "stdout",
     "output_type": "stream",
     "text": [
      "neg_mean_absolute_error\n",
      "Mean: -9.559763633911203\n",
      "Std dev: 2.786793874037375\n"
     ]
    }
   ],
   "source": [
    "display_score(forest_scores, _scoring[1])"
   ]
  },
  {
   "cell_type": "markdown",
   "id": "05f37107-d4f0-4e78-95d8-c86f4945a2d0",
   "metadata": {},
   "source": [
    "## Hyperparameter Optimization"
   ]
  },
  {
   "cell_type": "code",
   "execution_count": 83,
   "id": "30877af7-f183-43dc-bca3-69b0e3ae87e2",
   "metadata": {},
   "outputs": [],
   "source": [
    "import joblib\n",
    "from sklearn.model_selection import RandomizedSearchCV"
   ]
  },
  {
   "cell_type": "code",
   "execution_count": 84,
   "id": "e8332af1-2fcb-4a60-8eef-8d115028a8a9",
   "metadata": {},
   "outputs": [],
   "source": [
    "random_forest_base_model = RandomForestRegressor(random_state=42)\n",
    "\n",
    "param_grid = {\n",
    "    'bootstrap':[True],\n",
    "    'min_samples_leaf':[5,10,100,200,500],\n",
    "    'min_samples_split':[5,10,100,200,500],\n",
    "    'n_estimators':[100,200,400,500],\n",
    "    'max_features':['auto','sqrt','log2'],\n",
    "    'max_depth':[5,10,15,20]\n",
    "}"
   ]
  },
  {
   "cell_type": "code",
   "execution_count": 85,
   "id": "61bb7e22-6621-452e-a8cb-6d01d88f3413",
   "metadata": {},
   "outputs": [],
   "source": [
    "CV_rf = RandomizedSearchCV(estimator=random_forest_base_model, \n",
    "                           n_iter=50, \n",
    "                           param_distributions=param_grid, \n",
    "                           scoring='neg_root_mean_squared_error',\n",
    "                           cv = 5, verbose = 1, n_jobs=-1, refit=True)"
   ]
  },
  {
   "cell_type": "code",
   "execution_count": 86,
   "id": "6b16e763-5d3f-40c8-b306-c1bf77b0d715",
   "metadata": {},
   "outputs": [
    {
     "name": "stdout",
     "output_type": "stream",
     "text": [
      "Fitting 5 folds for each of 50 candidates, totalling 250 fits\n",
      "CPU times: user 646 ms, sys: 183 ms, total: 829 ms\n",
      "Wall time: 1min 5s\n"
     ]
    }
   ],
   "source": [
    "%%time\n",
    "with joblib.parallel_backend('multiprocessing'):\n",
    "    CV_rf.fit(X_TRAIN, Y_TRAIN)"
   ]
  },
  {
   "cell_type": "code",
   "execution_count": 87,
   "id": "26d3e5d2-2e72-4142-9f32-c2bbf873518a",
   "metadata": {},
   "outputs": [
    {
     "name": "stdout",
     "output_type": "stream",
     "text": [
      "{'n_estimators': 100, 'min_samples_split': 10, 'min_samples_leaf': 10, 'max_features': 'auto', 'max_depth': 20, 'bootstrap': True} -19.161578679126375\n"
     ]
    }
   ],
   "source": [
    "print(CV_rf.best_params_, CV_rf.best_score_)"
   ]
  },
  {
   "cell_type": "code",
   "execution_count": 88,
   "id": "5432213b-3117-4613-8598-7a5b4c57f07d",
   "metadata": {},
   "outputs": [
    {
     "data": {
      "text/html": [
       "<div>\n",
       "<style scoped>\n",
       "    .dataframe tbody tr th:only-of-type {\n",
       "        vertical-align: middle;\n",
       "    }\n",
       "\n",
       "    .dataframe tbody tr th {\n",
       "        vertical-align: top;\n",
       "    }\n",
       "\n",
       "    .dataframe thead th {\n",
       "        text-align: right;\n",
       "    }\n",
       "</style>\n",
       "<table border=\"1\" class=\"dataframe\">\n",
       "  <thead>\n",
       "    <tr style=\"text-align: right;\">\n",
       "      <th></th>\n",
       "      <th>mean_fit_time</th>\n",
       "      <th>std_fit_time</th>\n",
       "      <th>mean_score_time</th>\n",
       "      <th>std_score_time</th>\n",
       "      <th>param_n_estimators</th>\n",
       "      <th>param_min_samples_split</th>\n",
       "      <th>param_min_samples_leaf</th>\n",
       "      <th>param_max_features</th>\n",
       "      <th>param_max_depth</th>\n",
       "      <th>param_bootstrap</th>\n",
       "      <th>params</th>\n",
       "      <th>split0_test_score</th>\n",
       "      <th>split1_test_score</th>\n",
       "      <th>split2_test_score</th>\n",
       "      <th>split3_test_score</th>\n",
       "      <th>split4_test_score</th>\n",
       "      <th>mean_test_score</th>\n",
       "      <th>std_test_score</th>\n",
       "      <th>rank_test_score</th>\n",
       "    </tr>\n",
       "  </thead>\n",
       "  <tbody>\n",
       "    <tr>\n",
       "      <th>4</th>\n",
       "      <td>2.390702</td>\n",
       "      <td>0.061919</td>\n",
       "      <td>0.014793</td>\n",
       "      <td>0.000683</td>\n",
       "      <td>100</td>\n",
       "      <td>10</td>\n",
       "      <td>10</td>\n",
       "      <td>auto</td>\n",
       "      <td>20</td>\n",
       "      <td>True</td>\n",
       "      <td>{'n_estimators': 100, 'min_samples_split': 10,...</td>\n",
       "      <td>-19.636059</td>\n",
       "      <td>-20.949326</td>\n",
       "      <td>-16.321387</td>\n",
       "      <td>-18.878979</td>\n",
       "      <td>-20.022143</td>\n",
       "      <td>-19.161579</td>\n",
       "      <td>1.568968</td>\n",
       "      <td>1</td>\n",
       "    </tr>\n",
       "    <tr>\n",
       "      <th>20</th>\n",
       "      <td>1.299131</td>\n",
       "      <td>0.010285</td>\n",
       "      <td>0.033008</td>\n",
       "      <td>0.003166</td>\n",
       "      <td>200</td>\n",
       "      <td>10</td>\n",
       "      <td>10</td>\n",
       "      <td>sqrt</td>\n",
       "      <td>10</td>\n",
       "      <td>True</td>\n",
       "      <td>{'n_estimators': 200, 'min_samples_split': 10,...</td>\n",
       "      <td>-21.980440</td>\n",
       "      <td>-23.012936</td>\n",
       "      <td>-18.847124</td>\n",
       "      <td>-19.781677</td>\n",
       "      <td>-17.760789</td>\n",
       "      <td>-20.276593</td>\n",
       "      <td>1.949783</td>\n",
       "      <td>2</td>\n",
       "    </tr>\n",
       "    <tr>\n",
       "      <th>22</th>\n",
       "      <td>10.616245</td>\n",
       "      <td>0.066480</td>\n",
       "      <td>0.084979</td>\n",
       "      <td>0.025942</td>\n",
       "      <td>500</td>\n",
       "      <td>5</td>\n",
       "      <td>10</td>\n",
       "      <td>auto</td>\n",
       "      <td>5</td>\n",
       "      <td>True</td>\n",
       "      <td>{'n_estimators': 500, 'min_samples_split': 5, ...</td>\n",
       "      <td>-21.048335</td>\n",
       "      <td>-23.039862</td>\n",
       "      <td>-18.059296</td>\n",
       "      <td>-18.935399</td>\n",
       "      <td>-20.566808</td>\n",
       "      <td>-20.329940</td>\n",
       "      <td>1.733000</td>\n",
       "      <td>3</td>\n",
       "    </tr>\n",
       "    <tr>\n",
       "      <th>40</th>\n",
       "      <td>3.364752</td>\n",
       "      <td>0.126191</td>\n",
       "      <td>0.089052</td>\n",
       "      <td>0.004354</td>\n",
       "      <td>500</td>\n",
       "      <td>10</td>\n",
       "      <td>10</td>\n",
       "      <td>sqrt</td>\n",
       "      <td>15</td>\n",
       "      <td>True</td>\n",
       "      <td>{'n_estimators': 500, 'min_samples_split': 10,...</td>\n",
       "      <td>-22.245647</td>\n",
       "      <td>-23.261791</td>\n",
       "      <td>-18.796893</td>\n",
       "      <td>-20.179776</td>\n",
       "      <td>-17.747398</td>\n",
       "      <td>-20.446301</td>\n",
       "      <td>2.061082</td>\n",
       "      <td>4</td>\n",
       "    </tr>\n",
       "    <tr>\n",
       "      <th>2</th>\n",
       "      <td>0.448634</td>\n",
       "      <td>0.006245</td>\n",
       "      <td>0.015180</td>\n",
       "      <td>0.001035</td>\n",
       "      <td>100</td>\n",
       "      <td>5</td>\n",
       "      <td>10</td>\n",
       "      <td>log2</td>\n",
       "      <td>20</td>\n",
       "      <td>True</td>\n",
       "      <td>{'n_estimators': 100, 'min_samples_split': 5, ...</td>\n",
       "      <td>-22.658766</td>\n",
       "      <td>-23.491199</td>\n",
       "      <td>-19.473837</td>\n",
       "      <td>-20.457559</td>\n",
       "      <td>-17.931118</td>\n",
       "      <td>-20.802496</td>\n",
       "      <td>2.039804</td>\n",
       "      <td>5</td>\n",
       "    </tr>\n",
       "  </tbody>\n",
       "</table>\n",
       "</div>"
      ],
      "text/plain": [
       "    mean_fit_time  std_fit_time  mean_score_time  std_score_time  \\\n",
       "4        2.390702      0.061919         0.014793        0.000683   \n",
       "20       1.299131      0.010285         0.033008        0.003166   \n",
       "22      10.616245      0.066480         0.084979        0.025942   \n",
       "40       3.364752      0.126191         0.089052        0.004354   \n",
       "2        0.448634      0.006245         0.015180        0.001035   \n",
       "\n",
       "   param_n_estimators param_min_samples_split param_min_samples_leaf  \\\n",
       "4                 100                      10                     10   \n",
       "20                200                      10                     10   \n",
       "22                500                       5                     10   \n",
       "40                500                      10                     10   \n",
       "2                 100                       5                     10   \n",
       "\n",
       "   param_max_features param_max_depth param_bootstrap  \\\n",
       "4                auto              20            True   \n",
       "20               sqrt              10            True   \n",
       "22               auto               5            True   \n",
       "40               sqrt              15            True   \n",
       "2                log2              20            True   \n",
       "\n",
       "                                               params  split0_test_score  \\\n",
       "4   {'n_estimators': 100, 'min_samples_split': 10,...         -19.636059   \n",
       "20  {'n_estimators': 200, 'min_samples_split': 10,...         -21.980440   \n",
       "22  {'n_estimators': 500, 'min_samples_split': 5, ...         -21.048335   \n",
       "40  {'n_estimators': 500, 'min_samples_split': 10,...         -22.245647   \n",
       "2   {'n_estimators': 100, 'min_samples_split': 5, ...         -22.658766   \n",
       "\n",
       "    split1_test_score  split2_test_score  split3_test_score  \\\n",
       "4          -20.949326         -16.321387         -18.878979   \n",
       "20         -23.012936         -18.847124         -19.781677   \n",
       "22         -23.039862         -18.059296         -18.935399   \n",
       "40         -23.261791         -18.796893         -20.179776   \n",
       "2          -23.491199         -19.473837         -20.457559   \n",
       "\n",
       "    split4_test_score  mean_test_score  std_test_score  rank_test_score  \n",
       "4          -20.022143       -19.161579        1.568968                1  \n",
       "20         -17.760789       -20.276593        1.949783                2  \n",
       "22         -20.566808       -20.329940        1.733000                3  \n",
       "40         -17.747398       -20.446301        2.061082                4  \n",
       "2          -17.931118       -20.802496        2.039804                5  "
      ]
     },
     "execution_count": 88,
     "metadata": {},
     "output_type": "execute_result"
    }
   ],
   "source": [
    "pd.DataFrame(CV_rf.cv_results_).sort_values('rank_test_score')[:5]"
   ]
  },
  {
   "cell_type": "code",
   "execution_count": 89,
   "id": "38d719c2-472f-4813-98ae-d9dd9b9b7ed6",
   "metadata": {},
   "outputs": [],
   "source": [
    "best_model = CV_rf.best_estimator_"
   ]
  },
  {
   "cell_type": "code",
   "execution_count": 90,
   "id": "80c2401f-9aa7-4406-821f-e33af7bf6f81",
   "metadata": {},
   "outputs": [
    {
     "data": {
      "text/plain": [
       "RandomForestRegressor(max_depth=20, min_samples_leaf=10, min_samples_split=10,\n",
       "                      random_state=42)"
      ]
     },
     "execution_count": 90,
     "metadata": {},
     "output_type": "execute_result"
    }
   ],
   "source": [
    "best_model"
   ]
  }
 ],
 "metadata": {
  "kernelspec": {
   "display_name": "Python 3",
   "language": "python",
   "name": "python3"
  },
  "language_info": {
   "codemirror_mode": {
    "name": "ipython",
    "version": 3
   },
   "file_extension": ".py",
   "mimetype": "text/x-python",
   "name": "python",
   "nbconvert_exporter": "python",
   "pygments_lexer": "ipython3",
   "version": "3.8.10"
  }
 },
 "nbformat": 4,
 "nbformat_minor": 5
}
