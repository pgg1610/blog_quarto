{
 "cells": [
  {
   "cell_type": "raw",
   "metadata": {},
   "source": [
    "---\n",
    "aliases:\n",
    "- /2020/09/18/SMILES_from_pubchem\n",
    "date: '2020-09-18'\n",
    "description: Use parallelized DASK methods to find SMILE and InChI keys for molecules\n",
    "output-file: 2020-09-18-smiles_from_pubchem.html\n",
    "title: Get SMILES from PubChem using DASK\n",
    "\n",
    "---\n",
    "\n"
   ]
  },
  {
   "cell_type": "markdown",
   "metadata": {},
   "source": [
    "Dask implementation to acquire `CanonicalSMILES` from PubChem using the `pubchem` API. At the end of the notebook there is another dask based implementation of using `RDKit` to get InChIKey from the SMILES. While Dask is not necessary required in the case of InChIKeys it is a much more elegant implementation of `dask.dataframes` and `map_partitions` "
   ]
  },
  {
   "cell_type": "code",
   "execution_count": 1,
   "metadata": {},
   "outputs": [
    {
     "name": "stderr",
     "output_type": "stream",
     "text": [
      "/depot/jgreeley/apps/envs/ml_torch/lib/python3.6/site-packages/pandas/compat/__init__.py:120: UserWarning: Could not import the lzma module. Your installed Python is incomplete. Attempting to use lzma compression will result in a RuntimeError.\n",
      "  warnings.warn(msg)\n"
     ]
    }
   ],
   "source": [
    "import time\n",
    "import pubchempy as pcp\n",
    "from pubchempy import Compound, get_compounds\n",
    "import pandas as pd\n",
    "import numpy as np\n",
    "import re\n",
    "import copy"
   ]
  },
  {
   "cell_type": "markdown",
   "metadata": {},
   "source": [
    "## Get SMILES from Pubchem\n",
    "> Update: Parallelized using dask"
   ]
  },
  {
   "cell_type": "code",
   "execution_count": 2,
   "metadata": {},
   "outputs": [],
   "source": [
    "df_100 = pd.read_csv('./DASK_SMILES/sample_chemical_names.csv', sep=',', header=0)"
   ]
  },
  {
   "cell_type": "code",
   "execution_count": 3,
   "metadata": {},
   "outputs": [
    {
     "data": {
      "text/plain": [
       "(147, 1)"
      ]
     },
     "execution_count": 3,
     "metadata": {},
     "output_type": "execute_result"
    }
   ],
   "source": [
    "df_100.shape"
   ]
  },
  {
   "cell_type": "code",
   "execution_count": 4,
   "metadata": {},
   "outputs": [
    {
     "data": {
      "text/html": [
       "<table style=\"border: 2px solid white;\">\n",
       "<tr>\n",
       "<td style=\"vertical-align: top; border: 0px solid white\">\n",
       "<h3 style=\"text-align: left;\">Client</h3>\n",
       "<ul style=\"text-align: left; list-style: none; margin: 0; padding: 0;\">\n",
       "  <li><b>Scheduler: </b>tcp://127.0.0.1:45859</li>\n",
       "  <li><b>Dashboard: </b><a href='http://127.0.0.1:8787/status' target='_blank'>http://127.0.0.1:8787/status</a></li>\n",
       "</ul>\n",
       "</td>\n",
       "<td style=\"vertical-align: top; border: 0px solid white\">\n",
       "<h3 style=\"text-align: left;\">Cluster</h3>\n",
       "<ul style=\"text-align: left; list-style:none; margin: 0; padding: 0;\">\n",
       "  <li><b>Workers: </b>4</li>\n",
       "  <li><b>Cores: </b>8</li>\n",
       "  <li><b>Memory: </b>39.85 GB</li>\n",
       "</ul>\n",
       "</td>\n",
       "</tr>\n",
       "</table>"
      ],
      "text/plain": [
       "<Client: 'tcp://127.0.0.1:45859' processes=4 threads=8, memory=39.85 GB>"
      ]
     },
     "execution_count": 4,
     "metadata": {},
     "output_type": "execute_result"
    }
   ],
   "source": [
    "from dask.distributed import Client, progress\n",
    "import dask.dataframe as dd\n",
    "from dask import delayed, compute\n",
    "from dask.multiprocessing import get\n",
    "client = Client()\n",
    "client"
   ]
  },
  {
   "cell_type": "code",
   "execution_count": 5,
   "metadata": {},
   "outputs": [],
   "source": [
    "def get_smile(cmpd_name):\n",
    "    try:\n",
    "        #delayed(f)(x, args=a)\n",
    "        name = delayed(pcp.get_properties)(['CanonicalSMILES'], cmpd_name, 'name')\n",
    "        time.sleep(5)\n",
    "        smile = name[0]['CanonicalSMILES']\n",
    "    except:\n",
    "        smile = 'X'\n",
    "        print(cta_name, smile)\n",
    "    return smile\n",
    "\n",
    "def dask_smiles(df):\n",
    "    df['CanonicalSMILES'] = df['CTA'].map(get_smile)\n",
    "    return df #Map paritions works here -- but not with to_list() in the previous implementation "
   ]
  },
  {
   "cell_type": "code",
   "execution_count": 6,
   "metadata": {},
   "outputs": [],
   "source": [
    "df_dask = dd.from_pandas(df_100, npartitions=10)"
   ]
  },
  {
   "cell_type": "code",
   "execution_count": 7,
   "metadata": {},
   "outputs": [
    {
     "data": {
      "text/html": [
       "<div><strong>Dask DataFrame Structure:</strong></div>\n",
       "<div>\n",
       "<style scoped>\n",
       "    .dataframe tbody tr th:only-of-type {\n",
       "        vertical-align: middle;\n",
       "    }\n",
       "\n",
       "    .dataframe tbody tr th {\n",
       "        vertical-align: top;\n",
       "    }\n",
       "\n",
       "    .dataframe thead th {\n",
       "        text-align: right;\n",
       "    }\n",
       "</style>\n",
       "<table border=\"1\" class=\"dataframe\">\n",
       "  <thead>\n",
       "    <tr style=\"text-align: right;\">\n",
       "      <th></th>\n",
       "      <th>CTA</th>\n",
       "    </tr>\n",
       "    <tr>\n",
       "      <th>npartitions=10</th>\n",
       "      <th></th>\n",
       "    </tr>\n",
       "  </thead>\n",
       "  <tbody>\n",
       "    <tr>\n",
       "      <th>0</th>\n",
       "      <td>object</td>\n",
       "    </tr>\n",
       "    <tr>\n",
       "      <th>15</th>\n",
       "      <td>...</td>\n",
       "    </tr>\n",
       "    <tr>\n",
       "      <th>...</th>\n",
       "      <td>...</td>\n",
       "    </tr>\n",
       "    <tr>\n",
       "      <th>135</th>\n",
       "      <td>...</td>\n",
       "    </tr>\n",
       "    <tr>\n",
       "      <th>146</th>\n",
       "      <td>...</td>\n",
       "    </tr>\n",
       "  </tbody>\n",
       "</table>\n",
       "</div>\n",
       "<div>Dask Name: from_pandas, 10 tasks</div>"
      ],
      "text/plain": [
       "Dask DataFrame Structure:\n",
       "                   CTA\n",
       "npartitions=10        \n",
       "0               object\n",
       "15                 ...\n",
       "...                ...\n",
       "135                ...\n",
       "146                ...\n",
       "Dask Name: from_pandas, 10 tasks"
      ]
     },
     "execution_count": 7,
     "metadata": {},
     "output_type": "execute_result"
    }
   ],
   "source": [
    "df_dask"
   ]
  },
  {
   "cell_type": "raw",
   "metadata": {},
   "source": [
    "df_dask.visualize()"
   ]
  },
  {
   "cell_type": "code",
   "execution_count": 8,
   "metadata": {},
   "outputs": [
    {
     "name": "stdout",
     "output_type": "stream",
     "text": [
      "CPU times: user 567 ms, sys: 92.3 ms, total: 660 ms\n",
      "Wall time: 10 s\n"
     ]
    }
   ],
   "source": [
    "%time ddf_out  = df_dask.map_partitions(dask_smiles)"
   ]
  },
  {
   "cell_type": "code",
   "execution_count": 9,
   "metadata": {},
   "outputs": [
    {
     "data": {
      "text/plain": [
       "Dask Series Structure:\n",
       "npartitions=10\n",
       "0      object\n",
       "15        ...\n",
       "        ...  \n",
       "135       ...\n",
       "146       ...\n",
       "Name: CTA, dtype: object\n",
       "Dask Name: getitem, 30 tasks"
      ]
     },
     "execution_count": 9,
     "metadata": {},
     "output_type": "execute_result"
    }
   ],
   "source": [
    "ddf_out.iloc[:,0]"
   ]
  },
  {
   "cell_type": "raw",
   "metadata": {},
   "source": [
    "ddf_out.visualize()"
   ]
  },
  {
   "cell_type": "code",
   "execution_count": 10,
   "metadata": {},
   "outputs": [
    {
     "name": "stdout",
     "output_type": "stream",
     "text": [
      "CPU times: user 9.42 s, sys: 1.27 s, total: 10.7 s\n",
      "Wall time: 2min 43s\n"
     ]
    }
   ],
   "source": [
    "%time results = ddf_out.persist(scheduler=client).compute()"
   ]
  },
  {
   "cell_type": "code",
   "execution_count": 11,
   "metadata": {},
   "outputs": [
    {
     "data": {
      "text/plain": [
       "pandas.core.frame.DataFrame"
      ]
     },
     "execution_count": 11,
     "metadata": {},
     "output_type": "execute_result"
    }
   ],
   "source": [
    "type(results)"
   ]
  },
  {
   "cell_type": "code",
   "execution_count": 12,
   "metadata": {},
   "outputs": [
    {
     "data": {
      "text/plain": [
       "CTA                                                     Cyclopropane\n",
       "CanonicalSMILES    Delayed('getitem-e98dc8d7261c3d694a3c944735b3c...\n",
       "Name: 0, dtype: object"
      ]
     },
     "execution_count": 12,
     "metadata": {},
     "output_type": "execute_result"
    }
   ],
   "source": [
    "results.loc[0]"
   ]
  },
  {
   "cell_type": "code",
   "execution_count": 13,
   "metadata": {},
   "outputs": [
    {
     "data": {
      "text/plain": [
       "'C1CC1'"
      ]
     },
     "execution_count": 13,
     "metadata": {},
     "output_type": "execute_result"
    }
   ],
   "source": [
    "compute(results['CanonicalSMILES'].iloc[0])[0] #Compute result for one entry "
   ]
  },
  {
   "cell_type": "code",
   "execution_count": 14,
   "metadata": {},
   "outputs": [
    {
     "name": "stdout",
     "output_type": "stream",
     "text": [
      "CPU times: user 3.73 s, sys: 443 ms, total: 4.17 s\n",
      "Wall time: 31.1 s\n"
     ]
    }
   ],
   "source": [
    "%time results['CanonicalSMILES'] = [value[0] for value in results['CanonicalSMILES'].map(compute)]"
   ]
  },
  {
   "cell_type": "code",
   "execution_count": 15,
   "metadata": {},
   "outputs": [
    {
     "data": {
      "text/plain": [
       "pandas.core.frame.DataFrame"
      ]
     },
     "execution_count": 15,
     "metadata": {},
     "output_type": "execute_result"
    }
   ],
   "source": [
    "type(results)"
   ]
  },
  {
   "cell_type": "code",
   "execution_count": 16,
   "metadata": {},
   "outputs": [
    {
     "data": {
      "text/html": [
       "<div>\n",
       "<style scoped>\n",
       "    .dataframe tbody tr th:only-of-type {\n",
       "        vertical-align: middle;\n",
       "    }\n",
       "\n",
       "    .dataframe tbody tr th {\n",
       "        vertical-align: top;\n",
       "    }\n",
       "\n",
       "    .dataframe thead th {\n",
       "        text-align: right;\n",
       "    }\n",
       "</style>\n",
       "<table border=\"1\" class=\"dataframe\">\n",
       "  <thead>\n",
       "    <tr style=\"text-align: right;\">\n",
       "      <th></th>\n",
       "      <th>CTA</th>\n",
       "      <th>CanonicalSMILES</th>\n",
       "    </tr>\n",
       "  </thead>\n",
       "  <tbody>\n",
       "  </tbody>\n",
       "</table>\n",
       "</div>"
      ],
      "text/plain": [
       "Empty DataFrame\n",
       "Columns: [CTA, CanonicalSMILES]\n",
       "Index: []"
      ]
     },
     "execution_count": 16,
     "metadata": {},
     "output_type": "execute_result"
    }
   ],
   "source": [
    "results[results['CanonicalSMILES'] == 'X']"
   ]
  },
  {
   "cell_type": "code",
   "execution_count": 17,
   "metadata": {},
   "outputs": [
    {
     "data": {
      "text/html": [
       "<div>\n",
       "<style scoped>\n",
       "    .dataframe tbody tr th:only-of-type {\n",
       "        vertical-align: middle;\n",
       "    }\n",
       "\n",
       "    .dataframe tbody tr th {\n",
       "        vertical-align: top;\n",
       "    }\n",
       "\n",
       "    .dataframe thead th {\n",
       "        text-align: right;\n",
       "    }\n",
       "</style>\n",
       "<table border=\"1\" class=\"dataframe\">\n",
       "  <thead>\n",
       "    <tr style=\"text-align: right;\">\n",
       "      <th></th>\n",
       "      <th>CTA</th>\n",
       "      <th>CanonicalSMILES</th>\n",
       "    </tr>\n",
       "  </thead>\n",
       "  <tbody>\n",
       "    <tr>\n",
       "      <th>0</th>\n",
       "      <td>Cyclopropane</td>\n",
       "      <td>C1CC1</td>\n",
       "    </tr>\n",
       "    <tr>\n",
       "      <th>1</th>\n",
       "      <td>Ethylene</td>\n",
       "      <td>C=C</td>\n",
       "    </tr>\n",
       "    <tr>\n",
       "      <th>2</th>\n",
       "      <td>Methane</td>\n",
       "      <td>C</td>\n",
       "    </tr>\n",
       "    <tr>\n",
       "      <th>3</th>\n",
       "      <td>t-Butanol</td>\n",
       "      <td>CC(C)(C)O</td>\n",
       "    </tr>\n",
       "    <tr>\n",
       "      <th>4</th>\n",
       "      <td>ethane</td>\n",
       "      <td>CC</td>\n",
       "    </tr>\n",
       "    <tr>\n",
       "      <th>...</th>\n",
       "      <td>...</td>\n",
       "      <td>...</td>\n",
       "    </tr>\n",
       "    <tr>\n",
       "      <th>142</th>\n",
       "      <td>Cyclohexane-1,3-dicarbaldehyde</td>\n",
       "      <td>C1CC(CC(C1)C=O)C=O</td>\n",
       "    </tr>\n",
       "    <tr>\n",
       "      <th>143</th>\n",
       "      <td>isobutene</td>\n",
       "      <td>CC(=C)C</td>\n",
       "    </tr>\n",
       "    <tr>\n",
       "      <th>144</th>\n",
       "      <td>propanal</td>\n",
       "      <td>CCC=O</td>\n",
       "    </tr>\n",
       "    <tr>\n",
       "      <th>145</th>\n",
       "      <td>methyl methacrylate</td>\n",
       "      <td>CC(=C)C(=O)OC</td>\n",
       "    </tr>\n",
       "    <tr>\n",
       "      <th>146</th>\n",
       "      <td>vinyl acetate</td>\n",
       "      <td>CC(=O)OC=C</td>\n",
       "    </tr>\n",
       "  </tbody>\n",
       "</table>\n",
       "<p>147 rows × 2 columns</p>\n",
       "</div>"
      ],
      "text/plain": [
       "                                CTA     CanonicalSMILES\n",
       "0                      Cyclopropane               C1CC1\n",
       "1                          Ethylene                 C=C\n",
       "2                           Methane                   C\n",
       "3                         t-Butanol           CC(C)(C)O\n",
       "4                            ethane                  CC\n",
       "..                              ...                 ...\n",
       "142  Cyclohexane-1,3-dicarbaldehyde  C1CC(CC(C1)C=O)C=O\n",
       "143                       isobutene             CC(=C)C\n",
       "144                        propanal               CCC=O\n",
       "145             methyl methacrylate       CC(=C)C(=O)OC\n",
       "146                   vinyl acetate          CC(=O)OC=C\n",
       "\n",
       "[147 rows x 2 columns]"
      ]
     },
     "execution_count": 17,
     "metadata": {},
     "output_type": "execute_result"
    }
   ],
   "source": [
    "results"
   ]
  },
  {
   "cell_type": "raw",
   "metadata": {},
   "source": [
    "results.to_pickle(\"cta_smiles_table_100_less.pkl\")"
   ]
  },
  {
   "cell_type": "markdown",
   "metadata": {},
   "source": [
    "## ## Dask to get InChIKey \n",
    "\n",
    "This implementation in my opinion is more elegant use of dask's `apply` command wrapper around conventional pandas `apply`. Also here we are defining the `meta` key for the variable since the code doesn't seem to recognise the type of entries we expect in the final output \n",
    "\n",
    "More information about `meta` here: https://docs.dask.org/en/latest/dataframe-api.html"
   ]
  },
  {
   "cell_type": "code",
   "execution_count": 18,
   "metadata": {},
   "outputs": [],
   "source": [
    "import rdkit\n",
    "from rdkit import Chem\n",
    "from rdkit.Chem import PandasTools\n",
    "from rdkit.Chem import Draw\n",
    "\n",
    "Chem.WrapLogs()\n",
    "lg = rdkit.RDLogger.logger() \n",
    "lg.setLevel(rdkit.RDLogger.CRITICAL)"
   ]
  },
  {
   "cell_type": "code",
   "execution_count": 19,
   "metadata": {},
   "outputs": [],
   "source": [
    "def get_InChiKey(x):\n",
    "    try:\n",
    "        inchi_key =  Chem.MolToInchiKey(Chem.MolFromSmiles(x))\n",
    "    except:\n",
    "        inchi_key = 'X'\n",
    "    return inchi_key\n",
    "\n",
    "def dask_smiles(df):\n",
    "    df['INCHI'] = df['smiles'].map(get_name)\n",
    "    return df"
   ]
  },
  {
   "cell_type": "code",
   "execution_count": 20,
   "metadata": {},
   "outputs": [],
   "source": [
    "results_dask = dd.from_pandas(results, npartitions=10)"
   ]
  },
  {
   "cell_type": "code",
   "execution_count": 21,
   "metadata": {},
   "outputs": [],
   "source": [
    "inchi = results_dask['CanonicalSMILES'].apply(lambda x: Chem.MolToInchiKey(Chem.MolFromSmiles(x)), meta=('inchi_key',str))"
   ]
  },
  {
   "cell_type": "code",
   "execution_count": 22,
   "metadata": {},
   "outputs": [
    {
     "data": {
      "text/plain": [
       "Dask Series Structure:\n",
       "npartitions=10\n",
       "0      object\n",
       "15        ...\n",
       "        ...  \n",
       "135       ...\n",
       "146       ...\n",
       "Name: inchi_key, dtype: object\n",
       "Dask Name: apply, 30 tasks"
      ]
     },
     "execution_count": 22,
     "metadata": {},
     "output_type": "execute_result"
    }
   ],
   "source": [
    "inchi"
   ]
  },
  {
   "cell_type": "raw",
   "metadata": {},
   "source": [
    "inchi.visualize()"
   ]
  },
  {
   "cell_type": "markdown",
   "metadata": {},
   "source": [
    "`inchi` is a new Pandas series which has the `delayed` graphs for computing InChIKeys. We can compute it directly in the `results` dataframe as a new column. This is slightly different from the SMILES implementation above."
   ]
  },
  {
   "cell_type": "code",
   "execution_count": 23,
   "metadata": {},
   "outputs": [
    {
     "name": "stdout",
     "output_type": "stream",
     "text": [
      "CPU times: user 125 ms, sys: 17.3 ms, total: 142 ms\n",
      "Wall time: 1.02 s\n"
     ]
    }
   ],
   "source": [
    "%time results['INCHI'] = compute(inchi, scheduler = client)[0]"
   ]
  },
  {
   "cell_type": "code",
   "execution_count": 24,
   "metadata": {},
   "outputs": [
    {
     "data": {
      "text/html": [
       "<div>\n",
       "<style scoped>\n",
       "    .dataframe tbody tr th:only-of-type {\n",
       "        vertical-align: middle;\n",
       "    }\n",
       "\n",
       "    .dataframe tbody tr th {\n",
       "        vertical-align: top;\n",
       "    }\n",
       "\n",
       "    .dataframe thead th {\n",
       "        text-align: right;\n",
       "    }\n",
       "</style>\n",
       "<table border=\"1\" class=\"dataframe\">\n",
       "  <thead>\n",
       "    <tr style=\"text-align: right;\">\n",
       "      <th></th>\n",
       "      <th>CTA</th>\n",
       "      <th>CanonicalSMILES</th>\n",
       "      <th>INCHI</th>\n",
       "    </tr>\n",
       "  </thead>\n",
       "  <tbody>\n",
       "    <tr>\n",
       "      <th>0</th>\n",
       "      <td>Cyclopropane</td>\n",
       "      <td>C1CC1</td>\n",
       "      <td>LVZWSLJZHVFIQJ-UHFFFAOYSA-N</td>\n",
       "    </tr>\n",
       "    <tr>\n",
       "      <th>1</th>\n",
       "      <td>Ethylene</td>\n",
       "      <td>C=C</td>\n",
       "      <td>VGGSQFUCUMXWEO-UHFFFAOYSA-N</td>\n",
       "    </tr>\n",
       "    <tr>\n",
       "      <th>2</th>\n",
       "      <td>Methane</td>\n",
       "      <td>C</td>\n",
       "      <td>VNWKTOKETHGBQD-UHFFFAOYSA-N</td>\n",
       "    </tr>\n",
       "    <tr>\n",
       "      <th>3</th>\n",
       "      <td>t-Butanol</td>\n",
       "      <td>CC(C)(C)O</td>\n",
       "      <td>DKGAVHZHDRPRBM-UHFFFAOYSA-N</td>\n",
       "    </tr>\n",
       "    <tr>\n",
       "      <th>4</th>\n",
       "      <td>ethane</td>\n",
       "      <td>CC</td>\n",
       "      <td>OTMSDBZUPAUEDD-UHFFFAOYSA-N</td>\n",
       "    </tr>\n",
       "    <tr>\n",
       "      <th>...</th>\n",
       "      <td>...</td>\n",
       "      <td>...</td>\n",
       "      <td>...</td>\n",
       "    </tr>\n",
       "    <tr>\n",
       "      <th>142</th>\n",
       "      <td>Cyclohexane-1,3-dicarbaldehyde</td>\n",
       "      <td>C1CC(CC(C1)C=O)C=O</td>\n",
       "      <td>WHKHKMGAZGBKCK-UHFFFAOYSA-N</td>\n",
       "    </tr>\n",
       "    <tr>\n",
       "      <th>143</th>\n",
       "      <td>isobutene</td>\n",
       "      <td>CC(=C)C</td>\n",
       "      <td>VQTUBCCKSQIDNK-UHFFFAOYSA-N</td>\n",
       "    </tr>\n",
       "    <tr>\n",
       "      <th>144</th>\n",
       "      <td>propanal</td>\n",
       "      <td>CCC=O</td>\n",
       "      <td>NBBJYMSMWIIQGU-UHFFFAOYSA-N</td>\n",
       "    </tr>\n",
       "    <tr>\n",
       "      <th>145</th>\n",
       "      <td>methyl methacrylate</td>\n",
       "      <td>CC(=C)C(=O)OC</td>\n",
       "      <td>VVQNEPGJFQJSBK-UHFFFAOYSA-N</td>\n",
       "    </tr>\n",
       "    <tr>\n",
       "      <th>146</th>\n",
       "      <td>vinyl acetate</td>\n",
       "      <td>CC(=O)OC=C</td>\n",
       "      <td>XTXRWKRVRITETP-UHFFFAOYSA-N</td>\n",
       "    </tr>\n",
       "  </tbody>\n",
       "</table>\n",
       "<p>147 rows × 3 columns</p>\n",
       "</div>"
      ],
      "text/plain": [
       "                                CTA     CanonicalSMILES  \\\n",
       "0                      Cyclopropane               C1CC1   \n",
       "1                          Ethylene                 C=C   \n",
       "2                           Methane                   C   \n",
       "3                         t-Butanol           CC(C)(C)O   \n",
       "4                            ethane                  CC   \n",
       "..                              ...                 ...   \n",
       "142  Cyclohexane-1,3-dicarbaldehyde  C1CC(CC(C1)C=O)C=O   \n",
       "143                       isobutene             CC(=C)C   \n",
       "144                        propanal               CCC=O   \n",
       "145             methyl methacrylate       CC(=C)C(=O)OC   \n",
       "146                   vinyl acetate          CC(=O)OC=C   \n",
       "\n",
       "                           INCHI  \n",
       "0    LVZWSLJZHVFIQJ-UHFFFAOYSA-N  \n",
       "1    VGGSQFUCUMXWEO-UHFFFAOYSA-N  \n",
       "2    VNWKTOKETHGBQD-UHFFFAOYSA-N  \n",
       "3    DKGAVHZHDRPRBM-UHFFFAOYSA-N  \n",
       "4    OTMSDBZUPAUEDD-UHFFFAOYSA-N  \n",
       "..                           ...  \n",
       "142  WHKHKMGAZGBKCK-UHFFFAOYSA-N  \n",
       "143  VQTUBCCKSQIDNK-UHFFFAOYSA-N  \n",
       "144  NBBJYMSMWIIQGU-UHFFFAOYSA-N  \n",
       "145  VVQNEPGJFQJSBK-UHFFFAOYSA-N  \n",
       "146  XTXRWKRVRITETP-UHFFFAOYSA-N  \n",
       "\n",
       "[147 rows x 3 columns]"
      ]
     },
     "execution_count": 24,
     "metadata": {},
     "output_type": "execute_result"
    }
   ],
   "source": [
    "results"
   ]
  },
  {
   "cell_type": "code",
   "execution_count": null,
   "metadata": {},
   "outputs": [],
   "source": []
  }
 ],
 "metadata": {
  "kernelspec": {
   "display_name": "Python 3",
   "language": "python",
   "name": "python3"
  },
  "language_info": {
   "codemirror_mode": {
    "name": "ipython",
    "version": 3
   },
   "file_extension": ".py",
   "mimetype": "text/x-python",
   "name": "python",
   "nbconvert_exporter": "python",
   "pygments_lexer": "ipython3",
   "version": "3.8.10"
  }
 },
 "nbformat": 4,
 "nbformat_minor": 4
}
