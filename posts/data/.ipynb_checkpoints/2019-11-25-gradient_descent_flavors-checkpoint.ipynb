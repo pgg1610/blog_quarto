{
 "cells": [
  {
   "cell_type": "markdown",
   "metadata": {},
   "source": [
    "# Gradient descent flavors\n",
    "\n",
    "- toc:true\n",
    "- badges: true\n",
    "- comments: true\n",
    "- author: Pushkar G. Ghanekar\n",
    "- categories: [python, machine-learning]"
   ]
  },
  {
   "cell_type": "markdown",
   "metadata": {},
   "source": [
    "## Linear Regression ##\n",
    "\n",
    "Linear regression is probably one of the most important and widely used regression techniques. It’s among the simplest regression methods. One of its main advantages is the ease of interpreting results.\n",
    "\n",
    "You can combine multiple variables to get a `multi` linear regression. These variables could be of different powers. That'd be still a linear in form -- any regression is linear as long as the weights and independent variables can be linearly separated.\n",
    "\n",
    "When interpreting the results of the regression it is important to keep in mind the adage: \n",
    "> Correlation doesnt mean causation \n",
    "\n",
    "Two drawbacks of linear regression: \n",
    "1. May overfit the data \n",
    "2. Cannot model the non-linearity in the parameter space (It can model non-linear feature space but fails to show model correaltion in the dataset between features) \n",
    "\n",
    "The main way linear regression fits data is by fitting weights for the linear variables ($x$ = given as independent variable) and estimate the dependent variable ($y$ = in this case) \n",
    "\n",
    "$$\n",
    "y = a_{0} + a_{1} x_{1} + a_{2} x_{2} + a_{3} x_{3} + .... + \\epsilon\n",
    "$$\n",
    "\n",
    "### Mean squared errors\n",
    "\n",
    "To get the best weights, you usually minimize the sum of squared residuals (SSR) or Mean Squared Errors (MSR) for all observations: \n",
    "\n",
    "\\begin{equation*} \n",
    "MSE = \\frac{1}{m}\\sum_{i=1}^{i=m}(y^{(i)}-\\theta^{T} x^{(i)})^2 \n",
    "\\end{equation*}\n",
    "\n",
    "Here: \n",
    "* $\\theta$ are the weights ($a_{0}, a_{1}, ....$) \n",
    "* $x$ is the independent variable \n",
    "* $y$ is the dependent variable \n",
    "\n",
    "This approach is called the ordinary least squares.\n",
    "\n",
    "### Coefficient of determination\n",
    "\n",
    "**What \\% of total variation in y is described by the linear regression?**\n",
    "\n",
    "This is the coefficient of determination or $R^{2}$.\n",
    "\n",
    "To answer this question we look at what portion of variation is _NOT_ described by the regression line ($SE_{line}$), since that is the error we get for known output values wrt predicted output from regression line, also called residuals. We divide that by the variance ( $SE_{y}$ ) in the dataset. \n",
    "\n",
    "$$R^{2} = 1 - \\frac{SE_{line}}{SE_{total}}$$\n",
    "\n",
    "Here: \n",
    "\n",
    "$$ SE_{line} = \\sum_{i=1}^{i=m}(y^{(i)} - y_{pred}^{(i)})^2$$\n",
    "\n",
    "$$ SE_{total} = \\sum_{i=1}^{i=m}(y^{(i)} - \\mu)^2$$\n",
    "\n",
    "If close to 1 then lot of the variation in y is described by variation in x, if 0 the variation is not described, and if -ve then the linear does a worse job compared to average value. "
   ]
  },
  {
   "cell_type": "code",
   "execution_count": 1,
   "metadata": {},
   "outputs": [],
   "source": [
    "import numpy as np \n",
    "from sklearn.linear_model import LinearRegression\n",
    "import matplotlib.pyplot as plt\n",
    "import seaborn as sns \n",
    "\n",
    "sns.set_palette('deep')\n",
    "%config InlineBackend.figure_format = 'retina'\n",
    "%config InlineBackend.print_figure_kwargs={'facecolor' : \"w\"}\n",
    "\n",
    "#To ensure we get similar results at each run -- if not initiated every successive will give more random \n",
    "#shuffled indices risking the possibility of the algo seeing the entire dataset! \n",
    "np.random.seed(42)"
   ]
  },
  {
   "cell_type": "markdown",
   "metadata": {},
   "source": [
    "## Solving for the parameters ##\n",
    "\n",
    "To find the value that minimizes the cost function (MSE) we have following options: \n",
    "1. Normal equation OR Single value decomposition (SVD) -- Analytical solution to the problem. Inverting of the larger features is a bottle neck as the dimension of the features increases. \n",
    "\n",
    "\n",
    "2. Numerical solution by minimizing the cost function by moving along the gradient of the same. -- GRADIENT DESCENT. In this case we do not solve the equation EXACTLY but solve to an acceptable value given by the value of the LOSS FUNCTION or the gradient \n",
    "\n",
    "\n",
    "### 1. Normal equation"
   ]
  },
  {
   "cell_type": "code",
   "execution_count": 2,
   "metadata": {},
   "outputs": [
    {
     "data": {
      "image/png": "[encoded data removed]",
      "text/plain": [
       "<Figure size 432x288 with 1 Axes>"
      ]
     },
     "metadata": {
      "image/png": {
       "height": 261,
       "width": 382
      },
      "needs_background": "light"
     },
     "output_type": "display_data"
    }
   ],
   "source": [
    "x = np.random.randn(200,1) #Normally distributed x\n",
    "y = 10.0 + 1.5 * x + np.random.randn(200,1) #Introducing some noise \n",
    "plt.scatter(x,y)\n",
    "plt.xlabel('X')\n",
    "plt.ylabel('Y');"
   ]
  },
  {
   "cell_type": "markdown",
   "metadata": {},
   "source": [
    "$$ y = a_{0}x_{0} + a_{1}x_{1} $$ \n",
    "\n",
    "In matrix notation: \n",
    "$$ \\mathbf{Y} = \\mathbf{W}^\\mathrm{T} \\mathbf{X} $$ \n",
    "\n",
    "where $a$ and $b$ are parameters that we want to choose in order to minimize the mean squared error (MSE)\n",
    "\n",
    "$$\\chi^2 = \\sum_\\mathrm{i}\\left( a_{0} + a_{1}x_{1} - y_\\mathrm{i} \\right)^2$$\n",
    "\n",
    "where:\n",
    "$$\\mathbf{X} = \\begin{bmatrix}\n",
    "x_0^{(1)} & \\ldots & x_0^{(m)} \\\\ \n",
    "x_1^{(1)} & \\ldots & x_1^{(m)} \\\\\n",
    "\\vdots  & \\vdots & \\vdots \\\\\n",
    "x_N^{(1)} & \\ldots & x_N^{(m)} \\end{bmatrix} \\,\\,\\,;\\,\\,\\,\\mathbf{W} = \\begin{bmatrix}\n",
    "a_{0} \\\\\n",
    "\\vdots \\\\ \n",
    "a_{N} \\end{bmatrix} \\,\\,\\,;\\,\\,\\, \\mathbf{Y} = \\begin{bmatrix}\n",
    "y^{(1)} & \\ldots & y^{(m)} \\end{bmatrix}\n",
    "$$\n",
    "\n",
    "Although $\\mathbf{X}$ is not generally invertible, a least-squares solution can be obtained using the **pseudoinverse**\n",
    "\n",
    "$$ \\mathbf{W}^\\mathrm{T} \\mathbf{X} \\mathbf{X}^\\mathrm{T} = \\mathbf{Y}\\mathbf{X}^\\mathrm{T} $$\n",
    "$$ \\mathbf{W} = \\mathbf{X}^\\mathrm{+}\\mathbf{Y}^\\mathrm{T} $$ where, \n",
    "$$ \\mathbf{X}^\\mathrm{+} = \\left(\\mathbf{X}\\mathbf{X}^\\mathrm{T}\\right)^{-1}\\mathbf{X} $$\n",
    "\n",
    "Technically, this definition of the pseudoinverse ($\\mathbf{X}^+$) is only true in the case of over determined systems (wide X matrices: more examples and small dimensionality). For tall matrices, where we have more parameters than data points we can use the generalized pseudo-inverse obtained from Singular Value Decomposition (SVD):\n",
    "\n",
    "$$ \\mathbf{X}^\\mathrm{T} = \\mathbf{U}\\mathbf{\\Sigma}\\mathbf{V}^\\mathrm{T} $$ with,\n",
    "$$ \\mathbf{X}^\\mathrm{+} = \\mathbf{V}\\mathbf{\\Sigma}^{-1}\\mathbf{U}^\\mathrm{T} $$\n",
    "\n",
    "where $\\mathbf{U}$ and $\\mathbf{V}$ are defined by SVD such that their inverse is their transpose (i.e., they are orthogonal matrices), and $\\mathbf{\\Sigma}^{-1}$ is obtained by setting all elements in $\\mathbf{\\Sigma}$ that are below a threshold to zero then setting the remainder of entries to their inverse. This definition of the pseudo inverse will work in all cases and is equivalent to the above when the system is not rank deficient. \n",
    "\n",
    "Let's calculate the analytic solution (using both methods):"
   ]
  },
  {
   "cell_type": "markdown",
   "metadata": {},
   "source": [
    "**1. Pseudoinverse or Normal method**"
   ]
  },
  {
   "cell_type": "code",
   "execution_count": 4,
   "metadata": {},
   "outputs": [
    {
     "name": "stdout",
     "output_type": "stream",
     "text": [
      "Value of weights: a = 10.090, b = 1.601\n"
     ]
    }
   ],
   "source": [
    "X = np.vstack((np.ones(x.shape).T, x.T)) # Estimate A -- sorted in decreasing power of x == x, x_0\n",
    "X_plus = np.linalg.inv( X.dot(X.T) ).dot( X ) # Estimate X+\n",
    "weights = X_plus.dot(y)\n",
    "print('Value of weights: a = {0:0.3f}, b = {1:0.3f}'.format(weights[0][0],weights[1][0]))"
   ]
  },
  {
   "cell_type": "markdown",
   "metadata": {},
   "source": [
    "**2. Single Value Decomposition (SVD) method**"
   ]
  },
  {
   "cell_type": "code",
   "execution_count": 6,
   "metadata": {},
   "outputs": [
    {
     "name": "stdout",
     "output_type": "stream",
     "text": [
      "Value of weights: a = 10.090, b = 1.601\n"
     ]
    }
   ],
   "source": [
    "U, E, Vt = np.linalg.svd(X.T, full_matrices=False)\n",
    "A_plus = np.dot(np.dot(Vt.T,np.diag(1.0/E)),U.T)\n",
    "weights = A_plus.dot(y)\n",
    "print('Value of weights: a = {0:0.3f}, b = {1:0.3f}'.format(weights[0][0],weights[1][0]))"
   ]
  },
  {
   "cell_type": "markdown",
   "metadata": {},
   "source": [
    "### Using scikit-learn's Linear Regression module"
   ]
  },
  {
   "cell_type": "code",
   "execution_count": 7,
   "metadata": {},
   "outputs": [
    {
     "name": "stdout",
     "output_type": "stream",
     "text": [
      "** SCIKIT LEARN LINEAR REGRESSION **\n",
      "---------------------------------\n",
      "Value of weights: 10.090, 1.601\n",
      "MSE: 0.961\n",
      "R-square: 0.697\n"
     ]
    }
   ],
   "source": [
    "from sklearn.linear_model import LinearRegression\n",
    "from sklearn.metrics import mean_squared_error, r2_score\n",
    "LinReg = LinearRegression()\n",
    "model = LinReg.fit(x,y)\n",
    "\n",
    "print('** SCIKIT LEARN LINEAR REGRESSION **')\n",
    "print('---------------------------------')\n",
    "print('Value of weights: {0:0.3f}, {1:0.3f}'.format(model.intercept_[0],model.coef_[0][0]))\n",
    "print('MSE: {0:0.3f}'.format(mean_squared_error(model.predict(x),y)))\n",
    "print('R-square: {0:0.3f}'.format(r2_score(y,model.predict(x))))"
   ]
  },
  {
   "cell_type": "markdown",
   "metadata": {},
   "source": [
    "## 2. Gradient Descent\n",
    "\n",
    "Gradient Descent can be used to obtain the same solution. To use our algorithm we need to calculate the derivative of the loss function with respect to our parameters. \n",
    "\n",
    "For this particular loss function we can now write a gradient function that will return the gradient vector for a supplied set of parameters:\n",
    "\n",
    "Useful when dimensionality of data is large and the number of instances make calculating the inverse/pseudoinverse difficult. \n",
    "\n",
    "We minimize the gradient of MSE:\n",
    "\\begin{equation*} \n",
    "MSE = \\frac{1}{m}\\sum_{i=1}^{i=m}(y^{(i)}-𝐱^{(i)}\\theta)^2 \n",
    "\\end{equation*}\n",
    "\n",
    "\\begin{equation*} \n",
    "\\nabla_{\\theta}(MSE(\\theta,X)) = \\frac{-2}{m}\\sum_{i=1}^{i=m}(y^{(i)}-𝐱^{(i)}\\theta)(x^{(i)}) \n",
    "\\end{equation*}\n",
    "\n",
    "**In vector form:**\n",
    "\\begin{equation*} \n",
    "\\nabla_{\\theta}(MSE(\\theta,X)) = \\frac{2}{m}X^{T}.(X\\theta-Y)\n",
    "\\end{equation*}"
   ]
  },
  {
   "cell_type": "markdown",
   "metadata": {},
   "source": [
    "### Batch Gradient Descent"
   ]
  },
  {
   "cell_type": "code",
   "execution_count": 17,
   "metadata": {},
   "outputs": [],
   "source": [
    "def loss_func(X,Y,theta):\n",
    "    return(np.mean(( Y - X.dot(theta) ) **2))\n",
    "\n",
    "#GRADIENT DESCENT \n",
    "def grad_batch(X,Y,theta_guess,eta=0.9,n_iter=1000,tol=1E-5):\n",
    "    \n",
    "    m = float(np.shape(X)[0])\n",
    "    \n",
    "    for i in range(n_iter):\n",
    "        gradient = 2/m * X.T.dot(X.dot(theta_guess)-Y)\n",
    "        if np.max(abs(gradient)<=tol):\n",
    "            return(theta_guess)\n",
    "            break        \n",
    "        else:\n",
    "            theta_guess = theta_guess - eta * gradient\n",
    "            \n",
    "    return(theta_guess)"
   ]
  },
  {
   "cell_type": "code",
   "execution_count": 18,
   "metadata": {},
   "outputs": [
    {
     "name": "stdout",
     "output_type": "stream",
     "text": [
      "** BATCH GRADIENT DESCENT **\n",
      "---------------------------------\n",
      "Value of weights: 1.6008745711666892, 10.089963350436326\n",
      "MSE: 0.9605306227339924\n",
      "R-square:0.697066485173339\n"
     ]
    }
   ],
   "source": [
    "X = np.c_[x, np.ones(x.shape)]\n",
    "Y = y.reshape(-1,1)\n",
    "\n",
    "theta_guess = np.random.randn(2,1)\n",
    "theta_opt = grad_batch(X,Y,theta_guess)\n",
    "\n",
    "print('** BATCH GRADIENT DESCENT **')\n",
    "print('---------------------------------')\n",
    "print('Value of weights: {}, {}'.format(theta_opt[0][0],theta_opt[1][0]))\n",
    "print('MSE: {}'.format(loss_func(X,Y,theta_opt)))\n",
    "print('R-square:{}'.format(r2_score(y,X.dot(theta_opt))))"
   ]
  },
  {
   "cell_type": "code",
   "execution_count": 23,
   "metadata": {},
   "outputs": [
    {
     "data": {
      "text/plain": [
       "<matplotlib.legend.Legend at 0x7fa2c8974550>"
      ]
     },
     "execution_count": 23,
     "metadata": {},
     "output_type": "execute_result"
    },
    {
     "data": {
      "image/png": "[encoded data removed]",
      "text/plain": [
       "<Figure size 432x288 with 1 Axes>"
      ]
     },
     "metadata": {
      "image/png": {
       "height": 248,
       "width": 369
      },
      "needs_background": "light"
     },
     "output_type": "display_data"
    }
   ],
   "source": [
    "plt.scatter(X[:,0],Y,label='true data')\n",
    "plt.plot(X[:,0],X.dot(theta_opt),'r-',linewidth='2.5',label='Numerical GD')\n",
    "plt.legend()"
   ]
  },
  {
   "cell_type": "markdown",
   "metadata": {},
   "source": [
    "**Visualize the weights beings optimized in 2D**"
   ]
  },
  {
   "cell_type": "code",
   "execution_count": null,
   "metadata": {},
   "outputs": [],
   "source": [
    "def path_grad_batch(X,Y,theta_guess,eta=0.1,n_iter=1000,tol=1E-5):\n",
    "    m = float(np.shape(X)[0])\n",
    "    \n",
    "    path_a = theta_guess[0]\n",
    "    path_b = theta_guess[1]\n",
    "    \n",
    "    for i in range(n_iter):\n",
    "        gradient = 2/m * X.T.dot(X.dot(theta_guess)-Y)\n",
    "        \n",
    "        if np.max(abs(gradient)<=tol):\n",
    "            return(path_a,path_b)\n",
    "            break\n",
    "        else:\n",
    "            theta_guess = theta_guess - eta * gradient\n",
    "            path_a = np.append(path_a,theta_guess[0][0])\n",
    "            path_b = np.append(path_b,theta_guess[1][0])\n",
    "    return(path_a,path_b)"
   ]
  },
  {
   "cell_type": "code",
   "execution_count": null,
   "metadata": {
    "scrolled": true
   },
   "outputs": [],
   "source": [
    "#List of thetas taken for optimization \n",
    "theta_initial = np.array([[6],[5]])\n",
    "path_a, path_b = path_grad_batch(X,Y,theta_initial,eta=0.4)\n",
    "\n",
    "#Contour plot of the loss function\n",
    "a = np.linspace(np.min(path_a)-1, np.max(path_a)+1, 50)\n",
    "b = np.linspace(np.min(path_b)-1, np.max(path_b)+1, 50)\n",
    "Z = np.zeros(shape=(len(a),len(b)))\n",
    "\n",
    "for i in range(len(a)): \n",
    "    for j in range(len(b)): \n",
    "        guess = np.array([[a[i]],[b[j]]])\n",
    "        Z[j,i] = loss_func(X, Y, guess)\n",
    "\n",
    "plt.figure(figsize=(10,10))\n",
    "contours = plt.contour(a, b, Z, 10, alpha=0.8, colors='black')\n",
    "\n",
    "plt.clabel(contours, inline=True, fontsize=10)\n",
    "\n",
    "plt.imshow(Z, extent=[np.min(a),np.max(a), np.min(b),np.max(b)], origin='lower',\n",
    "           cmap='RdGy', zorder=0, alpha=0.6)\n",
    "\n",
    "plt.plot(path_a, path_b,'bo-',alpha=1, linewidth=2.0, zorder=1)\n",
    "plt.scatter(theta_opt[0,0],theta_opt[1,0], s=100, c='red', zorder=2, edgecolor='black')\n",
    "plt.xlabel('X')\n",
    "plt.ylabel('Y')"
   ]
  },
  {
   "cell_type": "markdown",
   "metadata": {},
   "source": [
    "# Stochastic and Mini-batch Gradient Descent"
   ]
  },
  {
   "cell_type": "code",
   "execution_count": null,
   "metadata": {},
   "outputs": [],
   "source": [
    "def loss_func(X,Y,theta):\n",
    "    return(np.mean((Y-X.dot(theta))**2))\n",
    "\n",
    "#STOCHASTIC GRADIENT DESCENT \n",
    "def stoch_mini_grad_descent(X,Y,theta_guess,batch_size=10,n_iter=1000,eta=0.1,tol=1E-5):\n",
    "    m = float(np.shape(X)[0])\n",
    "    for i in range(n_iter):\n",
    "        random_batch_indices = np.random.randint(m,size=batch_size)\n",
    "        X_rand = X[random_batch_indices]\n",
    "        Y_rand = Y[random_batch_indices]\n",
    "        gradient = 2/np.shape(X_rand)[0] * X_rand.T.dot(X_rand.dot(theta_guess)-Y_rand)\n",
    "        if np.max(abs(gradient)<=tol):\n",
    "            return(theta_guess)\n",
    "            break\n",
    "        else:\n",
    "            theta_guess = theta_guess - eta * gradient\n",
    "    return(theta_guess)\n",
    "\n",
    "X = x_b.reshape(200,2)\n",
    "Y = y.reshape(200,1)\n",
    "\n",
    "theta_guess = np.random.randn(2,1)\n",
    "theta_opt = stoch_mini_grad_descent(X,Y,theta_guess)\n",
    "print('** BATCH GRADIENT DESCENT **')\n",
    "print('---------------------------')\n",
    "print('Value of weights: {0:0.3f}, {1:0.3f}'.format(theta_opt[0][0],theta_opt[1][0]))\n",
    "print('MSE: {0:0.3f}'.format(loss_func(X,Y,theta_opt)))\n",
    "print('R-square:{0:0.3f}'.format(r2_score(y,X.dot(theta_opt))))"
   ]
  },
  {
   "cell_type": "code",
   "execution_count": null,
   "metadata": {},
   "outputs": [],
   "source": [
    "def path_stoch_mini_grad_descent(X,Y,theta_guess,batch_size=1,n_iter=1000,eta=0.1,tol=1E-5):\n",
    "    m = float(np.shape(X)[0])\n",
    "    path_a = theta_guess[0]\n",
    "    path_b = theta_guess[1]\n",
    "    for i in range(n_iter):\n",
    "        random_batch_indices = np.random.randint(m,size=batch_size)\n",
    "        X_rand = X[random_batch_indices]\n",
    "        Y_rand = Y[random_batch_indices]\n",
    "        gradient = 2/np.shape(X_rand)[0] * X_rand.T.dot(X_rand.dot(theta_guess)-Y_rand)\n",
    "        if np.max(abs(gradient)<=tol):\n",
    "            return(path_a,path_b)\n",
    "            break\n",
    "        else:\n",
    "            theta_guess = theta_guess - eta * gradient\n",
    "            path_a = np.append(path_a,theta_guess[0][0])\n",
    "            path_b = np.append(path_b,theta_guess[1][0])\n",
    "    return(path_a,path_b)\n",
    "\n",
    "#List of thetas taken for optimization \n",
    "theta_initial = np.array([[6],[5]])\n",
    "path_a, path_b = path_stoch_mini_grad_descent(X,Y,theta_initial,batch_size=10,eta=0.4)\n",
    "\n",
    "#Contour plot of the loss function\n",
    "a = np.linspace(np.min(path_a)-1,np.max(path_a)+1,50)\n",
    "b = np.linspace(np.min(path_b)-1,np.max(path_b)+1,50)\n",
    "Z = np.zeros(shape=(len(a),len(b)))\n",
    "for i in range(len(a)): \n",
    "    for j in range(len(b)): \n",
    "        guess = np.array([[a[i]],[b[j]]])\n",
    "        Z[j,i] = loss_func(X,Y,guess)\n",
    "\n",
    "fig, ax = plt.subplots(1,1, figsize=(10,10))\n",
    "contours = ax.contour(a, b, Z, 10, colors='black')\n",
    "ax.clabel(contours, inline=True, fontsize=10)\n",
    "ax.imshow(Z, extent=[np.min(a),np.max(a), np.min(b),np.max(b)], origin='lower',\n",
    "           cmap='RdGy', alpha=0.6)\n",
    "ax.plot(path_a, path_b,'bo-',alpha=0.6, zorder=0)\n",
    "ax.scatter(theta_opt[0,0],theta_opt[1,0],s=100,c='red', edgecolor='black')"
   ]
  },
  {
   "cell_type": "markdown",
   "metadata": {},
   "source": [
    "# Stochastic Gradient Descent + Nesterov\n",
    "\n",
    "The intuition behind momentum is that the previous gradient evaluation(s) potentially give us good information about the direction of the minimum. \n",
    "\n",
    "The analogy comes from the physics of an object rolling down the hill. It will start slowly, but if it is consistently downhill in the same direction, then the object *“accelerates”* toward the minimum. The change in algorithm is tiny but powerful\n",
    "\n",
    "An even better variant developed by Nesterov calculates the gradient at $x_{i} + \\beta m_{i}$ after applying the momentum displacement. That is, on step `i+1` we know the update from momentum alone ($\\beta m_{i}$) before we calculate the gradient – so why not calculate the gradient at that point, $x_{i} + \\beta m_{i}$, since it is probably closer to $x_{i+1}$ than $x_{i}$ is.\n",
    "\n",
    "if $\\beta = 0$ -- its normal mini-batch stochastic gradient descent"
   ]
  },
  {
   "cell_type": "code",
   "execution_count": null,
   "metadata": {},
   "outputs": [],
   "source": [
    "def loss_func(X,Y,theta):\n",
    "    return(np.mean((Y-X.dot(theta))**2))\n",
    "\n",
    "#STOCHASTIC GRADIENT DESCENT \n",
    "def nestrov_batch_grad_descent(X,Y,theta_guess,beta=0.9,batch_size=10,n_iter=1000,eta=0.1,tol=1E-5):\n",
    "    \n",
    "    feature_size = float(np.shape(X)[0])\n",
    "    m = np.zeros(shape=(np.shape(theta_guess)[0],1))\n",
    "    \n",
    "    for i in range(n_iter):\n",
    "        random_batch_indices = np.random.randint(feature_size,size=batch_size)\n",
    "        X_rand = X[random_batch_indices]\n",
    "        theta_guess = theta_guess + beta * m \n",
    "        \n",
    "        Y_rand = Y[random_batch_indices]\n",
    "        gradient = 2/np.shape(X_rand)[0] * X_rand.T.dot(X_rand.dot(theta_guess)-Y_rand)\n",
    "        \n",
    "        if np.max(abs(gradient)<=tol):\n",
    "            return(theta_guess)\n",
    "            break\n",
    "        else:\n",
    "            m = beta*m - eta * gradient\n",
    "            theta_guess = theta_guess + m\n",
    "    return(theta_guess)"
   ]
  },
  {
   "cell_type": "code",
   "execution_count": null,
   "metadata": {},
   "outputs": [],
   "source": [
    "X = x_b.reshape(200,2)\n",
    "Y = y.reshape(200,1)\n",
    "theta_guess = np.random.randn(2,1)\n",
    "theta_opt = nestrov_batch_grad_descent(X,Y,theta_guess)\n",
    "print('** BATCH GRADIENT DESCENT W/ MOMENTUM **')\n",
    "print('---------------------------')\n",
    "print('Value of weights: {0:0.3f}, {1:0.3f}'.format(theta_opt[0][0],theta_opt[1][0]))\n",
    "print('MSE: {0:0.3f}'.format(loss_func(X,Y,theta_opt)))\n",
    "print('R-square:{0:0.3f}'.format(r2_score(y,X.dot(theta_opt))))"
   ]
  },
  {
   "cell_type": "code",
   "execution_count": null,
   "metadata": {},
   "outputs": [],
   "source": [
    "#STOCHASTIC GRADIENT DESCENT \n",
    "def nestrov_batch_grad_descent(X,Y,theta_guess,beta=0.9,batch_size=10,n_iter=1000,eta=0.1,tol=1E-5):\n",
    "    feature_size = float(np.shape(X)[0])\n",
    "    path_a = theta_guess[0]\n",
    "    path_b = theta_guess[1]\n",
    "    m = np.zeros(shape=(np.shape(theta_guess)[0],1))\n",
    "    for i in range(n_iter):\n",
    "        random_batch_indices = np.random.randint(feature_size,size=batch_size)\n",
    "        X_rand = X[random_batch_indices]\n",
    "        theta_guess = theta_guess + beta * m \n",
    "        Y_rand = Y[random_batch_indices]\n",
    "        gradient = 2/np.shape(X_rand)[0] * X_rand.T.dot(X_rand.dot(theta_guess)-Y_rand)\n",
    "        if np.max(abs(gradient)<=tol):\n",
    "            return(path_a,path_b)\n",
    "            break\n",
    "        else:\n",
    "            m = beta*m - eta * gradient\n",
    "            theta_guess = theta_guess + m\n",
    "            path_a = np.append(path_a,theta_guess[0][0])\n",
    "            path_b = np.append(path_b,theta_guess[1][0])\n",
    "    return(path_a,path_b)\n",
    "\n",
    "#List of thetas taken for optimization \n",
    "theta_initial = np.array([[6],[5]])\n",
    "path_a, path_b = nestrov_batch_grad_descent(X,Y,theta_initial,beta=0.9,batch_size=10,eta=0.4)\n",
    "\n",
    "#Contour plot of the loss function\n",
    "a = np.linspace(np.min(path_a)-1,np.max(path_a)+1,50)\n",
    "b = np.linspace(np.min(path_b)-1,np.max(path_b)+1,50)\n",
    "Z = np.zeros(shape=(len(a),len(b)))\n",
    "for i in range(len(a)): \n",
    "    for j in range(len(b)): \n",
    "        guess = np.array([[a[i]],[b[j]]])\n",
    "        Z[j,i] = loss_func(X,Y,guess)\n",
    "\n",
    "fig, ax = plt.subplots(1,1, figsize=(10,10))\n",
    "contours = ax.contour(a, b, Z, 10, colors='black')\n",
    "#ax.clabel(contours, inline=True, fontsize=10)\n",
    "ax.imshow(Z, extent=[np.min(a),np.max(a), np.min(b),np.max(b)], origin='lower',\n",
    "           cmap='RdGy', alpha=0.6)\n",
    "ax.plot(path_a,path_b,'bo-',alpha=0.5, zorder=0)\n",
    "ax.scatter(theta_opt[0,0],theta_opt[1,0],s=100,c='red', edgecolor='black');"
   ]
  },
  {
   "cell_type": "code",
   "execution_count": null,
   "metadata": {},
   "outputs": [],
   "source": []
  }
 ],
 "metadata": {
  "kernelspec": {
   "display_name": "Python 3",
   "language": "python",
   "name": "python3"
  },
  "language_info": {
   "codemirror_mode": {
    "name": "ipython",
    "version": 3
   },
   "file_extension": ".py",
   "mimetype": "text/x-python",
   "name": "python",
   "nbconvert_exporter": "python",
   "pygments_lexer": "ipython3",
   "version": "3.8.8"
  }
 },
 "nbformat": 4,
 "nbformat_minor": 4
}
