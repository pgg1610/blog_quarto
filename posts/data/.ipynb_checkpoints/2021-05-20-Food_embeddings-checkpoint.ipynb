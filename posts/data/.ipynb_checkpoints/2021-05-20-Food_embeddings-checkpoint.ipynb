{
 "cells": [
  {
   "cell_type": "markdown",
   "metadata": {},
   "source": [
    "# Food embeddings made using ingredients\n",
    ">\"Visualize food recipes based on their clustering as per ingredients\"\n",
    "\n",
    "- toc:true\n",
    "- badges: true\n",
    "- comments: true\n",
    "- author: Pushkar G. Ghanekar\n",
    "- categories: [python, exploratory-data-analysis, data-visualization, web-scrapping]"
   ]
  },
  {
   "cell_type": "markdown",
   "metadata": {},
   "source": [
    "# Get data for food items and recipes \n",
    "\n",
    "I use a Kaggle dataset containing 6000+ recipes from https://www.archanaskitchen.com/. Using this data as base collection of recipes representing most of the indian food, I analyze which spices occur most freqeuntly and which spices are most connected to each other. \n",
    "\n",
    "* Dataset for Indian recipe: This dataset 6000+ recipe scrapped from  | [Link to the dataset](https://www.kaggle.com/kanishk307/6000-indian-food-recipes-dataset)"
   ]
  },
  {
   "cell_type": "code",
   "execution_count": 1,
   "metadata": {},
   "outputs": [],
   "source": [
    "import pandas as pd \n",
    "import numpy as np "
   ]
  },
  {
   "cell_type": "code",
   "execution_count": 2,
   "metadata": {},
   "outputs": [],
   "source": [
    "#----- PLOTTING PARAMS ----# \n",
    "import matplotlib.pyplot as plt\n",
    "from matplotlib.pyplot import cm\n",
    "import seaborn as sns\n",
    "%config InlineBackend.figure_format = 'retina'\n",
    "%config InlineBackend.print_figure_kwargs={'facecolor' : \"w\"}\n",
    "\n",
    "plot_params = {\n",
    "'font.size' : 22,\n",
    "'axes.titlesize' : 24,\n",
    "'axes.labelsize' : 20,\n",
    "'xtick.labelsize' : 16,\n",
    "'ytick.labelsize' : 16,\n",
    "}\n",
    " \n",
    "plt.rcParams.update(plot_params)"
   ]
  },
  {
   "cell_type": "code",
   "execution_count": 3,
   "metadata": {},
   "outputs": [],
   "source": [
    "# Functions for PMF and CDF, we will come to those later in the notebook \n",
    "def pmf(pandas_series):\n",
    "    value, counts = np.unique(pandas_series, return_counts=True)\n",
    "    pmf = np.c_[ value, counts / sum(counts) ]\n",
    "    return pmf \n",
    "\n",
    "def cdf(pandas_series):\n",
    "    pmf_data = pmf(pandas_series)\n",
    "    cdf = np.zeros(shape=pmf_data.shape)\n",
    "    \n",
    "    for i in range(0, cdf.shape[0]):\n",
    "        cdf[i] = [ pmf_data[i][0], np.sum(pmf_data[0:i][:,1]) ]\n",
    "    return cdf "
   ]
  },
  {
   "cell_type": "markdown",
   "metadata": {},
   "source": [
    "### Read the dataset"
   ]
  },
  {
   "cell_type": "code",
   "execution_count": 4,
   "metadata": {},
   "outputs": [],
   "source": [
    "food_df = pd.read_csv('./IndianFoodDatasetCSV.csv')"
   ]
  },
  {
   "cell_type": "code",
   "execution_count": 5,
   "metadata": {},
   "outputs": [
    {
     "data": {
      "text/plain": [
       "Index(['Srno', 'RecipeName', 'TranslatedRecipeName', 'Ingredients',\n",
       "       'TranslatedIngredients', 'PrepTimeInMins', 'CookTimeInMins',\n",
       "       'TotalTimeInMins', 'Servings', 'Cuisine', 'Course', 'Diet',\n",
       "       'Instructions', 'TranslatedInstructions', 'URL'],\n",
       "      dtype='object')"
      ]
     },
     "execution_count": 5,
     "metadata": {},
     "output_type": "execute_result"
    }
   ],
   "source": [
    "food_df.columns"
   ]
  },
  {
   "cell_type": "code",
   "execution_count": 6,
   "metadata": {},
   "outputs": [
    {
     "data": {
      "text/plain": [
       "(6871, 15)"
      ]
     },
     "execution_count": 6,
     "metadata": {},
     "output_type": "execute_result"
    }
   ],
   "source": [
    "food_df.shape"
   ]
  },
  {
   "cell_type": "code",
   "execution_count": 7,
   "metadata": {},
   "outputs": [
    {
     "data": {
      "text/html": [
       "<div>\n",
       "<style scoped>\n",
       "    .dataframe tbody tr th:only-of-type {\n",
       "        vertical-align: middle;\n",
       "    }\n",
       "\n",
       "    .dataframe tbody tr th {\n",
       "        vertical-align: top;\n",
       "    }\n",
       "\n",
       "    .dataframe thead th {\n",
       "        text-align: right;\n",
       "    }\n",
       "</style>\n",
       "<table border=\"1\" class=\"dataframe\">\n",
       "  <thead>\n",
       "    <tr style=\"text-align: right;\">\n",
       "      <th></th>\n",
       "      <th>Srno</th>\n",
       "      <th>RecipeName</th>\n",
       "      <th>TranslatedRecipeName</th>\n",
       "      <th>Ingredients</th>\n",
       "      <th>TranslatedIngredients</th>\n",
       "      <th>PrepTimeInMins</th>\n",
       "      <th>CookTimeInMins</th>\n",
       "      <th>TotalTimeInMins</th>\n",
       "      <th>Servings</th>\n",
       "      <th>Cuisine</th>\n",
       "      <th>Course</th>\n",
       "      <th>Diet</th>\n",
       "      <th>Instructions</th>\n",
       "      <th>TranslatedInstructions</th>\n",
       "      <th>URL</th>\n",
       "    </tr>\n",
       "  </thead>\n",
       "  <tbody>\n",
       "    <tr>\n",
       "      <th>5216</th>\n",
       "      <td>7494</td>\n",
       "      <td>Mango Musk Melon Chia Seeds Pudding Recipe</td>\n",
       "      <td>Mango Musk Melon Chia Seeds Pudding Recipe</td>\n",
       "      <td>2 cups Musk Melon - pulp,2 Mango (Ripe) - alph...</td>\n",
       "      <td>2 cups Musk Melon - pulp,2 Mango (Ripe) - alph...</td>\n",
       "      <td>10</td>\n",
       "      <td>15</td>\n",
       "      <td>25</td>\n",
       "      <td>2</td>\n",
       "      <td>Continental</td>\n",
       "      <td>World Breakfast</td>\n",
       "      <td>Vegetarian</td>\n",
       "      <td>To begin with Mango Musk Melon Chia Seeds Pudd...</td>\n",
       "      <td>To begin with Mango Musk Melon Chia Seeds Pudd...</td>\n",
       "      <td>https://www.archanaskitchen.com/mango-musk-mel...</td>\n",
       "    </tr>\n",
       "    <tr>\n",
       "      <th>63</th>\n",
       "      <td>71</td>\n",
       "      <td>Vegan Chickpea Omelette Recipe (Spiced Chickpe...</td>\n",
       "      <td>Vegan Chickpea Omelette Recipe (Spiced Chickpe...</td>\n",
       "      <td>1 cup Gram flour (besan),1/2 cup Coconut milk,...</td>\n",
       "      <td>1 cup Gram flour (besan),1/2 cup Coconut milk,...</td>\n",
       "      <td>20</td>\n",
       "      <td>30</td>\n",
       "      <td>50</td>\n",
       "      <td>4</td>\n",
       "      <td>North Indian Recipes</td>\n",
       "      <td>North Indian Breakfast</td>\n",
       "      <td>High Protein Vegetarian</td>\n",
       "      <td>To begin making the Vegan Chickpea Omelette Re...</td>\n",
       "      <td>To begin making the Vegan Chickpea Omelette Re...</td>\n",
       "      <td>http://www.archanaskitchen.com/vegan-chickpea-...</td>\n",
       "    </tr>\n",
       "    <tr>\n",
       "      <th>5692</th>\n",
       "      <td>8640</td>\n",
       "      <td>मैंगलोर फिश करी रेसिपी - Mangalore Fish Curry ...</td>\n",
       "      <td>Mangalore Fish Curry Recipe</td>\n",
       "      <td>500 ग्राम किंग फिश - काट ले,1 प्याज - बारीक का...</td>\n",
       "      <td>500 ग्राम किंग फिश - काट ले,1 प्याज - बारीक का...</td>\n",
       "      <td>10</td>\n",
       "      <td>30</td>\n",
       "      <td>40</td>\n",
       "      <td>4</td>\n",
       "      <td>Mangalorean</td>\n",
       "      <td>Lunch</td>\n",
       "      <td>Non Vegeterian</td>\n",
       "      <td>मैंगलोर फिश करी रेसिपी बनाने के लिए सबसे पहले ...</td>\n",
       "      <td>मैंगलोर फिश करी रेसिपी बनाने के लिए सबसे पहले ...</td>\n",
       "      <td>https://www.archanaskitchen.com/mangalore-fish...</td>\n",
       "    </tr>\n",
       "    <tr>\n",
       "      <th>6104</th>\n",
       "      <td>9733</td>\n",
       "      <td>Thai Red Curry with Chicken and Brinjal Recipe</td>\n",
       "      <td>Thai Red Curry with Chicken and Brinjal Recipe</td>\n",
       "      <td>300 grams Chicken - boneless pieces,400 ml Coc...</td>\n",
       "      <td>300 grams Chicken - boneless pieces,400 ml Coc...</td>\n",
       "      <td>5</td>\n",
       "      <td>30</td>\n",
       "      <td>35</td>\n",
       "      <td>4</td>\n",
       "      <td>Thai</td>\n",
       "      <td>Lunch</td>\n",
       "      <td>Non Vegeterian</td>\n",
       "      <td>To begin making the Vegetarian Thai Red Curry ...</td>\n",
       "      <td>To begin making the Vegetarian Thai Red Curry ...</td>\n",
       "      <td>https://www.archanaskitchen.com/thai-red-curry...</td>\n",
       "    </tr>\n",
       "  </tbody>\n",
       "</table>\n",
       "</div>"
      ],
      "text/plain": [
       "      Srno                                         RecipeName  \\\n",
       "5216  7494         Mango Musk Melon Chia Seeds Pudding Recipe   \n",
       "63      71  Vegan Chickpea Omelette Recipe (Spiced Chickpe...   \n",
       "5692  8640  मैंगलोर फिश करी रेसिपी - Mangalore Fish Curry ...   \n",
       "6104  9733     Thai Red Curry with Chicken and Brinjal Recipe   \n",
       "\n",
       "                                   TranslatedRecipeName  \\\n",
       "5216         Mango Musk Melon Chia Seeds Pudding Recipe   \n",
       "63    Vegan Chickpea Omelette Recipe (Spiced Chickpe...   \n",
       "5692                        Mangalore Fish Curry Recipe   \n",
       "6104     Thai Red Curry with Chicken and Brinjal Recipe   \n",
       "\n",
       "                                            Ingredients  \\\n",
       "5216  2 cups Musk Melon - pulp,2 Mango (Ripe) - alph...   \n",
       "63    1 cup Gram flour (besan),1/2 cup Coconut milk,...   \n",
       "5692  500 ग्राम किंग फिश - काट ले,1 प्याज - बारीक का...   \n",
       "6104  300 grams Chicken - boneless pieces,400 ml Coc...   \n",
       "\n",
       "                                  TranslatedIngredients  PrepTimeInMins  \\\n",
       "5216  2 cups Musk Melon - pulp,2 Mango (Ripe) - alph...              10   \n",
       "63    1 cup Gram flour (besan),1/2 cup Coconut milk,...              20   \n",
       "5692  500 ग्राम किंग फिश - काट ले,1 प्याज - बारीक का...              10   \n",
       "6104  300 grams Chicken - boneless pieces,400 ml Coc...               5   \n",
       "\n",
       "      CookTimeInMins  TotalTimeInMins  Servings               Cuisine  \\\n",
       "5216              15               25         2           Continental   \n",
       "63                30               50         4  North Indian Recipes   \n",
       "5692              30               40         4           Mangalorean   \n",
       "6104              30               35         4                  Thai   \n",
       "\n",
       "                      Course                     Diet  \\\n",
       "5216         World Breakfast               Vegetarian   \n",
       "63    North Indian Breakfast  High Protein Vegetarian   \n",
       "5692                   Lunch           Non Vegeterian   \n",
       "6104                   Lunch           Non Vegeterian   \n",
       "\n",
       "                                           Instructions  \\\n",
       "5216  To begin with Mango Musk Melon Chia Seeds Pudd...   \n",
       "63    To begin making the Vegan Chickpea Omelette Re...   \n",
       "5692  मैंगलोर फिश करी रेसिपी बनाने के लिए सबसे पहले ...   \n",
       "6104  To begin making the Vegetarian Thai Red Curry ...   \n",
       "\n",
       "                                 TranslatedInstructions  \\\n",
       "5216  To begin with Mango Musk Melon Chia Seeds Pudd...   \n",
       "63    To begin making the Vegan Chickpea Omelette Re...   \n",
       "5692  मैंगलोर फिश करी रेसिपी बनाने के लिए सबसे पहले ...   \n",
       "6104  To begin making the Vegetarian Thai Red Curry ...   \n",
       "\n",
       "                                                    URL  \n",
       "5216  https://www.archanaskitchen.com/mango-musk-mel...  \n",
       "63    http://www.archanaskitchen.com/vegan-chickpea-...  \n",
       "5692  https://www.archanaskitchen.com/mangalore-fish...  \n",
       "6104  https://www.archanaskitchen.com/thai-red-curry...  "
      ]
     },
     "execution_count": 7,
     "metadata": {},
     "output_type": "execute_result"
    }
   ],
   "source": [
    "food_df.sample(4)"
   ]
  },
  {
   "cell_type": "code",
   "execution_count": 8,
   "metadata": {},
   "outputs": [
    {
     "name": "stdout",
     "output_type": "stream",
     "text": [
      "<class 'pandas.core.frame.DataFrame'>\n",
      "RangeIndex: 6871 entries, 0 to 6870\n",
      "Data columns (total 15 columns):\n",
      " #   Column                  Non-Null Count  Dtype \n",
      "---  ------                  --------------  ----- \n",
      " 0   Srno                    6871 non-null   int64 \n",
      " 1   RecipeName              6871 non-null   object\n",
      " 2   TranslatedRecipeName    6871 non-null   object\n",
      " 3   Ingredients             6865 non-null   object\n",
      " 4   TranslatedIngredients   6865 non-null   object\n",
      " 5   PrepTimeInMins          6871 non-null   int64 \n",
      " 6   CookTimeInMins          6871 non-null   int64 \n",
      " 7   TotalTimeInMins         6871 non-null   int64 \n",
      " 8   Servings                6871 non-null   int64 \n",
      " 9   Cuisine                 6871 non-null   object\n",
      " 10  Course                  6871 non-null   object\n",
      " 11  Diet                    6871 non-null   object\n",
      " 12  Instructions            6871 non-null   object\n",
      " 13  TranslatedInstructions  6871 non-null   object\n",
      " 14  URL                     6871 non-null   object\n",
      "dtypes: int64(5), object(10)\n",
      "memory usage: 805.3+ KB\n"
     ]
    }
   ],
   "source": [
    "food_df.info()"
   ]
  },
  {
   "cell_type": "code",
   "execution_count": 9,
   "metadata": {},
   "outputs": [],
   "source": [
    "# dropping miscellaneous columns and NaN entries\n",
    "columns_to_drop = ['Srno', 'RecipeName', 'CookTimeInMins', 'TotalTimeInMins', 'Servings', 'Instructions', 'TranslatedInstructions', 'Ingredients', 'URL']\n",
    "food_df = food_df.drop(columns=columns_to_drop)"
   ]
  },
  {
   "cell_type": "code",
   "execution_count": 10,
   "metadata": {},
   "outputs": [
    {
     "data": {
      "text/plain": [
       "(6871, 6)"
      ]
     },
     "execution_count": 10,
     "metadata": {},
     "output_type": "execute_result"
    }
   ],
   "source": [
    "food_df.shape"
   ]
  },
  {
   "cell_type": "markdown",
   "metadata": {},
   "source": [
    "## Check out null entries"
   ]
  },
  {
   "cell_type": "code",
   "execution_count": 11,
   "metadata": {},
   "outputs": [
    {
     "data": {
      "text/plain": [
       "Index(['TranslatedIngredients'], dtype='object')"
      ]
     },
     "execution_count": 11,
     "metadata": {},
     "output_type": "execute_result"
    }
   ],
   "source": [
    "food_df.columns[food_df.isnull().any()]"
   ]
  },
  {
   "cell_type": "code",
   "execution_count": 12,
   "metadata": {},
   "outputs": [
    {
     "data": {
      "text/html": [
       "<div>\n",
       "<style scoped>\n",
       "    .dataframe tbody tr th:only-of-type {\n",
       "        vertical-align: middle;\n",
       "    }\n",
       "\n",
       "    .dataframe tbody tr th {\n",
       "        vertical-align: top;\n",
       "    }\n",
       "\n",
       "    .dataframe thead th {\n",
       "        text-align: right;\n",
       "    }\n",
       "</style>\n",
       "<table border=\"1\" class=\"dataframe\">\n",
       "  <thead>\n",
       "    <tr style=\"text-align: right;\">\n",
       "      <th></th>\n",
       "      <th>TranslatedRecipeName</th>\n",
       "      <th>TranslatedIngredients</th>\n",
       "      <th>PrepTimeInMins</th>\n",
       "      <th>Cuisine</th>\n",
       "      <th>Course</th>\n",
       "      <th>Diet</th>\n",
       "    </tr>\n",
       "  </thead>\n",
       "  <tbody>\n",
       "    <tr>\n",
       "      <th>1</th>\n",
       "      <td>Spicy Tomato Rice (Recipe)</td>\n",
       "      <td>2-1 / 2 cups rice - cooked, 3 tomatoes, 3 teas...</td>\n",
       "      <td>5</td>\n",
       "      <td>South Indian Recipes</td>\n",
       "      <td>Main Course</td>\n",
       "      <td>Vegetarian</td>\n",
       "    </tr>\n",
       "  </tbody>\n",
       "</table>\n",
       "</div>"
      ],
      "text/plain": [
       "         TranslatedRecipeName  \\\n",
       "1  Spicy Tomato Rice (Recipe)   \n",
       "\n",
       "                               TranslatedIngredients  PrepTimeInMins  \\\n",
       "1  2-1 / 2 cups rice - cooked, 3 tomatoes, 3 teas...               5   \n",
       "\n",
       "                Cuisine       Course        Diet  \n",
       "1  South Indian Recipes  Main Course  Vegetarian  "
      ]
     },
     "execution_count": 12,
     "metadata": {},
     "output_type": "execute_result"
    }
   ],
   "source": [
    "food_df.iloc[ np.where(food_df.isnull().any())[0] ]"
   ]
  },
  {
   "cell_type": "markdown",
   "metadata": {},
   "source": [
    "Column-wise view of number of null entries in the dataframe"
   ]
  },
  {
   "cell_type": "code",
   "execution_count": 13,
   "metadata": {},
   "outputs": [
    {
     "data": {
      "text/plain": [
       "TranslatedIngredients    6\n",
       "dtype: int64"
      ]
     },
     "execution_count": 13,
     "metadata": {},
     "output_type": "execute_result"
    }
   ],
   "source": [
    "null_columns=food_df.columns[food_df.isnull().any()]\n",
    "food_df[null_columns].isnull().sum()"
   ]
  },
  {
   "cell_type": "markdown",
   "metadata": {},
   "source": [
    "Views columns with atleast 1 null entry"
   ]
  },
  {
   "cell_type": "code",
   "execution_count": 14,
   "metadata": {},
   "outputs": [
    {
     "data": {
      "text/html": [
       "<div>\n",
       "<style scoped>\n",
       "    .dataframe tbody tr th:only-of-type {\n",
       "        vertical-align: middle;\n",
       "    }\n",
       "\n",
       "    .dataframe tbody tr th {\n",
       "        vertical-align: top;\n",
       "    }\n",
       "\n",
       "    .dataframe thead th {\n",
       "        text-align: right;\n",
       "    }\n",
       "</style>\n",
       "<table border=\"1\" class=\"dataframe\">\n",
       "  <thead>\n",
       "    <tr style=\"text-align: right;\">\n",
       "      <th></th>\n",
       "      <th>TranslatedRecipeName</th>\n",
       "      <th>TranslatedIngredients</th>\n",
       "      <th>PrepTimeInMins</th>\n",
       "      <th>Cuisine</th>\n",
       "      <th>Course</th>\n",
       "      <th>Diet</th>\n",
       "    </tr>\n",
       "  </thead>\n",
       "  <tbody>\n",
       "    <tr>\n",
       "      <th>287</th>\n",
       "      <td>Pear And Walnut Salad Recipe</td>\n",
       "      <td>NaN</td>\n",
       "      <td>10</td>\n",
       "      <td>Continental</td>\n",
       "      <td>Appetizer</td>\n",
       "      <td>Vegetarian</td>\n",
       "    </tr>\n",
       "    <tr>\n",
       "      <th>1262</th>\n",
       "      <td>Spinach and Cottage Cheese Eggless Ravioli Recipe</td>\n",
       "      <td>NaN</td>\n",
       "      <td>25</td>\n",
       "      <td>Italian Recipes</td>\n",
       "      <td>Dinner</td>\n",
       "      <td>Vegetarian</td>\n",
       "    </tr>\n",
       "    <tr>\n",
       "      <th>1809</th>\n",
       "      <td>Thai Jasmine Sticky Rice Recipe</td>\n",
       "      <td>NaN</td>\n",
       "      <td>30</td>\n",
       "      <td>North Indian Recipes</td>\n",
       "      <td>Lunch</td>\n",
       "      <td>Vegetarian</td>\n",
       "    </tr>\n",
       "    <tr>\n",
       "      <th>1827</th>\n",
       "      <td>Classic Pavakkai Stir Fry Recipe (Bitter Gourd...</td>\n",
       "      <td>NaN</td>\n",
       "      <td>30</td>\n",
       "      <td>Greek</td>\n",
       "      <td>Appetizer</td>\n",
       "      <td>Vegetarian</td>\n",
       "    </tr>\n",
       "    <tr>\n",
       "      <th>5386</th>\n",
       "      <td>Urulaikizhangu Puli Thokku Recipe (South India...</td>\n",
       "      <td>NaN</td>\n",
       "      <td>15</td>\n",
       "      <td>South Indian Recipes</td>\n",
       "      <td>Lunch</td>\n",
       "      <td>Vegetarian</td>\n",
       "    </tr>\n",
       "    <tr>\n",
       "      <th>5586</th>\n",
       "      <td>Mashed Peas Recipe</td>\n",
       "      <td>NaN</td>\n",
       "      <td>20</td>\n",
       "      <td>North Indian Recipes</td>\n",
       "      <td>North Indian Breakfast</td>\n",
       "      <td>Vegetarian</td>\n",
       "    </tr>\n",
       "  </tbody>\n",
       "</table>\n",
       "</div>"
      ],
      "text/plain": [
       "                                   TranslatedRecipeName TranslatedIngredients  \\\n",
       "287                        Pear And Walnut Salad Recipe                   NaN   \n",
       "1262  Spinach and Cottage Cheese Eggless Ravioli Recipe                   NaN   \n",
       "1809                    Thai Jasmine Sticky Rice Recipe                   NaN   \n",
       "1827  Classic Pavakkai Stir Fry Recipe (Bitter Gourd...                   NaN   \n",
       "5386  Urulaikizhangu Puli Thokku Recipe (South India...                   NaN   \n",
       "5586                                 Mashed Peas Recipe                   NaN   \n",
       "\n",
       "      PrepTimeInMins               Cuisine                  Course        Diet  \n",
       "287               10           Continental               Appetizer  Vegetarian  \n",
       "1262              25       Italian Recipes                  Dinner  Vegetarian  \n",
       "1809              30  North Indian Recipes                   Lunch  Vegetarian  \n",
       "1827              30                 Greek               Appetizer  Vegetarian  \n",
       "5386              15  South Indian Recipes                   Lunch  Vegetarian  \n",
       "5586              20  North Indian Recipes  North Indian Breakfast  Vegetarian  "
      ]
     },
     "execution_count": 14,
     "metadata": {},
     "output_type": "execute_result"
    }
   ],
   "source": [
    "is_NaN = food_df.isnull()\n",
    "row_has_NaN = is_NaN.any(axis=1)\n",
    "food_df[row_has_NaN]"
   ]
  },
  {
   "cell_type": "code",
   "execution_count": 15,
   "metadata": {},
   "outputs": [
    {
     "name": "stdout",
     "output_type": "stream",
     "text": [
      "(6865, 6)\n"
     ]
    }
   ],
   "source": [
    "food_df = food_df.dropna()\n",
    "print(food_df.shape)"
   ]
  },
  {
   "cell_type": "code",
   "execution_count": 16,
   "metadata": {},
   "outputs": [],
   "source": [
    "# data has indian-inspired international cuisines which are not what we are interested in\n",
    "cuisin_counts = food_df['Cuisine'].value_counts()\n",
    "cuisin_counts_more_than_50 = cuisin_counts.iloc[np.where(cuisin_counts > 50)]"
   ]
  },
  {
   "cell_type": "code",
   "execution_count": 17,
   "metadata": {},
   "outputs": [],
   "source": [
    "food_df_top_cuisine = food_df.loc[ food_df['Cuisine'].isin(list(cuisin_counts_more_than_50.index))  ] #Dropping entries in `food_df` which have non-ind"
   ]
  },
  {
   "cell_type": "code",
   "execution_count": 18,
   "metadata": {},
   "outputs": [
    {
     "data": {
      "text/plain": [
       "(6075, 6)"
      ]
     },
     "execution_count": 18,
     "metadata": {},
     "output_type": "execute_result"
    }
   ],
   "source": [
    "food_df_top_cuisine.shape"
   ]
  },
  {
   "cell_type": "code",
   "execution_count": 19,
   "metadata": {},
   "outputs": [
    {
     "data": {
      "text/plain": [
       "Indian                   1157\n",
       "Continental              1020\n",
       "North Indian Recipes      936\n",
       "South Indian Recipes      681\n",
       "Italian Recipes           235\n",
       "Bengali Recipes           175\n",
       "Maharashtrian Recipes     173\n",
       "Kerala Recipes            163\n",
       "Tamil Nadu                156\n",
       "Karnataka                 149\n",
       "Fusion                    135\n",
       "Rajasthani                123\n",
       "Mexican                   119\n",
       "Andhra                    118\n",
       "Gujarati Recipes﻿         115\n",
       "Goan Recipes               99\n",
       "Punjabi                    84\n",
       "Chettinad                  74\n",
       "Asian                      72\n",
       "Thai                       66\n",
       "Chinese                    59\n",
       "Kashmiri                   59\n",
       "French                     54\n",
       "Middle Eastern             53\n",
       "Name: Cuisine, dtype: int64"
      ]
     },
     "execution_count": 19,
     "metadata": {},
     "output_type": "execute_result"
    }
   ],
   "source": [
    "food_df_top_cuisine['Cuisine'].value_counts()"
   ]
  },
  {
   "cell_type": "code",
   "execution_count": 20,
   "metadata": {},
   "outputs": [],
   "source": [
    "south_indian_tag = ['Chettinad', 'Andhra', 'Karnataka', 'Tamil Nadu', 'Kerala Recipes', 'South Indian Recipes']\n",
    "central_indian_tag = ['Gujarati Recipes', 'Goan Recipes', 'Rajasthani', 'Maharashtrian Recipes']\n",
    "north_indian_tag = ['North Indian Recipes', 'Punjabi', 'Kashmiri']"
   ]
  },
  {
   "cell_type": "code",
   "execution_count": 21,
   "metadata": {},
   "outputs": [
    {
     "data": {
      "text/html": [
       "<div>\n",
       "<style scoped>\n",
       "    .dataframe tbody tr th:only-of-type {\n",
       "        vertical-align: middle;\n",
       "    }\n",
       "\n",
       "    .dataframe tbody tr th {\n",
       "        vertical-align: top;\n",
       "    }\n",
       "\n",
       "    .dataframe thead th {\n",
       "        text-align: right;\n",
       "    }\n",
       "</style>\n",
       "<table border=\"1\" class=\"dataframe\">\n",
       "  <thead>\n",
       "    <tr style=\"text-align: right;\">\n",
       "      <th></th>\n",
       "      <th>TranslatedRecipeName</th>\n",
       "      <th>TranslatedIngredients</th>\n",
       "      <th>PrepTimeInMins</th>\n",
       "      <th>Cuisine</th>\n",
       "      <th>Course</th>\n",
       "      <th>Diet</th>\n",
       "    </tr>\n",
       "  </thead>\n",
       "  <tbody>\n",
       "    <tr>\n",
       "      <th>0</th>\n",
       "      <td>Masala Karela Recipe</td>\n",
       "      <td>6 Karela (Bitter Gourd/ Pavakkai) - deseeded,S...</td>\n",
       "      <td>15</td>\n",
       "      <td>Indian</td>\n",
       "      <td>Side Dish</td>\n",
       "      <td>Diabetic Friendly</td>\n",
       "    </tr>\n",
       "    <tr>\n",
       "      <th>1</th>\n",
       "      <td>Spicy Tomato Rice (Recipe)</td>\n",
       "      <td>2-1 / 2 cups rice - cooked, 3 tomatoes, 3 teas...</td>\n",
       "      <td>5</td>\n",
       "      <td>South Indian Recipes</td>\n",
       "      <td>Main Course</td>\n",
       "      <td>Vegetarian</td>\n",
       "    </tr>\n",
       "    <tr>\n",
       "      <th>2</th>\n",
       "      <td>Ragi Semiya Upma Recipe - Ragi Millet Vermicel...</td>\n",
       "      <td>1-1/2 cups Rice Vermicelli Noodles (Thin),1 On...</td>\n",
       "      <td>20</td>\n",
       "      <td>South Indian Recipes</td>\n",
       "      <td>South Indian Breakfast</td>\n",
       "      <td>High Protein Vegetarian</td>\n",
       "    </tr>\n",
       "    <tr>\n",
       "      <th>3</th>\n",
       "      <td>Gongura Chicken Curry Recipe - Andhra Style Go...</td>\n",
       "      <td>500 grams Chicken,2 Onion - chopped,1 Tomato -...</td>\n",
       "      <td>15</td>\n",
       "      <td>Andhra</td>\n",
       "      <td>Lunch</td>\n",
       "      <td>Non Vegeterian</td>\n",
       "    </tr>\n",
       "    <tr>\n",
       "      <th>4</th>\n",
       "      <td>Andhra Style Alam Pachadi Recipe - Adrak Chutn...</td>\n",
       "      <td>1 tablespoon chana dal, 1 tablespoon white ura...</td>\n",
       "      <td>10</td>\n",
       "      <td>Andhra</td>\n",
       "      <td>South Indian Breakfast</td>\n",
       "      <td>Vegetarian</td>\n",
       "    </tr>\n",
       "    <tr>\n",
       "      <th>...</th>\n",
       "      <td>...</td>\n",
       "      <td>...</td>\n",
       "      <td>...</td>\n",
       "      <td>...</td>\n",
       "      <td>...</td>\n",
       "      <td>...</td>\n",
       "    </tr>\n",
       "    <tr>\n",
       "      <th>6866</th>\n",
       "      <td>Goan Mushroom Xacuti Recipe</td>\n",
       "      <td>20 बटन मशरुम,2 प्याज - काट ले,1 टमाटर - बारीक ...</td>\n",
       "      <td>15</td>\n",
       "      <td>Goan Recipes</td>\n",
       "      <td>Lunch</td>\n",
       "      <td>Vegetarian</td>\n",
       "    </tr>\n",
       "    <tr>\n",
       "      <th>6867</th>\n",
       "      <td>Sweet Potato &amp; Methi Stuffed Paratha Recipe</td>\n",
       "      <td>1 बड़ा चम्मच तेल,1 कप गेहूं का आटा,नमक - स्वाद ...</td>\n",
       "      <td>30</td>\n",
       "      <td>North Indian Recipes</td>\n",
       "      <td>North Indian Breakfast</td>\n",
       "      <td>Diabetic Friendly</td>\n",
       "    </tr>\n",
       "    <tr>\n",
       "      <th>6868</th>\n",
       "      <td>Ullikadala Pulusu Recipe | Spring Onion Curry</td>\n",
       "      <td>150 grams Spring Onion (Bulb &amp; Greens) - chopp...</td>\n",
       "      <td>5</td>\n",
       "      <td>Andhra</td>\n",
       "      <td>Side Dish</td>\n",
       "      <td>Vegetarian</td>\n",
       "    </tr>\n",
       "    <tr>\n",
       "      <th>6869</th>\n",
       "      <td>Kashmiri Style Kokur Yakhni Recipe-Chicken Coo...</td>\n",
       "      <td>1 kg Chicken - medium pieces,1/2 cup Mustard o...</td>\n",
       "      <td>30</td>\n",
       "      <td>Kashmiri</td>\n",
       "      <td>Lunch</td>\n",
       "      <td>Non Vegeterian</td>\n",
       "    </tr>\n",
       "    <tr>\n",
       "      <th>6870</th>\n",
       "      <td>Navrang Dal Recipe</td>\n",
       "      <td>2 बड़े चम्मच हरी मूंग दाल,2 बड़े चम्मच सफ़ेद उरद ...</td>\n",
       "      <td>10</td>\n",
       "      <td>North Indian Recipes</td>\n",
       "      <td>Lunch</td>\n",
       "      <td>High Protein Vegetarian</td>\n",
       "    </tr>\n",
       "  </tbody>\n",
       "</table>\n",
       "<p>6075 rows × 6 columns</p>\n",
       "</div>"
      ],
      "text/plain": [
       "                                   TranslatedRecipeName  \\\n",
       "0                                  Masala Karela Recipe   \n",
       "1                            Spicy Tomato Rice (Recipe)   \n",
       "2     Ragi Semiya Upma Recipe - Ragi Millet Vermicel...   \n",
       "3     Gongura Chicken Curry Recipe - Andhra Style Go...   \n",
       "4     Andhra Style Alam Pachadi Recipe - Adrak Chutn...   \n",
       "...                                                 ...   \n",
       "6866                        Goan Mushroom Xacuti Recipe   \n",
       "6867        Sweet Potato & Methi Stuffed Paratha Recipe   \n",
       "6868      Ullikadala Pulusu Recipe | Spring Onion Curry   \n",
       "6869  Kashmiri Style Kokur Yakhni Recipe-Chicken Coo...   \n",
       "6870                                 Navrang Dal Recipe   \n",
       "\n",
       "                                  TranslatedIngredients  PrepTimeInMins  \\\n",
       "0     6 Karela (Bitter Gourd/ Pavakkai) - deseeded,S...              15   \n",
       "1     2-1 / 2 cups rice - cooked, 3 tomatoes, 3 teas...               5   \n",
       "2     1-1/2 cups Rice Vermicelli Noodles (Thin),1 On...              20   \n",
       "3     500 grams Chicken,2 Onion - chopped,1 Tomato -...              15   \n",
       "4     1 tablespoon chana dal, 1 tablespoon white ura...              10   \n",
       "...                                                 ...             ...   \n",
       "6866  20 बटन मशरुम,2 प्याज - काट ले,1 टमाटर - बारीक ...              15   \n",
       "6867  1 बड़ा चम्मच तेल,1 कप गेहूं का आटा,नमक - स्वाद ...              30   \n",
       "6868  150 grams Spring Onion (Bulb & Greens) - chopp...               5   \n",
       "6869  1 kg Chicken - medium pieces,1/2 cup Mustard o...              30   \n",
       "6870  2 बड़े चम्मच हरी मूंग दाल,2 बड़े चम्मच सफ़ेद उरद ...              10   \n",
       "\n",
       "                   Cuisine                  Course                     Diet  \n",
       "0                   Indian               Side Dish        Diabetic Friendly  \n",
       "1     South Indian Recipes             Main Course               Vegetarian  \n",
       "2     South Indian Recipes  South Indian Breakfast  High Protein Vegetarian  \n",
       "3                   Andhra                   Lunch           Non Vegeterian  \n",
       "4                   Andhra  South Indian Breakfast               Vegetarian  \n",
       "...                    ...                     ...                      ...  \n",
       "6866          Goan Recipes                   Lunch               Vegetarian  \n",
       "6867  North Indian Recipes  North Indian Breakfast        Diabetic Friendly  \n",
       "6868                Andhra               Side Dish               Vegetarian  \n",
       "6869              Kashmiri                   Lunch           Non Vegeterian  \n",
       "6870  North Indian Recipes                   Lunch  High Protein Vegetarian  \n",
       "\n",
       "[6075 rows x 6 columns]"
      ]
     },
     "execution_count": 21,
     "metadata": {},
     "output_type": "execute_result"
    }
   ],
   "source": [
    "food_df_top_cuisine"
   ]
  },
  {
   "cell_type": "code",
   "execution_count": 22,
   "metadata": {},
   "outputs": [
    {
     "name": "stderr",
     "output_type": "stream",
     "text": [
      "/Users/pghaneka/miniconda3/envs/doodle/lib/python3.8/site-packages/pandas/core/indexing.py:1599: SettingWithCopyWarning: \n",
      "A value is trying to be set on a copy of a slice from a DataFrame.\n",
      "Try using .loc[row_indexer,col_indexer] = value instead\n",
      "\n",
      "See the caveats in the documentation: https://pandas.pydata.org/pandas-docs/stable/user_guide/indexing.html#returning-a-view-versus-a-copy\n",
      "  self.obj[key] = infer_fill_value(value)\n",
      "/Users/pghaneka/miniconda3/envs/doodle/lib/python3.8/site-packages/pandas/core/indexing.py:1720: SettingWithCopyWarning: \n",
      "A value is trying to be set on a copy of a slice from a DataFrame.\n",
      "Try using .loc[row_indexer,col_indexer] = value instead\n",
      "\n",
      "See the caveats in the documentation: https://pandas.pydata.org/pandas-docs/stable/user_guide/indexing.html#returning-a-view-versus-a-copy\n",
      "  self._setitem_single_column(loc, value, pi)\n"
     ]
    }
   ],
   "source": [
    "food_df_top_cuisine.loc[food_df_top_cuisine['Cuisine'].isin(south_indian_tag), 'Combined_cuisine'] = 'South Indian'\n",
    "food_df_top_cuisine.loc[food_df_top_cuisine['Cuisine'].isin(central_indian_tag), 'Combined_cuisine'] = 'Central Indian'\n",
    "food_df_top_cuisine.loc[food_df_top_cuisine['Cuisine'].isin(north_indian_tag), 'Combined_cuisine'] = 'North Indian'"
   ]
  },
  {
   "cell_type": "code",
   "execution_count": 34,
   "metadata": {},
   "outputs": [
    {
     "data": {
      "text/plain": [
       "South Indian      1341\n",
       "North Indian      1079\n",
       "Central Indian     395\n",
       "Name: Combined_cuisine, dtype: int64"
      ]
     },
     "execution_count": 34,
     "metadata": {},
     "output_type": "execute_result"
    }
   ],
   "source": [
    "food_df_top_cuisine.loc[ ~food_df_top_cuisine['Combined_cuisine'].isnull() ]['Combined_cuisine'].value_counts()"
   ]
  },
  {
   "cell_type": "code",
   "execution_count": 35,
   "metadata": {},
   "outputs": [
    {
     "data": {
      "text/html": [
       "<div>\n",
       "<style scoped>\n",
       "    .dataframe tbody tr th:only-of-type {\n",
       "        vertical-align: middle;\n",
       "    }\n",
       "\n",
       "    .dataframe tbody tr th {\n",
       "        vertical-align: top;\n",
       "    }\n",
       "\n",
       "    .dataframe thead th {\n",
       "        text-align: right;\n",
       "    }\n",
       "</style>\n",
       "<table border=\"1\" class=\"dataframe\">\n",
       "  <thead>\n",
       "    <tr style=\"text-align: right;\">\n",
       "      <th></th>\n",
       "      <th>TranslatedRecipeName</th>\n",
       "      <th>TranslatedIngredients</th>\n",
       "      <th>PrepTimeInMins</th>\n",
       "      <th>Cuisine</th>\n",
       "      <th>Course</th>\n",
       "      <th>Diet</th>\n",
       "      <th>Combined_cuisine</th>\n",
       "    </tr>\n",
       "  </thead>\n",
       "  <tbody>\n",
       "    <tr>\n",
       "      <th>0</th>\n",
       "      <td>Masala Karela Recipe</td>\n",
       "      <td>6 Karela (Bitter Gourd/ Pavakkai) - deseeded,S...</td>\n",
       "      <td>15</td>\n",
       "      <td>Indian</td>\n",
       "      <td>Side Dish</td>\n",
       "      <td>Diabetic Friendly</td>\n",
       "      <td>NaN</td>\n",
       "    </tr>\n",
       "    <tr>\n",
       "      <th>1</th>\n",
       "      <td>Spicy Tomato Rice (Recipe)</td>\n",
       "      <td>2-1 / 2 cups rice - cooked, 3 tomatoes, 3 teas...</td>\n",
       "      <td>5</td>\n",
       "      <td>South Indian Recipes</td>\n",
       "      <td>Main Course</td>\n",
       "      <td>Vegetarian</td>\n",
       "      <td>South Indian</td>\n",
       "    </tr>\n",
       "    <tr>\n",
       "      <th>2</th>\n",
       "      <td>Ragi Semiya Upma Recipe - Ragi Millet Vermicel...</td>\n",
       "      <td>1-1/2 cups Rice Vermicelli Noodles (Thin),1 On...</td>\n",
       "      <td>20</td>\n",
       "      <td>South Indian Recipes</td>\n",
       "      <td>South Indian Breakfast</td>\n",
       "      <td>High Protein Vegetarian</td>\n",
       "      <td>South Indian</td>\n",
       "    </tr>\n",
       "    <tr>\n",
       "      <th>3</th>\n",
       "      <td>Gongura Chicken Curry Recipe - Andhra Style Go...</td>\n",
       "      <td>500 grams Chicken,2 Onion - chopped,1 Tomato -...</td>\n",
       "      <td>15</td>\n",
       "      <td>Andhra</td>\n",
       "      <td>Lunch</td>\n",
       "      <td>Non Vegeterian</td>\n",
       "      <td>South Indian</td>\n",
       "    </tr>\n",
       "    <tr>\n",
       "      <th>4</th>\n",
       "      <td>Andhra Style Alam Pachadi Recipe - Adrak Chutn...</td>\n",
       "      <td>1 tablespoon chana dal, 1 tablespoon white ura...</td>\n",
       "      <td>10</td>\n",
       "      <td>Andhra</td>\n",
       "      <td>South Indian Breakfast</td>\n",
       "      <td>Vegetarian</td>\n",
       "      <td>South Indian</td>\n",
       "    </tr>\n",
       "  </tbody>\n",
       "</table>\n",
       "</div>"
      ],
      "text/plain": [
       "                                TranslatedRecipeName  \\\n",
       "0                               Masala Karela Recipe   \n",
       "1                         Spicy Tomato Rice (Recipe)   \n",
       "2  Ragi Semiya Upma Recipe - Ragi Millet Vermicel...   \n",
       "3  Gongura Chicken Curry Recipe - Andhra Style Go...   \n",
       "4  Andhra Style Alam Pachadi Recipe - Adrak Chutn...   \n",
       "\n",
       "                               TranslatedIngredients  PrepTimeInMins  \\\n",
       "0  6 Karela (Bitter Gourd/ Pavakkai) - deseeded,S...              15   \n",
       "1  2-1 / 2 cups rice - cooked, 3 tomatoes, 3 teas...               5   \n",
       "2  1-1/2 cups Rice Vermicelli Noodles (Thin),1 On...              20   \n",
       "3  500 grams Chicken,2 Onion - chopped,1 Tomato -...              15   \n",
       "4  1 tablespoon chana dal, 1 tablespoon white ura...              10   \n",
       "\n",
       "                Cuisine                  Course                     Diet  \\\n",
       "0                Indian               Side Dish        Diabetic Friendly   \n",
       "1  South Indian Recipes             Main Course               Vegetarian   \n",
       "2  South Indian Recipes  South Indian Breakfast  High Protein Vegetarian   \n",
       "3                Andhra                   Lunch           Non Vegeterian   \n",
       "4                Andhra  South Indian Breakfast               Vegetarian   \n",
       "\n",
       "  Combined_cuisine  \n",
       "0              NaN  \n",
       "1     South Indian  \n",
       "2     South Indian  \n",
       "3     South Indian  \n",
       "4     South Indian  "
      ]
     },
     "execution_count": 35,
     "metadata": {},
     "output_type": "execute_result"
    }
   ],
   "source": [
    "food_df_top_cuisine.head(5)"
   ]
  },
  {
   "cell_type": "code",
   "execution_count": 36,
   "metadata": {},
   "outputs": [
    {
     "data": {
      "text/plain": [
       "Lunch                      1542\n",
       "Side Dish                   871\n",
       "Snack                       823\n",
       "Dinner                      691\n",
       "Dessert                     610\n",
       "Appetizer                   539\n",
       "World Breakfast             253\n",
       "Main Course                 239\n",
       "South Indian Breakfast      237\n",
       "North Indian Breakfast      109\n",
       "Indian Breakfast             90\n",
       "Vegetarian                   36\n",
       "One Pot Dish                 23\n",
       "High Protein Vegetarian       5\n",
       "Brunch                        3\n",
       "Vegan                         3\n",
       "Eggetarian                    1\n",
       "Name: Course, dtype: int64"
      ]
     },
     "execution_count": 36,
     "metadata": {},
     "output_type": "execute_result"
    }
   ],
   "source": [
    "food_df_top_cuisine['Course'].value_counts()"
   ]
  },
  {
   "cell_type": "code",
   "execution_count": 37,
   "metadata": {},
   "outputs": [],
   "source": [
    "breakfast_tag = ['South Indian Breakfast', 'North Indian Breakfast', 'Indian Breakfast', 'World Breakfast']"
   ]
  },
  {
   "cell_type": "code",
   "execution_count": 38,
   "metadata": {},
   "outputs": [
    {
     "name": "stderr",
     "output_type": "stream",
     "text": [
      "<ipython-input-38-51395373cdce>:1: SettingWithCopyWarning: \n",
      "A value is trying to be set on a copy of a slice from a DataFrame.\n",
      "Try using .loc[row_indexer,col_indexer] = value instead\n",
      "\n",
      "See the caveats in the documentation: https://pandas.pydata.org/pandas-docs/stable/user_guide/indexing.html#returning-a-view-versus-a-copy\n",
      "  food_df_top_cuisine['Combined_Course'] = food_df_top_cuisine['Course'].copy()\n"
     ]
    }
   ],
   "source": [
    "food_df_top_cuisine['Combined_Course'] = food_df_top_cuisine['Course'].copy()"
   ]
  },
  {
   "cell_type": "code",
   "execution_count": 39,
   "metadata": {},
   "outputs": [
    {
     "name": "stderr",
     "output_type": "stream",
     "text": [
      "/Users/pghaneka/miniconda3/envs/doodle/lib/python3.8/site-packages/pandas/core/indexing.py:1720: SettingWithCopyWarning: \n",
      "A value is trying to be set on a copy of a slice from a DataFrame.\n",
      "Try using .loc[row_indexer,col_indexer] = value instead\n",
      "\n",
      "See the caveats in the documentation: https://pandas.pydata.org/pandas-docs/stable/user_guide/indexing.html#returning-a-view-versus-a-copy\n",
      "  self._setitem_single_column(loc, value, pi)\n"
     ]
    }
   ],
   "source": [
    "food_df_top_cuisine.loc[ food_df_top_cuisine['Course'].isin(breakfast_tag), 'Combined_Course'] = 'Breakfast'"
   ]
  },
  {
   "cell_type": "code",
   "execution_count": 40,
   "metadata": {},
   "outputs": [],
   "source": [
    "food_df_top_cuisine = food_df_top_cuisine.reset_index(drop=True)"
   ]
  },
  {
   "cell_type": "markdown",
   "metadata": {},
   "source": [
    "## Drop non-english entries for consistency"
   ]
  },
  {
   "cell_type": "code",
   "execution_count": 41,
   "metadata": {},
   "outputs": [],
   "source": [
    "# Some entries in the `TranslatedIngredients` have non-english entries \n",
    "def filter_english(string):\n",
    "    try:\n",
    "        string.encode('utf-8').decode('ascii')\n",
    "        out = True\n",
    "    except UnicodeDecodeError: \n",
    "        out = False\n",
    "    return out"
   ]
  },
  {
   "cell_type": "code",
   "execution_count": 42,
   "metadata": {},
   "outputs": [],
   "source": [
    "# Droping columns in the dataset having ingredients in language other than english \n",
    "df = food_df_top_cuisine.loc[ food_df_top_cuisine['TranslatedIngredients'].apply(filter_english) ]"
   ]
  },
  {
   "cell_type": "code",
   "execution_count": 43,
   "metadata": {},
   "outputs": [
    {
     "data": {
      "text/plain": [
       "(5457, 8)"
      ]
     },
     "execution_count": 43,
     "metadata": {},
     "output_type": "execute_result"
    }
   ],
   "source": [
    "df.shape"
   ]
  },
  {
   "cell_type": "code",
   "execution_count": 44,
   "metadata": {},
   "outputs": [],
   "source": [
    "df = df.reset_index(drop=True)"
   ]
  },
  {
   "cell_type": "code",
   "execution_count": 45,
   "metadata": {},
   "outputs": [
    {
     "data": {
      "text/html": [
       "<div>\n",
       "<style scoped>\n",
       "    .dataframe tbody tr th:only-of-type {\n",
       "        vertical-align: middle;\n",
       "    }\n",
       "\n",
       "    .dataframe tbody tr th {\n",
       "        vertical-align: top;\n",
       "    }\n",
       "\n",
       "    .dataframe thead th {\n",
       "        text-align: right;\n",
       "    }\n",
       "</style>\n",
       "<table border=\"1\" class=\"dataframe\">\n",
       "  <thead>\n",
       "    <tr style=\"text-align: right;\">\n",
       "      <th></th>\n",
       "      <th>TranslatedRecipeName</th>\n",
       "      <th>TranslatedIngredients</th>\n",
       "      <th>PrepTimeInMins</th>\n",
       "      <th>Cuisine</th>\n",
       "      <th>Course</th>\n",
       "      <th>Diet</th>\n",
       "      <th>Combined_cuisine</th>\n",
       "      <th>Combined_Course</th>\n",
       "    </tr>\n",
       "  </thead>\n",
       "  <tbody>\n",
       "    <tr>\n",
       "      <th>0</th>\n",
       "      <td>Masala Karela Recipe</td>\n",
       "      <td>6 Karela (Bitter Gourd/ Pavakkai) - deseeded,S...</td>\n",
       "      <td>15</td>\n",
       "      <td>Indian</td>\n",
       "      <td>Side Dish</td>\n",
       "      <td>Diabetic Friendly</td>\n",
       "      <td>NaN</td>\n",
       "      <td>Side Dish</td>\n",
       "    </tr>\n",
       "    <tr>\n",
       "      <th>1</th>\n",
       "      <td>Spicy Tomato Rice (Recipe)</td>\n",
       "      <td>2-1 / 2 cups rice - cooked, 3 tomatoes, 3 teas...</td>\n",
       "      <td>5</td>\n",
       "      <td>South Indian Recipes</td>\n",
       "      <td>Main Course</td>\n",
       "      <td>Vegetarian</td>\n",
       "      <td>South Indian</td>\n",
       "      <td>Main Course</td>\n",
       "    </tr>\n",
       "    <tr>\n",
       "      <th>2</th>\n",
       "      <td>Ragi Semiya Upma Recipe - Ragi Millet Vermicel...</td>\n",
       "      <td>1-1/2 cups Rice Vermicelli Noodles (Thin),1 On...</td>\n",
       "      <td>20</td>\n",
       "      <td>South Indian Recipes</td>\n",
       "      <td>South Indian Breakfast</td>\n",
       "      <td>High Protein Vegetarian</td>\n",
       "      <td>South Indian</td>\n",
       "      <td>Breakfast</td>\n",
       "    </tr>\n",
       "    <tr>\n",
       "      <th>3</th>\n",
       "      <td>Gongura Chicken Curry Recipe - Andhra Style Go...</td>\n",
       "      <td>500 grams Chicken,2 Onion - chopped,1 Tomato -...</td>\n",
       "      <td>15</td>\n",
       "      <td>Andhra</td>\n",
       "      <td>Lunch</td>\n",
       "      <td>Non Vegeterian</td>\n",
       "      <td>South Indian</td>\n",
       "      <td>Lunch</td>\n",
       "    </tr>\n",
       "    <tr>\n",
       "      <th>4</th>\n",
       "      <td>Andhra Style Alam Pachadi Recipe - Adrak Chutn...</td>\n",
       "      <td>1 tablespoon chana dal, 1 tablespoon white ura...</td>\n",
       "      <td>10</td>\n",
       "      <td>Andhra</td>\n",
       "      <td>South Indian Breakfast</td>\n",
       "      <td>Vegetarian</td>\n",
       "      <td>South Indian</td>\n",
       "      <td>Breakfast</td>\n",
       "    </tr>\n",
       "    <tr>\n",
       "      <th>5</th>\n",
       "      <td>Pudina Khara Pongal Recipe (Rice and Lentils C...</td>\n",
       "      <td>1 cup Rice - soaked for 20 minutes,1/2 cup Yel...</td>\n",
       "      <td>10</td>\n",
       "      <td>South Indian Recipes</td>\n",
       "      <td>South Indian Breakfast</td>\n",
       "      <td>High Protein Vegetarian</td>\n",
       "      <td>South Indian</td>\n",
       "      <td>Breakfast</td>\n",
       "    </tr>\n",
       "    <tr>\n",
       "      <th>6</th>\n",
       "      <td>Mexican Style Black Bean Burrito Recipe</td>\n",
       "      <td>4 Tortillas,1/4 cup Black beans - soaked overn...</td>\n",
       "      <td>10</td>\n",
       "      <td>Mexican</td>\n",
       "      <td>Lunch</td>\n",
       "      <td>Vegetarian</td>\n",
       "      <td>NaN</td>\n",
       "      <td>Lunch</td>\n",
       "    </tr>\n",
       "    <tr>\n",
       "      <th>7</th>\n",
       "      <td>Spicy Crunchy Masala Idli Recipe</td>\n",
       "      <td>10 Idli - cut into strips,1 cup Green Bell Pep...</td>\n",
       "      <td>10</td>\n",
       "      <td>South Indian Recipes</td>\n",
       "      <td>Snack</td>\n",
       "      <td>Vegetarian</td>\n",
       "      <td>South Indian</td>\n",
       "      <td>Snack</td>\n",
       "    </tr>\n",
       "    <tr>\n",
       "      <th>8</th>\n",
       "      <td>Cauliflower Leaves Chutney (Recipe in Hindi)</td>\n",
       "      <td>1 cup cabbage leaves, 3/4 cup tomatoes, 18 gra...</td>\n",
       "      <td>5</td>\n",
       "      <td>South Indian Recipes</td>\n",
       "      <td>Side Dish</td>\n",
       "      <td>Vegetarian</td>\n",
       "      <td>South Indian</td>\n",
       "      <td>Side Dish</td>\n",
       "    </tr>\n",
       "    <tr>\n",
       "      <th>9</th>\n",
       "      <td>Homemade Baked Beans Recipe (Wholesome &amp; Healthy)</td>\n",
       "      <td>250 grams Dry beans - (such as cannellini or s...</td>\n",
       "      <td>60</td>\n",
       "      <td>Fusion</td>\n",
       "      <td>High Protein Vegetarian</td>\n",
       "      <td>Vegetarian</td>\n",
       "      <td>NaN</td>\n",
       "      <td>High Protein Vegetarian</td>\n",
       "    </tr>\n",
       "  </tbody>\n",
       "</table>\n",
       "</div>"
      ],
      "text/plain": [
       "                                TranslatedRecipeName  \\\n",
       "0                               Masala Karela Recipe   \n",
       "1                         Spicy Tomato Rice (Recipe)   \n",
       "2  Ragi Semiya Upma Recipe - Ragi Millet Vermicel...   \n",
       "3  Gongura Chicken Curry Recipe - Andhra Style Go...   \n",
       "4  Andhra Style Alam Pachadi Recipe - Adrak Chutn...   \n",
       "5  Pudina Khara Pongal Recipe (Rice and Lentils C...   \n",
       "6            Mexican Style Black Bean Burrito Recipe   \n",
       "7                   Spicy Crunchy Masala Idli Recipe   \n",
       "8       Cauliflower Leaves Chutney (Recipe in Hindi)   \n",
       "9  Homemade Baked Beans Recipe (Wholesome & Healthy)   \n",
       "\n",
       "                               TranslatedIngredients  PrepTimeInMins  \\\n",
       "0  6 Karela (Bitter Gourd/ Pavakkai) - deseeded,S...              15   \n",
       "1  2-1 / 2 cups rice - cooked, 3 tomatoes, 3 teas...               5   \n",
       "2  1-1/2 cups Rice Vermicelli Noodles (Thin),1 On...              20   \n",
       "3  500 grams Chicken,2 Onion - chopped,1 Tomato -...              15   \n",
       "4  1 tablespoon chana dal, 1 tablespoon white ura...              10   \n",
       "5  1 cup Rice - soaked for 20 minutes,1/2 cup Yel...              10   \n",
       "6  4 Tortillas,1/4 cup Black beans - soaked overn...              10   \n",
       "7  10 Idli - cut into strips,1 cup Green Bell Pep...              10   \n",
       "8  1 cup cabbage leaves, 3/4 cup tomatoes, 18 gra...               5   \n",
       "9  250 grams Dry beans - (such as cannellini or s...              60   \n",
       "\n",
       "                Cuisine                   Course                     Diet  \\\n",
       "0                Indian                Side Dish        Diabetic Friendly   \n",
       "1  South Indian Recipes              Main Course               Vegetarian   \n",
       "2  South Indian Recipes   South Indian Breakfast  High Protein Vegetarian   \n",
       "3                Andhra                    Lunch           Non Vegeterian   \n",
       "4                Andhra   South Indian Breakfast               Vegetarian   \n",
       "5  South Indian Recipes   South Indian Breakfast  High Protein Vegetarian   \n",
       "6               Mexican                    Lunch               Vegetarian   \n",
       "7  South Indian Recipes                    Snack               Vegetarian   \n",
       "8  South Indian Recipes                Side Dish               Vegetarian   \n",
       "9                Fusion  High Protein Vegetarian               Vegetarian   \n",
       "\n",
       "  Combined_cuisine          Combined_Course  \n",
       "0              NaN                Side Dish  \n",
       "1     South Indian              Main Course  \n",
       "2     South Indian                Breakfast  \n",
       "3     South Indian                    Lunch  \n",
       "4     South Indian                Breakfast  \n",
       "5     South Indian                Breakfast  \n",
       "6              NaN                    Lunch  \n",
       "7     South Indian                    Snack  \n",
       "8     South Indian                Side Dish  \n",
       "9              NaN  High Protein Vegetarian  "
      ]
     },
     "execution_count": 45,
     "metadata": {},
     "output_type": "execute_result"
    }
   ],
   "source": [
    "df.head(10)"
   ]
  },
  {
   "cell_type": "code",
   "execution_count": null,
   "metadata": {},
   "outputs": [],
   "source": [
    "string_words_common = ['to taste', 'as required', 'tablespoon', 'teaspoon', 'cup', 'cups']"
   ]
  },
  {
   "cell_type": "code",
   "execution_count": 77,
   "metadata": {},
   "outputs": [],
   "source": [
    "# Text cleaning function \n",
    "import re\n",
    "def clean_symbols(row_entry):\n",
    "    return re.sub(r'\\W+|[0-9,]+', ' ', row_entry).strip().lower().replace('  ','')"
   ]
  },
  {
   "cell_type": "code",
   "execution_count": 78,
   "metadata": {},
   "outputs": [
    {
     "data": {
      "text/plain": [
       "'karela bitter gourd pavakkai deseeded salt to taste onion thinly sliced tablespoon gram flour besan teaspoons turmeric powder haldi tablespoon red chilli powder teaspoons cumin seeds jeera tablespoon coriander powder dhania tablespoon amchur dry mango powder sunflower oil as required'"
      ]
     },
     "execution_count": 78,
     "metadata": {},
     "output_type": "execute_result"
    }
   ],
   "source": [
    "clean_symbols(df['TranslatedIngredients'][0])"
   ]
  },
  {
   "cell_type": "code",
   "execution_count": 79,
   "metadata": {},
   "outputs": [
    {
     "data": {
      "text/plain": [
       "0       karela bitter gourd pavakkai deseeded salt to ...\n",
       "1       cups rice cooked tomatoes teaspoons bc belle b...\n",
       "2       cups rice vermicelli noodles thin onion sliced...\n",
       "3       grams chicken onion chopped tomato chopped gre...\n",
       "4       tablespoon chana dal tablespoon white urad dal...\n",
       "                              ...                        \n",
       "5452    cups paneer homemade cottage cheese crumbled t...\n",
       "5453    cup risotto cooked risotto recipe below cup pa...\n",
       "5454    cup quinoa cup sugar teaspoon cardamom powder ...\n",
       "5455    grams spring onion bulb greens chopped cup tam...\n",
       "5456    kg chicken medium pieces cup mustard oil ghee ...\n",
       "Name: TranslatedIngredients, Length: 5457, dtype: object"
      ]
     },
     "execution_count": 79,
     "metadata": {},
     "output_type": "execute_result"
    }
   ],
   "source": [
    "df['TranslatedIngredients'].map(clean_symbols)"
   ]
  },
  {
   "cell_type": "code",
   "execution_count": null,
   "metadata": {},
   "outputs": [],
   "source": []
  }
 ],
 "metadata": {
  "kernelspec": {
   "display_name": "Python 3",
   "language": "python",
   "name": "python3"
  },
  "language_info": {
   "codemirror_mode": {
    "name": "ipython",
    "version": 3
   },
   "file_extension": ".py",
   "mimetype": "text/x-python",
   "name": "python",
   "nbconvert_exporter": "python",
   "pygments_lexer": "ipython3",
   "version": "3.8.8"
  }
 },
 "nbformat": 4,
 "nbformat_minor": 4
}
