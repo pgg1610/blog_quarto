{
 "cells": [
  {
   "cell_type": "markdown",
   "id": "de5946ad-3864-407f-85d3-2ed3c1b147e8",
   "metadata": {
    "tags": []
   },
   "source": [
    "# Fingerprints \n",
    "\n",
    "In this notebook I will be exclusively looking at the QM9 dataset. \n",
    "\n",
    "### QM9 dataset \n",
    "\n",
    "QM9 provides quantum chemical properties for a relevant, consistent, and comprehensive chemical space of small organic molecules. This dataset consists of 130,831 molecules with 12 regression targets. "
   ]
  },
  {
   "cell_type": "code",
   "execution_count": 1,
   "id": "12123fd8-1d6f-4867-8678-2034e8db1a27",
   "metadata": {},
   "outputs": [],
   "source": [
    "import os \n",
    "import pandas as pd\n",
    "import numpy as np \n",
    "import tqdm.notebook as tqdm"
   ]
  },
  {
   "cell_type": "code",
   "execution_count": 2,
   "id": "b3d18a44-c8f8-4ce6-a8a6-61f2842071d9",
   "metadata": {},
   "outputs": [
    {
     "name": "stdout",
     "output_type": "stream",
     "text": [
      "2021.09.2\n"
     ]
    }
   ],
   "source": [
    "# RDkit imports\n",
    "import rdkit\n",
    "from rdkit import Chem\n",
    "from rdkit.Chem import Draw\n",
    "from rdkit.Chem.Draw import IPythonConsole #Needed to show molecules\n",
    "\n",
    "print(rdkit.__version__)\n",
    "\n",
    "Chem.WrapLogs()\n",
    "lg = rdkit.RDLogger.logger() \n",
    "lg.setLevel(rdkit.RDLogger.CRITICAL)"
   ]
  },
  {
   "cell_type": "code",
   "execution_count": 3,
   "id": "b7aad394-6b46-46af-aa85-3c7cf559daac",
   "metadata": {},
   "outputs": [],
   "source": [
    "qm9_data_csv = pd.read_csv(os.path.join('small_molecule_data/qm9.csv'))"
   ]
  },
  {
   "cell_type": "code",
   "execution_count": 4,
   "id": "7ca2ae79-8a2f-4de0-bccc-5b01a4b90339",
   "metadata": {},
   "outputs": [
    {
     "data": {
      "text/html": [
       "<div>\n",
       "<style scoped>\n",
       "    .dataframe tbody tr th:only-of-type {\n",
       "        vertical-align: middle;\n",
       "    }\n",
       "\n",
       "    .dataframe tbody tr th {\n",
       "        vertical-align: top;\n",
       "    }\n",
       "\n",
       "    .dataframe thead th {\n",
       "        text-align: right;\n",
       "    }\n",
       "</style>\n",
       "<table border=\"1\" class=\"dataframe\">\n",
       "  <thead>\n",
       "    <tr style=\"text-align: right;\">\n",
       "      <th></th>\n",
       "      <th>smiles</th>\n",
       "      <th>mu</th>\n",
       "      <th>alpha</th>\n",
       "      <th>homo</th>\n",
       "      <th>lumo</th>\n",
       "      <th>gap</th>\n",
       "      <th>r2</th>\n",
       "      <th>zpve</th>\n",
       "      <th>cv</th>\n",
       "      <th>u0</th>\n",
       "      <th>u298</th>\n",
       "      <th>h298</th>\n",
       "      <th>g298</th>\n",
       "    </tr>\n",
       "  </thead>\n",
       "  <tbody>\n",
       "    <tr>\n",
       "      <th>0</th>\n",
       "      <td>C</td>\n",
       "      <td>0.0000</td>\n",
       "      <td>13.21</td>\n",
       "      <td>-0.3877</td>\n",
       "      <td>0.1171</td>\n",
       "      <td>0.5048</td>\n",
       "      <td>35.3641</td>\n",
       "      <td>0.044749</td>\n",
       "      <td>6.469</td>\n",
       "      <td>-40.478930</td>\n",
       "      <td>-40.476062</td>\n",
       "      <td>-40.475117</td>\n",
       "      <td>-40.498597</td>\n",
       "    </tr>\n",
       "    <tr>\n",
       "      <th>1</th>\n",
       "      <td>N</td>\n",
       "      <td>1.6256</td>\n",
       "      <td>9.46</td>\n",
       "      <td>-0.2570</td>\n",
       "      <td>0.0829</td>\n",
       "      <td>0.3399</td>\n",
       "      <td>26.1563</td>\n",
       "      <td>0.034358</td>\n",
       "      <td>6.316</td>\n",
       "      <td>-56.525887</td>\n",
       "      <td>-56.523026</td>\n",
       "      <td>-56.522082</td>\n",
       "      <td>-56.544961</td>\n",
       "    </tr>\n",
       "    <tr>\n",
       "      <th>2</th>\n",
       "      <td>O</td>\n",
       "      <td>1.8511</td>\n",
       "      <td>6.31</td>\n",
       "      <td>-0.2928</td>\n",
       "      <td>0.0687</td>\n",
       "      <td>0.3615</td>\n",
       "      <td>19.0002</td>\n",
       "      <td>0.021375</td>\n",
       "      <td>6.002</td>\n",
       "      <td>-76.404702</td>\n",
       "      <td>-76.401867</td>\n",
       "      <td>-76.400922</td>\n",
       "      <td>-76.422349</td>\n",
       "    </tr>\n",
       "  </tbody>\n",
       "</table>\n",
       "</div>"
      ],
      "text/plain": [
       "  smiles      mu  alpha    homo    lumo     gap       r2      zpve     cv  \\\n",
       "0      C  0.0000  13.21 -0.3877  0.1171  0.5048  35.3641  0.044749  6.469   \n",
       "1      N  1.6256   9.46 -0.2570  0.0829  0.3399  26.1563  0.034358  6.316   \n",
       "2      O  1.8511   6.31 -0.2928  0.0687  0.3615  19.0002  0.021375  6.002   \n",
       "\n",
       "          u0       u298       h298       g298  \n",
       "0 -40.478930 -40.476062 -40.475117 -40.498597  \n",
       "1 -56.525887 -56.523026 -56.522082 -56.544961  \n",
       "2 -76.404702 -76.401867 -76.400922 -76.422349  "
      ]
     },
     "execution_count": 4,
     "metadata": {},
     "output_type": "execute_result"
    }
   ],
   "source": [
    "qm9_data_csv.head(3)"
   ]
  },
  {
   "cell_type": "code",
   "execution_count": 5,
   "id": "3d99efad-ba3a-4c9a-ad22-2fbdc75e187f",
   "metadata": {},
   "outputs": [
    {
     "data": {
      "text/plain": [
       "(133885, 13)"
      ]
     },
     "execution_count": 5,
     "metadata": {},
     "output_type": "execute_result"
    }
   ],
   "source": [
    "qm9_data_csv.shape"
   ]
  },
  {
   "cell_type": "markdown",
   "id": "5e580811-b2e6-4ab3-b91e-07b1b91d690c",
   "metadata": {},
   "source": [
    "The QM9 dataset from the [MoleculeNet: A Benchmark for Molecular Machine Learning](https://arxiv.org/abs/1703.00564) paper, consisting of about 130,000 molecules with multiple regression targets.\n",
    "\n",
    "Each molecule includes complete spatial information for the single low energy conformation of the atoms in the molecule.\n",
    "\n",
    "More information on each descriptor [here](https://www.kaggle.com/zaharch/quantum-machine-9-qm9)\n",
    "\n",
    "* [Recent paper on exploring the QM9 dataset](https://pubs.acs.org/doi/10.1021/acs.jpca.0c05969)"
   ]
  },
  {
   "cell_type": "code",
   "execution_count": 6,
   "id": "f71e37cb-81af-4c50-8faa-0accd29f9411",
   "metadata": {},
   "outputs": [],
   "source": [
    "mol_temp = qm9_data_csv.iloc[125559]"
   ]
  },
  {
   "cell_type": "code",
   "execution_count": 7,
   "id": "6b0cd4e5-c3ed-4f44-82ae-d5637da399c9",
   "metadata": {},
   "outputs": [
    {
     "data": {
      "text/plain": [
       "smiles    Cc1nnc2n1cc[nH]2\n",
       "mu                  5.8215\n",
       "alpha                72.81\n",
       "homo               -0.2062\n",
       "lumo                0.0085\n",
       "gap                 0.2147\n",
       "r2                995.2925\n",
       "zpve              0.115329\n",
       "cv                  27.504\n",
       "u0             -413.018354\n",
       "u298           -413.011142\n",
       "h298           -413.010198\n",
       "g298           -413.049831\n",
       "Name: 125559, dtype: object"
      ]
     },
     "execution_count": 7,
     "metadata": {},
     "output_type": "execute_result"
    }
   ],
   "source": [
    "mol_temp"
   ]
  },
  {
   "cell_type": "code",
   "execution_count": 8,
   "id": "2b0f4c13-cd73-4c2b-95e5-c3c0947146c8",
   "metadata": {},
   "outputs": [
    {
     "data": {
      "image/png": "[encoded data removed]",
      "text/plain": [
       "<rdkit.Chem.rdchem.Mol at 0x7faad7e2ca00>"
      ]
     },
     "execution_count": 8,
     "metadata": {},
     "output_type": "execute_result"
    }
   ],
   "source": [
    "mol_obj = Chem.MolFromSmiles(mol_temp['smiles'])\n",
    "mol_obj"
   ]
  },
  {
   "cell_type": "code",
   "execution_count": 9,
   "id": "8fe4164c-7d61-49a3-b39d-7bf1d39805e8",
   "metadata": {},
   "outputs": [
    {
     "name": "stdout",
     "output_type": "stream",
     "text": [
      "\n",
      "     RDKit          2D\n",
      "\n",
      "  9 10  0  0  0  0  0  0  0  0999 V2000\n",
      "    1.6078    3.5952    0.0000 C   0  0  0  0  0  0  0  0  0  0  0  0\n",
      "    0.3943    2.7135    0.0000 C   0  0  0  0  0  0  0  0  0  0  0  0\n",
      "   -1.0323    3.1771    0.0000 N   0  0  0  0  0  0  0  0  0  0  0  0\n",
      "   -1.9140    1.9635    0.0000 N   0  0  0  0  0  0  0  0  0  0  0  0\n",
      "   -1.0323    0.7500    0.0000 C   0  0  0  0  0  0  0  0  0  0  0  0\n",
      "    0.3943    1.2135    0.0000 N   0  0  0  0  0  0  0  0  0  0  0  0\n",
      "    1.2760    0.0000    0.0000 C   0  0  0  0  0  0  0  0  0  0  0  0\n",
      "    0.3943   -1.2135    0.0000 C   0  0  0  0  0  0  0  0  0  0  0  0\n",
      "   -1.0323   -0.7500    0.0000 N   0  0  0  0  0  0  0  0  0  0  0  0\n",
      "  1  2  1  0\n",
      "  2  3  2  0\n",
      "  3  4  1  0\n",
      "  4  5  2  0\n",
      "  5  6  1  0\n",
      "  6  7  1  0\n",
      "  7  8  2  0\n",
      "  8  9  1  0\n",
      "  6  2  1  0\n",
      "  9  5  1  0\n",
      "M  END\n",
      "\n"
     ]
    }
   ],
   "source": [
    "# To output x y z of the molecule \n",
    "print(Chem.MolToMolBlock(mol_obj))"
   ]
  },
  {
   "cell_type": "markdown",
   "id": "d7dae0ef-a821-49b5-8aab-6ac0f0a79410",
   "metadata": {},
   "source": [
    "Take a small sample from QM9 dataset"
   ]
  },
  {
   "cell_type": "code",
   "execution_count": 10,
   "id": "cb96e718-c5a3-4c05-8f9f-8bfc90a739d7",
   "metadata": {},
   "outputs": [],
   "source": [
    "QM9_df_smol = qm9_data_csv.sample(10).reset_index(drop=True)"
   ]
  },
  {
   "cell_type": "code",
   "execution_count": 11,
   "id": "9bdc0f8b-243e-451b-9f7e-5c3fec7b3c43",
   "metadata": {},
   "outputs": [
    {
     "data": {
      "text/html": [
       "<div>\n",
       "<style scoped>\n",
       "    .dataframe tbody tr th:only-of-type {\n",
       "        vertical-align: middle;\n",
       "    }\n",
       "\n",
       "    .dataframe tbody tr th {\n",
       "        vertical-align: top;\n",
       "    }\n",
       "\n",
       "    .dataframe thead th {\n",
       "        text-align: right;\n",
       "    }\n",
       "</style>\n",
       "<table border=\"1\" class=\"dataframe\">\n",
       "  <thead>\n",
       "    <tr style=\"text-align: right;\">\n",
       "      <th></th>\n",
       "      <th>smiles</th>\n",
       "      <th>mu</th>\n",
       "      <th>alpha</th>\n",
       "      <th>homo</th>\n",
       "      <th>lumo</th>\n",
       "      <th>gap</th>\n",
       "      <th>r2</th>\n",
       "      <th>zpve</th>\n",
       "      <th>cv</th>\n",
       "      <th>u0</th>\n",
       "      <th>u298</th>\n",
       "      <th>h298</th>\n",
       "      <th>g298</th>\n",
       "    </tr>\n",
       "  </thead>\n",
       "  <tbody>\n",
       "    <tr>\n",
       "      <th>0</th>\n",
       "      <td>CC(C#C)C1CNC1=O</td>\n",
       "      <td>3.8673</td>\n",
       "      <td>78.47</td>\n",
       "      <td>-0.2445</td>\n",
       "      <td>0.0327</td>\n",
       "      <td>0.2772</td>\n",
       "      <td>1256.9197</td>\n",
       "      <td>0.145972</td>\n",
       "      <td>34.328</td>\n",
       "      <td>-401.936628</td>\n",
       "      <td>-401.927155</td>\n",
       "      <td>-401.926211</td>\n",
       "      <td>-401.971364</td>\n",
       "    </tr>\n",
       "    <tr>\n",
       "      <th>1</th>\n",
       "      <td>NC1=NC2CC2O1</td>\n",
       "      <td>1.5272</td>\n",
       "      <td>54.01</td>\n",
       "      <td>-0.2181</td>\n",
       "      <td>0.0534</td>\n",
       "      <td>0.2715</td>\n",
       "      <td>615.3852</td>\n",
       "      <td>0.104048</td>\n",
       "      <td>22.139</td>\n",
       "      <td>-340.637231</td>\n",
       "      <td>-340.631628</td>\n",
       "      <td>-340.630684</td>\n",
       "      <td>-340.666236</td>\n",
       "    </tr>\n",
       "  </tbody>\n",
       "</table>\n",
       "</div>"
      ],
      "text/plain": [
       "            smiles      mu  alpha    homo    lumo     gap         r2  \\\n",
       "0  CC(C#C)C1CNC1=O  3.8673  78.47 -0.2445  0.0327  0.2772  1256.9197   \n",
       "1     NC1=NC2CC2O1  1.5272  54.01 -0.2181  0.0534  0.2715   615.3852   \n",
       "\n",
       "       zpve      cv          u0        u298        h298        g298  \n",
       "0  0.145972  34.328 -401.936628 -401.927155 -401.926211 -401.971364  \n",
       "1  0.104048  22.139 -340.637231 -340.631628 -340.630684 -340.666236  "
      ]
     },
     "execution_count": 11,
     "metadata": {},
     "output_type": "execute_result"
    }
   ],
   "source": [
    "QM9_df_smol.head(2)"
   ]
  },
  {
   "cell_type": "code",
   "execution_count": 12,
   "id": "2d97bde1-d5bf-4e17-ab69-3f1155cb0fce",
   "metadata": {},
   "outputs": [
    {
     "data": {
      "text/plain": [
       "(10, 13)"
      ]
     },
     "execution_count": 12,
     "metadata": {},
     "output_type": "execute_result"
    }
   ],
   "source": [
    "QM9_df_smol.shape"
   ]
  },
  {
   "cell_type": "markdown",
   "id": "9dd204fc-e2aa-420d-8349-dd65659ed4a0",
   "metadata": {},
   "source": [
    "`PandasTools` module helps add `mol` molecule objects from RDKit as per the SMILES in the dataframe"
   ]
  },
  {
   "cell_type": "code",
   "execution_count": 13,
   "id": "eb10b2a7-bdfe-4c81-9a7f-fade74aac3a5",
   "metadata": {},
   "outputs": [],
   "source": [
    "from rdkit.Chem import PandasTools"
   ]
  },
  {
   "cell_type": "code",
   "execution_count": 14,
   "id": "9e3bcb14-5d8f-4e75-a4c7-4184ff986c82",
   "metadata": {},
   "outputs": [],
   "source": [
    "PandasTools.AddMoleculeColumnToFrame(QM9_df_smol, smilesCol='smiles')"
   ]
  },
  {
   "cell_type": "markdown",
   "id": "dfc20ba3-21bd-4b7c-aa89-a903b4fa0948",
   "metadata": {},
   "source": [
    "Check the new `ROMol` columns being appended in the dataframe"
   ]
  },
  {
   "cell_type": "code",
   "execution_count": 15,
   "id": "972b5e5b-8afa-4b91-b0b5-48ddb836fe7a",
   "metadata": {},
   "outputs": [
    {
     "data": {
      "text/plain": [
       "Index(['smiles', 'mu', 'alpha', 'homo', 'lumo', 'gap', 'r2', 'zpve', 'cv',\n",
       "       'u0', 'u298', 'h298', 'g298', 'ROMol'],\n",
       "      dtype='object')"
      ]
     },
     "execution_count": 15,
     "metadata": {},
     "output_type": "execute_result"
    }
   ],
   "source": [
    "QM9_df_smol.columns"
   ]
  },
  {
   "cell_type": "code",
   "execution_count": 16,
   "id": "1bf8d310-3a13-48fa-ad5f-2585d5fc8261",
   "metadata": {},
   "outputs": [
    {
     "data": {
      "image/png": "[encoded data removed]",
      "text/plain": [
       "<rdkit.Chem.rdchem.Mol at 0x7faad5d0b100>"
      ]
     },
     "execution_count": 16,
     "metadata": {},
     "output_type": "execute_result"
    }
   ],
   "source": [
    "QM9_df_smol['ROMol'][0]"
   ]
  },
  {
   "cell_type": "markdown",
   "id": "fcbec100-5d8c-4d31-bf4f-e6bfbc0c1e8d",
   "metadata": {},
   "source": [
    "Visualize the dataframe, add properties of interest at the bottom, you can add index too if need"
   ]
  },
  {
   "cell_type": "code",
   "execution_count": 17,
   "id": "e3cc0059-7591-471b-993d-c39d931feff8",
   "metadata": {},
   "outputs": [
    {
     "data": {
      "image/png": "[encoded data removed]",
      "text/plain": [
       "<IPython.core.display.Image object>"
      ]
     },
     "execution_count": 17,
     "metadata": {},
     "output_type": "execute_result"
    }
   ],
   "source": [
    "PandasTools.FrameToGridImage(QM9_df_smol, legendsCol='gap', molsPerRow=3, subImgSize=(200,200))"
   ]
  },
  {
   "cell_type": "markdown",
   "id": "959353e3-5f4e-4a86-b2b3-06a0a1472d0f",
   "metadata": {
    "tags": []
   },
   "source": [
    "## Fingerprints\n",
    "\n",
    "Compress molecules into vectors for mathetical operations and comparisons. First we will look at `MorganFingerprint` method. For this method we have to define the radius and the size of the vector being used. More information on Morgan Fingerprints can be read at this [blogpost](https://depth-first.com/articles/2019/01/11/extended-connectivity-fingerprints/)\n",
    "\n",
    "* [Nice Review on this matter from Peter Willet](https://pubmed.ncbi.nlm.nih.gov/20838967/)\n",
    "* [Presentation by Gregory Landrum (creator of RDkit) on Fingerprints](https://www.rdkit.org/UGM/2012/Landrum_RDKit_UGM.Fingerprints.Final.pptx.pdf)\n",
    "* [Official Documentation on Fingerprints in RDkit](https://www.rdkit.org/docs/GettingStartedInPython.html#fingerprinting-and-molecular-similarity)"
   ]
  },
  {
   "cell_type": "code",
   "execution_count": 18,
   "id": "f1895e99-57a5-4215-bb7e-3fb5b9a8ed2f",
   "metadata": {},
   "outputs": [],
   "source": [
    "# Fingerprints\n",
    "from rdkit.Chem import AllChem"
   ]
  },
  {
   "cell_type": "code",
   "execution_count": null,
   "id": "b799d4d5-ebd1-458f-bc36-c1c434916c1d",
   "metadata": {},
   "outputs": [],
   "source": [
    "_radius = 2\n",
    "_nBits = 2 ** 10\n",
    "ECFP6 = [AllChem.GetMorganFingerprint(m, radius) for m in QM9_df_smol['ROMol']]"
   ]
  },
  {
   "cell_type": "code",
   "execution_count": null,
   "id": "5c876a84-3ffb-40d6-a982-5ddcb35f21b5",
   "metadata": {},
   "outputs": [],
   "source": [
    "len(ECFP6)"
   ]
  },
  {
   "cell_type": "markdown",
   "id": "111a0c54-6175-4b24-9492-81c1a84ca866",
   "metadata": {},
   "source": [
    "### Types of fingerprints to consider: \n",
    "\n",
    "1. Descriptor based fingerprints - more information [here](https://www.rdkit.org/docs/GettingStartedInPython.html#list-of-available-descriptors) \n",
    "\n",
    "2. Count or binary-based fingerprints \n",
    "\n",
    "    2.1. Circular Fingerprints (Morgan) - Extended Connectivity (ECFP) \n",
    "\n",
    "    2.2. Atom pair \n",
    "    \n",
    "    2.3. Torsion \n",
    "    \n",
    "    2.4. MACCS Keys \n",
    "    \n",
    "    2.5. RDkit\n",
    "    \n",
    "3. Data-driven fingerprints\n",
    "\n",
    "```python\n",
    "fps1 = [Chem.RDKFingerprint(x, fpSize=1024, minPath=1, maxPath=4) for x in suppl]\n",
    "fps2 = [Chem.GetHashedMorganFingerprint(x, radius=2, nBits=1024) for x in suppl]\n",
    "fps3 = [Chem.GetMorganFingerprint(x, radius=2, useCounts= True) for x in suppl]\n",
    "fps4 = [Pairs.GetAtomPairFingerprintAsIntVect(x) for x in suppl]\n",
    "arr = np.zeros((4,1024), dtype = np.int8)\n",
    "for i in range(0,len(suppl)):\n",
    "DataStructs.ConvertToNumpyArray(fps2[i], arr[i])\n",
    "print(arr)\n",
    "```"
   ]
  },
  {
   "cell_type": "markdown",
   "id": "ae992771-68c2-4a4d-b181-7407bd311574",
   "metadata": {
    "tags": []
   },
   "source": [
    "## 2. Count or binary fingerprint"
   ]
  },
  {
   "cell_type": "code",
   "execution_count": null,
   "id": "5669133e-ed80-4c2a-803a-98a4430ce1b2",
   "metadata": {},
   "outputs": [],
   "source": [
    "from rdkit.Chem import AllChem"
   ]
  },
  {
   "cell_type": "code",
   "execution_count": null,
   "id": "23aa0eb9-762e-4a3e-a54f-3df08beba452",
   "metadata": {},
   "outputs": [],
   "source": [
    "fp = AllChem.GetMorganFingerprintAsBitVect(mol_obj, _radius, nBits= _nBits)\n",
    "fp_array = [int(x) for x in fp.ToBitString()]"
   ]
  },
  {
   "cell_type": "markdown",
   "id": "58d68d6e-50fc-43bf-a0e0-9a2b3b86087a",
   "metadata": {},
   "source": [
    "Pairs.GetHashedAtomPairFingerprint\n",
    "GetMorganFingerprintAsBitVect\n",
    "GetHashedMorganFingerprint"
   ]
  },
  {
   "cell_type": "code",
   "execution_count": null,
   "id": "19adb260-3148-4848-9554-9437a6e299ea",
   "metadata": {},
   "outputs": [],
   "source": [
    "from rdkit.Chem.AtomPairs import Pairs, Torsions\n",
    "fpvect1 = Pairs.GetHashedAtomPairFingerprint(mol_obj)\n",
    "fpvect2 = Pairs.GetAtomPairFingerprint(mol_obj)\n",
    "fp1 = np.zeros((1,))\n",
    "fp2 = np.zeros((1,))\n",
    "#DataStructs.ConvertToNumpyArray(fp_vect, fp) \n",
    "#print(type(fp))"
   ]
  },
  {
   "cell_type": "code",
   "execution_count": null,
   "id": "d077e44c-7181-4550-8bb0-89f0aa6a1b3c",
   "metadata": {},
   "outputs": [],
   "source": [
    "DataStructs.ConvertToNumpyArray(fpvect1, fp1) "
   ]
  },
  {
   "cell_type": "code",
   "execution_count": null,
   "id": "17aa5b58-e2d8-44c4-a794-822ec7e2fd03",
   "metadata": {},
   "outputs": [],
   "source": [
    "DataStructs.ConvertToNumpyArray(fpvect2, fp2) "
   ]
  },
  {
   "cell_type": "code",
   "execution_count": null,
   "id": "ad2bdd48-59e3-4560-a697-e49514e8e0b9",
   "metadata": {},
   "outputs": [],
   "source": [
    "fp1.shape"
   ]
  },
  {
   "cell_type": "code",
   "execution_count": null,
   "id": "f5065792-a88e-4fce-bf3e-586b6c5e379a",
   "metadata": {},
   "outputs": [],
   "source": [
    "fp2.shape"
   ]
  },
  {
   "cell_type": "code",
   "execution_count": null,
   "id": "8cd02034-159c-41e6-80ab-007205570dc0",
   "metadata": {},
   "outputs": [],
   "source": [
    "from rdkit.Chem.AtomPairs import Pairs, Torsions\n",
    "from rdkit import Chem, DataStructs\n",
    "fpvect1 = AllChem.GetHashedMorganFingerprint(mol_obj, 2, nBits= 1024)\n",
    "fpvect2 = AllChem.GetMorganFingerprint(mol_obj, 2)\n",
    "fp1 = np.zeros((1,))\n",
    "fp2 = np.zeros((1,))\n",
    "DataStructs.ConvertToNumpyArray(fpvect1, fp1) \n",
    "DataStructs.ConvertToNumpyArray(fpvect2, fp2) "
   ]
  },
  {
   "cell_type": "code",
   "execution_count": null,
   "id": "36484c33-9301-4f34-8cac-92c323e9440e",
   "metadata": {},
   "outputs": [],
   "source": []
  },
  {
   "cell_type": "code",
   "execution_count": null,
   "id": "0d07a505-b1b6-4c58-ac2b-05ea9f119d8e",
   "metadata": {},
   "outputs": [],
   "source": [
    "from rdkit import Chem, DataStructs\n",
    "from rdkit.Chem import MACCSkeys\n",
    "from rdkit.Chem.AtomPairs import Pairs, Torsions\n",
    "\n",
    "def get_fingerprint(smiles: str, radius: int = 2, num_bits: int = 2048, use_counts: bool = False, type_fp: str = 'Morgan') -> np.ndarray:\n",
    "    \"\"\"\n",
    "    Generates a morgan fingerprint for a smiles string.\n",
    "\n",
    "    :param smiles: A smiles string for a molecule.\n",
    "    :param radius: The radius of the fingerprint.\n",
    "    :param num_bits: The number of bits to use in the fingerprint.\n",
    "    :param use_counts: Whether to use counts or just a bit vector for the fingerprint\n",
    "    :return: A 1-D numpy array containing the morgan fingerprint.\n",
    "    \"\"\"\n",
    "    if type(smiles) == str:\n",
    "        mol = Chem.MolFromSmiles(smiles)\n",
    "    else:\n",
    "        mol = smiles\n",
    "    \n",
    "    if type_fp == 'Morgan': \n",
    "        if use_counts:\n",
    "            fp_vect = AllChem.GetHashedMorganFingerprint(mol, radius, nBits=num_bits)\n",
    "        else:\n",
    "            fp_vect = AllChem.GetMorganFingerprintAsBitVect(mol, radius, nBits=num_bits)\n",
    "    \n",
    "    if type_fp == 'MACCS': \n",
    "        fp_vect = MACCSkeys.GenMACCSKeys(mol)\n",
    "        \n",
    "    if type_fp == 'RDkit':\n",
    "        Chem.RDKFingerprint(x)\n",
    "        \n",
    "    fp = np.zeros((1,))\n",
    "    DataStructs.ConvertToNumpyArray(fp_vect, fp)\n",
    "\n",
    "    return fp"
   ]
  },
  {
   "cell_type": "markdown",
   "id": "00d0c3ef-b8c5-487f-96ff-0724ade9d49d",
   "metadata": {},
   "source": [
    "## Similarity\n",
    "RDKit provides tools for different kinds of similarity search, including Tanimoto, Dice, Cosine, Sokal, Russel… and more. Tanimoto is a very widely use similarity search metric because it incorporates substructure matching. Here is an example"
   ]
  },
  {
   "cell_type": "code",
   "execution_count": null,
   "id": "4311559c-5989-4fb9-9be2-3f560edadf68",
   "metadata": {},
   "outputs": [],
   "source": [
    "ref_mol = QM9_df_smol.iloc[3]['ROMol']"
   ]
  },
  {
   "cell_type": "code",
   "execution_count": null,
   "id": "286cddb6-651c-446b-afdf-c3222344d77f",
   "metadata": {},
   "outputs": [],
   "source": [
    "ref_mol"
   ]
  },
  {
   "cell_type": "code",
   "execution_count": null,
   "id": "54e62c7e-8719-4d1d-9a8a-0ce76c225a63",
   "metadata": {},
   "outputs": [],
   "source": [
    "# Generate finger print based representation for that molecule \n",
    "ref_ECFP4_fps = AllChem.GetMorganFingerprintAsBitVect(ref_mol, radius= _radius, nBits=_nBits)"
   ]
  },
  {
   "cell_type": "code",
   "execution_count": null,
   "id": "d94ae27a-ab28-48b9-bcfb-79e6a0cae921",
   "metadata": {},
   "outputs": [],
   "source": [
    "QM9_smol_ECFP4_fps = [AllChem.GetMorganFingerprintAsBitVect(x, _radius, _nBits) for x in QM9_df_smol['ROMol']]"
   ]
  },
  {
   "cell_type": "code",
   "execution_count": null,
   "id": "ee4c8b01-f25c-42b1-8923-7f9ea8ee4302",
   "metadata": {},
   "outputs": [],
   "source": [
    "from rdkit import DataStructs\n",
    "similarity_efcp4 = [DataStructs.FingerprintSimilarity(ref_ECFP4_fps, x) for x in QM9_smol_ECFP4_fps]"
   ]
  },
  {
   "cell_type": "code",
   "execution_count": null,
   "id": "b01b04af-29ae-4dd0-ad29-19d2691cb2bd",
   "metadata": {},
   "outputs": [],
   "source": [
    "QM9_df_smol = QM9_df_smol.sort_values(['Tanimoto_Similarity (ECFP4)'], ascending=False)\n",
    "PandasTools.FrameToGridImage(QM9_df_smol, legendsCol=\"Tanimoto_Similarity (ECFP4)\", molsPerRow=4)"
   ]
  },
  {
   "cell_type": "code",
   "execution_count": null,
   "id": "a0ac79bc-630c-4394-8ef6-be4c08bd8ed1",
   "metadata": {},
   "outputs": [],
   "source": []
  }
 ],
 "metadata": {
  "kernelspec": {
   "display_name": "Python 3 (ipykernel)",
   "language": "python",
   "name": "python3"
  },
  "language_info": {
   "codemirror_mode": {
    "name": "ipython",
    "version": 3
   },
   "file_extension": ".py",
   "mimetype": "text/x-python",
   "name": "python",
   "nbconvert_exporter": "python",
   "pygments_lexer": "ipython3",
   "version": "3.8.12"
  }
 },
 "nbformat": 4,
 "nbformat_minor": 5
}
