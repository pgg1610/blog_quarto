{
 "cells": [
  {
   "cell_type": "markdown",
   "id": "25308e63-b6de-4c22-a376-273225288bbf",
   "metadata": {},
   "source": [
    "# Cheminformatics Basics Doodling - getting the dataset(s)"
   ]
  },
  {
   "cell_type": "markdown",
   "id": "de5946ad-3864-407f-85d3-2ed3c1b147e8",
   "metadata": {},
   "source": [
    "# Dataset \n",
    "\n",
    "In this notebook I will be exclusively looking at the QM9 dataset. \n",
    "\n",
    "### QM9 dataset \n",
    "\n",
    "QM9 provides quantum chemical properties for a relevant, consistent, and comprehensive chemical space of small organic molecules. This dataset consists of 130,831 molecules with 12 regression targets. \n",
    "\n",
    "There are different ways of getting this dataset. \n",
    "\n",
    "1. Get it directly from source using `wget` in Linux / MacOS:\n",
    "\n",
    "```bash \n",
    "#!/bin/bash\n",
    "wget http://deepchem.io.s3-website-us-west-1.amazonaws.com/datasets/gdb9.tar.gz \n",
    "tar xvzf gdb9.tar.gz\n",
    "```\n",
    "\n",
    "If you dont have `wget`, follow this [blog](https://www.fossmint.com/install-and-use-wget-on-mac/) to install `wget` on macOS using `Homebrew`:\n",
    "```bash\n",
    "# Using Homebrew\n",
    "brew install wget\n",
    "```\n",
    "\n",
    "\n",
    "2. Using convenience functions implemented in packages like `DeepChem` or `PyTorch Geometric`. \n",
    "\n",
    "Below is the method to get QM9 data from PyTorch Geometric. More information on the script to start using the dataset can be found on the [official documentation](https://pytorch-geometric.readthedocs.io/en/latest/_modules/torch_geometric/datasets/qm9.html)\n",
    "\n",
    "To setup `PyTorch Geometric`: \n",
    "```bash\n",
    "#create a new conda env with python 3.7\n",
    "conda create --name torch_rdkit python=3.7\n",
    "\n",
    "# To active the env: conda activate torch_rdkit\n",
    "\n",
    "# RDKIT installation: \n",
    "conda install cmake cairo pillow eigen pkg-config\n",
    "conda install boost-cpp boost py-boost\n",
    "conda install rdkit\n",
    "\n",
    "# install latest Pytorch version for MacOS:\n",
    "pip3 install torch torchvision torchaudio\n",
    "\n",
    "#install Torch Geometric: \n",
    "pip install torch-scatter -f https://pytorch-geometric.com/whl/torch-1.8.0+cpu.html\n",
    "pip install torch-sparse -f https://pytorch-geometric.com/whl/torch-1.8.0+cpu.html\n",
    "pip install torch-cluster -f https://pytorch-geometric.com/whl/torch-1.8.0+cpu.html\n",
    "pip install torch-spline-conv -f https://pytorch-geometric.com/whl/torch-1.8.0+cpu.html\n",
    "pip install torch-geometric\n",
    "\n",
    "# Check PyTorch Geometric installation: \n",
    "python -c \"import torch_geometric; print(torch.__version__)\" \n",
    "```\n",
    "\n",
    "### To get the dataset: \n",
    "\n",
    "```python\n",
    "from torch_geometric.datasets import QM9\n",
    "dataset = QM9(root='<set_dir_path>')\n",
    "```"
   ]
  },
  {
   "cell_type": "code",
   "execution_count": 1,
   "id": "46e653ea-0ac1-4a13-8835-2430385b427e",
   "metadata": {},
   "outputs": [],
   "source": [
    "from torch_geometric.datasets import QM9"
   ]
  },
  {
   "cell_type": "code",
   "execution_count": 2,
   "id": "414fb021-be18-4dcd-bb28-8b0a0bd2ff33",
   "metadata": {},
   "outputs": [
    {
     "data": {
      "text/plain": [
       "torch_geometric.datasets.qm9.QM9"
      ]
     },
     "execution_count": 2,
     "metadata": {},
     "output_type": "execute_result"
    }
   ],
   "source": [
    "QM9"
   ]
  },
  {
   "cell_type": "code",
   "execution_count": 3,
   "id": "4947b19c-6735-4616-9989-d407300fbdea",
   "metadata": {},
   "outputs": [],
   "source": [
    "root_dir = '/Users/pghaneka/Documents/Personal/blog_fastpages/_notebooks/data/QM9_dataset'\n",
    "dataset = QM9(root=root_dir)"
   ]
  },
  {
   "cell_type": "code",
   "execution_count": 4,
   "id": "aa00fd54-e9ca-4f4d-a8e7-a3d4e7861777",
   "metadata": {},
   "outputs": [
    {
     "data": {
      "text/plain": [
       "QM9(130831)"
      ]
     },
     "execution_count": 4,
     "metadata": {},
     "output_type": "execute_result"
    }
   ],
   "source": [
    "dataset"
   ]
  },
  {
   "cell_type": "code",
   "execution_count": 5,
   "id": "28625d9a-3682-4b81-83ac-0e906941d74a",
   "metadata": {},
   "outputs": [
    {
     "data": {
      "text/plain": [
       "torch_geometric.datasets.qm9.QM9"
      ]
     },
     "execution_count": 5,
     "metadata": {},
     "output_type": "execute_result"
    }
   ],
   "source": [
    "type(dataset)"
   ]
  },
  {
   "cell_type": "code",
   "execution_count": 6,
   "id": "62ee10a7-5540-4b14-b5cd-88934abbd540",
   "metadata": {},
   "outputs": [
    {
     "data": {
      "text/plain": [
       "\u001b[0;31mType:\u001b[0m        QM9\n",
       "\u001b[0;31mString form:\u001b[0m QM9(130831)\n",
       "\u001b[0;31mLength:\u001b[0m      130831\n",
       "\u001b[0;31mFile:\u001b[0m        ~/miniconda3/envs/torch_38/lib/python3.7/site-packages/torch_geometric/datasets/qm9.py\n",
       "\u001b[0;31mDocstring:\u001b[0m  \n",
       "The QM9 dataset from the `\"MoleculeNet: A Benchmark for Molecular\n",
       "Machine Learning\" <https://arxiv.org/abs/1703.00564>`_ paper, consisting of\n",
       "about 130,000 molecules with 19 regression targets.\n",
       "Each molecule includes complete spatial information for the single low\n",
       "energy conformation of the atoms in the molecule.\n",
       "In addition, we provide the atom features from the `\"Neural Message\n",
       "Passing for Quantum Chemistry\" <https://arxiv.org/abs/1704.01212>`_ paper.\n",
       "\n",
       "+--------+----------------------------------+-----------------------------------------------------------------------------------+---------------------------------------------+\n",
       "| Target | Property                         | Description                                                                       | Unit                                        |\n",
       "+========+==================================+===================================================================================+=============================================+\n",
       "| 0      | :math:`\\mu`                      | Dipole moment                                                                     | :math:`\\textrm{D}`                          |\n",
       "+--------+----------------------------------+-----------------------------------------------------------------------------------+---------------------------------------------+\n",
       "| 1      | :math:`\\alpha`                   | Isotropic polarizability                                                          | :math:`{a_0}^3`                             |\n",
       "+--------+----------------------------------+-----------------------------------------------------------------------------------+---------------------------------------------+\n",
       "| 2      | :math:`\\epsilon_{\\textrm{HOMO}}` | Highest occupied molecular orbital energy                                         | :math:`\\textrm{eV}`                         |\n",
       "+--------+----------------------------------+-----------------------------------------------------------------------------------+---------------------------------------------+\n",
       "| 3      | :math:`\\epsilon_{\\textrm{LUMO}}` | Lowest unoccupied molecular orbital energy                                        | :math:`\\textrm{eV}`                         |\n",
       "+--------+----------------------------------+-----------------------------------------------------------------------------------+---------------------------------------------+\n",
       "| 4      | :math:`\\Delta \\epsilon`          | Gap between :math:`\\epsilon_{\\textrm{HOMO}}` and :math:`\\epsilon_{\\textrm{LUMO}}` | :math:`\\textrm{eV}`                         |\n",
       "+--------+----------------------------------+-----------------------------------------------------------------------------------+---------------------------------------------+\n",
       "| 5      | :math:`\\langle R^2 \\rangle`      | Electronic spatial extent                                                         | :math:`{a_0}^2`                             |\n",
       "+--------+----------------------------------+-----------------------------------------------------------------------------------+---------------------------------------------+\n",
       "| 6      | :math:`\\textrm{ZPVE}`            | Zero point vibrational energy                                                     | :math:`\\textrm{eV}`                         |\n",
       "+--------+----------------------------------+-----------------------------------------------------------------------------------+---------------------------------------------+\n",
       "| 7      | :math:`U_0`                      | Internal energy at 0K                                                             | :math:`\\textrm{eV}`                         |\n",
       "+--------+----------------------------------+-----------------------------------------------------------------------------------+---------------------------------------------+\n",
       "| 8      | :math:`U`                        | Internal energy at 298.15K                                                        | :math:`\\textrm{eV}`                         |\n",
       "+--------+----------------------------------+-----------------------------------------------------------------------------------+---------------------------------------------+\n",
       "| 9      | :math:`H`                        | Enthalpy at 298.15K                                                               | :math:`\\textrm{eV}`                         |\n",
       "+--------+----------------------------------+-----------------------------------------------------------------------------------+---------------------------------------------+\n",
       "| 10     | :math:`G`                        | Free energy at 298.15K                                                            | :math:`\\textrm{eV}`                         |\n",
       "+--------+----------------------------------+-----------------------------------------------------------------------------------+---------------------------------------------+\n",
       "| 11     | :math:`c_{\\textrm{v}}`           | Heat capavity at 298.15K                                                          | :math:`\\frac{\\textrm{cal}}{\\textrm{mol K}}` |\n",
       "+--------+----------------------------------+-----------------------------------------------------------------------------------+---------------------------------------------+\n",
       "| 12     | :math:`U_0^{\\textrm{ATOM}}`      | Atomization energy at 0K                                                          | :math:`\\textrm{eV}`                         |\n",
       "+--------+----------------------------------+-----------------------------------------------------------------------------------+---------------------------------------------+\n",
       "| 13     | :math:`U^{\\textrm{ATOM}}`        | Atomization energy at 298.15K                                                     | :math:`\\textrm{eV}`                         |\n",
       "+--------+----------------------------------+-----------------------------------------------------------------------------------+---------------------------------------------+\n",
       "| 14     | :math:`H^{\\textrm{ATOM}}`        | Atomization enthalpy at 298.15K                                                   | :math:`\\textrm{eV}`                         |\n",
       "+--------+----------------------------------+-----------------------------------------------------------------------------------+---------------------------------------------+\n",
       "| 15     | :math:`G^{\\textrm{ATOM}}`        | Atomization free energy at 298.15K                                                | :math:`\\textrm{eV}`                         |\n",
       "+--------+----------------------------------+-----------------------------------------------------------------------------------+---------------------------------------------+\n",
       "| 16     | :math:`A`                        | Rotational constant                                                               | :math:`\\textrm{GHz}`                        |\n",
       "+--------+----------------------------------+-----------------------------------------------------------------------------------+---------------------------------------------+\n",
       "| 17     | :math:`B`                        | Rotational constant                                                               | :math:`\\textrm{GHz}`                        |\n",
       "+--------+----------------------------------+-----------------------------------------------------------------------------------+---------------------------------------------+\n",
       "| 18     | :math:`C`                        | Rotational constant                                                               | :math:`\\textrm{GHz}`                        |\n",
       "+--------+----------------------------------+-----------------------------------------------------------------------------------+---------------------------------------------+\n",
       "\n",
       "Args:\n",
       "    root (string): Root directory where the dataset should be saved.\n",
       "    transform (callable, optional): A function/transform that takes in an\n",
       "        :obj:`torch_geometric.data.Data` object and returns a transformed\n",
       "        version. The data object will be transformed before every access.\n",
       "        (default: :obj:`None`)\n",
       "    pre_transform (callable, optional): A function/transform that takes in\n",
       "        an :obj:`torch_geometric.data.Data` object and returns a\n",
       "        transformed version. The data object will be transformed before\n",
       "        being saved to disk. (default: :obj:`None`)\n",
       "    pre_filter (callable, optional): A function that takes in an\n",
       "        :obj:`torch_geometric.data.Data` object and returns a boolean\n",
       "        value, indicating whether the data object should be included in the\n",
       "        final dataset. (default: :obj:`None`)\n"
      ]
     },
     "metadata": {},
     "output_type": "display_data"
    }
   ],
   "source": [
    "dataset?"
   ]
  },
  {
   "cell_type": "markdown",
   "id": "a1a7b774-582d-4319-bfb3-170b8d1e0b1e",
   "metadata": {},
   "source": [
    "Look at the mean of target `2` which is the $\\epsilon_{\\textrm{HOMO}}$:"
   ]
  },
  {
   "cell_type": "code",
   "execution_count": 7,
   "id": "be9e3681-a7b8-4431-ab25-25269bab6110",
   "metadata": {},
   "outputs": [
    {
     "data": {
      "text/plain": [
       "-6.536452770233154"
      ]
     },
     "execution_count": 7,
     "metadata": {},
     "output_type": "execute_result"
    }
   ],
   "source": [
    "dataset.mean(2)"
   ]
  },
  {
   "cell_type": "markdown",
   "id": "cfe77d29-611f-42a9-8afd-709c071d793d",
   "metadata": {},
   "source": [
    "Convenience function to get the graph object for a molecule"
   ]
  },
  {
   "cell_type": "code",
   "execution_count": 8,
   "id": "3ebf04b4-ddaa-45df-bdf3-c3bb8a12d4e2",
   "metadata": {},
   "outputs": [
    {
     "data": {
      "text/plain": [
       "Data(edge_attr=[32, 4], edge_index=[2, 32], idx=[1], name=\"gdb_1269\", pos=[17, 3], x=[17, 11], y=[1, 19], z=[17])"
      ]
     },
     "execution_count": 8,
     "metadata": {},
     "output_type": "execute_result"
    }
   ],
   "source": [
    "molecule_graph_entry = dataset.get(1234) #Get graph object for molecule id 1234\n",
    "molecule_graph_entry"
   ]
  },
  {
   "cell_type": "code",
   "execution_count": 9,
   "id": "2079818a-b0fe-47d9-8fe8-3310283ab94f",
   "metadata": {},
   "outputs": [
    {
     "data": {
      "text/plain": [
       "['x', 'edge_index', 'edge_attr', 'y', 'pos', 'z', 'name', 'idx']"
      ]
     },
     "execution_count": 9,
     "metadata": {},
     "output_type": "execute_result"
    }
   ],
   "source": [
    "molecule_graph_entry.keys"
   ]
  },
  {
   "cell_type": "code",
   "execution_count": 10,
   "id": "3cff1a0f-8799-48ee-b3bc-6d43f236912f",
   "metadata": {},
   "outputs": [
    {
     "data": {
      "text/plain": [
       "array([-6.7674713], dtype=float32)"
      ]
     },
     "execution_count": 10,
     "metadata": {},
     "output_type": "execute_result"
    }
   ],
   "source": [
    "molecule_graph_entry.y.numpy()[:,2] # 2nd target property value for 1234 entry "
   ]
  },
  {
   "cell_type": "code",
   "execution_count": 11,
   "id": "16270896-044b-4396-ad14-f4fe062c1e2e",
   "metadata": {},
   "outputs": [
    {
     "data": {
      "text/plain": [
       "'gdb_1269'"
      ]
     },
     "execution_count": 11,
     "metadata": {},
     "output_type": "execute_result"
    }
   ],
   "source": [
    "molecule_graph_entry.name"
   ]
  },
  {
   "cell_type": "code",
   "execution_count": 12,
   "id": "b1f68ae8-8434-4c34-b5b4-dbaf2f4d7e29",
   "metadata": {},
   "outputs": [
    {
     "data": {
      "text/plain": [
       "['gdb9.sdf', 'gdb9.sdf.csv', 'uncharacterized.txt']"
      ]
     },
     "execution_count": 12,
     "metadata": {},
     "output_type": "execute_result"
    }
   ],
   "source": [
    "# Look at raw files for the QM9 dataset. This can be used with Pandas. \n",
    "dataset.raw_file_names"
   ]
  },
  {
   "cell_type": "code",
   "execution_count": 13,
   "id": "423a1d2d-af36-40e9-ac3a-3a6f08d76175",
   "metadata": {},
   "outputs": [
    {
     "data": {
      "text/plain": [
       "['/Users/pghaneka/Documents/Personal/blog_fastpages/_notebooks/data/QM9_dataset/processed/data_v2.pt']"
      ]
     },
     "execution_count": 13,
     "metadata": {},
     "output_type": "execute_result"
    }
   ],
   "source": [
    "# Check the path where it will be saved\n",
    "dataset.processed_paths"
   ]
  },
  {
   "cell_type": "markdown",
   "id": "26944720-6a5a-4e59-9e71-5201cace8040",
   "metadata": {},
   "source": [
    "# Using Pandas + RDkit\n",
    "\n",
    "Henceforth we will switch to Pandas and RDkit. I will be using the `gdb9.sdf`, `gdb9.sdf.csv` files for processing and checking the RDkit molecules "
   ]
  },
  {
   "cell_type": "code",
   "execution_count": 46,
   "id": "12123fd8-1d6f-4867-8678-2034e8db1a27",
   "metadata": {},
   "outputs": [],
   "source": [
    "import os \n",
    "import pandas as pd\n",
    "import numpy as np \n",
    "import tqdm.notebook as tqdm"
   ]
  },
  {
   "cell_type": "code",
   "execution_count": 15,
   "id": "b3d18a44-c8f8-4ce6-a8a6-61f2842071d9",
   "metadata": {},
   "outputs": [
    {
     "name": "stdout",
     "output_type": "stream",
     "text": [
      "2019.03.2\n"
     ]
    }
   ],
   "source": [
    "# RDkit imports\n",
    "import rdkit\n",
    "from rdkit import Chem\n",
    "from rdkit.Chem import Draw\n",
    "from rdkit.Chem.Draw import IPythonConsole #Needed to show molecules\n",
    "\n",
    "print(rdkit.__version__)\n",
    "\n",
    "Chem.WrapLogs()\n",
    "lg = rdkit.RDLogger.logger() \n",
    "lg.setLevel(rdkit.RDLogger.CRITICAL)"
   ]
  },
  {
   "cell_type": "code",
   "execution_count": 16,
   "id": "b7aad394-6b46-46af-aa85-3c7cf559daac",
   "metadata": {},
   "outputs": [],
   "source": [
    "qm9_data_csv = pd.read_csv(os.path.join(root_dir,'raw/gdb9.sdf.csv'))"
   ]
  },
  {
   "cell_type": "code",
   "execution_count": 17,
   "id": "7ca2ae79-8a2f-4de0-bccc-5b01a4b90339",
   "metadata": {},
   "outputs": [
    {
     "data": {
      "text/html": [
       "<div>\n",
       "<style scoped>\n",
       "    .dataframe tbody tr th:only-of-type {\n",
       "        vertical-align: middle;\n",
       "    }\n",
       "\n",
       "    .dataframe tbody tr th {\n",
       "        vertical-align: top;\n",
       "    }\n",
       "\n",
       "    .dataframe thead th {\n",
       "        text-align: right;\n",
       "    }\n",
       "</style>\n",
       "<table border=\"1\" class=\"dataframe\">\n",
       "  <thead>\n",
       "    <tr style=\"text-align: right;\">\n",
       "      <th></th>\n",
       "      <th>mol_id</th>\n",
       "      <th>A</th>\n",
       "      <th>B</th>\n",
       "      <th>C</th>\n",
       "      <th>mu</th>\n",
       "      <th>alpha</th>\n",
       "      <th>homo</th>\n",
       "      <th>lumo</th>\n",
       "      <th>gap</th>\n",
       "      <th>r2</th>\n",
       "      <th>zpve</th>\n",
       "      <th>u0</th>\n",
       "      <th>u298</th>\n",
       "      <th>h298</th>\n",
       "      <th>g298</th>\n",
       "      <th>cv</th>\n",
       "      <th>u0_atom</th>\n",
       "      <th>u298_atom</th>\n",
       "      <th>h298_atom</th>\n",
       "      <th>g298_atom</th>\n",
       "    </tr>\n",
       "  </thead>\n",
       "  <tbody>\n",
       "    <tr>\n",
       "      <th>0</th>\n",
       "      <td>gdb_1</td>\n",
       "      <td>157.71180</td>\n",
       "      <td>157.70997</td>\n",
       "      <td>157.70699</td>\n",
       "      <td>0.0000</td>\n",
       "      <td>13.21</td>\n",
       "      <td>-0.3877</td>\n",
       "      <td>0.1171</td>\n",
       "      <td>0.5048</td>\n",
       "      <td>35.3641</td>\n",
       "      <td>0.044749</td>\n",
       "      <td>-40.478930</td>\n",
       "      <td>-40.476062</td>\n",
       "      <td>-40.475117</td>\n",
       "      <td>-40.498597</td>\n",
       "      <td>6.469</td>\n",
       "      <td>-395.999595</td>\n",
       "      <td>-398.643290</td>\n",
       "      <td>-401.014647</td>\n",
       "      <td>-372.471772</td>\n",
       "    </tr>\n",
       "    <tr>\n",
       "      <th>1</th>\n",
       "      <td>gdb_2</td>\n",
       "      <td>293.60975</td>\n",
       "      <td>293.54111</td>\n",
       "      <td>191.39397</td>\n",
       "      <td>1.6256</td>\n",
       "      <td>9.46</td>\n",
       "      <td>-0.2570</td>\n",
       "      <td>0.0829</td>\n",
       "      <td>0.3399</td>\n",
       "      <td>26.1563</td>\n",
       "      <td>0.034358</td>\n",
       "      <td>-56.525887</td>\n",
       "      <td>-56.523026</td>\n",
       "      <td>-56.522082</td>\n",
       "      <td>-56.544961</td>\n",
       "      <td>6.316</td>\n",
       "      <td>-276.861363</td>\n",
       "      <td>-278.620271</td>\n",
       "      <td>-280.399259</td>\n",
       "      <td>-259.338802</td>\n",
       "    </tr>\n",
       "    <tr>\n",
       "      <th>2</th>\n",
       "      <td>gdb_3</td>\n",
       "      <td>799.58812</td>\n",
       "      <td>437.90386</td>\n",
       "      <td>282.94545</td>\n",
       "      <td>1.8511</td>\n",
       "      <td>6.31</td>\n",
       "      <td>-0.2928</td>\n",
       "      <td>0.0687</td>\n",
       "      <td>0.3615</td>\n",
       "      <td>19.0002</td>\n",
       "      <td>0.021375</td>\n",
       "      <td>-76.404702</td>\n",
       "      <td>-76.401867</td>\n",
       "      <td>-76.400922</td>\n",
       "      <td>-76.422349</td>\n",
       "      <td>6.002</td>\n",
       "      <td>-213.087624</td>\n",
       "      <td>-213.974294</td>\n",
       "      <td>-215.159658</td>\n",
       "      <td>-201.407171</td>\n",
       "    </tr>\n",
       "  </tbody>\n",
       "</table>\n",
       "</div>"
      ],
      "text/plain": [
       "  mol_id          A          B          C      mu  alpha    homo    lumo  \\\n",
       "0  gdb_1  157.71180  157.70997  157.70699  0.0000  13.21 -0.3877  0.1171   \n",
       "1  gdb_2  293.60975  293.54111  191.39397  1.6256   9.46 -0.2570  0.0829   \n",
       "2  gdb_3  799.58812  437.90386  282.94545  1.8511   6.31 -0.2928  0.0687   \n",
       "\n",
       "      gap       r2      zpve         u0       u298       h298       g298  \\\n",
       "0  0.5048  35.3641  0.044749 -40.478930 -40.476062 -40.475117 -40.498597   \n",
       "1  0.3399  26.1563  0.034358 -56.525887 -56.523026 -56.522082 -56.544961   \n",
       "2  0.3615  19.0002  0.021375 -76.404702 -76.401867 -76.400922 -76.422349   \n",
       "\n",
       "      cv     u0_atom   u298_atom   h298_atom   g298_atom  \n",
       "0  6.469 -395.999595 -398.643290 -401.014647 -372.471772  \n",
       "1  6.316 -276.861363 -278.620271 -280.399259 -259.338802  \n",
       "2  6.002 -213.087624 -213.974294 -215.159658 -201.407171  "
      ]
     },
     "execution_count": 17,
     "metadata": {},
     "output_type": "execute_result"
    }
   ],
   "source": [
    "qm9_data_csv.head(3)"
   ]
  },
  {
   "cell_type": "code",
   "execution_count": 18,
   "id": "3d99efad-ba3a-4c9a-ad22-2fbdc75e187f",
   "metadata": {},
   "outputs": [
    {
     "data": {
      "text/plain": [
       "(133885, 20)"
      ]
     },
     "execution_count": 18,
     "metadata": {},
     "output_type": "execute_result"
    }
   ],
   "source": [
    "qm9_data_csv.shape"
   ]
  },
  {
   "cell_type": "markdown",
   "id": "cf9c6173-c6dc-47fe-b217-7faec7a45e9c",
   "metadata": {},
   "source": [
    "Use the docstring above the refer column names.\n",
    "\n",
    "To get molecules in RDkit from SD file: More on reading and molecules can be found on the [RDkit blog](https://www.rdkit.org/docs/GettingStartedInPython.html#reading-sets-of-molecules)"
   ]
  },
  {
   "cell_type": "code",
   "execution_count": 19,
   "id": "d322b08f-db73-47e4-8d86-aadadd7f9f5a",
   "metadata": {},
   "outputs": [],
   "source": [
    "QM9_SDF_path = os.path.join(root_dir,'raw/gdb9.sdf')"
   ]
  },
  {
   "cell_type": "code",
   "execution_count": 20,
   "id": "5db93f20-54b2-4daf-95b2-13ff6e3366fa",
   "metadata": {},
   "outputs": [],
   "source": [
    "# Get Rdkit molecules from SDFile: \n",
    "suppl = Chem.SDMolSupplier(QM9_SDF_path)"
   ]
  },
  {
   "cell_type": "code",
   "execution_count": 21,
   "id": "433b6042-487b-499a-8423-fbc960c98f4c",
   "metadata": {},
   "outputs": [
    {
     "data": {
      "image/png": "[encoded data removed]",
      "text/plain": [
       "<rdkit.Chem.rdchem.Mol at 0x7fdf8e012990>"
      ]
     },
     "execution_count": 21,
     "metadata": {},
     "output_type": "execute_result"
    }
   ],
   "source": [
    "temp_mol = next(suppl)\n",
    "temp_mol"
   ]
  },
  {
   "cell_type": "code",
   "execution_count": 22,
   "id": "82a5e38e-7295-44fd-b139-188c486366e5",
   "metadata": {},
   "outputs": [
    {
     "data": {
      "text/plain": [
       "rdkit.Chem.rdchem.Mol"
      ]
     },
     "execution_count": 22,
     "metadata": {},
     "output_type": "execute_result"
    }
   ],
   "source": [
    "type(temp_mol)"
   ]
  },
  {
   "cell_type": "markdown",
   "id": "646dddf4-9634-4525-95bd-01f2304de5a7",
   "metadata": {},
   "source": [
    "We can generate a list of molecules. This will take time and is not recommended if the dataset is larger than what we are using right now"
   ]
  },
  {
   "cell_type": "code",
   "execution_count": 23,
   "id": "4c025bd3-b53d-4053-b8a7-f54372797f21",
   "metadata": {},
   "outputs": [
    {
     "name": "stdout",
     "output_type": "stream",
     "text": [
      "No. of mols 133885\n"
     ]
    }
   ],
   "source": [
    "mols = [x for x in suppl]\n",
    "print ('No. of mols',len(mols))"
   ]
  },
  {
   "cell_type": "code",
   "execution_count": 24,
   "id": "64173785-fad5-493e-bc3c-e7a18dcb04f7",
   "metadata": {},
   "outputs": [
    {
     "data": {
      "text/plain": [
       "[<rdkit.Chem.rdchem.Mol at 0x7fdf8e01ce90>,\n",
       " <rdkit.Chem.rdchem.Mol at 0x7fdf8e01cee0>,\n",
       " <rdkit.Chem.rdchem.Mol at 0x7fdf8e01cf30>,\n",
       " <rdkit.Chem.rdchem.Mol at 0x7fdf8e01cf80>,\n",
       " <rdkit.Chem.rdchem.Mol at 0x7fdf8e01e030>]"
      ]
     },
     "execution_count": 24,
     "metadata": {},
     "output_type": "execute_result"
    }
   ],
   "source": [
    "mols[:5]"
   ]
  },
  {
   "cell_type": "code",
   "execution_count": 25,
   "id": "b88394a2-e10b-4a7e-9f8f-6b76cd635e16",
   "metadata": {},
   "outputs": [
    {
     "data": {
      "image/png": "[encoded data removed]",
      "text/plain": [
       "<rdkit.Chem.rdchem.Mol at 0x7fdf8e0368a0>"
      ]
     },
     "execution_count": 25,
     "metadata": {},
     "output_type": "execute_result"
    }
   ],
   "source": [
    "mols[1234]"
   ]
  },
  {
   "cell_type": "code",
   "execution_count": 26,
   "id": "66ca5472-6bb8-4b07-b32f-1309531fe74a",
   "metadata": {},
   "outputs": [
    {
     "data": {
      "text/plain": [
       "7"
      ]
     },
     "execution_count": 26,
     "metadata": {},
     "output_type": "execute_result"
    }
   ],
   "source": [
    "mols[1234].GetNumAtoms()"
   ]
  },
  {
   "cell_type": "markdown",
   "id": "07e7ff5f-2ba5-427f-9573-019cc72a5afa",
   "metadata": {},
   "source": [
    "Convert the RDkit Mol data to Canonical SMILE"
   ]
  },
  {
   "cell_type": "code",
   "execution_count": 27,
   "id": "1c308640-2d0d-4145-82b7-465e963af4e1",
   "metadata": {},
   "outputs": [
    {
     "data": {
      "text/plain": [
       "'C#CC#CC(C)O'"
      ]
     },
     "execution_count": 27,
     "metadata": {},
     "output_type": "execute_result"
    }
   ],
   "source": [
    "Chem.MolToSmiles(mols[1234], canonical=True)"
   ]
  },
  {
   "cell_type": "code",
   "execution_count": 28,
   "id": "b7ac4603-2261-4faa-9526-93f24d5f64e3",
   "metadata": {},
   "outputs": [
    {
     "name": "stdout",
     "output_type": "stream",
     "text": [
      "gdb_1235\n",
      "     RDKit          3D\n",
      "\n",
      "  7  6  0  0  1  0  0  0  0  0999 V2000\n",
      "    0.0513    1.5589   -0.0209 C   0  0  0  0  0  0  0  0  0  0  0  0\n",
      "    0.0393    0.0228   -0.0260 C   0  0  0  0  0  0  0  0  0  0  0  0\n",
      "    0.8127   -0.5176    1.0408 O   0  0  0  0  0  0  0  0  0  0  0  0\n",
      "   -1.3293   -0.5021   -0.0211 C   0  0  0  0  0  0  0  0  0  0  0  0\n",
      "   -2.4634   -0.9241    0.0197 C   0  0  0  0  0  0  0  0  0  0  0  0\n",
      "   -3.7381   -1.3982    0.0628 C   0  0  0  0  0  0  0  0  0  0  0  0\n",
      "   -4.8694   -1.8185    0.1023 C   0  0  0  0  0  0  0  0  0  0  0  0\n",
      "  2  4  1  0\n",
      "  1  2  1  0\n",
      "  2  3  1  0\n",
      "  4  5  3  0\n",
      "  5  6  1  0\n",
      "  6  7  3  0\n",
      "M  END\n",
      "\n"
     ]
    }
   ],
   "source": [
    "mol_block = Chem.MolToMolBlock(mols[1234])\n",
    "print(mol_block)"
   ]
  },
  {
   "cell_type": "markdown",
   "id": "2311a77f-c2d7-43ea-9ae1-1649726f7838",
   "metadata": {},
   "source": [
    "Visualize multiple molecules together"
   ]
  },
  {
   "cell_type": "code",
   "execution_count": 29,
   "id": "5ee8ad5c-0c3c-48f3-ad65-678d4095aaa1",
   "metadata": {},
   "outputs": [
    {
     "data": {
      "image/png": "[encoded data removed]",
      "text/plain": [
       "<PIL.PngImagePlugin.PngImageFile image mode=RGB size=800x600 at 0x7FDF4E0CC210>"
      ]
     },
     "execution_count": 29,
     "metadata": {},
     "output_type": "execute_result"
    }
   ],
   "source": [
    "Chem.Draw.MolsToGridImage(mols[100:110], molsPerRow=4, subImgSize=(200,200))"
   ]
  },
  {
   "cell_type": "code",
   "execution_count": 78,
   "id": "b1df9efb-e373-4ed0-90b0-5e59db1d1a6e",
   "metadata": {},
   "outputs": [
    {
     "data": {
      "text/plain": [
       "NoneType"
      ]
     },
     "execution_count": 78,
     "metadata": {},
     "output_type": "execute_result"
    }
   ],
   "source": [
    "type(mols[316])"
   ]
  },
  {
   "cell_type": "code",
   "execution_count": 59,
   "id": "36df2576-e15c-4b81-b6a6-75bdadb606c3",
   "metadata": {},
   "outputs": [
    {
     "data": {
      "application/vnd.jupyter.widget-view+json": {
       "model_id": "c248393a2d1a4435a9998eb3a377406a",
       "version_major": 2,
       "version_minor": 0
      },
      "text/plain": [
       "  0%|          | 0/133885 [00:00<?, ?it/s]"
      ]
     },
     "metadata": {},
     "output_type": "display_data"
    }
   ],
   "source": [
    "SMILE_dict = {'id':[], 'SMILES':[]}\n",
    "error_id = []\n",
    "\n",
    "for i, entry in enumerate(tqdm.tqdm(mols)):\n",
    "    if entry != None:\n",
    "        smile_string = Chem.MolToSmiles(entry)\n",
    "        SMILE_dict['id'].append('gdb_{}'.format(int(i+1)))\n",
    "        SMILE_dict['SMILES'].append(smile_string)\n",
    "    else:\n",
    "        error_id.append(i)"
   ]
  },
  {
   "cell_type": "code",
   "execution_count": 79,
   "id": "3e724a4e-047c-4ec6-ba63-cd6fc415c7a1",
   "metadata": {},
   "outputs": [
    {
     "data": {
      "text/plain": [
       "0.47652836389438696"
      ]
     },
     "execution_count": 79,
     "metadata": {},
     "output_type": "execute_result"
    }
   ],
   "source": [
    "len(error_id) / len(mols) * 100"
   ]
  },
  {
   "cell_type": "code",
   "execution_count": 69,
   "id": "50598a68-5b41-4cf1-b44e-72f4cc777d59",
   "metadata": {},
   "outputs": [
    {
     "data": {
      "text/plain": [
       "dict_keys(['id', 'SMILES'])"
      ]
     },
     "execution_count": 69,
     "metadata": {},
     "output_type": "execute_result"
    }
   ],
   "source": [
    "SMILE_dict.keys()"
   ]
  },
  {
   "cell_type": "code",
   "execution_count": 70,
   "id": "b8d39456-4ea3-4c9d-86be-6bed48aa4edc",
   "metadata": {},
   "outputs": [],
   "source": [
    "SMILES_df = pd.DataFrame(SMILE_dict, columns=['id','SMILES'])"
   ]
  },
  {
   "cell_type": "code",
   "execution_count": 71,
   "id": "3a113d3d-7af6-4b24-ab28-902267781fff",
   "metadata": {},
   "outputs": [
    {
     "data": {
      "text/html": [
       "<div>\n",
       "<style scoped>\n",
       "    .dataframe tbody tr th:only-of-type {\n",
       "        vertical-align: middle;\n",
       "    }\n",
       "\n",
       "    .dataframe tbody tr th {\n",
       "        vertical-align: top;\n",
       "    }\n",
       "\n",
       "    .dataframe thead th {\n",
       "        text-align: right;\n",
       "    }\n",
       "</style>\n",
       "<table border=\"1\" class=\"dataframe\">\n",
       "  <thead>\n",
       "    <tr style=\"text-align: right;\">\n",
       "      <th></th>\n",
       "      <th>id</th>\n",
       "      <th>SMILES</th>\n",
       "    </tr>\n",
       "  </thead>\n",
       "  <tbody>\n",
       "    <tr>\n",
       "      <th>0</th>\n",
       "      <td>gdb_1</td>\n",
       "      <td>C</td>\n",
       "    </tr>\n",
       "    <tr>\n",
       "      <th>1</th>\n",
       "      <td>gdb_2</td>\n",
       "      <td>N</td>\n",
       "    </tr>\n",
       "    <tr>\n",
       "      <th>2</th>\n",
       "      <td>gdb_3</td>\n",
       "      <td>O</td>\n",
       "    </tr>\n",
       "    <tr>\n",
       "      <th>3</th>\n",
       "      <td>gdb_4</td>\n",
       "      <td>C#C</td>\n",
       "    </tr>\n",
       "    <tr>\n",
       "      <th>4</th>\n",
       "      <td>gdb_5</td>\n",
       "      <td>C#N</td>\n",
       "    </tr>\n",
       "    <tr>\n",
       "      <th>...</th>\n",
       "      <td>...</td>\n",
       "      <td>...</td>\n",
       "    </tr>\n",
       "    <tr>\n",
       "      <th>133242</th>\n",
       "      <td>gdb_133879</td>\n",
       "      <td>C1C2C3C2[NH+]2C4CC12C34</td>\n",
       "    </tr>\n",
       "    <tr>\n",
       "      <th>133243</th>\n",
       "      <td>gdb_133880</td>\n",
       "      <td>C1C2C3C4C5OC13C2C54</td>\n",
       "    </tr>\n",
       "    <tr>\n",
       "      <th>133244</th>\n",
       "      <td>gdb_133883</td>\n",
       "      <td>C1[NH+]2C3C2C2[NH+]4CC12C34</td>\n",
       "    </tr>\n",
       "    <tr>\n",
       "      <th>133245</th>\n",
       "      <td>gdb_133884</td>\n",
       "      <td>C1C2C3C2C2[NH+]4CC12C34</td>\n",
       "    </tr>\n",
       "    <tr>\n",
       "      <th>133246</th>\n",
       "      <td>gdb_133885</td>\n",
       "      <td>C1[NH+]2C3C4C5OC13C2C54</td>\n",
       "    </tr>\n",
       "  </tbody>\n",
       "</table>\n",
       "<p>133247 rows × 2 columns</p>\n",
       "</div>"
      ],
      "text/plain": [
       "                id                       SMILES\n",
       "0            gdb_1                            C\n",
       "1            gdb_2                            N\n",
       "2            gdb_3                            O\n",
       "3            gdb_4                          C#C\n",
       "4            gdb_5                          C#N\n",
       "...            ...                          ...\n",
       "133242  gdb_133879      C1C2C3C2[NH+]2C4CC12C34\n",
       "133243  gdb_133880          C1C2C3C4C5OC13C2C54\n",
       "133244  gdb_133883  C1[NH+]2C3C2C2[NH+]4CC12C34\n",
       "133245  gdb_133884      C1C2C3C2C2[NH+]4CC12C34\n",
       "133246  gdb_133885      C1[NH+]2C3C4C5OC13C2C54\n",
       "\n",
       "[133247 rows x 2 columns]"
      ]
     },
     "execution_count": 71,
     "metadata": {},
     "output_type": "execute_result"
    }
   ],
   "source": [
    "SMILES_df"
   ]
  },
  {
   "cell_type": "code",
   "execution_count": 73,
   "id": "fa1d98ae-ccd8-42dc-b41a-5fc82705031d",
   "metadata": {},
   "outputs": [],
   "source": [
    "qm9_with_smiles = qm9_data_csv.merge(SMILES_df, left_on='mol_id', right_on='id')"
   ]
  },
  {
   "cell_type": "code",
   "execution_count": 80,
   "id": "de38dc23-787d-44b9-8651-288ae460c5d6",
   "metadata": {},
   "outputs": [
    {
     "name": "stdout",
     "output_type": "stream",
     "text": [
      "(133247, 22) (133885, 20) (133247, 2)\n"
     ]
    }
   ],
   "source": [
    "print(qm9_with_smiles.shape, qm9_data_csv.shape, SMILES_df.shape)"
   ]
  },
  {
   "cell_type": "code",
   "execution_count": 82,
   "id": "2bd3a6a9-6302-4dd4-a10d-6a827788a973",
   "metadata": {},
   "outputs": [
    {
     "data": {
      "text/html": [
       "<div>\n",
       "<style scoped>\n",
       "    .dataframe tbody tr th:only-of-type {\n",
       "        vertical-align: middle;\n",
       "    }\n",
       "\n",
       "    .dataframe tbody tr th {\n",
       "        vertical-align: top;\n",
       "    }\n",
       "\n",
       "    .dataframe thead th {\n",
       "        text-align: right;\n",
       "    }\n",
       "</style>\n",
       "<table border=\"1\" class=\"dataframe\">\n",
       "  <thead>\n",
       "    <tr style=\"text-align: right;\">\n",
       "      <th></th>\n",
       "      <th>mol_id</th>\n",
       "      <th>A</th>\n",
       "      <th>B</th>\n",
       "      <th>C</th>\n",
       "      <th>mu</th>\n",
       "      <th>alpha</th>\n",
       "      <th>homo</th>\n",
       "      <th>lumo</th>\n",
       "      <th>gap</th>\n",
       "      <th>r2</th>\n",
       "      <th>...</th>\n",
       "      <th>u298</th>\n",
       "      <th>h298</th>\n",
       "      <th>g298</th>\n",
       "      <th>cv</th>\n",
       "      <th>u0_atom</th>\n",
       "      <th>u298_atom</th>\n",
       "      <th>h298_atom</th>\n",
       "      <th>g298_atom</th>\n",
       "      <th>id</th>\n",
       "      <th>SMILES</th>\n",
       "    </tr>\n",
       "  </thead>\n",
       "  <tbody>\n",
       "    <tr>\n",
       "      <th>0</th>\n",
       "      <td>gdb_1</td>\n",
       "      <td>157.71180</td>\n",
       "      <td>157.709970</td>\n",
       "      <td>157.706990</td>\n",
       "      <td>0.0000</td>\n",
       "      <td>13.21</td>\n",
       "      <td>-0.3877</td>\n",
       "      <td>0.1171</td>\n",
       "      <td>0.5048</td>\n",
       "      <td>35.3641</td>\n",
       "      <td>...</td>\n",
       "      <td>-40.476062</td>\n",
       "      <td>-40.475117</td>\n",
       "      <td>-40.498597</td>\n",
       "      <td>6.469</td>\n",
       "      <td>-395.999595</td>\n",
       "      <td>-398.643290</td>\n",
       "      <td>-401.014647</td>\n",
       "      <td>-372.471772</td>\n",
       "      <td>gdb_1</td>\n",
       "      <td>C</td>\n",
       "    </tr>\n",
       "    <tr>\n",
       "      <th>1</th>\n",
       "      <td>gdb_2</td>\n",
       "      <td>293.60975</td>\n",
       "      <td>293.541110</td>\n",
       "      <td>191.393970</td>\n",
       "      <td>1.6256</td>\n",
       "      <td>9.46</td>\n",
       "      <td>-0.2570</td>\n",
       "      <td>0.0829</td>\n",
       "      <td>0.3399</td>\n",
       "      <td>26.1563</td>\n",
       "      <td>...</td>\n",
       "      <td>-56.523026</td>\n",
       "      <td>-56.522082</td>\n",
       "      <td>-56.544961</td>\n",
       "      <td>6.316</td>\n",
       "      <td>-276.861363</td>\n",
       "      <td>-278.620271</td>\n",
       "      <td>-280.399259</td>\n",
       "      <td>-259.338802</td>\n",
       "      <td>gdb_2</td>\n",
       "      <td>N</td>\n",
       "    </tr>\n",
       "    <tr>\n",
       "      <th>2</th>\n",
       "      <td>gdb_3</td>\n",
       "      <td>799.58812</td>\n",
       "      <td>437.903860</td>\n",
       "      <td>282.945450</td>\n",
       "      <td>1.8511</td>\n",
       "      <td>6.31</td>\n",
       "      <td>-0.2928</td>\n",
       "      <td>0.0687</td>\n",
       "      <td>0.3615</td>\n",
       "      <td>19.0002</td>\n",
       "      <td>...</td>\n",
       "      <td>-76.401867</td>\n",
       "      <td>-76.400922</td>\n",
       "      <td>-76.422349</td>\n",
       "      <td>6.002</td>\n",
       "      <td>-213.087624</td>\n",
       "      <td>-213.974294</td>\n",
       "      <td>-215.159658</td>\n",
       "      <td>-201.407171</td>\n",
       "      <td>gdb_3</td>\n",
       "      <td>O</td>\n",
       "    </tr>\n",
       "    <tr>\n",
       "      <th>3</th>\n",
       "      <td>gdb_4</td>\n",
       "      <td>0.00000</td>\n",
       "      <td>35.610036</td>\n",
       "      <td>35.610036</td>\n",
       "      <td>0.0000</td>\n",
       "      <td>16.28</td>\n",
       "      <td>-0.2845</td>\n",
       "      <td>0.0506</td>\n",
       "      <td>0.3351</td>\n",
       "      <td>59.5248</td>\n",
       "      <td>...</td>\n",
       "      <td>-77.305527</td>\n",
       "      <td>-77.304583</td>\n",
       "      <td>-77.327429</td>\n",
       "      <td>8.574</td>\n",
       "      <td>-385.501997</td>\n",
       "      <td>-387.237686</td>\n",
       "      <td>-389.016047</td>\n",
       "      <td>-365.800724</td>\n",
       "      <td>gdb_4</td>\n",
       "      <td>C#C</td>\n",
       "    </tr>\n",
       "    <tr>\n",
       "      <th>4</th>\n",
       "      <td>gdb_5</td>\n",
       "      <td>0.00000</td>\n",
       "      <td>44.593883</td>\n",
       "      <td>44.593883</td>\n",
       "      <td>2.8937</td>\n",
       "      <td>12.99</td>\n",
       "      <td>-0.3604</td>\n",
       "      <td>0.0191</td>\n",
       "      <td>0.3796</td>\n",
       "      <td>48.7476</td>\n",
       "      <td>...</td>\n",
       "      <td>-93.409370</td>\n",
       "      <td>-93.408425</td>\n",
       "      <td>-93.431246</td>\n",
       "      <td>6.278</td>\n",
       "      <td>-301.820534</td>\n",
       "      <td>-302.906752</td>\n",
       "      <td>-304.091489</td>\n",
       "      <td>-288.720028</td>\n",
       "      <td>gdb_5</td>\n",
       "      <td>C#N</td>\n",
       "    </tr>\n",
       "    <tr>\n",
       "      <th>...</th>\n",
       "      <td>...</td>\n",
       "      <td>...</td>\n",
       "      <td>...</td>\n",
       "      <td>...</td>\n",
       "      <td>...</td>\n",
       "      <td>...</td>\n",
       "      <td>...</td>\n",
       "      <td>...</td>\n",
       "      <td>...</td>\n",
       "      <td>...</td>\n",
       "      <td>...</td>\n",
       "      <td>...</td>\n",
       "      <td>...</td>\n",
       "      <td>...</td>\n",
       "      <td>...</td>\n",
       "      <td>...</td>\n",
       "      <td>...</td>\n",
       "      <td>...</td>\n",
       "      <td>...</td>\n",
       "      <td>...</td>\n",
       "      <td>...</td>\n",
       "    </tr>\n",
       "    <tr>\n",
       "      <th>133242</th>\n",
       "      <td>gdb_133879</td>\n",
       "      <td>3.52243</td>\n",
       "      <td>2.185850</td>\n",
       "      <td>1.902520</td>\n",
       "      <td>1.4529</td>\n",
       "      <td>77.63</td>\n",
       "      <td>-0.2229</td>\n",
       "      <td>0.0977</td>\n",
       "      <td>0.3206</td>\n",
       "      <td>796.9713</td>\n",
       "      <td>...</td>\n",
       "      <td>-364.728220</td>\n",
       "      <td>-364.727276</td>\n",
       "      <td>-364.762857</td>\n",
       "      <td>24.820</td>\n",
       "      <td>-1802.904893</td>\n",
       "      <td>-1815.522844</td>\n",
       "      <td>-1825.598756</td>\n",
       "      <td>-1678.637403</td>\n",
       "      <td>gdb_133879</td>\n",
       "      <td>C1C2C3C2[NH+]2C4CC12C34</td>\n",
       "    </tr>\n",
       "    <tr>\n",
       "      <th>133243</th>\n",
       "      <td>gdb_133880</td>\n",
       "      <td>3.56068</td>\n",
       "      <td>2.195510</td>\n",
       "      <td>1.920670</td>\n",
       "      <td>1.3774</td>\n",
       "      <td>73.24</td>\n",
       "      <td>-0.2427</td>\n",
       "      <td>0.0904</td>\n",
       "      <td>0.3331</td>\n",
       "      <td>777.3913</td>\n",
       "      <td>...</td>\n",
       "      <td>-384.604306</td>\n",
       "      <td>-384.603362</td>\n",
       "      <td>-384.638652</td>\n",
       "      <td>23.968</td>\n",
       "      <td>-1737.300710</td>\n",
       "      <td>-1749.148080</td>\n",
       "      <td>-1758.630996</td>\n",
       "      <td>-1619.706151</td>\n",
       "      <td>gdb_133880</td>\n",
       "      <td>C1C2C3C4C5OC13C2C54</td>\n",
       "    </tr>\n",
       "    <tr>\n",
       "      <th>133244</th>\n",
       "      <td>gdb_133883</td>\n",
       "      <td>3.67118</td>\n",
       "      <td>2.143140</td>\n",
       "      <td>1.895010</td>\n",
       "      <td>1.2480</td>\n",
       "      <td>73.60</td>\n",
       "      <td>-0.2233</td>\n",
       "      <td>0.0720</td>\n",
       "      <td>0.2953</td>\n",
       "      <td>780.3553</td>\n",
       "      <td>...</td>\n",
       "      <td>-380.748619</td>\n",
       "      <td>-380.747675</td>\n",
       "      <td>-380.783148</td>\n",
       "      <td>23.972</td>\n",
       "      <td>-1667.045429</td>\n",
       "      <td>-1678.830048</td>\n",
       "      <td>-1688.312964</td>\n",
       "      <td>-1549.143391</td>\n",
       "      <td>gdb_133883</td>\n",
       "      <td>C1[NH+]2C3C2C2[NH+]4CC12C34</td>\n",
       "    </tr>\n",
       "    <tr>\n",
       "      <th>133245</th>\n",
       "      <td>gdb_133884</td>\n",
       "      <td>3.52845</td>\n",
       "      <td>2.151310</td>\n",
       "      <td>1.865820</td>\n",
       "      <td>1.9576</td>\n",
       "      <td>77.40</td>\n",
       "      <td>-0.2122</td>\n",
       "      <td>0.0881</td>\n",
       "      <td>0.3003</td>\n",
       "      <td>803.1904</td>\n",
       "      <td>...</td>\n",
       "      <td>-364.714974</td>\n",
       "      <td>-364.714030</td>\n",
       "      <td>-364.749650</td>\n",
       "      <td>24.796</td>\n",
       "      <td>-1794.600439</td>\n",
       "      <td>-1807.210860</td>\n",
       "      <td>-1817.286772</td>\n",
       "      <td>-1670.349892</td>\n",
       "      <td>gdb_133884</td>\n",
       "      <td>C1C2C3C2C2[NH+]4CC12C34</td>\n",
       "    </tr>\n",
       "    <tr>\n",
       "      <th>133246</th>\n",
       "      <td>gdb_133885</td>\n",
       "      <td>3.64015</td>\n",
       "      <td>2.217640</td>\n",
       "      <td>1.937930</td>\n",
       "      <td>0.8626</td>\n",
       "      <td>69.48</td>\n",
       "      <td>-0.2316</td>\n",
       "      <td>0.0742</td>\n",
       "      <td>0.3058</td>\n",
       "      <td>756.3557</td>\n",
       "      <td>...</td>\n",
       "      <td>-400.627892</td>\n",
       "      <td>-400.626948</td>\n",
       "      <td>-400.662186</td>\n",
       "      <td>23.434</td>\n",
       "      <td>-1603.471865</td>\n",
       "      <td>-1614.455155</td>\n",
       "      <td>-1623.345075</td>\n",
       "      <td>-1492.247150</td>\n",
       "      <td>gdb_133885</td>\n",
       "      <td>C1[NH+]2C3C4C5OC13C2C54</td>\n",
       "    </tr>\n",
       "  </tbody>\n",
       "</table>\n",
       "<p>133247 rows × 22 columns</p>\n",
       "</div>"
      ],
      "text/plain": [
       "            mol_id          A           B           C      mu  alpha    homo  \\\n",
       "0            gdb_1  157.71180  157.709970  157.706990  0.0000  13.21 -0.3877   \n",
       "1            gdb_2  293.60975  293.541110  191.393970  1.6256   9.46 -0.2570   \n",
       "2            gdb_3  799.58812  437.903860  282.945450  1.8511   6.31 -0.2928   \n",
       "3            gdb_4    0.00000   35.610036   35.610036  0.0000  16.28 -0.2845   \n",
       "4            gdb_5    0.00000   44.593883   44.593883  2.8937  12.99 -0.3604   \n",
       "...            ...        ...         ...         ...     ...    ...     ...   \n",
       "133242  gdb_133879    3.52243    2.185850    1.902520  1.4529  77.63 -0.2229   \n",
       "133243  gdb_133880    3.56068    2.195510    1.920670  1.3774  73.24 -0.2427   \n",
       "133244  gdb_133883    3.67118    2.143140    1.895010  1.2480  73.60 -0.2233   \n",
       "133245  gdb_133884    3.52845    2.151310    1.865820  1.9576  77.40 -0.2122   \n",
       "133246  gdb_133885    3.64015    2.217640    1.937930  0.8626  69.48 -0.2316   \n",
       "\n",
       "          lumo     gap        r2  ...        u298        h298        g298  \\\n",
       "0       0.1171  0.5048   35.3641  ...  -40.476062  -40.475117  -40.498597   \n",
       "1       0.0829  0.3399   26.1563  ...  -56.523026  -56.522082  -56.544961   \n",
       "2       0.0687  0.3615   19.0002  ...  -76.401867  -76.400922  -76.422349   \n",
       "3       0.0506  0.3351   59.5248  ...  -77.305527  -77.304583  -77.327429   \n",
       "4       0.0191  0.3796   48.7476  ...  -93.409370  -93.408425  -93.431246   \n",
       "...        ...     ...       ...  ...         ...         ...         ...   \n",
       "133242  0.0977  0.3206  796.9713  ... -364.728220 -364.727276 -364.762857   \n",
       "133243  0.0904  0.3331  777.3913  ... -384.604306 -384.603362 -384.638652   \n",
       "133244  0.0720  0.2953  780.3553  ... -380.748619 -380.747675 -380.783148   \n",
       "133245  0.0881  0.3003  803.1904  ... -364.714974 -364.714030 -364.749650   \n",
       "133246  0.0742  0.3058  756.3557  ... -400.627892 -400.626948 -400.662186   \n",
       "\n",
       "            cv      u0_atom    u298_atom    h298_atom    g298_atom  \\\n",
       "0        6.469  -395.999595  -398.643290  -401.014647  -372.471772   \n",
       "1        6.316  -276.861363  -278.620271  -280.399259  -259.338802   \n",
       "2        6.002  -213.087624  -213.974294  -215.159658  -201.407171   \n",
       "3        8.574  -385.501997  -387.237686  -389.016047  -365.800724   \n",
       "4        6.278  -301.820534  -302.906752  -304.091489  -288.720028   \n",
       "...        ...          ...          ...          ...          ...   \n",
       "133242  24.820 -1802.904893 -1815.522844 -1825.598756 -1678.637403   \n",
       "133243  23.968 -1737.300710 -1749.148080 -1758.630996 -1619.706151   \n",
       "133244  23.972 -1667.045429 -1678.830048 -1688.312964 -1549.143391   \n",
       "133245  24.796 -1794.600439 -1807.210860 -1817.286772 -1670.349892   \n",
       "133246  23.434 -1603.471865 -1614.455155 -1623.345075 -1492.247150   \n",
       "\n",
       "                id                       SMILES  \n",
       "0            gdb_1                            C  \n",
       "1            gdb_2                            N  \n",
       "2            gdb_3                            O  \n",
       "3            gdb_4                          C#C  \n",
       "4            gdb_5                          C#N  \n",
       "...            ...                          ...  \n",
       "133242  gdb_133879      C1C2C3C2[NH+]2C4CC12C34  \n",
       "133243  gdb_133880          C1C2C3C4C5OC13C2C54  \n",
       "133244  gdb_133883  C1[NH+]2C3C2C2[NH+]4CC12C34  \n",
       "133245  gdb_133884      C1C2C3C2C2[NH+]4CC12C34  \n",
       "133246  gdb_133885      C1[NH+]2C3C4C5OC13C2C54  \n",
       "\n",
       "[133247 rows x 22 columns]"
      ]
     },
     "execution_count": 82,
     "metadata": {},
     "output_type": "execute_result"
    }
   ],
   "source": [
    "qm9_with_smiles"
   ]
  },
  {
   "cell_type": "code",
   "execution_count": 84,
   "id": "d558748a-3fae-440d-b9b6-de8a9c5e8592",
   "metadata": {},
   "outputs": [],
   "source": [
    "qm9_with_smiles.to_csv('./QM9_cleaned_SMILES_data.csv', sep=',',columns=qm9_with_smiles.columns, index=False)"
   ]
  }
 ],
 "metadata": {
  "kernelspec": {
   "display_name": "Python 3",
   "language": "python",
   "name": "python3"
  },
  "language_info": {
   "codemirror_mode": {
    "name": "ipython",
    "version": 3
   },
   "file_extension": ".py",
   "mimetype": "text/x-python",
   "name": "python",
   "nbconvert_exporter": "python",
   "pygments_lexer": "ipython3",
   "version": "3.7.10"
  }
 },
 "nbformat": 4,
 "nbformat_minor": 5
}
